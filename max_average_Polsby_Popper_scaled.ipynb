{
 "cells": [
  {
   "cell_type": "code",
   "execution_count": 1,
   "metadata": {},
   "outputs": [],
   "source": [
    "state = 'WV'    # 2-letter state code\n",
    "k = 2           # number of districts"
   ]
  },
  {
   "cell_type": "code",
   "execution_count": 2,
   "metadata": {},
   "outputs": [],
   "source": [
    "# Read county graph from the json file \"<state>_county.json\"\n",
    "filepath = 'C:\\\\districting-data-2020\\\\'\n",
    "filename = state + '_county.json'\n",
    "\n",
    "# GerryChain has a built-in function for reading graphs of this type:\n",
    "from gerrychain import Graph\n",
    "G = Graph.from_json( filepath + filename )\n",
    "\n",
    "for node in G.nodes:\n",
    "    G.nodes[node]['TOTPOP'] = G.nodes[node]['P0010001']"
   ]
  },
  {
   "cell_type": "code",
   "execution_count": 3,
   "metadata": {},
   "outputs": [
    {
     "name": "stdout",
     "output_type": "stream",
     "text": [
      "Using L = 892374 and U = 901342 and k = 2\n"
     ]
    }
   ],
   "source": [
    "# Let's impose a 1% population deviation (+/-0.5%)\n",
    "deviation = 0.01\n",
    "total_population = sum( G.nodes[node]['TOTPOP'] for node in G.nodes )\n",
    "\n",
    "import math\n",
    "L = math.ceil( ( 1 - deviation / 2 ) * total_population / k )\n",
    "U = math.floor( ( 1 + deviation / 2 ) * total_population / k )\n",
    "print(\"Using L =\",L,\"and U =\",U,\"and k =\",k)"
   ]
  },
  {
   "cell_type": "code",
   "execution_count": 4,
   "metadata": {},
   "outputs": [
    {
     "name": "stdout",
     "output_type": "stream",
     "text": [
      "Set parameter Username\n",
      "Academic license - for non-commercial use only - expires 2023-01-01\n"
     ]
    }
   ],
   "source": [
    "import gurobipy as gp\n",
    "from gurobipy import GRB\n",
    "\n",
    "# create model \n",
    "m = gp.Model()\n",
    "\n",
    "import networkx as nx\n",
    "DG = nx.DiGraph(G)   # directed version of G\n",
    "\n",
    "# create variables\n",
    "# x[i,j] equals one when county i is assigned to district j\n",
    "x = m.addVars(G.nodes, k, vtype=GRB.BINARY)  \n",
    "\n",
    "# y[u,v,j] equals one when arc (u,v) is cut because u->j but not v->j\n",
    "y = m.addVars(DG.edges, k, vtype=GRB.BINARY) \n",
    "\n",
    "# z[j] is (scaled) inverse Polsby-Popper score for district j\n",
    "z = m.addVars(k)\n",
    "\n",
    "# inv_z[j] = 1 / z[j] \n",
    "inv_z = m.addVars(k) \n",
    "\n",
    "# A[j] = area of district j\n",
    "A = m.addVars(k)\n",
    "\n",
    "# P[j] = perimeter of district j\n",
    "P = m.addVars(k)\n",
    "\n",
    "for j in range(k):\n",
    "    z[j].lb = 0\n",
    "    inv_z[j].lb = 0\n",
    "    A[j].lb = 0\n",
    "    P[j].lb = 0"
   ]
  },
  {
   "cell_type": "code",
   "execution_count": 5,
   "metadata": {},
   "outputs": [],
   "source": [
    "# objective is to maximize average of Polsby-Popper scores\n",
    "coef = 2 * math.pi / k\n",
    "m.setObjective( coef * gp.quicksum( inv_z[j] for j in range(k) ), GRB.MAXIMIZE )"
   ]
  },
  {
   "cell_type": "code",
   "execution_count": 6,
   "metadata": {},
   "outputs": [],
   "source": [
    "# add SOCP constraints relating inverse Polsby-Popper score z[j] to area and perimeter\n",
    "m.addConstrs( P[j] * P[j] <= 2 * A[j] * z[j] for j in range(k) )\n",
    "\n",
    "# impose inv_z = 1 / z through non-convex constraint:\n",
    "m.addConstrs( z[j] * inv_z[j] == 1 for j in range(k) )\n",
    "\n",
    "# add constraints on areas A[j] \n",
    "m.addConstrs( A[j] == gp.quicksum( G.nodes[i]['area'] * x[i,j] for i in G.nodes ) for j in range(k) )\n",
    "\n",
    "# add constraints on perimeters P[j]\n",
    "for j in range(k):\n",
    "    m.addConstr( P[j] == gp.quicksum( DG.edges[u,v]['shared_perim'] * y[u,v,j] for u,v in DG.edges )\n",
    "             + gp.quicksum( G.nodes[i]['boundary_perim'] * x[i,j] for i in G.nodes if G.nodes[i]['boundary_node'] ) )\n",
    "    \n",
    "m.update()"
   ]
  },
  {
   "cell_type": "code",
   "execution_count": 7,
   "metadata": {},
   "outputs": [],
   "source": [
    "# add constraints saying that each county i is assigned to one district\n",
    "m.addConstrs( gp.quicksum( x[i,j] for j in range(k)) == 1 for i in G.nodes )\n",
    "\n",
    "# add constraints saying that each district has population at least L and at most U\n",
    "m.addConstrs( gp.quicksum( G.nodes[i]['TOTPOP'] * x[i,j] for i in G.nodes) >= L for j in range(k) )\n",
    "m.addConstrs( gp.quicksum( G.nodes[i]['TOTPOP'] * x[i,j] for i in G.nodes) <= U for j in range(k) )\n",
    "\n",
    "# add constraints saying that edge {u,v} is cut if u is assigned to district j but v is not.\n",
    "m.addConstrs( x[u,j] - x[v,j] <= y[u,v,j] for u,v in DG.edges for j in range(k) )\n",
    "\n",
    "m.update()"
   ]
  },
  {
   "cell_type": "code",
   "execution_count": 8,
   "metadata": {},
   "outputs": [],
   "source": [
    "# Now, let's add contiguity constraints and re-solve the model.\n",
    "# We will use the contiguity constraints of Hojny et al. (MPC, 2021)\n",
    "#   https://link.springer.com/article/10.1007/s12532-020-00186-3\n",
    "\n",
    "# Add root variables: r[i,j] equals 1 if node i is the \"root\" of district j\n",
    "r = m.addVars( G.nodes, k, vtype=GRB.BINARY)\n",
    "\n",
    "# To solve the MIP faster, fix a district root:\n",
    "r[0,0].LB = 1\n",
    "\n",
    "# Add flow variables: f[u,v] = amount of flow sent across arc uv \n",
    "#  Flows are sent across arcs of the directed version of G which we call DG\n",
    "\n",
    "f = m.addVars( DG.edges )"
   ]
  },
  {
   "cell_type": "code",
   "execution_count": 9,
   "metadata": {},
   "outputs": [],
   "source": [
    "# The big-M proposed by Hojny et al.\n",
    "M = G.number_of_nodes() - k + 1\n",
    "\n",
    "# Each district j should have one root\n",
    "m.addConstrs( gp.quicksum( r[i,j] for i in G.nodes ) == 1 for j in range(k) )\n",
    "\n",
    "# If node i is not assigned to district j, then it cannot be its root\n",
    "m.addConstrs( r[i,j] <= x[i,j] for i in G.nodes for j in range(k) ) \n",
    "\n",
    "# if not a root, consume some flow.\n",
    "# if a root, only send out (so much) flow.\n",
    "m.addConstrs( gp.quicksum( f[j,i] - f[i,j] for j in G.neighbors(i) ) \n",
    "             >= 1 - M * gp.quicksum( r[i,j] for j in range(k) ) for i in G.nodes )\n",
    "\n",
    "# do not send flow across cut edges\n",
    "m.addConstrs( f[u,v] + f[v,u] <= M * ( 1 - gp.quicksum( y[u,v,j] for j in range(k) ) ) for u,v in DG.edges )\n",
    "\n",
    "m.update()"
   ]
  },
  {
   "cell_type": "code",
   "execution_count": 10,
   "metadata": {},
   "outputs": [
    {
     "name": "stdout",
     "output_type": "stream",
     "text": [
      "Set parameter NonConvex to value 2\n",
      "Set parameter TimeLimit to value 600\n",
      "Gurobi Optimizer version 9.5.0 build v9.5.0rc5 (win64)\n",
      "Thread count: 4 physical cores, 8 logical processors, using up to 8 threads\n",
      "Optimize a model with 980 rows, 978 columns and 4442 nonzeros\n",
      "Model fingerprint: 0x1ef744b1\n",
      "Model has 4 quadratic constraints\n",
      "Variable types: 258 continuous, 720 integer (720 binary)\n",
      "Coefficient statistics:\n",
      "  Matrix range     [3e-04, 2e+05]\n",
      "  QMatrix range    [1e+00, 2e+00]\n",
      "  Objective range  [3e+00, 3e+00]\n",
      "  Bounds range     [1e+00, 1e+00]\n",
      "  RHS range        [1e+00, 9e+05]\n",
      "  QRHS range       [1e+00, 1e+00]\n",
      "Presolve removed 128 rows and 112 columns\n",
      "Presolve time: 0.01s\n",
      "Presolved: 860 rows, 867 columns, 3903 nonzeros\n",
      "Presolved model has 2 quadratic constraint(s)\n",
      "Presolved model has 2 bilinear constraint(s)\n",
      "Variable types: 259 continuous, 608 integer (608 binary)\n",
      "\n",
      "Root relaxation: unbounded, 0 iterations, 0.00 seconds (0.00 work units)\n",
      "Exploring 100 nodes in MinRel heuristic\n",
      "No solution found by MinRel heuristic\n",
      "\n",
      "    Nodes    |    Current Node    |     Objective Bounds      |     Work\n",
      " Expl Unexpl |  Obj  Depth IntInf | Incumbent    BestBd   Gap | It/Node Time\n",
      "\n",
      "     0     2  postponed    0               -          -      -     -    0s\n",
      "  3203  1991    1.45364   29   80          -  100.28364      -  59.7    5s\n",
      "  9847  7099    3.25568   29   48          -  100.28364      -  61.2   10s\n",
      " 15234 10770    0.06285   49   54          -  100.28364      -  61.4   15s\n",
      " 20525 14260    0.28962   45   57          -  100.28364      -  60.4   20s\n",
      "*21579 14669              59       0.0784988  100.28364      -  60.3   21s\n",
      "H21810 14962                       0.0876640  100.28364      -  60.4   22s\n",
      "H21883 14952                       0.0891306  100.28364      -  60.4   22s\n",
      "H22092 14517                       0.1285042  100.28364      -  60.3   22s\n",
      "H23947 15888                       0.1314902  100.28364      -  59.6   23s\n",
      " 25105 16721    0.37691   34   69    0.13149  100.28364      -  59.5   25s\n",
      "H25258 16708                       0.1323814  100.28364      -  59.6   25s\n",
      "H27608 18141                       0.1323814  100.28364      -  59.4   27s\n",
      "H27671 17826                       0.1494028  100.28364      -  59.3   27s\n",
      " 31289 20362    0.18246   49   44    0.14940  100.28364      -  59.2   30s\n",
      "H33718 21323                       0.1494028  100.28364      -  58.7   32s\n",
      " 36805 23291    9.10511   34   34    0.14940   96.58956      -  58.4   35s\n",
      "H39187 24354                       0.1582208   87.07608      -  58.2   37s\n",
      " 41368 25485    4.20931   36   35    0.15822   71.95847      -  58.2   40s\n",
      "H41921 25435                       0.1609318   60.57745      -  58.2   40s\n",
      " 46298 28523    0.16519   52   70    0.16093   40.94402      -  57.9   45s\n",
      "H51250 30631                       0.1609319   30.93619      -  57.5   48s\n",
      " 52151 31312    1.25833   33   44    0.16093   29.74342      -  57.5   50s\n",
      " 56928 34146    1.08345   30   52    0.16093   24.15145      -  57.6   55s\n",
      " 61636 36729    0.38916   39   50    0.16093   20.97377      -  57.9   60s\n",
      " 66332 39275    0.18995   42   36    0.16093   18.74155      -  58.0   65s\n",
      " 70959 41740    0.31850   37   40    0.16093   17.84330      -  57.9   70s\n",
      " 74364 43561   16.82909   23   56    0.16093   16.82909      -  58.1   75s\n",
      " 78634 46239    1.79233   30   49    0.16093   15.78368  9708%  58.3   80s\n",
      " 82470 48241    0.29962   47   49    0.16093   14.81573  9106%  58.2   85s\n",
      " 86789 50621    1.42524   34   45    0.16093   13.70311  8415%  58.3   90s\n",
      " 90316 52611 infeasible   42         0.16093   13.01563  7988%  58.5   95s\n",
      " 93194 54117    1.01990   31   61    0.16093   12.50783  7672%  58.6  100s\n",
      " 97005 55771    0.70957   38   30    0.16093   12.05930  7393%  58.8  105s\n",
      " 100192 57547    0.25551   47   60    0.16093   12.03072  7376%  58.8  110s\n",
      " 103299 59136     cutoff   49         0.16093   11.97676  7342%  58.8  115s\n",
      " 106425 60718    0.79779   36   48    0.16093   11.46946  7027%  58.9  120s\n",
      " 109497 62461    0.46809   40   27    0.16093   11.23062  6878%  59.0  126s\n",
      " 111660 63679    9.61703   24   70    0.16093   11.02736  6752%  59.1  130s\n",
      " 114699 65535    0.21225   45   29    0.16093   10.63740  6510%  59.2  136s\n",
      " 117084 66713    0.18070   44   19    0.16093   10.47763  6411%  59.3  140s\n",
      " 119939 68533    0.63169   34   67    0.16093   10.24132  6264%  59.4  145s\n",
      " 122284 69890    0.30561   45   52    0.16093   10.09594  6173%  59.5  150s\n",
      " 125518 71674 infeasible   43         0.16093    9.81924  6001%  59.6  155s\n",
      " 127774 72851    2.28516   30   71    0.16093    9.68674  5919%  59.7  160s\n",
      " 130858 74604    0.56501   38   44    0.16093    9.49271  5799%  59.8  165s\n",
      " 133979 75928    0.45358   40   46    0.16093    9.28488  5669%  60.0  171s\n",
      " 136187 77237    3.57014   33   63    0.16093    9.13874  5579%  60.1  175s\n",
      " 139404 79014    0.30583   40   43    0.16093    8.92813  5448%  60.2  180s\n",
      " 142567 80753 infeasible   47         0.16093    8.81519  5378%  60.2  186s\n",
      " 144969 82084    2.15110   34   59    0.16093    8.70769  5311%  60.3  190s\n",
      " 148075 83603    0.19329   46   35    0.16093    8.52038  5194%  60.4  195s\n",
      " 151208 85085    0.16279   46   48    0.16093    8.40334  5122%  60.5  200s\n",
      "H152945 85380                       0.1724437    8.33515  4734%  60.6  203s\n",
      " 153507 85809    0.30163   43   40    0.17244    8.30632  4717%  60.6  205s\n",
      " 156621 87391    0.66426   35   49    0.17244    8.22335  4669%  60.7  210s\n",
      "H159003 88500                       0.1724437    8.13426  4617%  60.8  214s\n",
      "H159162 88500                       0.1724437    8.13426  4617%  60.8  214s\n",
      "H159391 88500                       0.1724437    8.12250  4610%  60.8  214s\n",
      " 159691 88931    0.62881   35   37    0.17244    8.09728  4596%  60.8  216s\n",
      " 162286 90270    0.45956   44   17    0.17244    7.95837  4515%  60.7  220s\n",
      " 164613 91397    0.91312   37   38    0.17244    7.85407  4455%  60.8  225s\n",
      " 167810 92938    0.43005   38   33    0.17244    7.71174  4372%  60.8  231s\n",
      " 170217 94280    1.89642   35   34    0.17244    7.61690  4317%  60.9  235s\n",
      " 172496 95455     cutoff   47         0.17244    7.55176  4279%  61.0  240s\n",
      " 174539 96752    0.17528   44   67    0.17244    7.48201  4239%  61.0  245s\n",
      " 177021 98144    5.30106   30   57    0.17244    7.42462  4206%  61.0  250s\n",
      "H178489 98534                       0.1724438    7.39677  4189%  61.1  252s\n",
      " 179380 99432    0.85706   42   28    0.17244    7.39272  4187%  61.1  255s\n",
      " 181572 100423    0.18178   43   33    0.17244    7.30662  4137%  61.2  260s\n",
      " 183865 101610    0.36535   38   32    0.17244    7.22458  4090%  61.3  266s\n",
      " 185412 102424    0.76274   28   51    0.17244    7.16471  4055%  61.3  270s\n",
      " 187770 103611    0.17550   45   30    0.17244    7.13564  4038%  61.4  275s\n",
      " 190210 105006    0.34722   41   38    0.17244    7.07267  4001%  61.4  281s\n",
      " 192637 106215    1.91345   33   61    0.17244    7.02577  3974%  61.5  286s\n",
      " 194178 106987    3.28279   28   49    0.17244    7.00203  3960%  61.5  290s\n",
      " 196627 108299    1.08045   34   40    0.17244    6.95298  3932%  61.5  296s\n",
      " 198333 109075    0.19403   41   30    0.17244    6.91046  3907%  61.5  300s\n",
      " 200702 110084    0.20143   43   31    0.17244    6.87401  3886%  61.5  305s\n",
      " 202207 110905    0.18785   40   44    0.17244    6.83244  3862%  61.5  310s\n",
      " 204696 112073    0.41567   36   48    0.17244    6.76563  3823%  61.5  315s\n",
      " 207076 113307    1.40292   26   48    0.17244    6.67966  3774%  61.6  320s\n",
      " 209475 114493    0.98695   31   64    0.17244    6.61093  3734%  61.6  326s\n",
      " 211771 115930     cutoff   46         0.17244    6.56725  3708%  61.7  331s\n",
      " 214226 117144 infeasible   46         0.17244    6.51767  3680%  61.7  336s\n",
      " 216572 118274    0.78409   32   52    0.17244    6.46593  3650%  61.8  341s\n",
      " 218152 119151    0.52869   41   42    0.17244    6.43533  3632%  61.8  345s\n",
      " 220582 120453 infeasible   36         0.17244    6.40362  3613%  61.8  350s\n",
      " 222887 121769 infeasible   43         0.17244    6.36581  3592%  61.8  356s\n",
      " 224541 122610    0.64340   36   45    0.17244    6.32550  3568%  61.8  360s\n",
      " 226986 123798    0.18906   55    7    0.17244    6.26110  3531%  61.8  366s\n",
      " 228536 124484    0.71848   36   48    0.17244    6.23765  3517%  61.8  370s\n",
      " 230758 125581    0.21668   48   48    0.17244    6.21846  3506%  61.9  376s\n"
     ]
    },
    {
     "name": "stdout",
     "output_type": "stream",
     "text": [
      " 232377 126365     cutoff   41         0.17244    6.19299  3491%  61.9  380s\n",
      " 234699 127561     cutoff   51         0.17244    6.14383  3463%  62.0  386s\n",
      " 236262 128234    0.49963   45   13    0.17244    6.11577  3447%  62.0  390s\n",
      " 237729 129136    5.30460   39   41    0.17244    6.08373  3428%  62.0  395s\n",
      " 240210 130303    1.21203   31   50    0.17244    6.04726  3407%  62.0  401s\n",
      " 241744 131145 infeasible   44         0.17244    6.01465  3388%  62.1  405s\n",
      " 244117 132456 infeasible   39         0.17244    5.97685  3366%  62.1  411s\n",
      " 245997 133393     cutoff   50         0.17244    5.94114  3345%  62.0  416s\n",
      " 248336 134444    0.22159   46   43    0.17244    5.89649  3319%  62.1  421s\n",
      " 249744 135336    0.23990   42   42    0.17244    5.88632  3313%  62.1  425s\n",
      " 252179 136570    1.35129   36   35    0.17244    5.85609  3296%  62.1  430s\n",
      " 254505 137800    1.13119   25   52    0.17244    5.82444  3278%  62.2  436s\n",
      " 255960 138640    0.55753   37   60    0.17244    5.81123  3270%  62.2  440s\n",
      " 258377 139821    2.78362   31   34    0.17244    5.79118  3258%  62.3  446s\n",
      " 259978 140684    2.81916   31   28    0.17244    5.76954  3246%  62.3  450s\n",
      " 262313 142043 infeasible   41         0.17244    5.74444  3231%  62.3  456s\n",
      " 263929 142748    0.25045   45   35    0.17244    5.72751  3221%  62.3  460s\n",
      " 266345 144044 infeasible   37         0.17244    5.69968  3205%  62.3  466s\n",
      " 267981 144892    0.23741   39   54    0.17244    5.67854  3193%  62.3  470s\n",
      " 270363 146146     cutoff   47         0.17244    5.65263  3178%  62.4  476s\n",
      " 271957 147102     cutoff   50         0.17244    5.64703  3175%  62.4  481s\n",
      " 273479 147915    0.97569   33   54    0.17244    5.62348  3161%  62.4  485s\n",
      " 275893 149161    0.91138   35   57    0.17244    5.59064  3142%  62.4  492s\n",
      " 277451 150042    5.55802   26   74    0.17244    5.56064  3125%  62.5  496s\n",
      " 279128 150597    0.19042   48   30    0.17244    5.54130  3113%  62.5  500s\n",
      " 280540 151498    1.87836   33   32    0.17244    5.53367  3109%  62.5  505s\n",
      " 282169 152332    1.77171   31   68    0.17244    5.51615  3099%  62.5  511s\n",
      " 283814 152991    2.77653   31   69    0.17244    5.49923  3089%  62.5  515s\n",
      " 285370 153852    0.53063   36   49    0.17244    5.47640  3076%  62.6  520s\n",
      " 287535 155068    0.56375   39   46    0.17244    5.45559  3064%  62.6  527s\n",
      " 289259 156025    5.01017   30   64    0.17244    5.43421  3051%  62.7  531s\n",
      " 290883 156863    0.49747   37   39    0.17244    5.41986  3043%  62.7  535s\n",
      " 292435 157798    0.41607   43   44    0.17244    5.39887  3031%  62.7  540s\n",
      " 294979 159018    5.25383   30   44    0.17244    5.37700  3018%  62.7  546s\n",
      " 296645 159866    1.22543   36   27    0.17244    5.36493  3011%  62.7  551s\n",
      " 298300 160597     cutoff   44         0.17244    5.34022  2997%  62.7  555s\n",
      " 300714 161916    0.18919   47   13    0.17244    5.32998  2991%  62.7  561s\n",
      " 302330 162800    0.24356   45   39    0.17244    5.30154  2974%  62.7  566s\n",
      "H303867 162694                       0.1793143    5.28812  2849%  62.7  568s\n",
      " 303972 163144     cutoff   41         0.17931    5.28086  2845%  62.7  571s\n",
      " 305641 163890    0.47436   39   34    0.17931    5.26467  2836%  62.7  575s\n",
      " 308060 165081    1.02592   35   41    0.17931    5.23247  2818%  62.7  581s\n",
      " 309673 165832    0.46274   35   51    0.17931    5.22230  2812%  62.7  585s\n",
      " 311062 166653    4.80565   28   45    0.17931    5.20104  2801%  62.8  590s\n",
      " 312688 167486     cutoff   41         0.17931    5.18934  2794%  62.8  595s\n",
      " 315210 168054    2.43726   39   28    0.17931    5.17408  2785%  62.8  600s\n",
      "\n",
      "Cutting planes:\n",
      "  Gomory: 57\n",
      "  Lift-and-project: 4\n",
      "  Cover: 784\n",
      "  Implied bound: 10\n",
      "  Clique: 8\n",
      "  MIR: 33\n",
      "  StrongCG: 1\n",
      "  Flow cover: 558\n",
      "  GUB cover: 2\n",
      "  Inf proof: 37\n",
      "  Zero half: 5\n",
      "  Relax-and-lift: 8\n",
      "\n",
      "Explored 315249 nodes (19791349 simplex iterations) in 600.04 seconds (390.32 work units)\n",
      "Thread count was 8 (of 8 available processors)\n",
      "\n",
      "Solution count 10: 0.179314 0.172444 0.172444 ... 0.128504\n",
      "\n",
      "Time limit reached\n",
      "Best objective 1.793143125178e-01, best bound 5.174076844961e+00, gap 2785.4790%\n"
     ]
    }
   ],
   "source": [
    "# solve IP model\n",
    "m.Params.NonConvex = 2\n",
    "m.Params.TimeLimit = 600\n",
    "m.optimize()"
   ]
  },
  {
   "cell_type": "code",
   "execution_count": 11,
   "metadata": {},
   "outputs": [
    {
     "name": "stdout",
     "output_type": "stream",
     "text": [
      "The objective value is 0.17931431251777086\n",
      "District 0 has population 898636 and contains counties ['Wyoming', 'Grant', 'Monroe', 'Greenbrier', 'Randolph', 'Pendleton', 'Summers', 'Berkeley', 'Upshur', 'Raleigh', 'Lincoln', 'Morgan', 'Mingo', 'Wayne', 'Pocahontas', 'Boone', 'Cabell', 'Mineral', 'Preston', 'Hardy', 'Hampshire', 'McDowell', 'Barbour', 'Tucker', 'Logan', 'Fayette', 'Jefferson', 'Mercer']\n",
      "\n",
      "District 1 has population 895080 and contains counties ['Braxton', 'Roane', 'Doddridge', 'Wirt', 'Tyler', 'Ritchie', 'Marion', 'Taylor', 'Nicholas', 'Mason', 'Gilmer', 'Brooke', 'Calhoun', 'Ohio', 'Kanawha', 'Lewis', 'Putnam', 'Wetzel', 'Marshall', 'Jackson', 'Monongalia', 'Hancock', 'Wood', 'Webster', 'Harrison', 'Clay', 'Pleasants']\n",
      "\n"
     ]
    }
   ],
   "source": [
    "print(\"The objective value is\",m.objval)\n",
    "\n",
    "# retrieve the districts and their populations\n",
    "districts = [ [i for i in G.nodes if x[i,j].x > 0.5] for j in range(k)]\n",
    "district_counties = [ [ G.nodes[i][\"NAME20\"] for i in districts[j] ] for j in range(k)]\n",
    "district_populations = [ sum(G.nodes[i][\"TOTPOP\"] for i in districts[j]) for j in range(k) ]\n",
    "\n",
    "# print district info\n",
    "for j in range(k):\n",
    "    print(\"District\",j,\"has population\",district_populations[j],\"and contains counties\",district_counties[j])\n",
    "    print(\"\")"
   ]
  },
  {
   "cell_type": "code",
   "execution_count": 12,
   "metadata": {},
   "outputs": [],
   "source": [
    "# Let's draw it on a map\n",
    "import geopandas as gpd"
   ]
  },
  {
   "cell_type": "code",
   "execution_count": 13,
   "metadata": {},
   "outputs": [],
   "source": [
    "# Read county shapefile from \"<state>_county.shp\"\n",
    "filename = state + '_county.shp'\n",
    "\n",
    "# Read geopandas dataframe from file\n",
    "df = gpd.read_file( filepath + filename )"
   ]
  },
  {
   "cell_type": "code",
   "execution_count": 14,
   "metadata": {},
   "outputs": [
    {
     "data": {
      "image/png": "[encoded data removed]",
      "text/plain": [
       "<Figure size 432x288 with 1 Axes>"
      ]
     },
     "metadata": {
      "needs_background": "light"
     },
     "output_type": "display_data"
    }
   ],
   "source": [
    "# Which district is each county assigned to?\n",
    "assignment = [ -1 for i in G.nodes ]\n",
    "\n",
    "labeling = { i : j for i in G.nodes for j in range(k) if x[i,j].x > 0.5 }\n",
    "\n",
    "# Now add the assignments to a column of the dataframe and map it\n",
    "node_with_this_geoid = { G.nodes[i]['GEOID20'] : i for i in G.nodes }\n",
    "\n",
    "# pick a position u in the dataframe\n",
    "for u in range(G.number_of_nodes()):\n",
    "    \n",
    "    geoid = df['GEOID20'][u]\n",
    "    \n",
    "    # what node in G has this geoid?\n",
    "    i = node_with_this_geoid[geoid]\n",
    "    \n",
    "    # position u in the dataframe should be given\n",
    "    # the same district # that county i has in 'labeling'\n",
    "    assignment[u] = labeling[i]\n",
    "    \n",
    "# now add the assignments to a column of our dataframe and then map it\n",
    "df['assignment'] = assignment\n",
    "\n",
    "my_fig = df.plot(column='assignment').get_figure()"
   ]
  },
  {
   "cell_type": "code",
   "execution_count": null,
   "metadata": {},
   "outputs": [],
   "source": []
  }
 ],
 "metadata": {
  "kernelspec": {
   "display_name": "Python 3",
   "language": "python",
   "name": "python3"
  },
  "language_info": {
   "codemirror_mode": {
    "name": "ipython",
    "version": 3
   },
   "file_extension": ".py",
   "mimetype": "text/x-python",
   "name": "python",
   "nbconvert_exporter": "python",
   "pygments_lexer": "ipython3",
   "version": "3.7.10"
  }
 },
 "nbformat": 4,
 "nbformat_minor": 4
}
