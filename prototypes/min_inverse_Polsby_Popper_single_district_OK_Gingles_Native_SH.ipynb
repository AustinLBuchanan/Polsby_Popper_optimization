{
 "cells": [
  {
   "cell_type": "code",
   "execution_count": 1,
   "metadata": {},
   "outputs": [],
   "source": [
    "# https://en.m.wikipedia.org/wiki/List_of_majority-minority_United_States_congressional_districts\n",
    "state = 'OK'    # 2-letter state code\n",
    "level = 'tract' # county, tract, block"
   ]
  },
  {
   "cell_type": "code",
   "execution_count": 2,
   "metadata": {},
   "outputs": [],
   "source": [
    "filepath = 'C:\\\\districting-data-2020\\\\'\n",
    "filename = state + '_' + level + '.json'\n",
    "\n",
    "# GerryChain has a built-in function for reading graphs of this type:\n",
    "from gerrychain import Graph\n",
    "G = Graph.from_json( filepath + filename )\n",
    "\n",
    "for node in G.nodes:\n",
    "    # See http://starr.tamu.edu/files/2013/01/Census-Codes.pdf\n",
    "    G.nodes[node]['TOTPOP'] = G.nodes[node]['P0010001']\n",
    "    \n",
    "    # American Indian and Alaska Native alone\n",
    "    G.nodes[node]['NATPOP'] = G.nodes[node]['P0010005']\n",
    "    \n",
    "    # White; American Indian and Alaska Native\n",
    "    G.nodes[node]['NATPOP'] += G.nodes[node]['P0010012']"
   ]
  },
  {
   "cell_type": "code",
   "execution_count": 3,
   "metadata": {},
   "outputs": [
    {
     "name": "stdout",
     "output_type": "stream",
     "text": [
      "Using L = 39006 and U = 39397 and k = 101\n"
     ]
    }
   ],
   "source": [
    "# Let's impose a 1% population deviation (+/-0.5%)\n",
    "deviation = 0.01\n",
    "total_population = sum( G.nodes[node]['TOTPOP'] for node in G.nodes )\n",
    "\n",
    "import math\n",
    "from number_of_districts import state_house_districts_2020\n",
    "k = state_house_districts_2020[state]\n",
    "L = math.ceil( ( 1 - deviation / 2 ) * total_population / k )\n",
    "U = math.floor( ( 1 + deviation / 2 ) * total_population / k )\n",
    "print(\"Using L =\",L,\"and U =\",U,\"and k =\",k)"
   ]
  },
  {
   "cell_type": "code",
   "execution_count": 4,
   "metadata": {},
   "outputs": [
    {
     "name": "stdout",
     "output_type": "stream",
     "text": [
      "Set parameter Username\n",
      "Academic license - for non-commercial use only - expires 2023-01-01\n"
     ]
    }
   ],
   "source": [
    "import gurobipy as gp\n",
    "from gurobipy import GRB\n",
    "\n",
    "# create model \n",
    "m = gp.Model()\n",
    "\n",
    "import networkx as nx\n",
    "DG = nx.DiGraph(G)   # directed version of G\n",
    "\n",
    "# create variables\n",
    "# x[i] equals one when county i is selected\n",
    "x = m.addVars(G.nodes, vtype=GRB.BINARY)  \n",
    "\n",
    "# y[u,v] equals one when arc (u,v) is cut because u but not v is selected\n",
    "y = m.addVars(DG.edges, vtype=GRB.BINARY) \n",
    "\n",
    "# z is inverse Polsby-Popper score for district \n",
    "z = m.addVar()\n",
    "\n",
    "# A = area of district \n",
    "A = m.addVar()\n",
    "\n",
    "# P = perimeter of district \n",
    "P = m.addVar()"
   ]
  },
  {
   "cell_type": "code",
   "execution_count": 5,
   "metadata": {},
   "outputs": [],
   "source": [
    "# objective is to minimize inverse Polsby-Popper score\n",
    "m.setObjective( z, GRB.MINIMIZE )"
   ]
  },
  {
   "cell_type": "code",
   "execution_count": 6,
   "metadata": {},
   "outputs": [],
   "source": [
    "# add SOCP constraints relating inverse Polsby-Popper score z to area and perimeter\n",
    "m.addConstr( P * P <= 4 * math.pi * A * z )\n",
    "\n",
    "# add constraint on area A \n",
    "m.addConstr( A == gp.quicksum( G.nodes[i]['area'] * x[i] for i in G.nodes ) )\n",
    "\n",
    "# add constraint on perimeter P\n",
    "m.addConstr( P == gp.quicksum( DG.edges[u,v]['shared_perim'] * y[u,v] for u,v in DG.edges )\n",
    "             + gp.quicksum( G.nodes[i]['boundary_perim'] * x[i] for i in G.nodes if G.nodes[i]['boundary_node'] ) )\n",
    "    \n",
    "m.update()"
   ]
  },
  {
   "cell_type": "code",
   "execution_count": 7,
   "metadata": {},
   "outputs": [],
   "source": [
    "# add constraints saying that district has population at least L and at most U\n",
    "m.addConstr( gp.quicksum( G.nodes[i]['TOTPOP'] * x[i] for i in G.nodes) >= L )\n",
    "m.addConstr( gp.quicksum( G.nodes[i]['TOTPOP'] * x[i] for i in G.nodes) <= U )\n",
    "\n",
    "# add constraints saying that arc (u,v) is cut if u but not v is selected\n",
    "m.addConstrs( x[u] - x[v] <= y[u,v] for u,v in DG.edges )\n",
    "\n",
    "m.update()"
   ]
  },
  {
   "cell_type": "code",
   "execution_count": 8,
   "metadata": {},
   "outputs": [],
   "source": [
    "# # Now, let's add contiguity constraints and re-solve the model.\n",
    "# # We will use the contiguity constraints of Hojny et al. (MPC, 2021)\n",
    "# #   https://link.springer.com/article/10.1007/s12532-020-00186-3\n",
    "\n",
    "# # Add root variables: r[i,j] equals 1 if node i is the \"root\" of district j\n",
    "# r = m.addVars( G.nodes, k, vtype=GRB.BINARY)\n",
    "\n",
    "# # To solve the MIP faster, fix a district root:\n",
    "# r[0,0].LB = 1\n",
    "\n",
    "# # Add flow variables: f[u,v] = amount of flow sent across arc uv \n",
    "# #  Flows are sent across arcs of the directed version of G which we call DG\n",
    "\n",
    "# f = m.addVars( DG.edges )"
   ]
  },
  {
   "cell_type": "code",
   "execution_count": 9,
   "metadata": {},
   "outputs": [],
   "source": [
    "# # The big-M proposed by Hojny et al.\n",
    "# M = G.number_of_nodes() - k + 1\n",
    "\n",
    "# # Each district j should have one root\n",
    "# m.addConstrs( gp.quicksum( r[i,j] for i in G.nodes ) == 1 for j in range(k) )\n",
    "\n",
    "# # If node i is not assigned to district j, then it cannot be its root\n",
    "# m.addConstrs( r[i,j] <= x[i,j] for i in G.nodes for j in range(k) ) \n",
    "\n",
    "# # if not a root, consume some flow.\n",
    "# # if a root, only send out (so much) flow.\n",
    "# m.addConstrs( gp.quicksum( f[j,i] - f[i,j] for j in G.neighbors(i) ) \n",
    "#              >= 1 - M * gp.quicksum( r[i,j] for j in range(k) ) for i in G.nodes )\n",
    "\n",
    "# # do not send flow across cut edges\n",
    "# m.addConstrs( f[u,v] + f[v,u] <= M * ( 1 - gp.quicksum( y[u,v,j] for j in range(k) ) ) for u,v in DG.edges )\n",
    "\n",
    "# m.update()"
   ]
  },
  {
   "cell_type": "code",
   "execution_count": 10,
   "metadata": {},
   "outputs": [
    {
     "data": {
      "text/plain": [
       "<gurobi.Constr *Awaiting Model Update*>"
      ]
     },
     "execution_count": 10,
     "metadata": {},
     "output_type": "execute_result"
    }
   ],
   "source": [
    "# hispanic_or_latino_population >= 0.5 * total_population\n",
    "nativ_pop = m.addVar()\n",
    "total_pop = m.addVar()\n",
    "\n",
    "m.addConstr( nativ_pop == gp.quicksum( G.nodes[i]['NATPOP'] * x[i] for i in G.nodes ) )\n",
    "m.addConstr( total_pop == gp.quicksum( G.nodes[i]['TOTPOP'] * x[i] for i in G.nodes ) )\n",
    "\n",
    "m.addConstr( nativ_pop >= 0.5 * total_pop )"
   ]
  },
  {
   "cell_type": "code",
   "execution_count": 11,
   "metadata": {},
   "outputs": [
    {
     "name": "stdout",
     "output_type": "stream",
     "text": [
      "Set parameter TimeLimit to value 600\n",
      "Gurobi Optimizer version 9.5.0 build v9.5.0rc5 (win64)\n",
      "Thread count: 4 physical cores, 8 logical processors, using up to 8 threads\n",
      "Optimize a model with 6347 rows, 7550 columns and 31448 nonzeros\n",
      "Model fingerprint: 0x2b8cde10\n",
      "Model has 1 quadratic constraint\n",
      "Variable types: 5 continuous, 7545 integer (7545 binary)\n",
      "Coefficient statistics:\n",
      "  Matrix range     [1e-05, 1e+04]\n",
      "  QMatrix range    [1e+00, 1e+01]\n",
      "  Objective range  [1e+00, 1e+00]\n",
      "  Bounds range     [1e+00, 1e+00]\n",
      "  RHS range        [4e+04, 4e+04]\n",
      "Presolve removed 2 rows and 0 columns\n",
      "Presolve time: 0.03s\n",
      "Presolved: 6345 rows, 7550 columns, 29040 nonzeros\n",
      "Presolved model has 1 quadratic constraint(s)\n",
      "Variable types: 3 continuous, 7547 integer (7545 binary)\n",
      "\n",
      "Root relaxation: objective 0.000000e+00, 79 iterations, 0.01 seconds (0.00 work units)\n",
      "\n",
      "    Nodes    |    Current Node    |     Objective Bounds      |     Work\n",
      " Expl Unexpl |  Obj  Depth IntInf | Incumbent    BestBd   Gap | It/Node Time\n",
      "\n",
      "     0     0    0.00000    0    6          -    0.00000      -     -    0s\n",
      "H    0     0                       7.9281175    0.00000   100%     -    0s\n",
      "H    0     0                       7.1384514    0.65825  90.8%     -    0s\n",
      "H    0     0                       6.2985922    0.65825  89.5%     -    0s\n",
      "     0     0    0.65825    0   40    6.29859    0.65825  89.5%     -    0s\n",
      "H    0     0                       3.0238566    0.65825  78.2%     -    0s\n",
      "     0     0    0.97281    0   41    3.02386    0.97281  67.8%     -    0s\n",
      "     0     0    0.99431    0   42    3.02386    0.99431  67.1%     -    0s\n",
      "     0     0    1.10431    0   69    3.02386    1.10431  63.5%     -    0s\n",
      "     0     0    1.10463    0   71    3.02386    1.10463  63.5%     -    0s\n",
      "     0     0    1.17069    0   68    3.02386    1.17069  61.3%     -    0s\n",
      "     0     0    1.17451    0   73    3.02386    1.17451  61.2%     -    0s\n",
      "     0     0    1.17752    0   77    3.02386    1.17752  61.1%     -    0s\n",
      "     0     0    1.17797    0   77    3.02386    1.17797  61.0%     -    0s\n",
      "     0     0    1.18656    0   73    3.02386    1.18656  60.8%     -    0s\n",
      "     0     0    1.19907    0   66    3.02386    1.19907  60.3%     -    0s\n",
      "     0     0    1.21158    0   83    3.02386    1.21158  59.9%     -    1s\n",
      "     0     0    1.21165    0   85    3.02386    1.21165  59.9%     -    1s\n",
      "     0     0    1.21447    0   84    3.02386    1.21447  59.8%     -    1s\n",
      "     0     0    1.21479    0   85    3.02386    1.21479  59.8%     -    1s\n",
      "     0     0    1.22285    0   86    3.02386    1.22285  59.6%     -    1s\n",
      "H    0     0                       2.8291853    1.22285  56.8%     -    1s\n",
      "H    0     0                       2.7606249    1.22285  55.7%     -    1s\n",
      "H    0     0                       2.0578033    1.22515  40.5%     -    1s\n",
      "     0     0    1.22515    0   86    2.05780    1.22515  40.5%     -    1s\n",
      "     0     0    1.24184    0   84    2.05780    1.24184  39.7%     -    1s\n",
      "     0     0    1.24567    0   90    2.05780    1.24567  39.5%     -    1s\n",
      "     0     0    1.26235    0   86    2.05780    1.26235  38.7%     -    1s\n",
      "     0     0    1.26847    0  143    2.05780    1.26847  38.4%     -    1s\n",
      "     0     0    1.28560    0  150    2.05780    1.28560  37.5%     -    1s\n",
      "     0     0    1.29161    0  144    2.05780    1.29161  37.2%     -    1s\n",
      "     0     0    1.29316    0   95    2.05780    1.29316  37.2%     -    1s\n",
      "     0     0    1.29402    0  157    2.05780    1.29402  37.1%     -    1s\n",
      "     0     0    1.29505    0  147    2.05780    1.29505  37.1%     -    1s\n",
      "     0     0    1.29527    0  157    2.05780    1.29527  37.1%     -    1s\n",
      "     0     0    1.30404    0   99    2.05780    1.30404  36.6%     -    2s\n",
      "     0     0    1.30464    0  100    2.05780    1.30464  36.6%     -    2s\n",
      "     0     0    1.30712    0   99    2.05780    1.30712  36.5%     -    2s\n",
      "     0     0    1.30788    0  100    2.05780    1.30788  36.4%     -    2s\n",
      "     0     0    1.30834    0  100    2.05780    1.30834  36.4%     -    2s\n",
      "     0     0    1.30842    0  101    2.05780    1.30842  36.4%     -    2s\n",
      "     0     0    1.30909    0  159    2.05780    1.30909  36.4%     -    2s\n",
      "     0     0    1.30909    0  159    2.05780    1.30909  36.4%     -    2s\n",
      "     0     2    1.31918    0  159    2.05780    1.31918  35.9%     -    2s\n",
      "H  152    36                       1.9762525    1.76811  10.5%   243    4s\n",
      "H  175    46                       1.8666128    1.76811  5.28%   242    4s\n",
      "*  175    46              20       1.8666128    1.76811  5.28%   247    4s\n",
      "H  264    12                       1.8656501    1.82882  1.97%   192    4s\n",
      "\n",
      "Cutting planes:\n",
      "  Gomory: 1\n",
      "  Cover: 1\n",
      "  MIR: 51\n",
      "  StrongCG: 1\n",
      "  RLT: 15\n",
      "\n",
      "Explored 290 nodes (55338 simplex iterations) in 4.88 seconds (5.43 work units)\n",
      "Thread count was 8 (of 8 available processors)\n",
      "\n",
      "Solution count 10: 1.86565 1.86661 1.97625 ... 7.92812\n",
      "\n",
      "Optimal solution found (tolerance 1.00e-04)\n",
      "Best objective 1.865650091242e+00, best bound 1.865650091242e+00, gap 0.0000%\n"
     ]
    }
   ],
   "source": [
    "# solve IP model\n",
    "m.Params.TimeLimit = 600\n",
    "m.optimize()"
   ]
  },
  {
   "cell_type": "code",
   "execution_count": 12,
   "metadata": {},
   "outputs": [
    {
     "name": "stdout",
     "output_type": "stream",
     "text": [
      "The inverse PP score is 1.8656500912415974\n",
      "The PP score is 0.5360061914581722\n"
     ]
    }
   ],
   "source": [
    "print(\"The inverse PP score is\",m.objval)\n",
    "print(\"The PP score is\",1.0/m.objval)\n",
    "\n",
    "# retrieve the districts and their populations\n",
    "district = [i for i in G.nodes if x[i].x > 0.5] \n",
    "#district_counties = [ G.nodes[i][\"NAME20\"] for i in district ] \n",
    "district_population = sum(G.nodes[i][\"TOTPOP\"] for i in district )\n",
    "\n",
    "# print district info\n",
    "#print(\"District has population\",district_population,\"and contains counties\",district_counties)"
   ]
  },
  {
   "cell_type": "code",
   "execution_count": 13,
   "metadata": {},
   "outputs": [
    {
     "name": "stdout",
     "output_type": "stream",
     "text": [
      "nativ_pop = 19791\n",
      "total_pop = 39078\n",
      "percentage = 51 %\n"
     ]
    }
   ],
   "source": [
    "print(\"nativ_pop =\", round(nativ_pop.x) )\n",
    "print(\"total_pop =\", round(total_pop.x) )\n",
    "print(\"percentage =\", round( 100 * nativ_pop.x / total_pop.x ),\"%\" )"
   ]
  },
  {
   "cell_type": "code",
   "execution_count": 14,
   "metadata": {},
   "outputs": [],
   "source": [
    "# Let's draw it on a map\n",
    "import geopandas as gpd"
   ]
  },
  {
   "cell_type": "code",
   "execution_count": 15,
   "metadata": {},
   "outputs": [],
   "source": [
    "# Read county shapefile from \"<state>_county.shp\"\n",
    "filename = state + '_' + level + '.shp'\n",
    "\n",
    "# Read geopandas dataframe from file\n",
    "df = gpd.read_file( filepath + filename )"
   ]
  },
  {
   "cell_type": "code",
   "execution_count": 16,
   "metadata": {},
   "outputs": [
    {
     "data": {
      "image/png": "[encoded data removed]",
      "text/plain": [
       "<Figure size 432x288 with 1 Axes>"
      ]
     },
     "metadata": {
      "needs_background": "light"
     },
     "output_type": "display_data"
    }
   ],
   "source": [
    "# Which district is each county assigned to?\n",
    "assignment = [ -1 for i in G.nodes ]\n",
    "\n",
    "labeling = { i : 1 if x[i].x > 0.5 else 0 for i in G.nodes }\n",
    "\n",
    "# Now add the assignments to a column of the dataframe and map it\n",
    "node_with_this_geoid = { G.nodes[i]['GEOID20'] : i for i in G.nodes }\n",
    "\n",
    "# pick a position u in the dataframe\n",
    "for u in range(G.number_of_nodes()):\n",
    "    \n",
    "    geoid = df['GEOID20'][u]\n",
    "    \n",
    "    # what node in G has this geoid?\n",
    "    i = node_with_this_geoid[geoid]\n",
    "    \n",
    "    # position u in the dataframe should be given\n",
    "    # the same district # that county i has in 'labeling'\n",
    "    assignment[u] = labeling[i]\n",
    "    \n",
    "# now add the assignments to a column of our dataframe and then map it\n",
    "df['assignment'] = assignment\n",
    "\n",
    "my_fig = df.plot(column='assignment').get_figure()"
   ]
  },
  {
   "cell_type": "code",
   "execution_count": null,
   "metadata": {},
   "outputs": [],
   "source": []
  }
 ],
 "metadata": {
  "kernelspec": {
   "display_name": "Python 3",
   "language": "python",
   "name": "python3"
  },
  "language_info": {
   "codemirror_mode": {
    "name": "ipython",
    "version": 3
   },
   "file_extension": ".py",
   "mimetype": "text/x-python",
   "name": "python",
   "nbconvert_exporter": "python",
   "pygments_lexer": "ipython3",
   "version": "3.7.10"
  }
 },
 "nbformat": 4,
 "nbformat_minor": 4
}
