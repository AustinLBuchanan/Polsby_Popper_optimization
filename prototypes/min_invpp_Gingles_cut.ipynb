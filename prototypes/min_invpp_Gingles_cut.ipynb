{
 "cells": [
  {
   "cell_type": "code",
   "execution_count": 1,
   "metadata": {},
   "outputs": [],
   "source": [
    "# https://en.m.wikipedia.org/wiki/List_of_majority-minority_United_States_congressional_districts\n",
    "# https://en.wikipedia.org/wiki/Thornburg_v._Gingles#Opinion_of_the_Court\n",
    "# https://en.wikipedia.org/wiki/Bartlett_v._Strickland\n",
    "# Chapter 4 of https://sites.tufts.edu/vrdi/files/2019/06/The-Realists-Guide-to-Redistricting-2010-edition.pdf\n",
    "\n",
    "state = 'NC'    # 2-letter state code\n",
    "level = 'tract' # county, tract, block\n",
    "district_type = 'SH'   # congressional district ('CD'), state senate district ('SS'), state house district ('SH')\n",
    "\n",
    "# Which census codes to use for the minority group's voting age population (VAP):\n",
    "#   'P00300004' : Black or African American alone\n",
    "#   'P00300005' : American Indian and Alaska Native alone\n",
    "#   'P00300006' : Asian alone\n",
    "#   'P00400002' : Hispanic or Latino\n",
    "# Full list at http://starr.tamu.edu/files/2013/01/Census-Codes.pdf\n",
    "\n",
    "minority_vap_codes = [ 'P0030004' ]"
   ]
  },
  {
   "cell_type": "code",
   "execution_count": 2,
   "metadata": {},
   "outputs": [],
   "source": [
    "filepath = 'C:\\\\districting-data-2020\\\\'\n",
    "filename = state + '_' + level + '.json'\n",
    "\n",
    "# GerryChain has a built-in function for reading graphs of this type:\n",
    "from gerrychain import Graph\n",
    "G = Graph.from_json( filepath + filename )\n",
    "\n",
    "for node in G.nodes:\n",
    "    G.nodes[node]['TOTPOP'] = G.nodes[node]['P0010001']\n",
    "    \n",
    "    # Total Voting Age Population:\n",
    "    G.nodes[node]['TVAP'] = G.nodes[node]['P0030001']\n",
    "    \n",
    "    # Minority Voting Age Population:\n",
    "    G.nodes[node]['MVAP'] = sum( G.nodes[node][code] for code in minority_vap_codes )"
   ]
  },
  {
   "cell_type": "code",
   "execution_count": 3,
   "metadata": {},
   "outputs": [
    {
     "name": "stdout",
     "output_type": "stream",
     "text": [
      "Using L = 82646 and U = 91344 and k = 120\n"
     ]
    }
   ],
   "source": [
    "total_population = sum( G.nodes[node]['TOTPOP'] for node in G.nodes )\n",
    "\n",
    "import math\n",
    "from number_of_districts import congressional_districts_2020\n",
    "from number_of_districts import state_senate_districts_2020\n",
    "from number_of_districts import state_house_districts_2020\n",
    "\n",
    "if district_type == 'CD':\n",
    "    deviation = 0.01  # 1% population deviation (+/-0.5%)\n",
    "    k = congressional_districts_2020[state]\n",
    "elif district_type == 'SS':\n",
    "    deviation = 0.10  # 10% population deviation (+/-5%)\n",
    "    k = state_senate_districts_2020[state]\n",
    "elif district_type == 'SH':\n",
    "    deviation = 0.10  # 10% population deviation (+/-5%)\n",
    "    k = state_house_districts_2020[state]\n",
    "\n",
    "L = math.ceil( ( 1 - deviation / 2 ) * total_population / k )\n",
    "U = math.floor( ( 1 + deviation / 2 ) * total_population / k )\n",
    "print(\"Using L =\",L,\"and U =\",U,\"and k =\",k)"
   ]
  },
  {
   "cell_type": "code",
   "execution_count": 4,
   "metadata": {},
   "outputs": [
    {
     "name": "stdout",
     "output_type": "stream",
     "text": [
      "Set parameter Username\n",
      "Academic license - for non-commercial use only - expires 2023-01-01\n"
     ]
    }
   ],
   "source": [
    "import gurobipy as gp\n",
    "from gurobipy import GRB\n",
    "\n",
    "# create model \n",
    "m = gp.Model()\n",
    "\n",
    "import networkx as nx\n",
    "DG = nx.DiGraph(G)   # directed version of G\n",
    "\n",
    "# create variables\n",
    "# x[i] equals one when county i is selected\n",
    "x = m.addVars(G.nodes, vtype=GRB.BINARY)  \n",
    "\n",
    "# y[u,v] equals one when arc (u,v) is cut because u but not v is selected\n",
    "y = m.addVars(DG.edges, vtype=GRB.BINARY) \n",
    "\n",
    "# z is inverse Polsby-Popper score for district \n",
    "z = m.addVar()\n",
    "\n",
    "# A = area of district \n",
    "A = m.addVar()\n",
    "\n",
    "# P = perimeter of district \n",
    "P = m.addVar()"
   ]
  },
  {
   "cell_type": "code",
   "execution_count": 5,
   "metadata": {},
   "outputs": [],
   "source": [
    "# objective is to minimize inverse Polsby-Popper score\n",
    "m.setObjective( z, GRB.MINIMIZE )"
   ]
  },
  {
   "cell_type": "code",
   "execution_count": 6,
   "metadata": {},
   "outputs": [
    {
     "name": "stdout",
     "output_type": "stream",
     "text": [
      "Warning for adding constraints: zero or small (< 1e-13) coefficients, ignored\n"
     ]
    }
   ],
   "source": [
    "# add SOCP constraints relating inverse Polsby-Popper score z to area and perimeter\n",
    "m.addConstr( P * P <= 4 * math.pi * A * z )\n",
    "\n",
    "# add constraint on area A \n",
    "m.addConstr( A == gp.quicksum( G.nodes[i]['area'] * x[i] for i in G.nodes ) )\n",
    "\n",
    "# add constraint on perimeter P\n",
    "m.addConstr( P == gp.quicksum( DG.edges[u,v]['shared_perim'] * y[u,v] for u,v in DG.edges )\n",
    "             + gp.quicksum( G.nodes[i]['boundary_perim'] * x[i] for i in G.nodes if G.nodes[i]['boundary_node'] ) )\n",
    "    \n",
    "m.update()"
   ]
  },
  {
   "cell_type": "code",
   "execution_count": 7,
   "metadata": {},
   "outputs": [],
   "source": [
    "# add constraints saying that district has population at least L and at most U\n",
    "m.addConstr( gp.quicksum( G.nodes[i]['TOTPOP'] * x[i] for i in G.nodes) >= L )\n",
    "m.addConstr( gp.quicksum( G.nodes[i]['TOTPOP'] * x[i] for i in G.nodes) <= U )\n",
    "\n",
    "# add constraints saying that arc (u,v) is cut if u but not v is selected\n",
    "m.addConstrs( x[u] - x[v] <= y[u,v] for u,v in DG.edges )\n",
    "\n",
    "m.update()"
   ]
  },
  {
   "cell_type": "code",
   "execution_count": 8,
   "metadata": {},
   "outputs": [],
   "source": [
    "def find_fischetti_separator(DG, component, b):\n",
    "    \n",
    "    neighbors_component = { i : False for i in DG.nodes }\n",
    "    for i in nx.node_boundary(DG, component, None):\n",
    "        neighbors_component[i] = True\n",
    "    \n",
    "    visited = { i : False for i in DG.nodes }\n",
    "    child = [b]\n",
    "    visited[b] = True\n",
    "    \n",
    "    while child:\n",
    "        parent = child\n",
    "        child = list()\n",
    "        for i in parent:\n",
    "            if not neighbors_component[i]:\n",
    "                for j in DG.neighbors(i):\n",
    "                    if not visited[j]:\n",
    "                        child.append(j)\n",
    "                        visited[j] = True\n",
    "    \n",
    "    C = [ i for i in DG.nodes if neighbors_component[i] and visited[i] ]\n",
    "    return C"
   ]
  },
  {
   "cell_type": "code",
   "execution_count": 9,
   "metadata": {},
   "outputs": [],
   "source": [
    "def cut_callback(m, where):\n",
    "    if where == GRB.Callback.MIPSOL:\n",
    "        \n",
    "        DG = m._DG\n",
    "        xval = m.cbGetSolution(m._x)\n",
    "        selected = [ v for v in m._DG.nodes if xval[v] > 0.5 ]\n",
    "\n",
    "        # pick a root ('b')\n",
    "        largest_component =  max( nx.strongly_connected_components( DG.subgraph(selected) ), key=len )\n",
    "        max_pop = max( DG.nodes[v]['TOTPOP'] for v in largest_component )\n",
    "        max_pop_vertices = [ v for v in largest_component if DG.nodes[v]['TOTPOP'] == max_pop ]\n",
    "        b = max_pop_vertices[0] \n",
    "              \n",
    "        # add contiguty constraints\n",
    "        for component in nx.strongly_connected_components( DG.subgraph(selected) ):\n",
    "            if b not in component:\n",
    "                max_pop = max( DG.nodes[v]['TOTPOP'] for v in component )\n",
    "                max_pop_vertices = [ v for v in component if DG.nodes[v]['TOTPOP'] == max_pop ]\n",
    "                a = max_pop_vertices[0]\n",
    "                \n",
    "                # we want a minimal a,b-separator C from the shore/neighborhood of 'component'\n",
    "                C = find_fischetti_separator(DG, component, b)\n",
    "                \n",
    "                m.cbLazy( m._x[a] + m._x[b] <= 1 + gp.quicksum( m._x[c] for c in C ) )"
   ]
  },
  {
   "cell_type": "code",
   "execution_count": 10,
   "metadata": {},
   "outputs": [],
   "source": [
    "# minority_voting_age_population >= 0.5 * total_voting_age_population\n",
    "mvap = m.addVar()\n",
    "tvap = m.addVar()\n",
    "\n",
    "m.addConstr( mvap == gp.quicksum( G.nodes[i]['MVAP'] * x[i] for i in G.nodes ) )\n",
    "m.addConstr( tvap == gp.quicksum( G.nodes[i]['TVAP'] * x[i] for i in G.nodes ) )\n",
    "\n",
    "m.addConstr( mvap >= 0.5 * tvap )\n",
    "m.update()"
   ]
  },
  {
   "cell_type": "code",
   "execution_count": 11,
   "metadata": {},
   "outputs": [
    {
     "name": "stdout",
     "output_type": "stream",
     "text": [
      "Set parameter TimeLimit to value 600\n",
      "Set parameter MIPGap to value 0\n",
      "Set parameter Method to value 3\n",
      "Set parameter LazyConstraints to value 1\n",
      "Gurobi Optimizer version 9.5.0 build v9.5.0rc5 (win64)\n",
      "Thread count: 4 physical cores, 8 logical processors, using up to 8 threads\n",
      "Optimize a model with 14851 rows, 17521 columns and 72793 nonzeros\n",
      "Model fingerprint: 0x929d5167\n",
      "Model has 1 quadratic constraint\n",
      "Variable types: 5 continuous, 17516 integer (17516 binary)\n",
      "Coefficient statistics:\n",
      "  Matrix range     [2e-05, 1e+04]\n",
      "  QMatrix range    [1e+00, 1e+01]\n",
      "  Objective range  [1e+00, 1e+00]\n",
      "  Bounds range     [1e+00, 1e+00]\n",
      "  RHS range        [8e+04, 9e+04]\n",
      "Presolve time: 0.06s\n",
      "Presolved: 14851 rows, 17521 columns, 72793 nonzeros\n",
      "Presolved model has 1 quadratic constraint(s)\n",
      "Variable types: 3 continuous, 17518 integer (17516 binary)\n",
      "\n",
      "Concurrent LP optimizer: dual simplex and barrier\n",
      "Showing barrier log only...\n",
      "\n",
      "Root barrier log...\n",
      "\n",
      "Ordering time: 0.00s\n",
      "\n",
      "Barrier performed 0 iterations in 0.16 seconds (0.09 work units)\n",
      "Barrier solve interrupted - model solved by another algorithm\n",
      "\n",
      "\n",
      "Solved with dual simplex\n",
      "\n",
      "Root relaxation: objective 0.000000e+00, 140 iterations, 0.08 seconds (0.04 work units)\n",
      "\n",
      "    Nodes    |    Current Node    |     Objective Bounds      |     Work\n",
      " Expl Unexpl |  Obj  Depth IntInf | Incumbent    BestBd   Gap | It/Node Time\n",
      "\n",
      "     0     0    0.00000    0    5          -    0.00000      -     -    0s\n",
      "     0     0    0.10606    0 1064          -    0.10606      -     -    2s\n",
      "     0     0    0.11434    0 1063          -    0.11434      -     -    4s\n",
      "     0     0    0.11574    0 1075          -    0.11574      -     -    4s\n",
      "     0     0    0.12949    0  773          -    0.12949      -     -    5s\n",
      "     0     0    0.12964    0  878          -    0.12964      -     -    5s\n",
      "     0     0    0.12974    0 1040          -    0.12974      -     -    6s\n",
      "     0     0    0.12974    0 1040          -    0.12974      -     -    6s\n",
      "     0     2    0.12981    0 1040          -    0.12981      -     -    7s\n",
      "    49    55    0.18881   10  932          -    0.13336      -   365   10s\n",
      "    84    93    0.23381   17 1450          -    0.13336      -   575   15s\n",
      "   123   134    0.26527   21  913          -    0.13336      -   708   20s\n",
      "   276   287    0.32203   35 1724          -    0.13336      -   507   26s\n",
      "   339   354    0.34943   41 2288          -    0.13336      -   577   30s\n",
      "   441   446    0.35940   50 2232          -    0.13336      -   509   36s\n",
      "   483   473    0.36492   55 2357          -    0.13336      -   532   40s\n",
      "H  497   226                       1.6044812    0.13336  91.7%   536   42s\n",
      "   512   224    0.36961   58 2452    1.60448    0.13336  91.7%   540   45s\n",
      "   526   103    1.41113   10 1039    1.60448    0.13336  91.7%   540   50s\n",
      "   530   109    0.15933   16 1035    1.60448    0.13336  91.7%   559   55s\n",
      "   557   117    1.52421   21  164    1.60448    0.17779  88.9%   584   61s\n",
      "   584   127    0.21192   25  874    1.60448    0.19673  87.7%   601   65s\n",
      "   625   113    0.23466   28  863    1.60448    0.20198  87.4%   625   70s\n",
      "   653   118    0.25179   30 1225    1.60448    0.20198  87.4%   630   76s\n",
      "   673   125    0.26373   34 1345    1.60448    0.20198  87.4%   652   80s\n",
      "   728   128    0.29400   39 1346    1.60448    0.20198  87.4%   654   86s\n",
      "   744   143    1.28161   40  346    1.60448    0.20198  87.4%   661   90s\n",
      "   780   158    0.33165   45 1282    1.60448    0.20198  87.4%   672   95s\n",
      "   822   190    0.33947   49 1342    1.60448    0.20198  87.4%   676  103s\n",
      "   838   199    0.34612   52 1945    1.60448    0.20198  87.4%   684  105s\n",
      "   865   222    0.36308   55 1935    1.60448    0.20198  87.4%   692  113s\n",
      "   878   229    0.36826   56 2403    1.60448    0.20198  87.4%   708  118s\n",
      "   885   242    0.37064   57 2427    1.60448    0.20198  87.4%   723  123s\n",
      "   898   266    0.37179   58 2436    1.60448    0.20198  87.4%   733  128s\n",
      "   922   286    0.38345   59 2432    1.60448    0.20198  87.4%   736  133s\n",
      "   942   304    0.38464   60 2399    1.60448    0.20198  87.4%   736  137s\n",
      "   960   332    0.38678   61 2422    1.60448    0.20198  87.4%   740  140s\n",
      "   988   353    0.47509   62 2478    1.60448    0.20198  87.4%   740  145s\n",
      "  1009   397    0.39260   63 2452    1.60448    0.20198  87.4%   741  150s\n",
      "  1053   441    0.39536   64 2457    1.60448    0.20198  87.4%   729  156s\n",
      "  1097   470    0.39817   65 2444    1.60448    0.20198  87.4%   718  161s\n",
      "  1126   492    0.39920   66 2441    1.60448    0.20198  87.4%   716  166s\n",
      "  1148   506 infeasible   68         1.60448    0.20198  87.4%   724  172s\n",
      "  1164   520    0.40506   70 2329    1.60448    0.20198  87.4%   731  178s\n",
      "  1178   551    1.02266   72 2230    1.60448    0.20198  87.4%   750  185s\n",
      "  1209   569    0.41276   74 2360    1.60448    0.20198  87.4%   749  190s\n",
      "  1227   592    0.41331   75 1972    1.60448    0.20198  87.4%   753  198s\n",
      "  1250   636    0.41907   77 1163    1.60448    0.20198  87.4%   765  206s\n",
      "  1294   681    0.42012   78 1982    1.60448    0.20198  87.4%   759  213s\n",
      "  1339   727    0.42114   80 1160    1.60448    0.20198  87.4%   756  220s\n",
      "  1385   786    0.42231   82 1109    1.60448    0.20198  87.4%   752  228s\n",
      "  1444   844    0.42521   84 1153    1.60448    0.20198  87.4%   744  234s\n",
      "  1502   917    0.42846   86 1075    1.60448    0.20198  87.4%   733  241s\n",
      "  1575   953    0.43952   90 2182    1.60448    0.20198  87.4%   719  249s\n",
      "  1625   982    0.44054   91 1083    1.60448    0.20198  87.4%   718  256s\n",
      "  1654  1012    0.44658   93 2217    1.60448    0.20198  87.4%   726  264s\n",
      "  1694  1036 infeasible   95         1.60448    0.20198  87.4%   733  273s\n",
      "  1728  1062    0.45492   97 2124    1.60448    0.20198  87.4%   738  282s\n",
      "  1766  1067 infeasible   99         1.60448    0.20198  87.4%   745  290s\n",
      "  1791  1094 infeasible  102         1.60448    0.20198  87.4%   755  299s\n",
      "  1840  1143 infeasible  108         1.60448    0.20198  87.4%   757  307s\n",
      "  1907  1180    0.61175  116 2329    1.60448    0.20198  87.4%   752  316s\n",
      "  1970  1219    0.62350  122 2537    1.60448    0.20198  87.4%   751  325s\n",
      "H 2002  1179                       1.4877482    0.20198  86.4%   753  325s\n",
      "  2053  1187    0.63339  129 2222    1.48775    0.20198  86.4%   743  333s\n",
      "  2151  1207     cutoff  133         1.48775    0.20198  86.4%   728  342s\n",
      "  2229  1255    1.37646  137  668    1.48775    0.20198  86.4%   721  352s\n",
      "  2291  1295 infeasible  142         1.48775    0.20198  86.4%   724  362s\n",
      "  2347  1344 infeasible  147         1.48775    0.20198  86.4%   726  372s\n",
      "  2422  1461    0.70006  152 1589    1.48775    0.20198  86.4%   725  384s\n",
      "  2577  1595    0.71676  160 2256    1.48775    0.20198  86.4%   707  395s\n",
      "  2717  1686 infeasible  165         1.48775    0.20198  86.4%   687  409s\n",
      "  2846  1742    0.76639  174 1857    1.48775    0.20198  86.4%   676  421s\n",
      "  2922  1793    0.80411  186  871    1.48775    0.20198  86.4%   677  434s\n",
      "  2983  1842    1.29213  192 1088    1.48775    0.20198  86.4%   677  448s\n",
      "  3044  1893     cutoff  201         1.48775    0.20198  86.4%   677  460s\n",
      "  3130  1955 infeasible  222         1.48775    0.20198  86.4%   673  474s\n",
      "  3301  2068 infeasible  276         1.48775    0.20415  86.3%   657  488s\n",
      "  3458  2281    0.34722   39 1610    1.48775    0.20415  86.3%   645  504s\n",
      "  3698  2439    0.47652   62 2397    1.48775    0.20415  86.3%   624  520s\n",
      "  3898  2499    0.54413   86 2396    1.48775    0.20415  86.3%   611  535s\n",
      "  4008  2570    0.57940  104 2417    1.48775    0.20415  86.3%   615  551s\n",
      "  4109  2691    0.62089  126 2026    1.48775    0.20415  86.3%   617  570s\n",
      "  4264  2814    0.74676  166 1101    1.48775    0.20415  86.3%   614  587s\n",
      "  4444  2942    0.97140  215 1450    1.48775    0.20415  86.3%   607  600s\n",
      "\n",
      "Cutting planes:\n",
      "  Gomory: 1\n",
      "\n",
      "Explored 4648 nodes (2779411 simplex iterations) in 600.04 seconds (919.41 work units)\n",
      "Thread count was 8 (of 8 available processors)\n",
      "\n",
      "Solution count 2: 1.48775 1.60448 \n",
      "\n",
      "Time limit reached\n",
      "Best objective 1.487748240142e+00, best bound 2.041463600362e-01, gap 86.2782%\n",
      "\n",
      "User-callback calls 25087, time in user-callback 0.46 sec\n"
     ]
    }
   ],
   "source": [
    "# Parameter settings\n",
    "m.Params.TimeLimit = 600\n",
    "m.Params.MIPGap = 0      # require full optimality\n",
    "m.Params.Method = 3      # concurrent\n",
    "m.Params.LazyConstraints = 1  # use lazy constraints\n",
    "\n",
    "# Add contiguity constraints and solve\n",
    "m._x = x\n",
    "m._DG = DG\n",
    "m._callback = cut_callback\n",
    "m.optimize(m._callback)\n",
    "\n",
    "# Retrieve the district\n",
    "district = [ i for i in G.nodes if m._x[i].x > 0.5 ] "
   ]
  },
  {
   "cell_type": "code",
   "execution_count": 12,
   "metadata": {},
   "outputs": [
    {
     "name": "stdout",
     "output_type": "stream",
     "text": [
      "The inverse PP score is 1.487748240141614\n",
      "The PP score is 0.6721567352718315\n",
      "\n",
      "minority_voting_age_population = 36786\n",
      "total_voting_age_population = 68898\n",
      "minority's percentage = 53 %\n"
     ]
    }
   ],
   "source": [
    "print(\"The inverse PP score is\",m.objval)\n",
    "print(\"The PP score is\",1.0/m.objval)\n",
    "print(\"\")\n",
    "print(\"minority_voting_age_population =\", round(mvap.x) )\n",
    "print(\"total_voting_age_population =\", round(tvap.x) )\n",
    "print(\"minority's percentage =\", round( 100 * mvap.x / tvap.x ),\"%\" )"
   ]
  },
  {
   "cell_type": "code",
   "execution_count": 13,
   "metadata": {},
   "outputs": [],
   "source": [
    "# Let's draw it on a map\n",
    "import geopandas as gpd"
   ]
  },
  {
   "cell_type": "code",
   "execution_count": 14,
   "metadata": {},
   "outputs": [],
   "source": [
    "# Read county shapefile from \"<state>_county.shp\"\n",
    "filename = state + '_' + level + '.shp'\n",
    "\n",
    "# Read geopandas dataframe from file\n",
    "df = gpd.read_file( filepath + filename )"
   ]
  },
  {
   "cell_type": "code",
   "execution_count": 15,
   "metadata": {},
   "outputs": [
    {
     "data": {
      "image/png": "[encoded data removed]",
      "text/plain": [
       "<Figure size 432x288 with 1 Axes>"
      ]
     },
     "metadata": {
      "needs_background": "light"
     },
     "output_type": "display_data"
    }
   ],
   "source": [
    "# Which district is each county assigned to?\n",
    "assignment = [ -1 for i in G.nodes ]\n",
    "\n",
    "labeling = { i : 1 if x[i].x > 0.5 else 0 for i in G.nodes }\n",
    "\n",
    "# Now add the assignments to a column of the dataframe and map it\n",
    "node_with_this_geoid = { G.nodes[i]['GEOID20'] : i for i in G.nodes }\n",
    "\n",
    "# pick a position u in the dataframe\n",
    "for u in range(G.number_of_nodes()):\n",
    "    \n",
    "    geoid = df['GEOID20'][u]\n",
    "    \n",
    "    # what node in G has this geoid?\n",
    "    i = node_with_this_geoid[geoid]\n",
    "    \n",
    "    # position u in the dataframe should be given\n",
    "    # the same district # that county i has in 'labeling'\n",
    "    assignment[u] = labeling[i]\n",
    "    \n",
    "# now add the assignments to a column of our dataframe and then map it\n",
    "df['assignment'] = assignment\n",
    "\n",
    "my_fig = df.plot(column='assignment').get_figure()"
   ]
  },
  {
   "cell_type": "code",
   "execution_count": null,
   "metadata": {},
   "outputs": [],
   "source": []
  }
 ],
 "metadata": {
  "kernelspec": {
   "display_name": "Python 3",
   "language": "python",
   "name": "python3"
  },
  "language_info": {
   "codemirror_mode": {
    "name": "ipython",
    "version": 3
   },
   "file_extension": ".py",
   "mimetype": "text/x-python",
   "name": "python",
   "nbconvert_exporter": "python",
   "pygments_lexer": "ipython3",
   "version": "3.7.10"
  }
 },
 "nbformat": 4,
 "nbformat_minor": 4
}
