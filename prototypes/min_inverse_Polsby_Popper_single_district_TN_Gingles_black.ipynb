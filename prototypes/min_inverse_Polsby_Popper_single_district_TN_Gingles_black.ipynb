{
 "cells": [
  {
   "cell_type": "code",
   "execution_count": 1,
   "metadata": {},
   "outputs": [],
   "source": [
    "# https://en.m.wikipedia.org/wiki/List_of_majority-minority_United_States_congressional_districts\n",
    "state = 'TN'    # 2-letter state code\n",
    "level = 'tract' # county, tract, block"
   ]
  },
  {
   "cell_type": "code",
   "execution_count": 2,
   "metadata": {},
   "outputs": [],
   "source": [
    "filepath = 'C:\\\\districting-data-2020\\\\'\n",
    "filename = state + '_' + level + '.json'\n",
    "\n",
    "# GerryChain has a built-in function for reading graphs of this type:\n",
    "from gerrychain import Graph\n",
    "G = Graph.from_json( filepath + filename )\n",
    "\n",
    "for node in G.nodes:\n",
    "    # See http://starr.tamu.edu/files/2013/01/Census-Codes.pdf\n",
    "    G.nodes[node]['TOTPOP'] = G.nodes[node]['P0010001']\n",
    "    \n",
    "    # Black or African American alone:\n",
    "    G.nodes[node]['BLAPOP'] = G.nodes[node]['P0010004']"
   ]
  },
  {
   "cell_type": "code",
   "execution_count": 3,
   "metadata": {},
   "outputs": [
    {
     "name": "stdout",
     "output_type": "stream",
     "text": [
      "Using L = 764032 and U = 771710 and k = 9\n"
     ]
    }
   ],
   "source": [
    "# Let's impose a 1% population deviation (+/-0.5%)\n",
    "deviation = 0.01\n",
    "total_population = sum( G.nodes[node]['TOTPOP'] for node in G.nodes )\n",
    "\n",
    "import math\n",
    "from number_of_districts import congressional_districts_2020\n",
    "k = congressional_districts_2020[state]\n",
    "L = math.ceil( ( 1 - deviation / 2 ) * total_population / k )\n",
    "U = math.floor( ( 1 + deviation / 2 ) * total_population / k )\n",
    "print(\"Using L =\",L,\"and U =\",U,\"and k =\",k)"
   ]
  },
  {
   "cell_type": "code",
   "execution_count": 4,
   "metadata": {},
   "outputs": [
    {
     "name": "stdout",
     "output_type": "stream",
     "text": [
      "Set parameter Username\n",
      "Academic license - for non-commercial use only - expires 2023-01-01\n"
     ]
    }
   ],
   "source": [
    "import gurobipy as gp\n",
    "from gurobipy import GRB\n",
    "\n",
    "# create model \n",
    "m = gp.Model()\n",
    "\n",
    "import networkx as nx\n",
    "DG = nx.DiGraph(G)   # directed version of G\n",
    "\n",
    "# create variables\n",
    "# x[i] equals one when county i is selected\n",
    "x = m.addVars(G.nodes, vtype=GRB.BINARY)  \n",
    "\n",
    "# y[u,v] equals one when arc (u,v) is cut because u but not v is selected\n",
    "y = m.addVars(DG.edges, vtype=GRB.BINARY) \n",
    "\n",
    "# z is inverse Polsby-Popper score for district \n",
    "z = m.addVar()\n",
    "\n",
    "# A = area of district \n",
    "A = m.addVar()\n",
    "\n",
    "# P = perimeter of district \n",
    "P = m.addVar()"
   ]
  },
  {
   "cell_type": "code",
   "execution_count": 5,
   "metadata": {},
   "outputs": [],
   "source": [
    "# objective is to minimize inverse Polsby-Popper score\n",
    "m.setObjective( z, GRB.MINIMIZE )"
   ]
  },
  {
   "cell_type": "code",
   "execution_count": 6,
   "metadata": {},
   "outputs": [],
   "source": [
    "# add SOCP constraints relating inverse Polsby-Popper score z to area and perimeter\n",
    "m.addConstr( P * P <= 4 * math.pi * A * z )\n",
    "\n",
    "# add constraint on area A \n",
    "m.addConstr( A == gp.quicksum( G.nodes[i]['area'] * x[i] for i in G.nodes ) )\n",
    "\n",
    "# add constraint on perimeter P\n",
    "m.addConstr( P == gp.quicksum( DG.edges[u,v]['shared_perim'] * y[u,v] for u,v in DG.edges )\n",
    "             + gp.quicksum( G.nodes[i]['boundary_perim'] * x[i] for i in G.nodes if G.nodes[i]['boundary_node'] ) )\n",
    "    \n",
    "m.update()"
   ]
  },
  {
   "cell_type": "code",
   "execution_count": 7,
   "metadata": {},
   "outputs": [],
   "source": [
    "# add constraints saying that district has population at least L and at most U\n",
    "m.addConstr( gp.quicksum( G.nodes[i]['TOTPOP'] * x[i] for i in G.nodes) >= L )\n",
    "m.addConstr( gp.quicksum( G.nodes[i]['TOTPOP'] * x[i] for i in G.nodes) <= U )\n",
    "\n",
    "# add constraints saying that arc (u,v) is cut if u but not v is selected\n",
    "m.addConstrs( x[u] - x[v] <= y[u,v] for u,v in DG.edges )\n",
    "\n",
    "m.update()"
   ]
  },
  {
   "cell_type": "code",
   "execution_count": 8,
   "metadata": {},
   "outputs": [],
   "source": [
    "# # Now, let's add contiguity constraints and re-solve the model.\n",
    "# # We will use the contiguity constraints of Hojny et al. (MPC, 2021)\n",
    "# #   https://link.springer.com/article/10.1007/s12532-020-00186-3\n",
    "\n",
    "# # Add root variables: r[i,j] equals 1 if node i is the \"root\" of district j\n",
    "# r = m.addVars( G.nodes, k, vtype=GRB.BINARY)\n",
    "\n",
    "# # To solve the MIP faster, fix a district root:\n",
    "# r[0,0].LB = 1\n",
    "\n",
    "# # Add flow variables: f[u,v] = amount of flow sent across arc uv \n",
    "# #  Flows are sent across arcs of the directed version of G which we call DG\n",
    "\n",
    "# f = m.addVars( DG.edges )"
   ]
  },
  {
   "cell_type": "code",
   "execution_count": 9,
   "metadata": {},
   "outputs": [],
   "source": [
    "# # The big-M proposed by Hojny et al.\n",
    "# M = G.number_of_nodes() - k + 1\n",
    "\n",
    "# # Each district j should have one root\n",
    "# m.addConstrs( gp.quicksum( r[i,j] for i in G.nodes ) == 1 for j in range(k) )\n",
    "\n",
    "# # If node i is not assigned to district j, then it cannot be its root\n",
    "# m.addConstrs( r[i,j] <= x[i,j] for i in G.nodes for j in range(k) ) \n",
    "\n",
    "# # if not a root, consume some flow.\n",
    "# # if a root, only send out (so much) flow.\n",
    "# m.addConstrs( gp.quicksum( f[j,i] - f[i,j] for j in G.neighbors(i) ) \n",
    "#              >= 1 - M * gp.quicksum( r[i,j] for j in range(k) ) for i in G.nodes )\n",
    "\n",
    "# # do not send flow across cut edges\n",
    "# m.addConstrs( f[u,v] + f[v,u] <= M * ( 1 - gp.quicksum( y[u,v,j] for j in range(k) ) ) for u,v in DG.edges )\n",
    "\n",
    "# m.update()"
   ]
  },
  {
   "cell_type": "code",
   "execution_count": 10,
   "metadata": {},
   "outputs": [
    {
     "data": {
      "text/plain": [
       "<gurobi.Constr *Awaiting Model Update*>"
      ]
     },
     "execution_count": 10,
     "metadata": {},
     "output_type": "execute_result"
    }
   ],
   "source": [
    "# black_population >= 0.5 * total_population\n",
    "black_pop = m.addVar()\n",
    "total_pop = m.addVar()\n",
    "\n",
    "m.addConstr( black_pop == gp.quicksum( G.nodes[i]['BLAPOP'] * x[i] for i in G.nodes ) )\n",
    "m.addConstr( total_pop == gp.quicksum( G.nodes[i]['TOTPOP'] * x[i] for i in G.nodes ) )\n",
    "\n",
    "m.addConstr( black_pop >= 0.5 * total_pop )"
   ]
  },
  {
   "cell_type": "code",
   "execution_count": 11,
   "metadata": {},
   "outputs": [
    {
     "name": "stdout",
     "output_type": "stream",
     "text": [
      "Set parameter TimeLimit to value 600\n",
      "Gurobi Optimizer version 9.5.0 build v9.5.0rc5 (win64)\n",
      "Thread count: 4 physical cores, 8 logical processors, using up to 8 threads\n",
      "Optimize a model with 9389 rows, 11088 columns and 46134 nonzeros\n",
      "Model fingerprint: 0x4d6268bc\n",
      "Model has 1 quadratic constraint\n",
      "Variable types: 5 continuous, 11083 integer (11083 binary)\n",
      "Coefficient statistics:\n",
      "  Matrix range     [2e-05, 1e+04]\n",
      "  QMatrix range    [1e+00, 1e+01]\n",
      "  Objective range  [1e+00, 1e+00]\n",
      "  Bounds range     [1e+00, 1e+00]\n",
      "  RHS range        [8e+05, 8e+05]\n",
      "Presolve removed 2 rows and 0 columns\n",
      "Presolve time: 0.05s\n",
      "Presolved: 9387 rows, 11088 columns, 42748 nonzeros\n",
      "Presolved model has 1 quadratic constraint(s)\n",
      "Variable types: 3 continuous, 11085 integer (11083 binary)\n",
      "\n",
      "Root relaxation: objective 0.000000e+00, 1497 iterations, 0.02 seconds (0.01 work units)\n",
      "\n",
      "    Nodes    |    Current Node    |     Objective Bounds      |     Work\n",
      " Expl Unexpl |  Obj  Depth IntInf | Incumbent    BestBd   Gap | It/Node Time\n",
      "\n",
      "     0     0    0.00000    0    9          -    0.00000      -     -    0s\n",
      "H    0     0                     149.2842952    0.00000   100%     -    0s\n",
      "H    0     0                     145.2202982    0.54279   100%     -    1s\n",
      "     0     0    0.54279    0 1389  145.22030    0.54279   100%     -    1s\n",
      "H    0     0                      35.6526103    0.54279  98.5%     -    1s\n",
      "H    0     0                       6.0620687    0.54279  91.0%     -    1s\n",
      "H    0     0                       5.4493520    0.55955  89.7%     -    2s\n",
      "     0     0    0.55955    0 1394    5.44935    0.55955  89.7%     -    2s\n",
      "     0     0    0.56476    0 1395    5.44935    0.56476  89.6%     -    2s\n",
      "     0     0    0.56483    0 1395    5.44935    0.56483  89.6%     -    3s\n",
      "     0     0    0.56788    0 1396    5.44935    0.56788  89.6%     -    3s\n",
      "     0     0    0.56869    0 1397    5.44935    0.56869  89.6%     -    4s\n",
      "     0     0    0.56869    0 1397    5.44935    0.56869  89.6%     -    4s\n",
      "H    0     0                       5.4385720    0.57160  89.5%     -    4s\n",
      "     0     2    0.57160    0 1397    5.43857    0.57160  89.5%     -    5s\n",
      "H   28    33                       5.2055629    0.60220  88.4%   355    6s\n",
      "H   62    70                       4.8376319    0.60220  87.6%   310    7s\n",
      "H   63    70                       4.7794069    0.60220  87.4%   310    7s\n",
      "H   66    70                       3.9766954    0.60220  84.9%   303    7s\n",
      "H   99   105                       3.3482148    0.60220  82.0%   287    8s\n",
      "H  130   134                       2.2853862    0.60220  73.7%   275    9s\n",
      "   150   147    0.76867   27  260    2.28539    0.60220  73.7%   284   10s\n",
      "H  158   151                       1.8339591    0.60220  67.2%   296   10s\n",
      "H  193   174                       1.7077120    0.60220  64.7%   326   11s\n",
      "H  223   206                       1.7077120    0.60220  64.7%   346   13s\n",
      "H  229   206                       1.6952567    0.60220  64.5%   340   13s\n",
      "   368   233    0.77526   63 1397    1.69526    0.60220  64.5%   282   16s\n",
      "   371   235    1.60822   11 1397    1.69526    0.60220  64.5%   279   20s\n",
      "   375   238    1.26059   14 1321    1.69526    0.60220  64.5%   276   25s\n",
      "   379   240    1.54958   40 1441    1.69526    0.62008  63.4%   273   30s\n",
      "   383   243    1.26686   15 1441    1.69526    0.66800  60.6%   271   35s\n",
      "   406   248    1.42230   14 1204    1.69526    0.66800  60.6%   348   40s\n",
      "   439   247 infeasible   19         1.69526    0.71412  57.9%   398   45s\n",
      "   469   243    0.86936   22 1676    1.69526    0.76274  55.0%   429   50s\n",
      "   495   231 infeasible   21         1.69526    0.79461  53.1%   470   55s\n",
      "   541   230    1.51443   37  794    1.69526    0.94220  44.4%   482   60s\n",
      "   622   270    1.46605   64  277    1.69526    0.96306  43.2%   473   65s\n",
      "H  741   352                       1.6179820    0.96306  40.5%   443   68s\n",
      "   841   385    1.55313  146   86    1.61798    0.96306  40.5%   410   70s\n",
      "H  882   403                       1.5728422    0.96306  38.8%   399   71s\n",
      "  1051   420 infeasible   29         1.57284    0.98917  37.1%   379   76s\n",
      "  1103   443    1.43116   34 1698    1.57284    1.07496  31.7%   394   80s\n",
      "  1195   457 infeasible   43         1.57284    1.16376  26.0%   410   86s\n",
      "  1301   445    1.49649   31  559    1.57284    1.24035  21.1%   425   92s\n",
      "  1373   448    1.30889   67  570    1.57284    1.26243  19.7%   433   96s\n",
      "  1449   442    1.46611   82  112    1.57284    1.26918  19.3%   437  100s\n",
      "  1515   422    1.52131   85 1186    1.57284    1.28501  18.3%   454  105s\n",
      "  1619   384    1.49336   36  792    1.57284    1.31309  16.5%   474  112s\n",
      "  1658   367    1.41290   59 1728    1.57284    1.31815  16.2%   480  115s\n",
      "  1727   327    1.47842   63  865    1.57284    1.37526  12.6%   496  120s\n",
      "  1799   244    1.54941  103  618    1.57284    1.39408  11.4%   518  127s\n",
      "  1860   172     cutoff  127         1.57284    1.41400  10.1%   526  130s\n",
      "\n",
      "Cutting planes:\n",
      "  Gomory: 20\n",
      "\n",
      "Explored 2111 nodes (1086781 simplex iterations) in 133.75 seconds (227.60 work units)\n",
      "Thread count was 8 (of 8 available processors)\n",
      "\n",
      "Solution count 10: 1.57284 1.61798 1.69526 ... 4.83763\n",
      "\n",
      "Optimal solution found (tolerance 1.00e-04)\n",
      "Best objective 1.572842165490e+00, best bound 1.572842165490e+00, gap 0.0000%\n"
     ]
    }
   ],
   "source": [
    "# solve IP model\n",
    "m.Params.TimeLimit = 600\n",
    "m.optimize()"
   ]
  },
  {
   "cell_type": "code",
   "execution_count": 12,
   "metadata": {},
   "outputs": [
    {
     "name": "stdout",
     "output_type": "stream",
     "text": [
      "The inverse PP score is 1.5728421654897191\n",
      "The PP score is 0.6357917036695419\n"
     ]
    }
   ],
   "source": [
    "print(\"The inverse PP score is\",m.objval)\n",
    "print(\"The PP score is\",1.0/m.objval)\n",
    "\n",
    "# retrieve the districts and their populations\n",
    "district = [i for i in G.nodes if x[i].x > 0.5] \n",
    "#district_counties = [ G.nodes[i][\"NAME20\"] for i in district ] \n",
    "district_population = sum(G.nodes[i][\"TOTPOP\"] for i in district )\n",
    "\n",
    "# print district info\n",
    "#print(\"District has population\",district_population,\"and contains counties\",district_counties)"
   ]
  },
  {
   "cell_type": "code",
   "execution_count": 13,
   "metadata": {},
   "outputs": [
    {
     "name": "stdout",
     "output_type": "stream",
     "text": [
      "black_pop = 391792\n",
      "total_pop = 769744\n",
      "percentage = 51 %\n"
     ]
    }
   ],
   "source": [
    "print(\"black_pop =\", round(black_pop.x) )\n",
    "print(\"total_pop =\", round(total_pop.x) )\n",
    "print(\"percentage =\", round( 100 * black_pop.x / total_pop.x ),\"%\" )"
   ]
  },
  {
   "cell_type": "code",
   "execution_count": 14,
   "metadata": {},
   "outputs": [],
   "source": [
    "# Let's draw it on a map\n",
    "import geopandas as gpd"
   ]
  },
  {
   "cell_type": "code",
   "execution_count": 15,
   "metadata": {},
   "outputs": [],
   "source": [
    "# Read county shapefile from \"<state>_county.shp\"\n",
    "filename = state + '_' + level + '.shp'\n",
    "\n",
    "# Read geopandas dataframe from file\n",
    "df = gpd.read_file( filepath + filename )"
   ]
  },
  {
   "cell_type": "code",
   "execution_count": 16,
   "metadata": {},
   "outputs": [
    {
     "data": {
      "image/png": "[encoded data removed]",
      "text/plain": [
       "<Figure size 432x288 with 1 Axes>"
      ]
     },
     "metadata": {
      "needs_background": "light"
     },
     "output_type": "display_data"
    }
   ],
   "source": [
    "# Which district is each county assigned to?\n",
    "assignment = [ -1 for i in G.nodes ]\n",
    "\n",
    "labeling = { i : 1 if x[i].x > 0.5 else 0 for i in G.nodes }\n",
    "\n",
    "# Now add the assignments to a column of the dataframe and map it\n",
    "node_with_this_geoid = { G.nodes[i]['GEOID20'] : i for i in G.nodes }\n",
    "\n",
    "# pick a position u in the dataframe\n",
    "for u in range(G.number_of_nodes()):\n",
    "    \n",
    "    geoid = df['GEOID20'][u]\n",
    "    \n",
    "    # what node in G has this geoid?\n",
    "    i = node_with_this_geoid[geoid]\n",
    "    \n",
    "    # position u in the dataframe should be given\n",
    "    # the same district # that county i has in 'labeling'\n",
    "    assignment[u] = labeling[i]\n",
    "    \n",
    "# now add the assignments to a column of our dataframe and then map it\n",
    "df['assignment'] = assignment\n",
    "\n",
    "my_fig = df.plot(column='assignment').get_figure()"
   ]
  },
  {
   "cell_type": "code",
   "execution_count": null,
   "metadata": {},
   "outputs": [],
   "source": []
  }
 ],
 "metadata": {
  "kernelspec": {
   "display_name": "Python 3",
   "language": "python",
   "name": "python3"
  },
  "language_info": {
   "codemirror_mode": {
    "name": "ipython",
    "version": 3
   },
   "file_extension": ".py",
   "mimetype": "text/x-python",
   "name": "python",
   "nbconvert_exporter": "python",
   "pygments_lexer": "ipython3",
   "version": "3.7.10"
  }
 },
 "nbformat": 4,
 "nbformat_minor": 4
}
