{
 "cells": [
  {
   "cell_type": "code",
   "execution_count": 1,
   "metadata": {},
   "outputs": [],
   "source": [
    "state = 'NE'    # 2-letter state code\n",
    "k = 3           # number of districts"
   ]
  },
  {
   "cell_type": "code",
   "execution_count": 2,
   "metadata": {},
   "outputs": [],
   "source": [
    "# Read county graph from the json file \"<state>_county.json\"\n",
    "filepath = 'C:\\\\districting-data-2020\\\\'\n",
    "filename = state + '_county.json'\n",
    "\n",
    "# GerryChain has a built-in function for reading graphs of this type:\n",
    "from gerrychain import Graph\n",
    "G = Graph.from_json( filepath + filename )\n",
    "\n",
    "for node in G.nodes:\n",
    "    G.nodes[node]['TOTPOP'] = G.nodes[node]['P0010001']"
   ]
  },
  {
   "cell_type": "code",
   "execution_count": 3,
   "metadata": {},
   "outputs": [
    {
     "name": "stdout",
     "output_type": "stream",
     "text": [
      "Using L = 650566 and U = 657103 and k = 3\n"
     ]
    }
   ],
   "source": [
    "# Let's impose a 1% population deviation (+/-0.5%)\n",
    "deviation = 0.01\n",
    "total_population = sum( G.nodes[node]['TOTPOP'] for node in G.nodes )\n",
    "\n",
    "import math\n",
    "L = math.ceil( ( 1 - deviation / 2 ) * total_population / k )\n",
    "U = math.floor( ( 1 + deviation / 2 ) * total_population / k )\n",
    "print(\"Using L =\",L,\"and U =\",U,\"and k =\",k)"
   ]
  },
  {
   "cell_type": "code",
   "execution_count": 4,
   "metadata": {},
   "outputs": [
    {
     "name": "stdout",
     "output_type": "stream",
     "text": [
      "Set parameter Username\n",
      "Academic license - for non-commercial use only - expires 2023-01-01\n"
     ]
    }
   ],
   "source": [
    "import gurobipy as gp\n",
    "from gurobipy import GRB\n",
    "\n",
    "# create model \n",
    "m = gp.Model()\n",
    "\n",
    "import networkx as nx\n",
    "DG = nx.DiGraph(G)   # directed version of G\n",
    "\n",
    "# create variables\n",
    "# x[i,j] equals one when county i is assigned to district j\n",
    "x = m.addVars(G.nodes, k, vtype=GRB.BINARY)  \n",
    "\n",
    "# y[u,v,j] equals one when arc (u,v) is cut because u->j but not v->j\n",
    "y = m.addVars(DG.edges, k, vtype=GRB.BINARY) \n",
    "\n",
    "# z[j] is inverse Polsby-Popper score for district j\n",
    "z = m.addVars(k)\n",
    "\n",
    "# A[j] = area of district j\n",
    "A = m.addVars(k)\n",
    "\n",
    "# P[j] = perimeter of district j\n",
    "P = m.addVars(k)\n",
    "\n",
    "for j in range(k):\n",
    "    z[j].lb = 0\n",
    "    A[j].lb = 0\n",
    "    P[j].lb = 0"
   ]
  },
  {
   "cell_type": "code",
   "execution_count": 5,
   "metadata": {},
   "outputs": [],
   "source": [
    "# objective is to minimize sum of inverse Polsby-Popper scores\n",
    "coef = 1 / ( 2 * math.pi )\n",
    "m.setObjective( coef * gp.quicksum( z[j] for j in range(k) ), GRB.MINIMIZE )"
   ]
  },
  {
   "cell_type": "code",
   "execution_count": 6,
   "metadata": {},
   "outputs": [],
   "source": [
    "# add SOCP constraints relating inverse Polsby-Popper score z[j] to area and perimeter\n",
    "m.addConstrs( P[j] * P[j] <= 2 * A[j] * z[j] for j in range(k) )\n",
    "\n",
    "# add constraints on areas A[j] \n",
    "m.addConstrs( A[j] == gp.quicksum( G.nodes[i]['area'] * x[i,j] for i in G.nodes ) for j in range(k) )\n",
    "\n",
    "# add constraints on perimeters P[j]\n",
    "for j in range(k):\n",
    "    m.addConstr( P[j] == gp.quicksum( DG.edges[u,v]['shared_perim'] * y[u,v,j] for u,v in DG.edges )\n",
    "             + gp.quicksum( G.nodes[i]['boundary_perim'] * x[i,j] for i in G.nodes if G.nodes[i]['boundary_node'] ) )\n",
    "    \n",
    "m.update()"
   ]
  },
  {
   "cell_type": "code",
   "execution_count": 7,
   "metadata": {},
   "outputs": [],
   "source": [
    "# add constraints saying that each county i is assigned to one district\n",
    "m.addConstrs( gp.quicksum( x[i,j] for j in range(k)) == 1 for i in G.nodes )\n",
    "\n",
    "# add constraints saying that each district has population at least L and at most U\n",
    "m.addConstrs( gp.quicksum( G.nodes[i]['TOTPOP'] * x[i,j] for i in G.nodes) >= L for j in range(k) )\n",
    "m.addConstrs( gp.quicksum( G.nodes[i]['TOTPOP'] * x[i,j] for i in G.nodes) <= U for j in range(k) )\n",
    "\n",
    "# add constraints saying that edge {u,v} is cut if u is assigned to district j but v is not.\n",
    "m.addConstrs( x[u,j] - x[v,j] <= y[u,v,j] for u,v in DG.edges for j in range(k) )\n",
    "\n",
    "m.update()"
   ]
  },
  {
   "cell_type": "code",
   "execution_count": 8,
   "metadata": {},
   "outputs": [],
   "source": [
    "# Now, let's add contiguity constraints and re-solve the model.\n",
    "# We will use the contiguity constraints of Hojny et al. (MPC, 2021)\n",
    "#   https://link.springer.com/article/10.1007/s12532-020-00186-3\n",
    "\n",
    "# Add root variables: r[i,j] equals 1 if node i is the \"root\" of district j\n",
    "r = m.addVars( G.nodes, k, vtype=GRB.BINARY)\n",
    "\n",
    "# To solve the MIP faster, fix a district root:\n",
    "r[0,0].LB = 1\n",
    "\n",
    "# Add flow variables: f[u,v] = amount of flow sent across arc uv \n",
    "#  Flows are sent across arcs of the directed version of G which we call DG\n",
    "\n",
    "f = m.addVars( DG.edges )"
   ]
  },
  {
   "cell_type": "code",
   "execution_count": 9,
   "metadata": {},
   "outputs": [],
   "source": [
    "# The big-M proposed by Hojny et al.\n",
    "M = G.number_of_nodes() - k + 1\n",
    "\n",
    "# Each district j should have one root\n",
    "m.addConstrs( gp.quicksum( r[i,j] for i in G.nodes ) == 1 for j in range(k) )\n",
    "\n",
    "# If node i is not assigned to district j, then it cannot be its root\n",
    "m.addConstrs( r[i,j] <= x[i,j] for i in G.nodes for j in range(k) ) \n",
    "\n",
    "# if not a root, consume some flow.\n",
    "# if a root, only send out (so much) flow.\n",
    "m.addConstrs( gp.quicksum( f[j,i] - f[i,j] for j in G.neighbors(i) ) \n",
    "             >= 1 - M * gp.quicksum( r[i,j] for j in range(k) ) for i in G.nodes )\n",
    "\n",
    "# do not send flow across cut edges\n",
    "m.addConstrs( f[u,v] + f[v,u] <= M * ( 1 - gp.quicksum( y[u,v,j] for j in range(k) ) ) for u,v in DG.edges )\n",
    "\n",
    "m.update()"
   ]
  },
  {
   "cell_type": "code",
   "execution_count": 10,
   "metadata": {},
   "outputs": [
    {
     "name": "stdout",
     "output_type": "stream",
     "text": [
      "Gurobi Optimizer version 9.5.0 build v9.5.0rc5 (win64)\n",
      "Thread count: 4 physical cores, 8 logical processors, using up to 8 threads\n",
      "Optimize a model with 2328 rows, 2415 columns and 11130 nonzeros\n",
      "Model fingerprint: 0x3a7113a1\n",
      "Model has 3 quadratic constraints\n",
      "Variable types: 471 continuous, 1944 integer (1944 binary)\n",
      "Coefficient statistics:\n",
      "  Matrix range     [9e-04, 6e+05]\n",
      "  QMatrix range    [1e+00, 2e+00]\n",
      "  Objective range  [2e-01, 2e-01]\n",
      "  Bounds range     [1e+00, 1e+00]\n",
      "  RHS range        [1e+00, 7e+05]\n",
      "Presolve removed 106 rows and 98 columns\n",
      "Presolve time: 0.02s\n",
      "Presolved: 2222 rows, 2317 columns, 10701 nonzeros\n",
      "Presolved model has 3 quadratic constraint(s)\n",
      "Variable types: 471 continuous, 1846 integer (1846 binary)\n",
      "\n",
      "Root relaxation: objective 2.386928e-02, 1146 iterations, 0.03 seconds (0.02 work units)\n",
      "\n",
      "    Nodes    |    Current Node    |     Objective Bounds      |     Work\n",
      " Expl Unexpl |  Obj  Depth IntInf | Incumbent    BestBd   Gap | It/Node Time\n",
      "\n",
      "     0     0    0.02387    0   13          -    0.02387      -     -    0s\n",
      "     0     0    1.46923    0  296          -    1.46923      -     -    0s\n",
      "     0     0    2.43013    0  310          -    2.43013      -     -    0s\n",
      "     0     0    2.43013    0  310          -    2.43013      -     -    0s\n",
      "     0     0    2.87167    0  310          -    2.87167      -     -    0s\n",
      "     0     0    2.91892    0  312          -    2.91892      -     -    1s\n",
      "     0     0    2.91994    0  314          -    2.91994      -     -    1s\n",
      "     0     0    2.92790    0  316          -    2.92790      -     -    1s\n",
      "     0     0    2.92893    0  316          -    2.92893      -     -    1s\n",
      "     0     0    2.93065    0  318          -    2.93065      -     -    1s\n",
      "     0     0    2.93065    0  318          -    2.93065      -     -    1s\n",
      "     0     0    2.93086    0  320          -    2.93086      -     -    1s\n",
      "     0     0    2.93086    0  318          -    2.93086      -     -    1s\n",
      "     0     2    2.93832    0  318          -    2.93832      -     -    1s\n",
      "H  244   234                       8.9695935    3.20172  64.3%   136    2s\n",
      "*  244   234              46       8.9695935    3.20172  64.3%   137    2s\n",
      "H  300   244                       7.8636712    3.20172  59.3%   138    2s\n",
      "   372   271    3.29098    5  319    7.86367    3.23726  58.8%   139    5s\n",
      "   390   286    3.97969   16  318    7.86367    3.97969  49.4%   150   11s\n",
      "   564   403    5.99565   28   90    7.86367    3.97969  49.4%   190   15s\n",
      "  1899   871    7.46862   31  326    7.86367    4.49594  42.8%   155   20s\n",
      "  2906  1368    6.62272   25  145    7.86367    4.95930  36.9%   158   25s\n",
      "H 4297  1881                       7.6887907    5.27417  31.4%   154   29s\n",
      "* 4297  1881              49       7.6887907    5.27417  31.4%   154   29s\n",
      "H 4413  1559                       7.3200400    5.27417  27.9%   152   29s\n",
      "  4614  1597    5.96284   25  264    7.32004    5.32021  27.3%   151   30s\n",
      "  5862  1897 infeasible   32         7.32004    5.59187  23.6%   149   35s\n",
      "  7694  2152    7.13359   27  361    7.32004    5.86765  19.8%   148   40s\n",
      "  9074  2312     cutoff   38         7.32004    6.03128  17.6%   147   46s\n",
      " 10559  2490    6.84401   35  186    7.32004    6.17692  15.6%   145   51s\n",
      " 11809  2473     cutoff   33         7.32004    6.30635  13.8%   144   56s\n",
      " 13425  2378 infeasible   30         7.32004    6.43405  12.1%   142   61s\n",
      "*14317  2304              45       7.3200400    6.49161  11.3%   142   62s\n",
      " 15419  2090     cutoff   29         7.32004    6.59405  9.92%   140   66s\n",
      " 16945  1661     cutoff   32         7.32004    6.73492  7.99%   138   70s\n",
      " 18962   686     cutoff   39         7.32004    6.89338  5.83%   135   75s\n",
      "\n",
      "Cutting planes:\n",
      "  Gomory: 10\n",
      "  Cover: 56\n",
      "  Implied bound: 1\n",
      "  Clique: 1\n",
      "  MIR: 11\n",
      "  StrongCG: 4\n",
      "  Flow cover: 209\n",
      "  Inf proof: 1\n",
      "  Zero half: 4\n",
      "  RLT: 26\n",
      "\n",
      "Explored 20627 nodes (2712203 simplex iterations) in 77.28 seconds (92.60 work units)\n",
      "Thread count was 8 (of 8 available processors)\n",
      "\n",
      "Solution count 5: 7.32004 7.32004 7.68879 ... 8.96959\n",
      "\n",
      "Optimal solution found (tolerance 1.00e-04)\n",
      "Best objective 7.320039979195e+00, best bound 7.320039979195e+00, gap 0.0000%\n"
     ]
    }
   ],
   "source": [
    "# solve IP model\n",
    "m.optimize()"
   ]
  },
  {
   "cell_type": "code",
   "execution_count": 11,
   "metadata": {},
   "outputs": [
    {
     "name": "stdout",
     "output_type": "stream",
     "text": [
      "The objective value is 7.32003997919503\n",
      "District 0 has population 655549 and contains counties ['Sioux', 'Lincoln', 'Sherman', 'Logan', 'Merrick', 'Sheridan', 'Grant', 'Burt', 'Blaine', 'Dixon', 'Stanton', 'Wheeler', 'Franklin', 'Chase', 'Buffalo', 'Fillmore', 'York', 'Clay', 'Cheyenne', 'Garden', 'Harlan', 'Hooker', 'Furnas', 'Howard', 'Valley', 'Cedar', 'Thayer', 'Deuel', 'Morrill', 'Hall', 'Hamilton', 'Loup', 'Frontier', 'Nance', 'Knox', 'Perkins', 'Colfax', 'Butler', 'Cherry', 'Nuckolls', 'Keith', 'Phelps', 'Webster', 'Dakota', 'Boyd', 'Thomas', 'Holt', 'Brown', 'Keya Paha', 'Banner', 'Greeley', 'Jefferson', 'Dundy', 'Scotts Bluff', 'Adams', 'Kearney', 'Hitchcock', 'Kimball', 'Custer', 'Polk', 'Dawes', 'Wayne', 'Garfield', 'Pierce', 'Platte', 'Box Butte', 'Thurston', 'Boone', 'Madison', 'McPherson', 'Red Willow', 'Rock', 'Gosper', 'Dawson', 'Arthur', 'Hayes', 'Antelope']\n",
      "\n",
      "District 1 has population 651571 and contains counties ['Dodge', 'Washington', 'Cuming', 'Douglas']\n",
      "\n",
      "District 2 has population 654384 and contains counties ['Pawnee', 'Sarpy', 'Saunders', 'Seward', 'Richardson', 'Lancaster', 'Saline', 'Otoe', 'Nemaha', 'Cass', 'Gage', 'Johnson']\n",
      "\n"
     ]
    }
   ],
   "source": [
    "print(\"The objective value is\",m.objval)\n",
    "\n",
    "# retrieve the districts and their populations\n",
    "districts = [ [i for i in G.nodes if x[i,j].x > 0.5] for j in range(k)]\n",
    "district_counties = [ [ G.nodes[i][\"NAME20\"] for i in districts[j] ] for j in range(k)]\n",
    "district_populations = [ sum(G.nodes[i][\"TOTPOP\"] for i in districts[j]) for j in range(k) ]\n",
    "\n",
    "# print district info\n",
    "for j in range(k):\n",
    "    print(\"District\",j,\"has population\",district_populations[j],\"and contains counties\",district_counties[j])\n",
    "    print(\"\")"
   ]
  },
  {
   "cell_type": "code",
   "execution_count": 12,
   "metadata": {},
   "outputs": [],
   "source": [
    "# Let's draw it on a map\n",
    "import geopandas as gpd"
   ]
  },
  {
   "cell_type": "code",
   "execution_count": 13,
   "metadata": {},
   "outputs": [],
   "source": [
    "# Read county shapefile from \"<state>_county.shp\"\n",
    "filename = state + '_county.shp'\n",
    "\n",
    "# Read geopandas dataframe from file\n",
    "df = gpd.read_file( filepath + filename )"
   ]
  },
  {
   "cell_type": "code",
   "execution_count": 14,
   "metadata": {},
   "outputs": [
    {
     "data": {
      "image/png": "[encoded data removed]",
      "text/plain": [
       "<Figure size 432x288 with 1 Axes>"
      ]
     },
     "metadata": {
      "needs_background": "light"
     },
     "output_type": "display_data"
    }
   ],
   "source": [
    "# Which district is each county assigned to?\n",
    "assignment = [ -1 for i in G.nodes ]\n",
    "\n",
    "labeling = { i : j for i in G.nodes for j in range(k) if x[i,j].x > 0.5 }\n",
    "\n",
    "# Now add the assignments to a column of the dataframe and map it\n",
    "node_with_this_geoid = { G.nodes[i]['GEOID20'] : i for i in G.nodes }\n",
    "\n",
    "# pick a position u in the dataframe\n",
    "for u in range(G.number_of_nodes()):\n",
    "    \n",
    "    geoid = df['GEOID20'][u]\n",
    "    \n",
    "    # what node in G has this geoid?\n",
    "    i = node_with_this_geoid[geoid]\n",
    "    \n",
    "    # position u in the dataframe should be given\n",
    "    # the same district # that county i has in 'labeling'\n",
    "    assignment[u] = labeling[i]\n",
    "    \n",
    "# now add the assignments to a column of our dataframe and then map it\n",
    "df['assignment'] = assignment\n",
    "\n",
    "my_fig = df.plot(column='assignment').get_figure()"
   ]
  },
  {
   "cell_type": "code",
   "execution_count": null,
   "metadata": {},
   "outputs": [],
   "source": []
  }
 ],
 "metadata": {
  "kernelspec": {
   "display_name": "Python 3",
   "language": "python",
   "name": "python3"
  },
  "language_info": {
   "codemirror_mode": {
    "name": "ipython",
    "version": 3
   },
   "file_extension": ".py",
   "mimetype": "text/x-python",
   "name": "python",
   "nbconvert_exporter": "python",
   "pygments_lexer": "ipython3",
   "version": "3.7.10"
  }
 },
 "nbformat": 4,
 "nbformat_minor": 4
}
