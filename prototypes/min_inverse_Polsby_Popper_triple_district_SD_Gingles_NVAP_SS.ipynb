{
 "cells": [
  {
   "cell_type": "code",
   "execution_count": 1,
   "metadata": {},
   "outputs": [],
   "source": [
    "# https://en.m.wikipedia.org/wiki/List_of_majority-minority_United_States_congressional_districts\n",
    "state = 'SD'    # 2-letter state code\n",
    "level = 'tract' # county, tract, block"
   ]
  },
  {
   "cell_type": "code",
   "execution_count": 2,
   "metadata": {},
   "outputs": [],
   "source": [
    "filepath = 'C:\\\\districting-data-2020\\\\'\n",
    "filename = state + '_' + level + '.json'\n",
    "\n",
    "# GerryChain has a built-in function for reading graphs of this type:\n",
    "from gerrychain import Graph\n",
    "G = Graph.from_json( filepath + filename )\n",
    "\n",
    "for node in G.nodes:\n",
    "    # See http://starr.tamu.edu/files/2013/01/Census-Codes.pdf\n",
    "    G.nodes[node]['TOTPOP'] = G.nodes[node]['P0010001']\n",
    "    \n",
    "    # voting age population (VAP)\n",
    "    G.nodes[node]['VAP'] = G.nodes[node]['P0030001']\n",
    "    \n",
    "    # American Indian and Alaska Native alone:\n",
    "    G.nodes[node]['NVAP'] = G.nodes[node]['P0030005']\n",
    "    \n",
    "    # American Indian and Alaska Native (among two races)\n",
    "    G.nodes[node]['NVAP'] += G.nodes[node]['P0030012']\n",
    "    G.nodes[node]['NVAP'] += G.nodes[node]['P0030016']\n",
    "    G.nodes[node]['NVAP'] += G.nodes[node]['P0030020']\n",
    "    G.nodes[node]['NVAP'] += G.nodes[node]['P0030021']\n",
    "    G.nodes[node]['NVAP'] += G.nodes[node]['P0030022']\n",
    "    \n",
    "    # American Indian and Alaska Native (among three races)\n",
    "    G.nodes[node]['NVAP'] += G.nodes[node]['P0030027']\n",
    "    G.nodes[node]['NVAP'] += G.nodes[node]['P0030031']\n",
    "    G.nodes[node]['NVAP'] += G.nodes[node]['P0030032']\n",
    "    G.nodes[node]['NVAP'] += G.nodes[node]['P0030033']\n",
    "\n",
    "    G.nodes[node]['NVAP'] += G.nodes[node]['P0030037']\n",
    "    G.nodes[node]['NVAP'] += G.nodes[node]['P0030038']\n",
    "    G.nodes[node]['NVAP'] += G.nodes[node]['P0030039']\n",
    "    G.nodes[node]['NVAP'] += G.nodes[node]['P0030043']\n",
    "    G.nodes[node]['NVAP'] += G.nodes[node]['P0030044']\n",
    "    G.nodes[node]['NVAP'] += G.nodes[node]['P0030045']\n",
    "    \n",
    "    # American Indian and Alaska Native (among four races)\n",
    "    G.nodes[node]['NVAP'] += G.nodes[node]['P0030048']\n",
    "    G.nodes[node]['NVAP'] += G.nodes[node]['P0030049']\n",
    "    G.nodes[node]['NVAP'] += G.nodes[node]['P0030050']\n",
    "    G.nodes[node]['NVAP'] += G.nodes[node]['P0030054']\n",
    "    G.nodes[node]['NVAP'] += G.nodes[node]['P0030055']\n",
    "    G.nodes[node]['NVAP'] += G.nodes[node]['P0030056']\n",
    "    \n",
    "    G.nodes[node]['NVAP'] += G.nodes[node]['P0030058']\n",
    "    G.nodes[node]['NVAP'] += G.nodes[node]['P0030059']\n",
    "    G.nodes[node]['NVAP'] += G.nodes[node]['P0030060']\n",
    "    G.nodes[node]['NVAP'] += G.nodes[node]['P0030062']\n",
    "    \n",
    "    # American Indian and Alaska Native (among five races)\n",
    "    G.nodes[node]['NVAP'] += G.nodes[node]['P0030064']\n",
    "    G.nodes[node]['NVAP'] += G.nodes[node]['P0030065']\n",
    "    G.nodes[node]['NVAP'] += G.nodes[node]['P0030066']\n",
    "    G.nodes[node]['NVAP'] += G.nodes[node]['P0030068']\n",
    "    G.nodes[node]['NVAP'] += G.nodes[node]['P0030069']\n",
    "    \n",
    "    # American Indian and Alaska Native (among fix races)\n",
    "    G.nodes[node]['NVAP'] += G.nodes[node]['P0030071']"
   ]
  },
  {
   "cell_type": "code",
   "execution_count": 3,
   "metadata": {},
   "outputs": [
    {
     "name": "stdout",
     "output_type": "stream",
     "text": [
      "Using L = 72201 and U = 79800 and k = 35\n"
     ]
    }
   ],
   "source": [
    "# Let's impose a 10% population deviation (+/-5%)\n",
    "deviation = 0.10\n",
    "total_population = sum( G.nodes[node]['TOTPOP'] for node in G.nodes )\n",
    "\n",
    "import math\n",
    "from number_of_districts import state_senate_districts_2020\n",
    "k = state_senate_districts_2020[state]\n",
    "\n",
    "# triple district\n",
    "size = 3\n",
    "L = size * math.ceil( ( 1 - deviation / 2 ) * total_population / k )\n",
    "U = size * math.floor( ( 1 + deviation / 2 ) * total_population / k )\n",
    "print(\"Using L =\",L,\"and U =\",U,\"and k =\",k)"
   ]
  },
  {
   "cell_type": "code",
   "execution_count": 4,
   "metadata": {},
   "outputs": [
    {
     "name": "stdout",
     "output_type": "stream",
     "text": [
      "Set parameter Username\n",
      "Academic license - for non-commercial use only - expires 2023-12-27\n"
     ]
    }
   ],
   "source": [
    "import gurobipy as gp\n",
    "from gurobipy import GRB\n",
    "\n",
    "# create model \n",
    "m = gp.Model()\n",
    "\n",
    "import networkx as nx\n",
    "DG = nx.DiGraph(G)   # directed version of G\n",
    "\n",
    "# create variables\n",
    "# x[i] equals one when tract i is selected\n",
    "x = m.addVars(G.nodes, vtype=GRB.BINARY)  "
   ]
  },
  {
   "cell_type": "code",
   "execution_count": 5,
   "metadata": {},
   "outputs": [],
   "source": [
    "# get county graph too\n",
    "filename = state + '_county.json'\n",
    "GC = Graph.from_json( filepath + filename )\n",
    "\n",
    "for node in GC.nodes:\n",
    "    # See http://starr.tamu.edu/files/2013/01/Census-Codes.pdf\n",
    "    GC.nodes[node]['TOTPOP'] = GC.nodes[node]['P0010001']\n",
    "\n",
    "gtn = { GC.nodes[i]['GEOID20'] : i for i in GC.nodes }"
   ]
  },
  {
   "cell_type": "code",
   "execution_count": 6,
   "metadata": {},
   "outputs": [],
   "source": [
    "# Avoid Hughes\n",
    "avoid = set()\n",
    "for c in GC.nodes:\n",
    "    if GC.nodes[c]['NAME20'] in {'Hughes'}:\n",
    "        avoid.add( GC.nodes[c]['GEOID20'] )\n",
    "        \n",
    "for i in G.nodes:\n",
    "    if G.nodes[i]['GEOID20'][0:5] in avoid:\n",
    "        x[i].UB = 0"
   ]
  },
  {
   "cell_type": "code",
   "execution_count": 7,
   "metadata": {},
   "outputs": [],
   "source": [
    "# # split at most 2 counties\n",
    "splits = 2\n",
    "whole = m.addVars(GC.nodes, vtype=GRB.BINARY)\n",
    "some = m.addVars(GC.nodes, vtype=GRB.BINARY)\n",
    "split = m.addVars(GC.nodes, vtype=GRB.BINARY)\n",
    "\n",
    "m.addConstr( gp.quicksum(split) <= splits )\n",
    "m.addConstrs( split[c] == some[c] - whole[c] for c in GC.nodes )\n",
    "\n",
    "for i in G.nodes:\n",
    "    g = G.nodes[i]['GEOID20'][0:5]\n",
    "    c = gtn[g]\n",
    "    m.addConstr( whole[c] <= x[i] )\n",
    "    m.addConstr( x[i] <= some[c] )"
   ]
  },
  {
   "cell_type": "code",
   "execution_count": 8,
   "metadata": {},
   "outputs": [],
   "source": [
    "# y[u,v] equals one when arc (u,v) is cut because u but not v is selected\n",
    "y = m.addVars(DG.edges, vtype=GRB.BINARY) \n",
    "\n",
    "# z is inverse Polsby-Popper score for district \n",
    "z = m.addVar()\n",
    "\n",
    "# A = area of district \n",
    "A = m.addVar()\n",
    "\n",
    "# P = perimeter of district \n",
    "P = m.addVar()"
   ]
  },
  {
   "cell_type": "code",
   "execution_count": 9,
   "metadata": {},
   "outputs": [],
   "source": [
    "# objective is to minimize inverse Polsby-Popper score\n",
    "m.setObjective( z, GRB.MINIMIZE )"
   ]
  },
  {
   "cell_type": "code",
   "execution_count": 10,
   "metadata": {},
   "outputs": [
    {
     "name": "stdout",
     "output_type": "stream",
     "text": [
      "Warning for adding constraints: zero or small (< 1e-13) coefficients, ignored\n"
     ]
    }
   ],
   "source": [
    "# add SOCP constraints relating inverse Polsby-Popper score z to area and perimeter\n",
    "m.addConstr( P * P <= 4 * math.pi * A * z )\n",
    "\n",
    "# add constraint on area A \n",
    "m.addConstr( A == gp.quicksum( G.nodes[i]['area'] * x[i] for i in G.nodes ) )\n",
    "\n",
    "# add constraint on perimeter P\n",
    "m.addConstr( P == gp.quicksum( DG.edges[u,v]['shared_perim'] * y[u,v] for u,v in DG.edges )\n",
    "             + gp.quicksum( G.nodes[i]['boundary_perim'] * x[i] for i in G.nodes if G.nodes[i]['boundary_node'] ) )\n",
    "    \n",
    "m.update()"
   ]
  },
  {
   "cell_type": "code",
   "execution_count": 11,
   "metadata": {},
   "outputs": [],
   "source": [
    "# add constraints saying that district has population at least L and at most U\n",
    "m.addConstr( gp.quicksum( G.nodes[i]['TOTPOP'] * x[i] for i in G.nodes) >= L )\n",
    "m.addConstr( gp.quicksum( G.nodes[i]['TOTPOP'] * x[i] for i in G.nodes) <= U )\n",
    "\n",
    "# add constraints saying that arc (u,v) is cut if u but not v is selected\n",
    "m.addConstrs( x[u] - x[v] <= y[u,v] for u,v in DG.edges )\n",
    "\n",
    "m.update()"
   ]
  },
  {
   "cell_type": "code",
   "execution_count": 12,
   "metadata": {},
   "outputs": [],
   "source": [
    "# To solve the MIP faster, fix a district root in Oglala Lakota\n",
    "for i in G.nodes:\n",
    "    if G.nodes[i]['GEOID20'][0:5] == '46102':\n",
    "        ol = i\n",
    "        break\n",
    "    \n",
    "x[ol].LB = 1\n",
    "\n",
    "# Add flow variables: f[u,v] = amount of flow sent across arc uv \n",
    "#  Flows are sent across arcs of the directed version of G which we call DG\n",
    "\n",
    "f = m.addVars( DG.edges )"
   ]
  },
  {
   "cell_type": "code",
   "execution_count": 13,
   "metadata": {},
   "outputs": [],
   "source": [
    "# contiguity constraints\n",
    "M = G.number_of_nodes()\n",
    "\n",
    "# if selected but not a root, consume one unit of flow\n",
    "m.addConstrs( gp.quicksum( f[j,i] - f[i,j] for j in G.neighbors(i) ) == x[i] for i in G.nodes if i != ol )\n",
    "\n",
    "# flow can only enter selected nodes\n",
    "m.addConstrs( gp.quicksum( f[j,i] for j in G.neighbors(i) ) <= M * x[i] for i in G.nodes if i != ol )\n",
    "\n",
    "m.update()"
   ]
  },
  {
   "cell_type": "code",
   "execution_count": 14,
   "metadata": {},
   "outputs": [
    {
     "data": {
      "text/plain": [
       "<gurobi.Constr *Awaiting Model Update*>"
      ]
     },
     "execution_count": 14,
     "metadata": {},
     "output_type": "execute_result"
    }
   ],
   "source": [
    "# native_vap >= 0.5 * total_vap\n",
    "nvap = m.addVar()\n",
    "vap = m.addVar()\n",
    "\n",
    "m.addConstr( nvap == gp.quicksum( G.nodes[i]['NVAP'] * x[i] for i in G.nodes ) )\n",
    "m.addConstr( vap == gp.quicksum( G.nodes[i]['VAP'] * x[i] for i in G.nodes ) )\n",
    "\n",
    "m.addConstr( nvap >= 0.5 * vap )"
   ]
  },
  {
   "cell_type": "code",
   "execution_count": 15,
   "metadata": {},
   "outputs": [
    {
     "name": "stdout",
     "output_type": "stream",
     "text": [
      "Set parameter TimeLimit to value 3600\n",
      "Gurobi Optimizer version 9.5.0 build v9.5.0rc5 (win64)\n",
      "Thread count: 4 physical cores, 8 logical processors, using up to 8 threads\n",
      "Optimize a model with 2280 rows, 2925 columns and 11645 nonzeros\n",
      "Model fingerprint: 0xe27c7939\n",
      "Model has 1 quadratic constraint\n",
      "Variable types: 1245 continuous, 1680 integer (1680 binary)\n",
      "Coefficient statistics:\n",
      "  Matrix range     [1e-04, 9e+03]\n",
      "  QMatrix range    [1e+00, 1e+01]\n",
      "  Objective range  [1e+00, 1e+00]\n",
      "  Bounds range     [1e+00, 1e+00]\n",
      "  RHS range        [2e+00, 8e+04]\n",
      "Presolve removed 139 rows and 79 columns\n",
      "Presolve time: 0.15s\n",
      "Presolved: 2141 rows, 2846 columns, 11166 nonzeros\n",
      "Presolved model has 1 quadratic constraint(s)\n",
      "Variable types: 1184 continuous, 1662 integer (1654 binary)\n",
      "\n",
      "Root relaxation: objective 1.300644e-02, 1167 iterations, 0.12 seconds (0.03 work units)\n",
      "\n",
      "    Nodes    |    Current Node    |     Objective Bounds      |     Work\n",
      " Expl Unexpl |  Obj  Depth IntInf | Incumbent    BestBd   Gap | It/Node Time\n",
      "\n",
      "     0     0    0.01301    0   80          -    0.01301      -     -    1s\n",
      "     0     0    0.01301    0  111          -    0.01301      -     -    1s\n",
      "     0     0    0.01301    0  118          -    0.01301      -     -    1s\n",
      "H    0     0                      15.6303646    0.01301   100%     -    1s\n",
      "     0     0    0.01301    0   40   15.63036    0.01301   100%     -    2s\n",
      "     0     0    0.01301    0   39   15.63036    0.01301   100%     -    2s\n",
      "     0     0    0.01301    0   55   15.63036    0.01301   100%     -    2s\n",
      "H    0     0                      12.7889617    0.01301   100%     -    2s\n",
      "     0     0    0.01301    0   53   12.78896    0.01301   100%     -    2s\n",
      "     0     0    0.01301    0   15   12.78896    0.01301   100%     -    2s\n",
      "H    0     0                      11.8814891    0.01301   100%     -    2s\n",
      "     0     0    0.01301    0   40   11.88149    0.01301   100%     -    2s\n",
      "     0     0    0.01301    0   30   11.88149    0.01301   100%     -    3s\n",
      "     0     0    0.01301    0   25   11.88149    0.01301   100%     -    3s\n",
      "     0     0    0.01301    0   58   11.88149    0.01301   100%     -    3s\n",
      "     0     0    0.01301    0   37   11.88149    0.01301   100%     -    3s\n",
      "     0     0    0.01301    0   37   11.88149    0.01301   100%     -    4s\n",
      "H    0     0                      11.2713865    0.01301   100%     -    4s\n",
      "     0     2    0.01301    0   37   11.27139    0.01301   100%     -    4s\n",
      "     1     4    0.01301    1   43   11.27139    0.01301   100%  2135    5s\n",
      "H   30    34                       4.1386873    1.50254  63.7%   421    5s\n",
      "H   66    64                       3.6711843    1.50254  59.1%   280    6s\n",
      "H   68    64                       3.0195493    1.50254  50.2%   274    6s\n",
      "H  156    93                       2.9656998    1.51954  48.8%   184    7s\n",
      "*  241    99              15       2.8608261    1.84534  35.5%   152    7s\n",
      "H  334    81                       2.5042223    2.32943  6.98%   131    8s\n",
      "*  334    81              11       2.5042223    2.32943  6.98%   131    8s\n",
      "*  345    51              11       2.5042223    2.37420  5.19%   134    8s\n",
      "\n",
      "Cutting planes:\n",
      "  Lift-and-project: 2\n",
      "  Cover: 2\n",
      "  Clique: 1\n",
      "  MIR: 17\n",
      "  StrongCG: 1\n",
      "  Flow cover: 17\n",
      "  Inf proof: 28\n",
      "  Network: 7\n",
      "  Relax-and-lift: 1\n",
      "\n",
      "Explored 454 nodes (69517 simplex iterations) in 9.21 seconds (2.50 work units)\n",
      "Thread count was 8 (of 8 available processors)\n",
      "\n",
      "Solution count 10: 2.50422 2.86083 2.9657 ... 15.6304\n",
      "\n",
      "Optimal solution found (tolerance 1.00e-04)\n",
      "Warning: max constraint violation (2.6886e-06) exceeds tolerance\n",
      "Best objective 2.504222265394e+00, best bound 2.504222265394e+00, gap 0.0000%\n"
     ]
    }
   ],
   "source": [
    "# solve IP model\n",
    "m.Params.TimeLimit = 3600\n",
    "m.optimize()"
   ]
  },
  {
   "cell_type": "code",
   "execution_count": 16,
   "metadata": {},
   "outputs": [
    {
     "name": "stdout",
     "output_type": "stream",
     "text": [
      "The inverse PP score is 2.5042222653938655\n",
      "The PP score is 0.399325576574857\n"
     ]
    }
   ],
   "source": [
    "print(\"The inverse PP score is\",m.objval)\n",
    "print(\"The PP score is\",1.0/m.objval)\n",
    "\n",
    "# retrieve the districts and their populations\n",
    "district = [i for i in G.nodes if x[i].x > 0.5] \n",
    "district_population = sum(G.nodes[i][\"TOTPOP\"] for i in district )"
   ]
  },
  {
   "cell_type": "code",
   "execution_count": 17,
   "metadata": {},
   "outputs": [
    {
     "name": "stdout",
     "output_type": "stream",
     "text": [
      "native_vap = 24678\n",
      "total_vap = 49342\n",
      "percentage = 50 %\n"
     ]
    }
   ],
   "source": [
    "print(\"native_vap =\", round(nvap.x) )\n",
    "print(\"total_vap =\", round(vap.x) )\n",
    "print(\"percentage =\", round( 100 * nvap.x / vap.x ),\"%\" )"
   ]
  },
  {
   "cell_type": "code",
   "execution_count": 18,
   "metadata": {},
   "outputs": [],
   "source": [
    "# Let's draw it on a map\n",
    "import geopandas as gpd"
   ]
  },
  {
   "cell_type": "code",
   "execution_count": 19,
   "metadata": {},
   "outputs": [],
   "source": [
    "filename = state + '_' + level + '.shp'\n",
    "df = gpd.read_file( filepath + filename )"
   ]
  },
  {
   "cell_type": "code",
   "execution_count": 20,
   "metadata": {},
   "outputs": [
    {
     "data": {
      "image/png": "[encoded data removed]",
      "text/plain": [
       "<Figure size 432x288 with 1 Axes>"
      ]
     },
     "metadata": {
      "needs_background": "light"
     },
     "output_type": "display_data"
    }
   ],
   "source": [
    "assignment = [ -1 for i in G.nodes ]\n",
    "labeling = { i : 1 if x[i].x > 0.5 else 0 for i in G.nodes }\n",
    "\n",
    "# Now add the assignments to a column of the dataframe and map it\n",
    "node_with_this_geoid = { G.nodes[i]['GEOID20'] : i for i in G.nodes }\n",
    "\n",
    "# pick a position u in the dataframe\n",
    "for u in range(G.number_of_nodes()):\n",
    "    \n",
    "    geoid = df['GEOID20'][u]\n",
    "    \n",
    "    # what node in G has this geoid?\n",
    "    i = node_with_this_geoid[geoid]\n",
    "    \n",
    "    # position u in the dataframe should be given\n",
    "    # the same district # that county i has in 'labeling'\n",
    "    assignment[u] = labeling[i]\n",
    "    \n",
    "# now add the assignments to a column of our dataframe and then map it\n",
    "df['assignment'] = assignment\n",
    "\n",
    "my_fig = df.plot(column='assignment').get_figure()"
   ]
  },
  {
   "cell_type": "code",
   "execution_count": 21,
   "metadata": {},
   "outputs": [],
   "source": [
    "county_geoids = { G.nodes[i]['GEOID20'][0:5] for i in G.nodes }\n",
    "county_pop = { g : 0 for g in county_geoids }"
   ]
  },
  {
   "cell_type": "code",
   "execution_count": 22,
   "metadata": {},
   "outputs": [],
   "source": [
    "for i in labeling.keys():\n",
    "    if labeling[i]==1:\n",
    "        g = G.nodes[i]['GEOID20'][0:5]\n",
    "        p = G.nodes[i]['TOTPOP']\n",
    "        county_pop[g] += p"
   ]
  },
  {
   "cell_type": "code",
   "execution_count": 23,
   "metadata": {},
   "outputs": [
    {
     "name": "stdout",
     "output_type": "stream",
     "text": [
      "geoid pop total_pop county\n",
      "46121 9319 9319 Todd 100.0\n",
      "46102 13672 13672 Oglala Lakota 100.0\n",
      "46095 1918 1918 Mellette 100.0\n",
      "46137 2413 2413 Ziebach 100.0\n",
      "46103 3957 109222 Pennington 3.622896486055923\n",
      "46093 7772 29852 Meade 26.03510652552593\n",
      "46031 3902 3902 Corson 100.0\n",
      "46041 5239 5239 Dewey 100.0\n",
      "46117 2980 2980 Stanley 100.0\n",
      "46123 5624 5624 Tripp 100.0\n",
      "46055 1872 1872 Haakon 100.0\n",
      "46085 3718 3718 Lyman 100.0\n",
      "46075 917 917 Jones 100.0\n",
      "46071 2806 2806 Jackson 100.0\n",
      "46007 3381 3381 Bennett 100.0\n",
      "46105 2835 2835 Perkins 100.0\n",
      "16\n"
     ]
    }
   ],
   "source": [
    "count = 0\n",
    "print(\"geoid pop total_pop county\")\n",
    "for g in county_pop.keys():\n",
    "    if county_pop[g]>0:\n",
    "        i = gtn[g]\n",
    "        print(g,county_pop[g],GC.nodes[i]['TOTPOP'],GC.nodes[i]['NAME20'],100*county_pop[g]/GC.nodes[i]['TOTPOP'])\n",
    "        count += 1\n",
    "print(count)"
   ]
  },
  {
   "cell_type": "code",
   "execution_count": 24,
   "metadata": {},
   "outputs": [
    {
     "data": {
      "text/plain": [
       "True"
      ]
     },
     "execution_count": 24,
     "metadata": {},
     "output_type": "execute_result"
    }
   ],
   "source": [
    "nx.is_connected(G.subgraph(district))"
   ]
  },
  {
   "cell_type": "code",
   "execution_count": null,
   "metadata": {},
   "outputs": [],
   "source": []
  }
 ],
 "metadata": {
  "kernelspec": {
   "display_name": "Python 3",
   "language": "python",
   "name": "python3"
  },
  "language_info": {
   "codemirror_mode": {
    "name": "ipython",
    "version": 3
   },
   "file_extension": ".py",
   "mimetype": "text/x-python",
   "name": "python",
   "nbconvert_exporter": "python",
   "pygments_lexer": "ipython3",
   "version": "3.7.10"
  }
 },
 "nbformat": 4,
 "nbformat_minor": 4
}
