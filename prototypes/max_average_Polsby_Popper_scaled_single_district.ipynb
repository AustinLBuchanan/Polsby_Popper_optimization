{
 "cells": [
  {
   "cell_type": "code",
   "execution_count": 1,
   "metadata": {},
   "outputs": [],
   "source": [
    "state = 'WV'    # 2-letter state code\n",
    "k = 2           # number of districts\n",
    "level = 'tract'"
   ]
  },
  {
   "cell_type": "code",
   "execution_count": 2,
   "metadata": {},
   "outputs": [],
   "source": [
    "filepath = 'C:\\\\districting-data-2020\\\\'\n",
    "filename = state + '_' + level + '.json'\n",
    "\n",
    "# GerryChain has a built-in function for reading graphs of this type:\n",
    "from gerrychain import Graph\n",
    "G = Graph.from_json( filepath + filename )\n",
    "\n",
    "for node in G.nodes:\n",
    "    G.nodes[node]['TOTPOP'] = G.nodes[node]['P0010001']"
   ]
  },
  {
   "cell_type": "code",
   "execution_count": 3,
   "metadata": {},
   "outputs": [
    {
     "name": "stdout",
     "output_type": "stream",
     "text": [
      "Using L = 892374 and U = 901342 and k = 2\n"
     ]
    }
   ],
   "source": [
    "# Let's impose a 1% population deviation (+/-0.5%)\n",
    "deviation = 0.01\n",
    "total_population = sum( G.nodes[node]['TOTPOP'] for node in G.nodes )\n",
    "\n",
    "import math\n",
    "L = math.ceil( ( 1 - deviation / 2 ) * total_population / k )\n",
    "U = math.floor( ( 1 + deviation / 2 ) * total_population / k )\n",
    "print(\"Using L =\",L,\"and U =\",U,\"and k =\",k)"
   ]
  },
  {
   "cell_type": "code",
   "execution_count": 4,
   "metadata": {},
   "outputs": [
    {
     "name": "stdout",
     "output_type": "stream",
     "text": [
      "Set parameter Username\n",
      "Academic license - for non-commercial use only - expires 2023-01-01\n"
     ]
    }
   ],
   "source": [
    "import gurobipy as gp\n",
    "from gurobipy import GRB\n",
    "\n",
    "# create model \n",
    "m = gp.Model()\n",
    "\n",
    "import networkx as nx\n",
    "DG = nx.DiGraph(G)   # directed version of G\n",
    "\n",
    "# create variables\n",
    "# x[i] equals one when county i is selected\n",
    "x = m.addVars(G.nodes, vtype=GRB.BINARY)  \n",
    "\n",
    "# y[u,v] equals one when arc (u,v) is cut because u but not v is selected\n",
    "y = m.addVars(DG.edges, vtype=GRB.BINARY) \n",
    "\n",
    "# z is (scaled) inverse Polsby-Popper score for district \n",
    "z = m.addVar()\n",
    "\n",
    "# inv_z = 1 / z\n",
    "inv_z = m.addVar() \n",
    "\n",
    "# A = area of district \n",
    "A = m.addVar()\n",
    "\n",
    "# P = perimeter of district \n",
    "P = m.addVar()"
   ]
  },
  {
   "cell_type": "code",
   "execution_count": 5,
   "metadata": {},
   "outputs": [],
   "source": [
    "# objective is to maximize average of Polsby-Popper scores\n",
    "coef = 2 * math.pi \n",
    "m.setObjective( coef * inv_z, GRB.MAXIMIZE )"
   ]
  },
  {
   "cell_type": "code",
   "execution_count": 6,
   "metadata": {},
   "outputs": [],
   "source": [
    "# add SOCP constraints relating inverse Polsby-Popper score z to area and perimeter\n",
    "m.addConstr( P * P <= 2 * A * z )\n",
    "\n",
    "# impose inv_z = 1 / z through non-convex constraint:\n",
    "m.addConstr( z * inv_z == 1 )\n",
    "\n",
    "# add constraint on area A \n",
    "m.addConstr( A == gp.quicksum( G.nodes[i]['area'] * x[i] for i in G.nodes ) )\n",
    "\n",
    "# add constraint on perimeter P\n",
    "m.addConstr( P == gp.quicksum( DG.edges[u,v]['shared_perim'] * y[u,v] for u,v in DG.edges )\n",
    "             + gp.quicksum( G.nodes[i]['boundary_perim'] * x[i] for i in G.nodes if G.nodes[i]['boundary_node'] ) )\n",
    "    \n",
    "m.update()"
   ]
  },
  {
   "cell_type": "code",
   "execution_count": 7,
   "metadata": {},
   "outputs": [],
   "source": [
    "# add constraints saying that district has population at least L and at most U\n",
    "m.addConstr( gp.quicksum( G.nodes[i]['TOTPOP'] * x[i] for i in G.nodes) >= L )\n",
    "m.addConstr( gp.quicksum( G.nodes[i]['TOTPOP'] * x[i] for i in G.nodes) <= U )\n",
    "\n",
    "# add constraints saying that arc (u,v) is cut if u but not v is selected\n",
    "m.addConstrs( x[u] - x[v] <= y[u,v] for u,v in DG.edges )\n",
    "\n",
    "m.update()"
   ]
  },
  {
   "cell_type": "code",
   "execution_count": 8,
   "metadata": {},
   "outputs": [],
   "source": [
    "# # Now, let's add contiguity constraints and re-solve the model.\n",
    "# # We will use the contiguity constraints of Hojny et al. (MPC, 2021)\n",
    "# #   https://link.springer.com/article/10.1007/s12532-020-00186-3\n",
    "\n",
    "# # Add root variables: r[i,j] equals 1 if node i is the \"root\" of district j\n",
    "# r = m.addVars( G.nodes, k, vtype=GRB.BINARY)\n",
    "\n",
    "# # To solve the MIP faster, fix a district root:\n",
    "# r[0,0].LB = 1\n",
    "\n",
    "# # Add flow variables: f[u,v] = amount of flow sent across arc uv \n",
    "# #  Flows are sent across arcs of the directed version of G which we call DG\n",
    "\n",
    "# f = m.addVars( DG.edges )"
   ]
  },
  {
   "cell_type": "code",
   "execution_count": 9,
   "metadata": {},
   "outputs": [],
   "source": [
    "# # The big-M proposed by Hojny et al.\n",
    "# M = G.number_of_nodes() - k + 1\n",
    "\n",
    "# # Each district j should have one root\n",
    "# m.addConstrs( gp.quicksum( r[i,j] for i in G.nodes ) == 1 for j in range(k) )\n",
    "\n",
    "# # If node i is not assigned to district j, then it cannot be its root\n",
    "# m.addConstrs( r[i,j] <= x[i,j] for i in G.nodes for j in range(k) ) \n",
    "\n",
    "# # if not a root, consume some flow.\n",
    "# # if a root, only send out (so much) flow.\n",
    "# m.addConstrs( gp.quicksum( f[j,i] - f[i,j] for j in G.neighbors(i) ) \n",
    "#              >= 1 - M * gp.quicksum( r[i,j] for j in range(k) ) for i in G.nodes )\n",
    "\n",
    "# # do not send flow across cut edges\n",
    "# m.addConstrs( f[u,v] + f[v,u] <= M * ( 1 - gp.quicksum( y[u,v,j] for j in range(k) ) ) for u,v in DG.edges )\n",
    "\n",
    "# m.update()"
   ]
  },
  {
   "cell_type": "code",
   "execution_count": 10,
   "metadata": {},
   "outputs": [
    {
     "name": "stdout",
     "output_type": "stream",
     "text": [
      "Set parameter NonConvex to value 2\n",
      "Set parameter TimeLimit to value 600\n",
      "Gurobi Optimizer version 9.5.0 build v9.5.0rc5 (win64)\n",
      "Thread count: 4 physical cores, 8 logical processors, using up to 8 threads\n",
      "Optimize a model with 2864 rows, 3410 columns and 13229 nonzeros\n",
      "Model fingerprint: 0x550cc34b\n",
      "Model has 2 quadratic constraints\n",
      "Variable types: 4 continuous, 3406 integer (3406 binary)\n",
      "Coefficient statistics:\n",
      "  Matrix range     [3e-05, 8e+03]\n",
      "  QMatrix range    [1e+00, 2e+00]\n",
      "  Objective range  [6e+00, 6e+00]\n",
      "  Bounds range     [1e+00, 1e+00]\n",
      "  RHS range        [9e+05, 9e+05]\n",
      "  QRHS range       [1e+00, 1e+00]\n",
      "Presolve time: 0.02s\n",
      "Presolved: 2868 rows, 3411 columns, 13232 nonzeros\n",
      "Presolved model has 1 quadratic constraint(s)\n",
      "Presolved model has 1 bilinear constraint(s)\n",
      "Variable types: 5 continuous, 3406 integer (3406 binary)\n",
      "\n",
      "Root relaxation: unbounded, 0 iterations, 0.00 seconds (0.00 work units)\n",
      "\n",
      "    Nodes    |    Current Node    |     Objective Bounds      |     Work\n",
      " Expl Unexpl |  Obj  Depth IntInf | Incumbent    BestBd   Gap | It/Node Time\n",
      "\n",
      "H    0     0                       0.0193543          -      -     -    0s\n",
      "     0     2  postponed    0         0.01935          -      -     -    0s\n",
      "H   64    52                       0.0514719          -      -   147    0s\n",
      "*   72    52              25       0.1029437          -      -   146    0s\n",
      "H  111    14                       0.2058874          -      -   116    0s\n",
      "H  141    18                       0.2846804    0.82355   189%   205    2s\n",
      "H  141    18                       0.4117748    0.82355   100%   205    2s\n",
      "H  142    18                       0.4273132    0.82355  92.7%   204    2s\n",
      "H  173    26                       0.4433058    0.82355  85.8%   193    2s\n",
      "*  182    35              29       0.4652570    0.82355  77.0%   189    2s\n",
      "H  201    49                       0.4671531    0.82355  76.3%   189    2s\n",
      "H  206    49                       0.4786004    0.82355  72.1%   187    2s\n",
      "H  240    51                       0.4875607    0.82355  68.9%   171    2s\n",
      "\n",
      "Cutting planes:\n",
      "  Cover: 1\n",
      "\n",
      "Explored 570 nodes (78637 simplex iterations) in 3.92 seconds (4.85 work units)\n",
      "Thread count was 8 (of 8 available processors)\n",
      "\n",
      "Solution count 10: 0.487561 0.4786 0.467153 ... 0.102944\n",
      "No other solutions better than 0.487561\n",
      "\n",
      "Optimal solution found (tolerance 1.00e-04)\n",
      "Best objective 4.875607277345e-01, best bound 4.875607277345e-01, gap 0.0000%\n"
     ]
    }
   ],
   "source": [
    "# solve IP model\n",
    "m.Params.NonConvex = 2\n",
    "m.Params.TimeLimit = 600\n",
    "m.optimize()"
   ]
  },
  {
   "cell_type": "code",
   "execution_count": 11,
   "metadata": {},
   "outputs": [
    {
     "name": "stdout",
     "output_type": "stream",
     "text": [
      "The objective value is 0.48756072773448045\n",
      "District has population 896474 and contains counties ['101.01', '9635', '9636', '9651', '9650', '9506', '9507', '9501', '9504', '320', '312', '319', '307', '304', '311', '314', '316', '301', '313', '318', '303', '310', '315', '302', '317', '9676', '9673', '9675', '9672', '9674', '202.02', '9631', '9628', '9630', '9603', '211', '9652', '205', '215', '207', '202', '204', '217', '209', '206', '218', '214', '213', '308.02', '306.03', '321.03', '306.04', '305.02', '305.01', '308.01', '321.04', '210', '207', '211', '206', '204', '208', '203', '209', '205', '1', '9627', '9626', '108.04', '130.01', '108.03', '106.02', '106.01', '206.04', '9622', '9621', '9677.01', '9800', '208', '9666', '9670', '9668', '9671', '9667', '9669', '201.01', '201.02', '9549.01', '9678', '17', '9647', '9649', '9646', '9648', '9637.02', '9637.01', '102', '138', '18', '101', '112', '9620', '9618', '9619', '103', '111', '11', '108.02', '115', '21', '19.02', '107.02', '113.01', '109', '20', '5', '2', '19.01', '3', '114.02', '105', '121', '110', '107.01', '128', '6', '7', '8', '104', '114.01', '118', '129', '134', '135', '9629.01', '9629.02', '9', '12', '13', '15', '9653', '9654', '108', '115', '107', '113', '119', '109.02', '114', '110', '104', '112', '109.01', '117', '111', '9623', '9625', '202.01', '203', '201', '204', '206.01', '202', '205', '102.02', '9504.01', '9501.02', '9504.02', '9507.01', '9501.01', '9602.01', '9602.02', '9679', '9680', '9681', '118.06', '118.05', '118.03', '118.04', '120', '9624', '110', '9502.01', '9502.02', '9643', '9642', '9639', '9644', '9645', '9640', '9579', '9580', '9581', '9702', '9703', '9664', '9663', '9660', '9665', '9661', '9659', '9662', '103', '109.01', '8.02', '106.01', '101.02', '9.03', '5', '9502', '9505', '9503', '9506', '3', '9.01', '109.02', '108', '101.01', '1', '4', '102', '106.02', '105.02', '9.02', '9503', '9505', '7.01', '7.02', '8.01', '104', '105.01', '301.01', '9601.02', '9601.01', '9638.01', '9641.03', '9638.02', '9641.01', '9641.02', '301.02', '9633', '9632', '9634', '206.08', '206.09', '206.07', '206.06', '113.02', '9704', '307', '305', '49', '308', '304', '9656', '9657', '9655', '9658', '201', '203', '107.06', '107.05', '107.04', '107.03', '212.01', '210.01', '210.02', '216.01', '216.02', '212.02', '116.02', '116.01', '106.01', '106.02', '101.04', '102.04', '102.03', '101.03', '306.01', '9701.02', '9701.01']\n"
     ]
    }
   ],
   "source": [
    "print(\"The objective value is\",m.objval)\n",
    "\n",
    "# retrieve the districts and their populations\n",
    "district = [i for i in G.nodes if x[i].x > 0.5] \n",
    "district_counties = [ G.nodes[i][\"NAME20\"] for i in district ] \n",
    "district_population = sum(G.nodes[i][\"TOTPOP\"] for i in district )\n",
    "\n",
    "# print district info\n",
    "print(\"District has population\",district_population,\"and contains counties\",district_counties)"
   ]
  },
  {
   "cell_type": "code",
   "execution_count": 12,
   "metadata": {},
   "outputs": [],
   "source": [
    "# Let's draw it on a map\n",
    "import geopandas as gpd"
   ]
  },
  {
   "cell_type": "code",
   "execution_count": 13,
   "metadata": {},
   "outputs": [],
   "source": [
    "# Read county shapefile from \"<state>_county.shp\"\n",
    "filename = state + '_' + level + '.shp'\n",
    "\n",
    "# Read geopandas dataframe from file\n",
    "df = gpd.read_file( filepath + filename )"
   ]
  },
  {
   "cell_type": "code",
   "execution_count": 14,
   "metadata": {},
   "outputs": [
    {
     "data": {
      "image/png": "[encoded data removed]",
      "text/plain": [
       "<Figure size 432x288 with 1 Axes>"
      ]
     },
     "metadata": {
      "needs_background": "light"
     },
     "output_type": "display_data"
    }
   ],
   "source": [
    "# Which district is each county assigned to?\n",
    "assignment = [ -1 for i in G.nodes ]\n",
    "\n",
    "labeling = { i : 1 if x[i].x > 0.5 else 0 for i in G.nodes }\n",
    "\n",
    "# Now add the assignments to a column of the dataframe and map it\n",
    "node_with_this_geoid = { G.nodes[i]['GEOID20'] : i for i in G.nodes }\n",
    "\n",
    "# pick a position u in the dataframe\n",
    "for u in range(G.number_of_nodes()):\n",
    "    \n",
    "    geoid = df['GEOID20'][u]\n",
    "    \n",
    "    # what node in G has this geoid?\n",
    "    i = node_with_this_geoid[geoid]\n",
    "    \n",
    "    # position u in the dataframe should be given\n",
    "    # the same district # that county i has in 'labeling'\n",
    "    assignment[u] = labeling[i]\n",
    "    \n",
    "# now add the assignments to a column of our dataframe and then map it\n",
    "df['assignment'] = assignment\n",
    "\n",
    "my_fig = df.plot(column='assignment').get_figure()"
   ]
  },
  {
   "cell_type": "code",
   "execution_count": null,
   "metadata": {},
   "outputs": [],
   "source": []
  }
 ],
 "metadata": {
  "kernelspec": {
   "display_name": "Python 3",
   "language": "python",
   "name": "python3"
  },
  "language_info": {
   "codemirror_mode": {
    "name": "ipython",
    "version": 3
   },
   "file_extension": ".py",
   "mimetype": "text/x-python",
   "name": "python",
   "nbconvert_exporter": "python",
   "pygments_lexer": "ipython3",
   "version": "3.7.10"
  }
 },
 "nbformat": 4,
 "nbformat_minor": 4
}
