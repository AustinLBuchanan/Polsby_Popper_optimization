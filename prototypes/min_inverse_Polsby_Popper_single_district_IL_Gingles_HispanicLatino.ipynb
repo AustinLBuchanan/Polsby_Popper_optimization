{
 "cells": [
  {
   "cell_type": "code",
   "execution_count": 1,
   "metadata": {},
   "outputs": [],
   "source": [
    "# https://en.m.wikipedia.org/wiki/List_of_majority-minority_United_States_congressional_districts\n",
    "state = 'IL'    # 2-letter state code\n",
    "level = 'tract' # county, tract, block"
   ]
  },
  {
   "cell_type": "code",
   "execution_count": 2,
   "metadata": {},
   "outputs": [],
   "source": [
    "filepath = 'C:\\\\districting-data-2020\\\\'\n",
    "filename = state + '_' + level + '.json'\n",
    "\n",
    "# GerryChain has a built-in function for reading graphs of this type:\n",
    "from gerrychain import Graph\n",
    "G = Graph.from_json( filepath + filename )\n",
    "\n",
    "for node in G.nodes:\n",
    "    # See http://starr.tamu.edu/files/2013/01/Census-Codes.pdf\n",
    "    G.nodes[node]['TOTPOP'] = G.nodes[node]['P0010001']\n",
    "    \n",
    "    # Hispanic or Latino:\n",
    "    G.nodes[node]['HISPOP'] = G.nodes[node]['P0020002']"
   ]
  },
  {
   "cell_type": "code",
   "execution_count": 3,
   "metadata": {},
   "outputs": [
    {
     "name": "stdout",
     "output_type": "stream",
     "text": [
      "Using L = 749909 and U = 757445 and k = 17\n"
     ]
    }
   ],
   "source": [
    "# Let's impose a 1% population deviation (+/-0.5%)\n",
    "deviation = 0.01\n",
    "total_population = sum( G.nodes[node]['TOTPOP'] for node in G.nodes )\n",
    "\n",
    "import math\n",
    "from number_of_districts import congressional_districts_2020\n",
    "k = congressional_districts_2020[state]\n",
    "L = math.ceil( ( 1 - deviation / 2 ) * total_population / k )\n",
    "U = math.floor( ( 1 + deviation / 2 ) * total_population / k )\n",
    "print(\"Using L =\",L,\"and U =\",U,\"and k =\",k)"
   ]
  },
  {
   "cell_type": "code",
   "execution_count": 4,
   "metadata": {},
   "outputs": [
    {
     "name": "stdout",
     "output_type": "stream",
     "text": [
      "Set parameter Username\n",
      "Academic license - for non-commercial use only - expires 2023-01-01\n"
     ]
    }
   ],
   "source": [
    "import gurobipy as gp\n",
    "from gurobipy import GRB\n",
    "\n",
    "# create model \n",
    "m = gp.Model()\n",
    "\n",
    "import networkx as nx\n",
    "DG = nx.DiGraph(G)   # directed version of G\n",
    "\n",
    "# create variables\n",
    "# x[i] equals one when county i is selected\n",
    "x = m.addVars(G.nodes, vtype=GRB.BINARY)  \n",
    "\n",
    "# y[u,v] equals one when arc (u,v) is cut because u but not v is selected\n",
    "y = m.addVars(DG.edges, vtype=GRB.BINARY) \n",
    "\n",
    "# z is inverse Polsby-Popper score for district \n",
    "z = m.addVar()\n",
    "\n",
    "# A = area of district \n",
    "A = m.addVar()\n",
    "\n",
    "# P = perimeter of district \n",
    "P = m.addVar()"
   ]
  },
  {
   "cell_type": "code",
   "execution_count": 5,
   "metadata": {},
   "outputs": [],
   "source": [
    "# objective is to minimize inverse Polsby-Popper score\n",
    "m.setObjective( z, GRB.MINIMIZE )"
   ]
  },
  {
   "cell_type": "code",
   "execution_count": 6,
   "metadata": {},
   "outputs": [
    {
     "name": "stdout",
     "output_type": "stream",
     "text": [
      "Warning for adding constraints: zero or small (< 1e-13) coefficients, ignored\n"
     ]
    }
   ],
   "source": [
    "# add SOCP constraints relating inverse Polsby-Popper score z to area and perimeter\n",
    "m.addConstr( P * P <= 4 * math.pi * A * z )\n",
    "\n",
    "# add constraint on area A \n",
    "m.addConstr( A == gp.quicksum( G.nodes[i]['area'] * x[i] for i in G.nodes ) )\n",
    "\n",
    "# add constraint on perimeter P\n",
    "m.addConstr( P == gp.quicksum( DG.edges[u,v]['shared_perim'] * y[u,v] for u,v in DG.edges )\n",
    "             + gp.quicksum( G.nodes[i]['boundary_perim'] * x[i] for i in G.nodes if G.nodes[i]['boundary_node'] ) )\n",
    "    \n",
    "m.update()"
   ]
  },
  {
   "cell_type": "code",
   "execution_count": 7,
   "metadata": {},
   "outputs": [],
   "source": [
    "# add constraints saying that district has population at least L and at most U\n",
    "m.addConstr( gp.quicksum( G.nodes[i]['TOTPOP'] * x[i] for i in G.nodes) >= L )\n",
    "m.addConstr( gp.quicksum( G.nodes[i]['TOTPOP'] * x[i] for i in G.nodes) <= U )\n",
    "\n",
    "# add constraints saying that arc (u,v) is cut if u but not v is selected\n",
    "m.addConstrs( x[u] - x[v] <= y[u,v] for u,v in DG.edges )\n",
    "\n",
    "m.update()"
   ]
  },
  {
   "cell_type": "code",
   "execution_count": 8,
   "metadata": {},
   "outputs": [],
   "source": [
    "# # Now, let's add contiguity constraints and re-solve the model.\n",
    "# # We will use the contiguity constraints of Hojny et al. (MPC, 2021)\n",
    "# #   https://link.springer.com/article/10.1007/s12532-020-00186-3\n",
    "\n",
    "# # Add root variables: r[i,j] equals 1 if node i is the \"root\" of district j\n",
    "# r = m.addVars( G.nodes, k, vtype=GRB.BINARY)\n",
    "\n",
    "# # To solve the MIP faster, fix a district root:\n",
    "# r[0,0].LB = 1\n",
    "\n",
    "# # Add flow variables: f[u,v] = amount of flow sent across arc uv \n",
    "# #  Flows are sent across arcs of the directed version of G which we call DG\n",
    "\n",
    "# f = m.addVars( DG.edges )"
   ]
  },
  {
   "cell_type": "code",
   "execution_count": 9,
   "metadata": {},
   "outputs": [],
   "source": [
    "# # The big-M proposed by Hojny et al.\n",
    "# M = G.number_of_nodes() - k + 1\n",
    "\n",
    "# # Each district j should have one root\n",
    "# m.addConstrs( gp.quicksum( r[i,j] for i in G.nodes ) == 1 for j in range(k) )\n",
    "\n",
    "# # If node i is not assigned to district j, then it cannot be its root\n",
    "# m.addConstrs( r[i,j] <= x[i,j] for i in G.nodes for j in range(k) ) \n",
    "\n",
    "# # if not a root, consume some flow.\n",
    "# # if a root, only send out (so much) flow.\n",
    "# m.addConstrs( gp.quicksum( f[j,i] - f[i,j] for j in G.neighbors(i) ) \n",
    "#              >= 1 - M * gp.quicksum( r[i,j] for j in range(k) ) for i in G.nodes )\n",
    "\n",
    "# # do not send flow across cut edges\n",
    "# m.addConstrs( f[u,v] + f[v,u] <= M * ( 1 - gp.quicksum( y[u,v,j] for j in range(k) ) ) for u,v in DG.edges )\n",
    "\n",
    "# m.update()"
   ]
  },
  {
   "cell_type": "code",
   "execution_count": 10,
   "metadata": {},
   "outputs": [
    {
     "data": {
      "text/plain": [
       "<gurobi.Constr *Awaiting Model Update*>"
      ]
     },
     "execution_count": 10,
     "metadata": {},
     "output_type": "execute_result"
    }
   ],
   "source": [
    "# hispanic_or_latino_population >= 0.5 * total_population\n",
    "hispa_pop = m.addVar()\n",
    "total_pop = m.addVar()\n",
    "\n",
    "m.addConstr( hispa_pop == gp.quicksum( G.nodes[i]['HISPOP'] * x[i] for i in G.nodes ) )\n",
    "m.addConstr( total_pop == gp.quicksum( G.nodes[i]['TOTPOP'] * x[i] for i in G.nodes ) )\n",
    "\n",
    "m.addConstr( hispa_pop >= 0.5 * total_pop )"
   ]
  },
  {
   "cell_type": "code",
   "execution_count": 11,
   "metadata": {},
   "outputs": [
    {
     "name": "stdout",
     "output_type": "stream",
     "text": [
      "Set parameter TimeLimit to value 600\n",
      "Gurobi Optimizer version 9.5.0 build v9.5.0rc5 (win64)\n",
      "Thread count: 4 physical cores, 8 logical processors, using up to 8 threads\n",
      "Optimize a model with 17463 rows, 20726 columns and 86284 nonzeros\n",
      "Model fingerprint: 0xad4f1800\n",
      "Model has 1 quadratic constraint\n",
      "Variable types: 5 continuous, 20721 integer (20721 binary)\n",
      "Coefficient statistics:\n",
      "  Matrix range     [2e-06, 1e+04]\n",
      "  QMatrix range    [1e+00, 1e+01]\n",
      "  Objective range  [1e+00, 1e+00]\n",
      "  Bounds range     [1e+00, 1e+00]\n",
      "  RHS range        [7e+05, 8e+05]\n",
      "Presolve removed 2 rows and 0 columns\n",
      "Presolve time: 0.08s\n",
      "Presolved: 17461 rows, 20726 columns, 79762 nonzeros\n",
      "Presolved model has 1 quadratic constraint(s)\n",
      "Variable types: 3 continuous, 20723 integer (20721 binary)\n",
      "\n",
      "Root relaxation: objective 0.000000e+00, 997 iterations, 0.04 seconds (0.03 work units)\n",
      "\n",
      "    Nodes    |    Current Node    |     Objective Bounds      |     Work\n",
      " Expl Unexpl |  Obj  Depth IntInf | Incumbent    BestBd   Gap | It/Node Time\n",
      "\n",
      "     0     0    0.00000    0    9          -    0.00000      -     -    0s\n",
      "H    0     0                     104.8278378    0.00237   100%     -    4s\n",
      "H    0     0                     104.1421579    0.00237   100%     -    4s\n",
      "H    0     0                     103.5393652    0.00237   100%     -    4s\n",
      "     0     0    0.00237    0 1260  103.53937    0.00237   100%     -    4s\n",
      "H    0     0                      12.2647685    0.00237   100%     -    4s\n",
      "H    0     0                       9.1055698    0.00237   100%     -    5s\n",
      "     0     0    0.00351    0 1261    9.10557    0.00351   100%     -    5s\n",
      "     0     0    0.00577    0 1262    9.10557    0.00577   100%     -    6s\n",
      "     0     0    0.00577    0 1262    9.10557    0.00577   100%     -    6s\n",
      "     0     0    0.00577    0 1262    9.10557    0.00577   100%     -    7s\n",
      "H    0     0                       5.8766577    0.00577   100%     -    7s\n",
      "H    0     0                       4.6244430    0.00577   100%     -    7s\n",
      "H    0     0                       3.7194622    0.00616   100%     -    7s\n",
      "     0     2    0.00616    0 1262    3.71946    0.00616   100%     -    8s\n",
      "    19    24    0.06864    5 1270    3.71946    0.02965  99.2%   579   10s\n",
      "H   61    64                       3.7144625    0.02965  99.2%   488   14s\n",
      "    63    68    0.15048   13 2129    3.71446    0.02965  99.2%   497   15s\n",
      "   120   125    0.15455   26 2184    3.71446    0.02965  99.2%   420   20s\n",
      "H  125   131                       3.4312761    0.02965  99.1%   436   21s\n",
      "   161   168    0.18162   34 2426    3.43128    0.02965  99.1%   451   25s\n",
      "H  187   197                       2.9976870    0.02965  99.0%   440   28s\n",
      "H  203   208                       2.5722488    0.02965  98.8%   459   31s\n",
      "H  224   232                       2.5556811    0.02965  98.8%   489   34s\n",
      "   231   240    0.21672   46 2190    2.55568    0.02965  98.8%   498   36s\n",
      "H  259   270                       2.5556802    0.02965  98.8%   500   39s\n",
      "   269   285    0.22306   55 2693    2.55568    0.02965  98.8%   494   40s\n",
      "   310   322    0.23815   65 2527    2.55568    0.02965  98.8%   488   45s\n",
      "H  321   334                       2.4460550    0.02965  98.8%   488   47s\n",
      "H  330   334                       2.4412694    0.02965  98.8%   496   47s\n",
      "   344   356    0.24844   71 2559    2.44127    0.02965  98.8%   501   51s\n",
      "   373   382    0.63987   75 2271    2.44127    0.02965  98.8%   517   56s\n",
      "   406   430    0.26851   81 2448    2.44127    0.02965  98.8%   524   61s\n",
      "H  419   430                       2.3064877    0.02965  98.7%   522   61s\n",
      "   441   461    0.27862   88 1803    2.30649    0.02965  98.7%   547   66s\n",
      "H  467   476                       2.3033164    0.02965  98.7%   558   68s\n",
      "   475   489    0.29198   96 1833    2.30332    0.02965  98.7%   568   71s\n",
      "   511   533    0.30547  105  346    2.30332    0.02965  98.7%   575   76s\n",
      "H  521   458                       1.7418379    0.02965  98.3%   592   76s\n",
      "H  557   477                       1.6415717    0.02965  98.2%   607   82s\n",
      "H  572   441                       1.4357625    0.02965  97.9%   605   82s\n",
      "   586   460    0.33540  119 1822    1.43576    0.02965  97.9%   609   85s\n",
      "H  591   460                       1.4285658    0.02965  97.9%   608   85s\n",
      "   651   551    0.34832  134 1555    1.42857    0.02965  97.9%   606   94s\n",
      "   696   597    0.36234  146 1312    1.42857    0.02965  97.9%   593   99s\n",
      "   742   642    0.37181  154  614    1.42857    0.02965  97.9%   589  104s\n",
      "   787   691    0.38221  165 1751    1.42857    0.02965  97.9%   598  108s\n",
      "   844   748    0.38870  180 1407    1.42857    0.02965  97.9%   596  112s\n",
      "   901   816    0.39447  198  268    1.42857    0.02965  97.9%   589  115s\n",
      "  1049  1003    0.40283  262  115    1.42857    0.02965  97.9%   556  122s\n",
      "  1156  1130    0.40473  310  324    1.42857    0.02965  97.9%   525  126s\n",
      "  1283  1255    0.40490  368   58    1.42857    0.02965  97.9%   496  130s\n",
      "  1412  1265    0.47917  433  736    1.42857    0.02965  97.9%   473  136s\n",
      "  1446  1304    1.14276  445  290    1.42857    0.02965  97.9%   507  144s\n",
      "  1468  1327    1.13380  450  308    1.42857    0.02965  97.9%   518  148s\n",
      "  1493  1357    0.64865  461  547    1.42857    0.02965  97.9%   524  152s\n",
      "  1525  1386    0.76847  475  888    1.42857    0.02965  97.9%   528  156s\n",
      "  1562  1476    0.98796  491  477    1.42857    0.02965  97.9%   530  160s\n",
      "  1765  1686    1.26560  650    6    1.42857    0.02965  97.9%   497  168s\n",
      "  1877  1687    1.05368   53 1262    1.42857    0.02965  97.9%   479  173s\n",
      "  1879  1688    0.40330   19 1260    1.42857    0.02965  97.9%   478  176s\n",
      "  1903  1705    0.18780   13 1231    1.42857    0.02965  97.9%   484  180s\n",
      "  1933  1716    0.08626   17 1043    1.42857    0.05425  96.2%   488  185s\n",
      "  1952  1724    0.17131   19 2514    1.42857    0.07231  94.9%   497  190s\n",
      "  1971  1731    0.18591   21 2852    1.42857    0.07231  94.9%   506  197s\n",
      "  1979  1736    0.20453   22 3016    1.42857    0.07231  94.9%   517  202s\n",
      "  1987  1739    0.20955   23 3199    1.42857    0.07231  94.9%   523  208s\n",
      "  1991  1737    0.74185   23  970    1.42857    0.07231  94.9%   528  210s\n",
      "  2003  1737    0.21344   25 2963    1.42857    0.07231  94.9%   532  215s\n",
      "  2020  1741    0.21934   27 2989    1.42857    0.07231  94.9%   537  220s\n",
      "  2040  1741    0.22303   29 3275    1.42857    0.07231  94.9%   542  226s\n",
      "  2050  1740    0.22652   30 3284    1.42857    0.07231  94.9%   544  232s\n",
      "  2061  1745    0.22971   31 3458    1.42857    0.07231  94.9%   546  236s\n",
      "  2078  1748    0.23067   33 3447    1.42857    0.07231  94.9%   553  241s\n",
      "  2086  1749    0.23297   34 3284    1.42857    0.07231  94.9%   554  246s\n",
      "  2106  1757    0.23980   36 3374    1.42857    0.07231  94.9%   562  253s\n",
      "  2120  1759    0.24254   37 3475    1.42857    0.07231  94.9%   564  259s\n",
      "  2133  1760    0.24655   38 3482    1.42857    0.07231  94.9%   567  262s\n",
      "  2144  1762    0.24754   39 3475    1.42857    0.07231  94.9%   569  265s\n",
      "  2154  1765    0.24878   40 3407    1.42857    0.07231  94.9%   572  270s\n",
      "  2181  1773    0.83363   42 3386    1.42857    0.07231  94.9%   578  278s\n",
      "  2199  1774    0.25617   44 3301    1.42857    0.07231  94.9%   582  281s\n",
      "  2210  1782    0.26045   46 2462    1.42857    0.07231  94.9%   585  286s\n",
      "  2232  1780    0.26139   47 2444    1.42857    0.07231  94.9%   587  290s\n",
      "  2262  1792    0.26747   49 2989    1.42857    0.07231  94.9%   592  303s\n",
      "  2283  1796    0.27195   51 2963    1.42857    0.07231  94.9%   596  309s\n",
      "  2296  1800    0.28264   53  895    1.42857    0.07231  94.9%   602  314s\n",
      "  2313  1816    0.29281   54 3347    1.42857    0.07231  94.9%   605  319s\n",
      "  2338  1821    0.29974   58 2330    1.42857    0.07231  94.9%   606  325s\n",
      "  2360  1823    1.02501   59 3132    1.42857    0.07231  94.9%   609  330s\n",
      "  2381  1828    0.30884   60 3276    1.42857    0.07231  94.9%   611  336s\n",
      "  2395  1839    0.31125   61 2289    1.42857    0.07231  94.9%   615  344s\n",
      "  2415  1853    0.32114   64 2331    1.42857    0.07231  94.9%   620  350s\n",
      "H 2416  1767                       1.4285633    0.07231  94.9%   619  350s\n",
      "  2437  1778    0.33011   67 3061    1.42856    0.07231  94.9%   625  356s\n",
      "  2473  1791    0.75182   72 2030    1.42856    0.07231  94.9%   625  364s\n"
     ]
    },
    {
     "name": "stdout",
     "output_type": "stream",
     "text": [
      "  2504  1799    0.35161   78 2504    1.42856    0.07231  94.9%   629  372s\n",
      "  2522  1828    0.37377   82 2697    1.42856    0.07231  94.9%   634  379s\n",
      "  2567  1848    0.42430   92 2816    1.42856    0.07231  94.9%   635  386s\n",
      "  2616  1854    0.44182   98 2915    1.42856    0.07231  94.9%   634  393s\n",
      "  2648  1870    0.46146  104 2274    1.42856    0.07231  94.9%   637  401s\n",
      "  2697  1889    0.78913  111 1881    1.42856    0.07231  94.9%   638  411s\n",
      "  2750  1906    0.91443  120 2046    1.42856    0.07231  94.9%   641  420s\n",
      "  2807  1925    0.67883  130 2070    1.42856    0.07231  94.9%   641  429s\n",
      "  2871  1937    0.79579  143 1666    1.42856    0.07231  94.9%   640  440s\n",
      "  2922  1964    1.00118  158 1717    1.42856    0.07231  94.9%   641  449s\n",
      "  2976  1996    0.93227  173 1884    1.42856    0.07231  94.9%   645  459s\n",
      "  3048  2036    0.94274  189  250    1.42856    0.07231  94.9%   643  469s\n",
      "  3138  2048    0.96565  205  313    1.42856    0.07231  94.9%   642  480s\n",
      "  3233  2062    0.99984  222  381    1.42856    0.07231  94.9%   636  491s\n",
      "H 3285  1964                       1.4285630    0.07231  94.9%   639  491s\n",
      "  3291  1993    1.02755  237  299    1.42856    0.07231  94.9%   641  501s\n",
      "  3359  1991    1.08405  256  613    1.42856    0.07231  94.9%   642  512s\n",
      "  3424  1963    1.37031  269  306    1.42856    0.16668  88.3%   643  524s\n",
      "  3470  1966    0.17317   17 2938    1.42856    0.16668  88.3%   649  536s\n",
      "  3518  2016    0.21479   21 2306    1.42856    0.16668  88.3%   653  549s\n",
      "  3588  2011    0.26436   30 3414    1.42856    0.16668  88.3%   652  562s\n",
      "  3633  2032    0.32373   37 3192    1.42856    0.16668  88.3%   659  575s\n",
      "  3679  2045    0.40317   47 3237    1.42856    0.16668  88.3%   663  588s\n",
      "  3738  2073    0.51044   63 2950    1.42856    0.16668  88.3%   666  600s\n",
      "\n",
      "Cutting planes:\n",
      "  Gomory: 2\n",
      "  Zero half: 1\n",
      "\n",
      "Explored 3792 nodes (2541556 simplex iterations) in 600.04 seconds (905.79 work units)\n",
      "Thread count was 8 (of 8 available processors)\n",
      "\n",
      "Solution count 10: 1.42856 1.43576 1.64157 ... 2.57225\n",
      "\n",
      "Time limit reached\n",
      "Best objective 1.428563046207e+00, best bound 1.666764463143e-01, gap 88.3326%\n"
     ]
    }
   ],
   "source": [
    "# solve IP model\n",
    "m.Params.TimeLimit = 600\n",
    "m.optimize()"
   ]
  },
  {
   "cell_type": "code",
   "execution_count": 12,
   "metadata": {},
   "outputs": [
    {
     "name": "stdout",
     "output_type": "stream",
     "text": [
      "The inverse PP score is 1.4285630462065846\n",
      "The PP score is 0.7000041073828742\n"
     ]
    }
   ],
   "source": [
    "print(\"The inverse PP score is\",m.objval)\n",
    "print(\"The PP score is\",1.0/m.objval)\n",
    "\n",
    "# retrieve the districts and their populations\n",
    "district = [i for i in G.nodes if x[i].x > 0.5] \n",
    "#district_counties = [ G.nodes[i][\"NAME20\"] for i in district ] \n",
    "district_population = sum(G.nodes[i][\"TOTPOP\"] for i in district )\n",
    "\n",
    "# print district info\n",
    "#print(\"District has population\",district_population,\"and contains counties\",district_counties)"
   ]
  },
  {
   "cell_type": "code",
   "execution_count": 13,
   "metadata": {},
   "outputs": [
    {
     "name": "stdout",
     "output_type": "stream",
     "text": [
      "hispa_pop = 428354\n",
      "total_pop = 755691\n",
      "percentage = 57 %\n"
     ]
    }
   ],
   "source": [
    "print(\"hispa_pop =\", round(hispa_pop.x) )\n",
    "print(\"total_pop =\", round(total_pop.x) )\n",
    "print(\"percentage =\", round( 100 * hispa_pop.x / total_pop.x ),\"%\" )"
   ]
  },
  {
   "cell_type": "code",
   "execution_count": 14,
   "metadata": {},
   "outputs": [],
   "source": [
    "# Let's draw it on a map\n",
    "import geopandas as gpd"
   ]
  },
  {
   "cell_type": "code",
   "execution_count": 15,
   "metadata": {},
   "outputs": [],
   "source": [
    "# Read county shapefile from \"<state>_county.shp\"\n",
    "filename = state + '_' + level + '.shp'\n",
    "\n",
    "# Read geopandas dataframe from file\n",
    "df = gpd.read_file( filepath + filename )"
   ]
  },
  {
   "cell_type": "code",
   "execution_count": 16,
   "metadata": {},
   "outputs": [
    {
     "data": {
      "image/png": "[encoded data removed]",
      "text/plain": [
       "<Figure size 432x288 with 1 Axes>"
      ]
     },
     "metadata": {
      "needs_background": "light"
     },
     "output_type": "display_data"
    }
   ],
   "source": [
    "# Which district is each county assigned to?\n",
    "assignment = [ -1 for i in G.nodes ]\n",
    "\n",
    "labeling = { i : 1 if x[i].x > 0.5 else 0 for i in G.nodes }\n",
    "\n",
    "# Now add the assignments to a column of the dataframe and map it\n",
    "node_with_this_geoid = { G.nodes[i]['GEOID20'] : i for i in G.nodes }\n",
    "\n",
    "# pick a position u in the dataframe\n",
    "for u in range(G.number_of_nodes()):\n",
    "    \n",
    "    geoid = df['GEOID20'][u]\n",
    "    \n",
    "    # what node in G has this geoid?\n",
    "    i = node_with_this_geoid[geoid]\n",
    "    \n",
    "    # position u in the dataframe should be given\n",
    "    # the same district # that county i has in 'labeling'\n",
    "    assignment[u] = labeling[i]\n",
    "    \n",
    "# now add the assignments to a column of our dataframe and then map it\n",
    "df['assignment'] = assignment\n",
    "\n",
    "my_fig = df.plot(column='assignment').get_figure()"
   ]
  },
  {
   "cell_type": "code",
   "execution_count": null,
   "metadata": {},
   "outputs": [],
   "source": []
  }
 ],
 "metadata": {
  "kernelspec": {
   "display_name": "Python 3",
   "language": "python",
   "name": "python3"
  },
  "language_info": {
   "codemirror_mode": {
    "name": "ipython",
    "version": 3
   },
   "file_extension": ".py",
   "mimetype": "text/x-python",
   "name": "python",
   "nbconvert_exporter": "python",
   "pygments_lexer": "ipython3",
   "version": "3.7.10"
  }
 },
 "nbformat": 4,
 "nbformat_minor": 4
}
