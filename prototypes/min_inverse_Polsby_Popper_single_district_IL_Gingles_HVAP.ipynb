{
 "cells": [
  {
   "cell_type": "code",
   "execution_count": 1,
   "metadata": {},
   "outputs": [],
   "source": [
    "# https://en.m.wikipedia.org/wiki/List_of_majority-minority_United_States_congressional_districts\n",
    "state = 'IL'    # 2-letter state code\n",
    "level = 'tract' # county, tract, block"
   ]
  },
  {
   "cell_type": "code",
   "execution_count": 2,
   "metadata": {},
   "outputs": [],
   "source": [
    "filepath = 'C:\\\\districting-data-2020\\\\'\n",
    "filename = state + '_' + level + '.json'\n",
    "\n",
    "# GerryChain has a built-in function for reading graphs of this type:\n",
    "from gerrychain import Graph\n",
    "G = Graph.from_json( filepath + filename )\n",
    "\n",
    "for node in G.nodes:\n",
    "    # See http://starr.tamu.edu/files/2013/01/Census-Codes.pdf\n",
    "    G.nodes[node]['TOTPOP'] = G.nodes[node]['P0010001']\n",
    "    \n",
    "    # voting age population (VAP)\n",
    "    G.nodes[node]['VAP'] = G.nodes[node]['P0040001']\n",
    "    \n",
    "    # Hispanic or Latino VAP\n",
    "    G.nodes[node]['HVAP'] = G.nodes[node]['P0040002']"
   ]
  },
  {
   "cell_type": "code",
   "execution_count": 3,
   "metadata": {},
   "outputs": [
    {
     "name": "stdout",
     "output_type": "stream",
     "text": [
      "Using L = 749909 and U = 757445 and k = 17\n"
     ]
    }
   ],
   "source": [
    "# Let's impose a 1% population deviation (+/-0.5%)\n",
    "deviation = 0.01\n",
    "total_population = sum( G.nodes[node]['TOTPOP'] for node in G.nodes )\n",
    "\n",
    "import math\n",
    "from number_of_districts import congressional_districts_2020\n",
    "k = congressional_districts_2020[state]\n",
    "\n",
    "L = math.ceil( ( 1 - deviation / 2 ) * total_population / k )\n",
    "U = math.floor( ( 1 + deviation / 2 ) * total_population / k )\n",
    "print(\"Using L =\",L,\"and U =\",U,\"and k =\",k)"
   ]
  },
  {
   "cell_type": "code",
   "execution_count": 4,
   "metadata": {},
   "outputs": [
    {
     "name": "stdout",
     "output_type": "stream",
     "text": [
      "Set parameter Username\n",
      "Academic license - for non-commercial use only - expires 2023-12-27\n"
     ]
    }
   ],
   "source": [
    "import gurobipy as gp\n",
    "from gurobipy import GRB\n",
    "\n",
    "# create model \n",
    "m = gp.Model()\n",
    "\n",
    "import networkx as nx\n",
    "DG = nx.DiGraph(G)   # directed version of G\n",
    "\n",
    "# create variables\n",
    "# x[i] equals one when tract i is selected\n",
    "x = m.addVars(G.nodes, vtype=GRB.BINARY)  "
   ]
  },
  {
   "cell_type": "code",
   "execution_count": 5,
   "metadata": {},
   "outputs": [],
   "source": [
    "# get county graph too\n",
    "filename = state + '_county.json'\n",
    "GC = Graph.from_json( filepath + filename )\n",
    "\n",
    "for node in GC.nodes:\n",
    "    # See http://starr.tamu.edu/files/2013/01/Census-Codes.pdf\n",
    "    GC.nodes[node]['TOTPOP'] = GC.nodes[node]['P0010001']\n",
    "\n",
    "gtn = { GC.nodes[i]['GEOID20'] : i for i in GC.nodes }"
   ]
  },
  {
   "cell_type": "code",
   "execution_count": 6,
   "metadata": {},
   "outputs": [],
   "source": [
    "# y[u,v] equals one when arc (u,v) is cut because u but not v is selected\n",
    "y = m.addVars(DG.edges, vtype=GRB.BINARY) \n",
    "\n",
    "# z is inverse Polsby-Popper score for district \n",
    "z = m.addVar()\n",
    "\n",
    "# A = area of district \n",
    "A = m.addVar()\n",
    "\n",
    "# P = perimeter of district \n",
    "P = m.addVar()"
   ]
  },
  {
   "cell_type": "code",
   "execution_count": 7,
   "metadata": {},
   "outputs": [],
   "source": [
    "# objective is to minimize inverse Polsby-Popper score\n",
    "m.setObjective( z, GRB.MINIMIZE )"
   ]
  },
  {
   "cell_type": "code",
   "execution_count": 8,
   "metadata": {},
   "outputs": [
    {
     "name": "stdout",
     "output_type": "stream",
     "text": [
      "Warning for adding constraints: zero or small (< 1e-13) coefficients, ignored\n"
     ]
    }
   ],
   "source": [
    "# add SOCP constraints relating inverse Polsby-Popper score z to area and perimeter\n",
    "m.addConstr( P * P <= 4 * math.pi * A * z )\n",
    "\n",
    "# add constraint on area A \n",
    "m.addConstr( A == gp.quicksum( G.nodes[i]['area'] * x[i] for i in G.nodes ) )\n",
    "\n",
    "# add constraint on perimeter P\n",
    "m.addConstr( P == gp.quicksum( DG.edges[u,v]['shared_perim'] * y[u,v] for u,v in DG.edges )\n",
    "             + gp.quicksum( G.nodes[i]['boundary_perim'] * x[i] for i in G.nodes if G.nodes[i]['boundary_node'] ) )\n",
    "    \n",
    "m.update()"
   ]
  },
  {
   "cell_type": "code",
   "execution_count": 9,
   "metadata": {},
   "outputs": [],
   "source": [
    "# add constraints saying that district has population at least L and at most U\n",
    "m.addConstr( gp.quicksum( G.nodes[i]['TOTPOP'] * x[i] for i in G.nodes) >= L )\n",
    "m.addConstr( gp.quicksum( G.nodes[i]['TOTPOP'] * x[i] for i in G.nodes) <= U )\n",
    "\n",
    "# add constraints saying that arc (u,v) is cut if u but not v is selected\n",
    "m.addConstrs( x[u] - x[v] <= y[u,v] for u,v in DG.edges )\n",
    "\n",
    "m.update()"
   ]
  },
  {
   "cell_type": "code",
   "execution_count": 10,
   "metadata": {},
   "outputs": [
    {
     "data": {
      "text/plain": [
       "<gurobi.Constr *Awaiting Model Update*>"
      ]
     },
     "execution_count": 10,
     "metadata": {},
     "output_type": "execute_result"
    }
   ],
   "source": [
    "hvap = m.addVar()\n",
    "vap = m.addVar()\n",
    "\n",
    "m.addConstr( hvap == gp.quicksum( G.nodes[i]['HVAP'] * x[i] for i in G.nodes ) )\n",
    "m.addConstr( vap == gp.quicksum( G.nodes[i]['VAP'] * x[i] for i in G.nodes ) )\n",
    "\n",
    "m.addConstr( hvap >= 0.5 * vap )"
   ]
  },
  {
   "cell_type": "code",
   "execution_count": 11,
   "metadata": {},
   "outputs": [
    {
     "name": "stdout",
     "output_type": "stream",
     "text": [
      "Set parameter TimeLimit to value 3600\n",
      "Gurobi Optimizer version 9.5.0 build v9.5.0rc5 (win64)\n",
      "Thread count: 4 physical cores, 8 logical processors, using up to 8 threads\n",
      "Optimize a model with 17463 rows, 20726 columns and 86284 nonzeros\n",
      "Model fingerprint: 0xb3da2854\n",
      "Model has 1 quadratic constraint\n",
      "Variable types: 5 continuous, 20721 integer (20721 binary)\n",
      "Coefficient statistics:\n",
      "  Matrix range     [2e-06, 1e+04]\n",
      "  QMatrix range    [1e+00, 1e+01]\n",
      "  Objective range  [1e+00, 1e+00]\n",
      "  Bounds range     [1e+00, 1e+00]\n",
      "  RHS range        [7e+05, 8e+05]\n",
      "Presolve time: 0.19s\n",
      "Presolved: 17463 rows, 20726 columns, 86284 nonzeros\n",
      "Presolved model has 1 quadratic constraint(s)\n",
      "Variable types: 3 continuous, 20723 integer (20721 binary)\n",
      "\n",
      "Root relaxation: objective 0.000000e+00, 1749 iterations, 0.10 seconds (0.03 work units)\n",
      "\n",
      "    Nodes    |    Current Node    |     Objective Bounds      |     Work\n",
      " Expl Unexpl |  Obj  Depth IntInf | Incumbent    BestBd   Gap | It/Node Time\n",
      "\n",
      "H    0     0                     134.6948403    0.00000   100%     -    0s\n",
      "*    0     0               0     134.6948403    0.05222   100%     -   14s\n",
      "H    0     0                      11.8236890    0.05222   100%     -   15s\n",
      "H    0     0                      11.3807176    0.10364  99.1%     -   31s\n",
      "H    0     0                      10.3163338    0.10364  99.0%     -   31s\n",
      "     0     0    0.10364    0 2335   10.31633    0.10364  99.0%     -   31s\n",
      "H    0     0                       9.5676389    0.10364  98.9%     -   31s\n",
      "H    0     0                       8.6913175    0.10364  98.8%     -   31s\n",
      "     0     0    0.10424    0 2336    8.69132    0.10424  98.8%     -   38s\n",
      "H    0     0                       8.6913175    0.10424  98.8%     -   38s\n",
      "     0     0    0.14946    0 2336    8.69132    0.14946  98.3%     -   46s\n",
      "     0     2    0.14946    0 2336    8.69132    0.14946  98.3%     -   49s\n",
      "     1     4    0.14946    1 2335    8.69132    0.14946  98.3%   117   53s\n",
      "     3     8    0.15009    2 2225    8.69132    0.14946  98.3%  1505   58s\n",
      "    11    16    0.15215    4 2228    8.69132    0.15096  98.3%  1258   60s\n",
      "    23    30    0.15534    6 2192    8.69132    0.15096  98.3%  1322   65s\n",
      "H   31    36                       5.7669170    0.15096  97.4%  1056   67s\n",
      "H   34    36                       2.8482021    0.15096  94.7%  1038   67s\n",
      "    42    48    0.17304    9 2126    2.84820    0.15096  94.7%   910   71s\n",
      "    51    56    0.18253   10 2200    2.84820    0.15096  94.7%   922   77s\n",
      "    55    61    0.18136   11 2868    2.84820    0.15096  94.7%  1002   83s\n",
      "    60    69    0.19470   12 2975    2.84820    0.15096  94.7%  1042   88s\n",
      "    68    74    0.20112   13 3014    2.84820    0.15096  94.7%   995   91s\n",
      "    73    80    0.89659   13 1100    2.84820    0.15096  94.7%  1032  100s\n",
      "    87    96    0.21036   16 3039    2.84820    0.15096  94.7%   984  105s\n",
      "   101   114    0.67746   17 1979    2.84820    0.15096  94.7%  1029  121s\n",
      "   113   122    0.21798   18 3001    2.84820    0.15096  94.7%   985  126s\n",
      "   121   129    0.91603   19 1183    2.84820    0.15096  94.7%  1041  136s\n",
      "H  132   136                       2.7739409    0.15096  94.6%  1006  139s\n",
      "   135   143    0.23402   24 2982    2.77394    0.15096  94.6%  1014  141s\n",
      "   149   158    0.23892   28 2666    2.77394    0.15096  94.6%   986  159s\n",
      "   157   164    0.24492   29 2653    2.77394    0.15096  94.6%  1049  171s\n",
      "H  163   173                       2.7734577    0.15096  94.6%  1073  182s\n",
      "H  168   173                       2.7430698    0.15096  94.5%  1059  182s\n",
      "   172   185    0.26250   31 2450    2.74307    0.15096  94.5%  1074  190s\n",
      "   184   195    0.27412   34 2433    2.74307    0.15096  94.5%  1076  198s\n",
      "   194   214    0.28104   37 2325    2.74307    0.15096  94.5%  1057  205s\n",
      "H  198   214                       2.7430698    0.15096  94.5%  1038  205s\n",
      "H  203   214                       2.7345736    0.15096  94.5%  1036  205s\n",
      "   213   233    0.28899   41  612    2.73457    0.15096  94.5%  1014  213s\n",
      "   232   246    0.31324   42  630    2.73457    0.15096  94.5%   976  223s\n",
      "H  235   246                       2.7214565    0.15096  94.5%   967  223s\n",
      "   245   269    0.34099   45  553    2.72146    0.15096  94.5%   992  228s\n",
      "H  263   269                       2.7214565    0.15096  94.5%   955  228s\n",
      "   268   294    0.32638   50  459    2.72146    0.15096  94.5%   948  237s\n",
      "   293   312    0.32709   54 1683    2.72146    0.15096  94.5%   913  247s\n",
      "   311   337    0.32777   57 1684    2.72146    0.15096  94.5%   911  253s\n",
      "H  314   244                       1.4819201    0.15096  89.8%   903  253s\n",
      "H  318   244                       1.4756324    0.15096  89.8%   904  253s\n",
      "   336   252    0.32809   60 1681    1.47563    0.15096  89.8%   878  262s\n",
      "   371   290    0.33096   71 1281    1.47563    0.15096  89.8%   833  271s\n",
      "   411   334    0.33333   84  433    1.47563    0.15096  89.8%   780  277s\n",
      "H  455   361                       1.4658809    0.15096  89.7%   737  285s\n",
      "   482   399    0.33826  102  917    1.46588    0.15096  89.7%   728  295s\n",
      "H  494   393                       1.3836382    0.15096  89.1%   717  295s\n",
      "   522   400    0.35897  115 1202    1.38364    0.15096  89.1%   717  307s\n",
      "   529   406    0.36939  115 1224    1.38364    0.15096  89.1%   736  315s\n",
      "   535   418    0.36175  116 1193    1.38364    0.15096  89.1%   754  326s\n",
      "   551   427    0.36882  119 1431    1.38364    0.15096  89.1%   760  339s\n",
      "   568   436    0.38067  125 1231    1.38364    0.15096  89.1%   781  352s\n",
      "   581   452    0.40042  129 1695    1.38364    0.15096  89.1%   794  363s\n",
      "   597   463    0.41608  136  729    1.38364    0.15096  89.1%   794  376s\n",
      "   608   477    0.42639  138  604    1.38364    0.15096  89.1%   802  396s\n",
      "   622   489    0.45236  142  333    1.38364    0.15096  89.1%   814  416s\n",
      "   634   506    0.46132  143 1177    1.38364    0.15096  89.1%   820  432s\n",
      "   651   518    0.47809  147  562    1.38364    0.15096  89.1%   816  453s\n",
      "   665   526    0.49097  149 2122    1.38364    0.15096  89.1%   824  470s\n",
      "   677   543    0.50878  153 1053    1.38364    0.15096  89.1%   834  485s\n",
      "   694   552    0.54781  162 1232    1.38364    0.15096  89.1%   836  499s\n",
      "   705   569    0.56245  165  865    1.38364    0.15096  89.1%   849  518s\n",
      "   724   583    0.63249  170  460    1.38364    0.15096  89.1%   856  537s\n",
      "   740   597    1.36193  174  363    1.38364    0.15096  89.1%   861  576s\n",
      "   758   612    0.80332  183  446    1.38364    0.15096  89.1%   876  595s\n",
      "   777   641    0.87783  185 1329    1.38364    0.15096  89.1%   876  627s\n",
      "   810   677    1.06813  195  944    1.38364    0.15096  89.1%   870  647s\n",
      "   852   720    1.11483  216  151    1.38364    0.15096  89.1%   848  672s\n",
      "   897   768    1.15172  239  217    1.38364    0.15096  89.1%   824  693s\n",
      "   947   819    1.18622  266  207    1.38364    0.15096  89.1%   802  714s\n",
      "  1004   889    1.20395  295  439    1.38364    0.15096  89.1%   778  739s\n",
      "  1080   955    1.20792  344  354    1.38364    0.15096  89.1%   746  761s\n",
      "  1156  1026    1.21151  399  699    1.38364    0.15096  89.1%   717  782s\n",
      "H 1223  1026                       1.3836382    0.15096  89.1%   685  782s\n",
      "  1232  1027    0.22825   24 2336    1.38364    0.15096  89.1%   690  844s\n",
      "  1234  1028    0.46158  145 2326    1.38364    0.15096  89.1%   689  877s\n",
      "  1235  1029    1.21087  386 2360    1.38364    0.15324  88.9%   689  891s\n",
      "  1236  1030    0.54699   59 2361    1.38364    0.15413  88.9%   688  901s\n",
      "  1237  1030    1.35569    4 2361    1.38364    0.15501  88.8%   688  911s\n",
      "  1238  1031    0.33401   88 2362    1.38364    0.15542  88.8%   687  920s\n",
      "  1239  1032    1.20811  343 2362    1.38364    0.15575  88.7%   687  935s\n",
      "  1240  1032    1.27806   93 2362    1.38364    0.15592  88.7%   686  942s\n",
      "  1241  1033    0.64496   49 2362    1.38364    0.15595  88.7%   685  953s\n",
      "  1242  1034    1.19594  283 2362    1.38364    0.15595  88.7%   685  959s\n",
      "  1243  1034    1.21413  445 2362    1.38364    0.15597  88.7%   684  961s\n",
      "  1244  1038    0.15710   10 2338    1.38364    0.15666  88.7%   703  970s\n",
      "  1246  1041    0.16757   11 2749    1.38364    0.16362  88.2%   705  981s\n",
      "  1254  1045    0.76728   12 1308    1.38364    0.17384  87.4%   710  994s\n",
      "  1258  1047    0.17793   13 2710    1.38364    0.17467  87.4%   716  997s\n"
     ]
    },
    {
     "name": "stdout",
     "output_type": "stream",
     "text": [
      "  1262  1048    0.67053   13 1500    1.38364    0.17795  87.1%   717 1007s\n",
      "  1266  1048    0.18072   14 2484    1.38364    0.17811  87.1%   720 1012s\n",
      "  1271  1048    0.92740   14 1272    1.38364    0.18072  86.9%   726 1024s\n",
      "  1275  1049    0.18525   15 2642    1.38364    0.18280  86.8%   729 1030s\n",
      "  1279  1052    0.81735   15 1166    1.38364    0.18526  86.6%   735 1037s\n",
      "  1290  1055    0.77051   16 2011    1.38364    0.18801  86.4%   742 1054s\n",
      "  1296  1055    0.19117   17 2617    1.38364    0.19117  86.2%   743 1070s\n",
      "  1302  1052    0.19489   18 2865    1.38364    0.19118  86.2%   754 1077s\n",
      "  1309  1053    0.20610   18 2247    1.38364    0.19489  85.9%   759 1087s\n",
      "  1313  1058    0.20311   19 2918    1.38364    0.20311  85.3%   763 1097s\n",
      "  1319  1060    0.21676   20 2819    1.38364    0.20574  85.1%   766 1104s\n",
      "  1325  1064    0.72939   20 1875    1.38364    0.20612  85.1%   773 1122s\n",
      "  1331  1067    0.22248   21 2770    1.38364    0.20612  85.1%   774 1140s\n",
      "  1336  1068    0.23067   22 2752    1.38364    0.20612  85.1%   781 1153s\n",
      "  1343  1071    0.24246   23 3056    1.38364    0.20612  85.1%   787 1168s\n",
      "  1350  1075    0.24764   24 2708    1.38364    0.20612  85.1%   792 1188s\n",
      "  1360  1074    0.25769   25 2817    1.38364    0.20612  85.1%   801 1197s\n",
      "  1365  1077    0.78773   25 2643    1.38364    0.20612  85.1%   806 1207s\n",
      "  1371  1083    0.26473   26 2950    1.38364    0.20612  85.1%   809 1220s\n",
      "  1381  1086    0.29011   27 3099    1.38364    0.20612  85.1%   815 1236s\n",
      "  1390  1088    0.29026   28 2922    1.38364    0.20612  85.1%   818 1249s\n",
      "  1401  1093    0.29928   30 2942    1.38364    0.20612  85.1%   822 1273s\n",
      "  1411  1093    0.29748   32 3086    1.38364    0.20612  85.1%   832 1296s\n",
      "  1419  1101    0.29922   33 3091    1.38364    0.20612  85.1%   843 1312s\n",
      "  1431  1103    0.30628   35 3342    1.38364    0.20612  85.1%   845 1340s\n",
      "  1441  1105    0.30815   37 2852    1.38364    0.20612  85.1%   852 1375s\n",
      "  1451  1110    1.11469   38 2603    1.38364    0.20612  85.1%   871 1391s\n",
      "  1461  1113    0.31430   39 2971    1.38364    0.20612  85.1%   873 1414s\n",
      "  1473  1106    0.31823   40 2971    1.38364    0.20612  85.1%   880 1442s\n",
      "  1482  1104    0.32037   41 3253    1.38364    0.20612  85.1%   888 1459s\n",
      "  1491  1108    0.32039   42 2962    1.38364    0.20612  85.1%   902 1489s\n",
      "  1504  1107    0.32329   45 2748    1.38364    0.20612  85.1%   912 1515s\n",
      "  1514  1106    0.32795   47 2213    1.38364    0.20612  85.1%   923 1541s\n",
      "  1524  1108    0.32932   48 2393    1.38364    0.20612  85.1%   936 1567s\n",
      "  1535  1107    0.33904   50 2884    1.38364    0.20612  85.1%   945 1583s\n",
      "  1544  1111    1.05581   51 2051    1.38364    0.20612  85.1%   957 1605s\n",
      "  1555  1114    0.34508   53 2907    1.38364    0.20612  85.1%   966 1632s\n",
      "  1568  1115    1.15686   56 2918    1.38364    0.20612  85.1%   973 1654s\n",
      "  1583  1115    0.60048   59 2731    1.38364    0.20612  85.1%   981 1679s\n",
      "  1596  1117    0.37103   62 2601    1.38364    0.20612  85.1%   987 1700s\n",
      "  1610  1120    0.60551   64 2001    1.38364    0.20612  85.1%   997 1723s\n",
      "  1630  1123    0.39898   69 2447    1.38364    0.20612  85.1%  1002 1750s\n",
      "  1654  1128    0.41294   74 2707    1.38364    0.20612  85.1%  1003 1774s\n",
      "  1681  1127    0.76656   80 1829    1.38364    0.20612  85.1%  1003 1801s\n",
      "  1711  1129    0.44709   86 2989    1.38364    0.20612  85.1%  1004 1834s\n",
      "  1735  1146    0.48048   91 2946    1.38364    0.20612  85.1%  1010 1868s\n",
      "  1772  1162    0.64038   97  775    1.38364    0.20612  85.1%  1007 1906s\n",
      "  1812  1178    0.66281  105 2658    1.38364    0.20612  85.1%  1006 1938s\n",
      "  1851  1215    0.67837  113 2487    1.38364    0.20612  85.1%  1004 1985s\n",
      "  1911  1254    0.71466  123 2102    1.38364    0.20612  85.1%   996 2016s\n",
      "  1982  1289    0.73176  131 2928    1.38364    0.20612  85.1%   975 2047s\n",
      "  2049  1364    0.75469  138 2600    1.38364    0.20612  85.1%   960 2082s\n",
      "  2154  1413    0.83836  150 2190    1.38364    0.20612  85.1%   931 2114s\n",
      "  2256  1407    0.89981  160 2030    1.38364    0.20612  85.1%   908 2150s\n",
      "  2312  1406    1.02939  171 2177    1.38364    0.20612  85.1%   905 2192s\n",
      "  2350  1411    1.06908  180 2312    1.38364    0.20612  85.1%   908 2227s\n",
      "  2394  1433     cutoff  190         1.38364    0.20612  85.1%   909 2262s\n",
      "  2456  1441    1.19228  202 1605    1.38364    0.21377  84.6%   906 2303s\n",
      "  2511  1450    0.25295   23 2034    1.38364    0.21473  84.5%   903 2339s\n",
      "  2550  1474    0.34207   34 3054    1.38364    0.21473  84.5%   908 2390s\n",
      "  2597  1487    0.38724   42 1895    1.38364    0.21473  84.5%   909 2436s\n",
      "  2640  1515    0.49858   53 3110    1.38364    0.21473  84.5%   917 2497s\n",
      "  2704  1538    0.62858   82 3264    1.38364    0.21473  84.5%   919 2569s\n",
      "  2771  1557    0.85804  113 1472    1.38364    0.21473  84.5%   924 2626s\n",
      "  2834  1607    0.99359  152 2151    1.38364    0.21473  84.5%   926 2683s\n",
      "  2909  1619    1.12154  193 2185    1.38364    0.32153  76.8%   921 2742s\n",
      "  2980  1605    1.18002   29 2578    1.38364    0.32576  76.5%   924 2811s\n",
      "  3028  1592     cutoff   35         1.38364    0.34277  75.2%   935 2893s\n",
      "  3085  1567    1.26322   37  702    1.38364    0.34346  75.2%   944 2993s\n",
      "  3137  1555     cutoff   39         1.38364    0.36311  73.8%   959 3078s\n",
      "  3182  1527     cutoff   91         1.38364    0.37172  73.1%   973 3165s\n",
      "  3221  1575    0.87205   83 2541    1.38364    0.37172  73.1%   987 3247s\n",
      "  3316  1565     cutoff  113         1.38364    0.38715  72.0%   981 3336s\n",
      "  3400  1600    0.84196   42 2818    1.38364    0.38715  72.0%   983 3428s\n",
      "  3511  1682    1.06340   65 2563    1.38364    0.43494  68.6%   976 3510s\n",
      "  3656  1692    0.90574  118 2297    1.38364    0.44381  67.9%   962 3574s\n",
      "  3776  1706    0.76397   49 3022    1.38364    0.44446  67.9%   958 3600s\n",
      "\n",
      "Cutting planes:\n",
      "  Gomory: 3\n",
      "\n",
      "Explored 3832 nodes (3678878 simplex iterations) in 3600.32 seconds (1525.52 work units)\n",
      "Thread count was 8 (of 8 available processors)\n",
      "\n",
      "Solution count 10: 1.38364 1.46588 1.47563 ... 2.8482\n",
      "\n",
      "Time limit reached\n",
      "Best objective 1.383638177467e+00, best bound 4.444587596635e-01, gap 67.8775%\n"
     ]
    }
   ],
   "source": [
    "# solve IP model\n",
    "m.Params.TimeLimit = 3600\n",
    "m.optimize()"
   ]
  },
  {
   "cell_type": "code",
   "execution_count": 12,
   "metadata": {},
   "outputs": [
    {
     "name": "stdout",
     "output_type": "stream",
     "text": [
      "The inverse PP score is 1.3836381774671185\n",
      "The PP score is 0.7227322982881228\n"
     ]
    }
   ],
   "source": [
    "print(\"The inverse PP score is\",m.objval)\n",
    "print(\"The PP score is\",1.0/m.objval)\n",
    "\n",
    "# retrieve the district and population\n",
    "district = [i for i in G.nodes if x[i].x > 0.5] \n",
    "district_population = sum( G.nodes[i][\"TOTPOP\"] for i in district )"
   ]
  },
  {
   "cell_type": "code",
   "execution_count": 13,
   "metadata": {},
   "outputs": [
    {
     "name": "stdout",
     "output_type": "stream",
     "text": [
      "hispanic_vap = 295865\n",
      "total_vap = 569877\n",
      "percentage = 52 %\n"
     ]
    }
   ],
   "source": [
    "print(\"hispanic_vap =\", round(hvap.x) )\n",
    "print(\"total_vap =\", round(vap.x) )\n",
    "print(\"percentage =\", round( 100 * hvap.x / vap.x ),\"%\" )"
   ]
  },
  {
   "cell_type": "code",
   "execution_count": 14,
   "metadata": {},
   "outputs": [],
   "source": [
    "# Let's draw it on a map\n",
    "import geopandas as gpd"
   ]
  },
  {
   "cell_type": "code",
   "execution_count": 15,
   "metadata": {},
   "outputs": [],
   "source": [
    "filename = state + '_' + level + '.shp'\n",
    "df = gpd.read_file( filepath + filename )"
   ]
  },
  {
   "cell_type": "code",
   "execution_count": 16,
   "metadata": {},
   "outputs": [
    {
     "data": {
      "image/png": "[encoded data removed]",
      "text/plain": [
       "<Figure size 432x288 with 1 Axes>"
      ]
     },
     "metadata": {
      "needs_background": "light"
     },
     "output_type": "display_data"
    }
   ],
   "source": [
    "assignment = [ -1 for i in G.nodes ]\n",
    "labeling = { i : 1 if x[i].x > 0.5 else 0 for i in G.nodes }\n",
    "\n",
    "# Now add the assignments to a column of the dataframe and map it\n",
    "node_with_this_geoid = { G.nodes[i]['GEOID20'] : i for i in G.nodes }\n",
    "\n",
    "# pick a position u in the dataframe\n",
    "for u in range(G.number_of_nodes()):\n",
    "    \n",
    "    geoid = df['GEOID20'][u]\n",
    "    \n",
    "    # what node in G has this geoid?\n",
    "    i = node_with_this_geoid[geoid]\n",
    "    \n",
    "    # position u in the dataframe should be given\n",
    "    # the same district # that county i has in 'labeling'\n",
    "    assignment[u] = labeling[i]\n",
    "    \n",
    "# now add the assignments to a column of our dataframe and then map it\n",
    "df['assignment'] = assignment\n",
    "\n",
    "my_fig = df.plot(column='assignment').get_figure()"
   ]
  },
  {
   "cell_type": "code",
   "execution_count": 17,
   "metadata": {},
   "outputs": [],
   "source": [
    "county_geoids = { G.nodes[i]['GEOID20'][0:5] for i in G.nodes }\n",
    "county_pop = { g : 0 for g in county_geoids }"
   ]
  },
  {
   "cell_type": "code",
   "execution_count": 18,
   "metadata": {},
   "outputs": [],
   "source": [
    "for i in labeling.keys():\n",
    "    if labeling[i]==1:\n",
    "        g = G.nodes[i]['GEOID20'][0:5]\n",
    "        p = G.nodes[i]['TOTPOP']\n",
    "        county_pop[g] += p"
   ]
  },
  {
   "cell_type": "code",
   "execution_count": 19,
   "metadata": {},
   "outputs": [
    {
     "name": "stdout",
     "output_type": "stream",
     "text": [
      "geoid pop total_pop county\n",
      "17031 751591 5275541 Cook 14.246709484392216\n",
      "1\n"
     ]
    }
   ],
   "source": [
    "count = 0\n",
    "print(\"geoid pop total_pop county\")\n",
    "for g in county_pop.keys():\n",
    "    if county_pop[g]>0:\n",
    "        i = gtn[g]\n",
    "        print(g,county_pop[g],GC.nodes[i]['TOTPOP'],GC.nodes[i]['NAME20'],100*county_pop[g]/GC.nodes[i]['TOTPOP'])\n",
    "        count += 1\n",
    "print(count)"
   ]
  },
  {
   "cell_type": "code",
   "execution_count": 20,
   "metadata": {},
   "outputs": [
    {
     "data": {
      "text/plain": [
       "True"
      ]
     },
     "execution_count": 20,
     "metadata": {},
     "output_type": "execute_result"
    }
   ],
   "source": [
    "nx.is_connected(G.subgraph(district))"
   ]
  },
  {
   "cell_type": "code",
   "execution_count": null,
   "metadata": {},
   "outputs": [],
   "source": []
  }
 ],
 "metadata": {
  "kernelspec": {
   "display_name": "Python 3",
   "language": "python",
   "name": "python3"
  },
  "language_info": {
   "codemirror_mode": {
    "name": "ipython",
    "version": 3
   },
   "file_extension": ".py",
   "mimetype": "text/x-python",
   "name": "python",
   "nbconvert_exporter": "python",
   "pygments_lexer": "ipython3",
   "version": "3.7.10"
  }
 },
 "nbformat": 4,
 "nbformat_minor": 4
}
