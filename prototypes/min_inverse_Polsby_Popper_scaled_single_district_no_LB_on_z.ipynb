{
 "cells": [
  {
   "cell_type": "code",
   "execution_count": 1,
   "metadata": {},
   "outputs": [],
   "source": [
    "state = 'OK'    # 2-letter state code\n",
    "k = 5           # number of districts\n",
    "level = 'tract'"
   ]
  },
  {
   "cell_type": "code",
   "execution_count": 2,
   "metadata": {},
   "outputs": [],
   "source": [
    "filepath = 'C:\\\\districting-data-2020\\\\'\n",
    "filename = state + '_' + level + '.json'\n",
    "\n",
    "# GerryChain has a built-in function for reading graphs of this type:\n",
    "from gerrychain import Graph\n",
    "G = Graph.from_json( filepath + filename )\n",
    "\n",
    "for node in G.nodes:\n",
    "    G.nodes[node]['TOTPOP'] = G.nodes[node]['P0010001']"
   ]
  },
  {
   "cell_type": "code",
   "execution_count": 3,
   "metadata": {},
   "outputs": [
    {
     "name": "stdout",
     "output_type": "stream",
     "text": [
      "Using L = 787912 and U = 795829 and k = 5\n"
     ]
    }
   ],
   "source": [
    "# Let's impose a 1% population deviation (+/-0.5%)\n",
    "deviation = 0.01\n",
    "total_population = sum( G.nodes[node]['TOTPOP'] for node in G.nodes )\n",
    "\n",
    "import math\n",
    "L = math.ceil( ( 1 - deviation / 2 ) * total_population / k )\n",
    "U = math.floor( ( 1 + deviation / 2 ) * total_population / k )\n",
    "print(\"Using L =\",L,\"and U =\",U,\"and k =\",k)"
   ]
  },
  {
   "cell_type": "code",
   "execution_count": 4,
   "metadata": {},
   "outputs": [
    {
     "name": "stdout",
     "output_type": "stream",
     "text": [
      "Set parameter Username\n",
      "Academic license - for non-commercial use only - expires 2023-01-01\n"
     ]
    }
   ],
   "source": [
    "import gurobipy as gp\n",
    "from gurobipy import GRB\n",
    "\n",
    "# create model \n",
    "m = gp.Model()\n",
    "\n",
    "import networkx as nx\n",
    "DG = nx.DiGraph(G)   # directed version of G\n",
    "\n",
    "# create variables\n",
    "# x[i] equals one when county i is selected\n",
    "x = m.addVars(G.nodes, vtype=GRB.BINARY)  \n",
    "\n",
    "# y[u,v] equals one when arc (u,v) is cut because u but not v is selected\n",
    "y = m.addVars(DG.edges, vtype=GRB.BINARY) \n",
    "\n",
    "# z is (scaled) inverse Polsby-Popper score for district \n",
    "z = m.addVar()\n",
    "\n",
    "# inv_z = 1 / z\n",
    "#inv_z = m.addVar() \n",
    "\n",
    "# A = area of district \n",
    "A = m.addVar()\n",
    "\n",
    "# P = perimeter of district \n",
    "P = m.addVar()"
   ]
  },
  {
   "cell_type": "code",
   "execution_count": 5,
   "metadata": {},
   "outputs": [],
   "source": [
    "# objective is to minimize inverse Polsby-Popper score\n",
    "coef = 1.0 / ( 2.0 * math.pi )\n",
    "#z.lb = 2.0 * math.pi\n",
    "m.setObjective( coef * z, GRB.MINIMIZE )"
   ]
  },
  {
   "cell_type": "code",
   "execution_count": 6,
   "metadata": {},
   "outputs": [],
   "source": [
    "# add SOCP constraints relating inverse Polsby-Popper score z to area and perimeter\n",
    "m.addConstr( P * P <= 2 * A * z )\n",
    "\n",
    "# impose inv_z = 1 / z through non-convex constraint:\n",
    "#m.addConstr( z * inv_z == 1 )\n",
    "\n",
    "# add constraint on area A \n",
    "m.addConstr( A == gp.quicksum( G.nodes[i]['area'] * x[i] for i in G.nodes ) )\n",
    "\n",
    "# add constraint on perimeter P\n",
    "m.addConstr( P == gp.quicksum( DG.edges[u,v]['shared_perim'] * y[u,v] for u,v in DG.edges )\n",
    "             + gp.quicksum( G.nodes[i]['boundary_perim'] * x[i] for i in G.nodes if G.nodes[i]['boundary_node'] ) )\n",
    "    \n",
    "m.update()"
   ]
  },
  {
   "cell_type": "code",
   "execution_count": 7,
   "metadata": {},
   "outputs": [],
   "source": [
    "# add constraints saying that district has population at least L and at most U\n",
    "m.addConstr( gp.quicksum( G.nodes[i]['TOTPOP'] * x[i] for i in G.nodes) >= L )\n",
    "m.addConstr( gp.quicksum( G.nodes[i]['TOTPOP'] * x[i] for i in G.nodes) <= U )\n",
    "\n",
    "# add constraints saying that arc (u,v) is cut if u but not v is selected\n",
    "m.addConstrs( x[u] - x[v] <= y[u,v] for u,v in DG.edges )\n",
    "\n",
    "m.update()"
   ]
  },
  {
   "cell_type": "code",
   "execution_count": 8,
   "metadata": {},
   "outputs": [],
   "source": [
    "# # Now, let's add contiguity constraints and re-solve the model.\n",
    "# # We will use the contiguity constraints of Hojny et al. (MPC, 2021)\n",
    "# #   https://link.springer.com/article/10.1007/s12532-020-00186-3\n",
    "\n",
    "# # Add root variables: r[i,j] equals 1 if node i is the \"root\" of district j\n",
    "# r = m.addVars( G.nodes, k, vtype=GRB.BINARY)\n",
    "\n",
    "# # To solve the MIP faster, fix a district root:\n",
    "# r[0,0].LB = 1\n",
    "\n",
    "# # Add flow variables: f[u,v] = amount of flow sent across arc uv \n",
    "# #  Flows are sent across arcs of the directed version of G which we call DG\n",
    "\n",
    "# f = m.addVars( DG.edges )"
   ]
  },
  {
   "cell_type": "code",
   "execution_count": 9,
   "metadata": {},
   "outputs": [],
   "source": [
    "# # The big-M proposed by Hojny et al.\n",
    "# M = G.number_of_nodes() - k + 1\n",
    "\n",
    "# # Each district j should have one root\n",
    "# m.addConstrs( gp.quicksum( r[i,j] for i in G.nodes ) == 1 for j in range(k) )\n",
    "\n",
    "# # If node i is not assigned to district j, then it cannot be its root\n",
    "# m.addConstrs( r[i,j] <= x[i,j] for i in G.nodes for j in range(k) ) \n",
    "\n",
    "# # if not a root, consume some flow.\n",
    "# # if a root, only send out (so much) flow.\n",
    "# m.addConstrs( gp.quicksum( f[j,i] - f[i,j] for j in G.neighbors(i) ) \n",
    "#              >= 1 - M * gp.quicksum( r[i,j] for j in range(k) ) for i in G.nodes )\n",
    "\n",
    "# # do not send flow across cut edges\n",
    "# m.addConstrs( f[u,v] + f[v,u] <= M * ( 1 - gp.quicksum( y[u,v,j] for j in range(k) ) ) for u,v in DG.edges )\n",
    "\n",
    "# m.update()"
   ]
  },
  {
   "cell_type": "code",
   "execution_count": 10,
   "metadata": {},
   "outputs": [
    {
     "name": "stdout",
     "output_type": "stream",
     "text": [
      "Set parameter TimeLimit to value 600\n",
      "Gurobi Optimizer version 9.5.0 build v9.5.0rc5 (win64)\n",
      "Thread count: 4 physical cores, 8 logical processors, using up to 8 threads\n",
      "Optimize a model with 6344 rows, 7548 columns and 29040 nonzeros\n",
      "Model fingerprint: 0xafae24ca\n",
      "Model has 1 quadratic constraint\n",
      "Variable types: 3 continuous, 7545 integer (7545 binary)\n",
      "Coefficient statistics:\n",
      "  Matrix range     [1e-05, 1e+04]\n",
      "  QMatrix range    [1e+00, 2e+00]\n",
      "  Objective range  [2e-01, 2e-01]\n",
      "  Bounds range     [1e+00, 1e+00]\n",
      "  RHS range        [8e+05, 8e+05]\n",
      "Presolve time: 0.03s\n",
      "Presolved: 6344 rows, 7548 columns, 29040 nonzeros\n",
      "Presolved model has 1 quadratic constraint(s)\n",
      "Variable types: 3 continuous, 7545 integer (7545 binary)\n",
      "\n",
      "Root relaxation: objective 0.000000e+00, 1093 iterations, 0.02 seconds (0.01 work units)\n",
      "\n",
      "    Nodes    |    Current Node    |     Objective Bounds      |     Work\n",
      " Expl Unexpl |  Obj  Depth IntInf | Incumbent    BestBd   Gap | It/Node Time\n",
      "\n",
      "     0     0    0.00000    0    5          -    0.00000      -     -    0s\n",
      "H    0     0                     108.8731521    0.00000   100%     -    0s\n",
      "H    0     0                     106.7434303    0.27754   100%     -    1s\n",
      "     0     0    0.27754    0   67  106.74343    0.27754   100%     -    1s\n",
      "H    0     0                       3.1067125    0.27754  91.1%     -    1s\n",
      "H    0     0                       2.5724413    0.27754  89.2%     -    1s\n",
      "     0     0    0.28234    0 1253    2.57244    0.28234  89.0%     -    1s\n",
      "H    0     0                       2.5531168    0.28261  88.9%     -    1s\n",
      "     0     0    0.28261    0 1254    2.55312    0.28261  88.9%     -    1s\n",
      "H    0     0                       2.5468447    0.28261  88.9%     -    2s\n",
      "     0     0    0.29226    0 1253    2.54684    0.29226  88.5%     -    2s\n",
      "H    0     0                       2.3685943    0.29226  87.7%     -    2s\n",
      "     0     0    0.30127    0 1253    2.36859    0.30127  87.3%     -    2s\n",
      "     0     0    0.30748    0 1253    2.36859    0.30748  87.0%     -    3s\n",
      "     0     0    0.30921    0 1253    2.36859    0.30921  86.9%     -    3s\n",
      "     0     0    0.30966    0 1253    2.36859    0.30966  86.9%     -    4s\n",
      "     0     0    0.30976    0 1253    2.36859    0.30976  86.9%     -    5s\n",
      "     0     0    0.30979    0 1253    2.36859    0.30979  86.9%     -    5s\n",
      "     0     0    0.30979    0 1253    2.36859    0.30979  86.9%     -    5s\n",
      "     0     0    0.30979    0 1253    2.36859    0.30979  86.9%     -    5s\n",
      "     0     2    0.31166    0 1253    2.36859    0.31166  86.8%     -    6s\n",
      "H   28    34                       1.8330277    0.31247  83.0%   502    7s\n",
      "H   32    34                       1.6212636    0.31247  80.7%   472    7s\n",
      "H   53    53                       1.6203520    0.31247  80.7%   341    8s\n",
      "*   53    53              11       1.6203520    0.31247  80.7%   342    8s\n",
      "*   63    61              11       1.6203519    0.31247  80.7%   373    8s\n",
      "H   78    76                       1.4912659    0.31247  79.0%   350    9s\n",
      "*   78    76              15       1.4912659    0.31247  79.0%   351    9s\n",
      "    89    86    0.42116   16 1039    1.49127    0.31247  79.0%   399   10s\n",
      "H  122   118                       1.4823064    0.31247  78.9%   378   11s\n",
      "H  159   142                       1.4823064    0.31247  78.9%   347   12s\n",
      "   217   165    0.90086   40 1080    1.48231    0.31247  78.9%   328   15s\n",
      "   387   284    1.13595   84 1253    1.48231    0.31247  78.9%   314   22s\n",
      "   389   285    1.20426   20 1253    1.48231    0.31247  78.9%   312   25s\n",
      "   410   298    0.73550   18 1068    1.48231    0.34188  76.9%   350   30s\n",
      "   446   312    0.52762   23 1241    1.48231    0.35235  76.2%   396   35s\n",
      "   483   311    0.67982   29 1124    1.48231    0.35235  76.2%   434   40s\n",
      "   553   309    0.80797   40 1069    1.48231    0.35235  76.2%   447   45s\n",
      "H  688   331                       1.4788156    0.35235  76.2%   416   48s\n",
      "   733   337    1.12212   73  157    1.47882    0.35235  76.2%   409   50s\n",
      "H  735   322                       1.4716491    0.35235  76.1%   408   50s\n",
      "   856   297    1.37111   32  385    1.47165    0.45454  69.1%   416   55s\n",
      "   989   280 infeasible   27         1.47165    0.67216  54.3%   418   60s\n",
      "  1194   286 infeasible   21         1.47165    0.76197  48.2%   384   65s\n",
      "  1330   311     cutoff   23         1.47165    0.81705  44.5%   379   70s\n",
      "  1466   352    1.24108   23  608    1.47165    0.86566  41.2%   390   76s\n",
      "  1643   389    0.97897   24 1017    1.47165    0.90605  38.4%   384   81s\n",
      "  1780   437    1.46564   71  571    1.47165    0.92028  37.5%   376   86s\n",
      "  1925   496    1.29190   57  448    1.47165    0.96233  34.6%   371   90s\n",
      "* 2043   509              67       1.4699179    0.97922  33.4%   365   92s\n",
      "H 2045   490                       1.4633080    0.97922  33.1%   364   92s\n",
      "* 2045   490              68       1.4633080    0.97922  33.1%   364   92s\n",
      "  2104   518    1.23835   48 1018    1.46331    0.99066  32.3%   362   95s\n",
      "* 2139   518              68       1.4633079    0.99541  32.0%   358   95s\n",
      "H 2286   463                       1.3698941    1.01302  26.1%   349   98s\n",
      "  2324   444 infeasible   50         1.36989    1.03688  24.3%   348  101s\n",
      "* 2377   444              60       1.3698941    1.03999  24.1%   346  101s\n",
      "H 2385   428                       1.3465615    1.03999  22.8%   345  101s\n",
      "* 2385   428              66       1.3465615    1.03999  22.8%   346  101s\n",
      "* 2555   387              66       1.3465615    1.06095  21.2%   334  104s\n",
      "  2615   344     cutoff   47         1.34656    1.10934  17.6%   332  106s\n",
      "  2832   185 infeasible   45         1.34656    1.16144  13.7%   329  111s\n",
      "\n",
      "Explored 3178 nodes (1016299 simplex iterations) in 114.22 seconds (136.03 work units)\n",
      "Thread count was 8 (of 8 available processors)\n",
      "\n",
      "Solution count 10: 1.34656 1.36989 1.46331 ... 1.62126\n",
      "\n",
      "Optimal solution found (tolerance 1.00e-04)\n",
      "Best objective 1.346561496756e+00, best bound 1.346561496756e+00, gap 0.0000%\n"
     ]
    }
   ],
   "source": [
    "# solve IP model\n",
    "#m.Params.NonConvex = 2\n",
    "m.Params.TimeLimit = 600\n",
    "m.optimize()"
   ]
  },
  {
   "cell_type": "code",
   "execution_count": 11,
   "metadata": {},
   "outputs": [
    {
     "name": "stdout",
     "output_type": "stream",
     "text": [
      "The inverse PP score is 1.346561496756473\n",
      "The PP score is 0.7426322543818071\n"
     ]
    }
   ],
   "source": [
    "print(\"The inverse PP score is\",m.objval)\n",
    "print(\"The PP score is\",1.0/m.objval)\n",
    "\n",
    "# retrieve the districts and their populations\n",
    "district = [i for i in G.nodes if x[i].x > 0.5] \n",
    "#district_counties = [ G.nodes[i][\"NAME20\"] for i in district ] \n",
    "district_population = sum(G.nodes[i][\"TOTPOP\"] for i in district )\n",
    "\n",
    "# print district info\n",
    "#print(\"District has population\",district_population,\"and contains counties\",district_counties)"
   ]
  },
  {
   "cell_type": "code",
   "execution_count": 12,
   "metadata": {},
   "outputs": [],
   "source": [
    "# Let's draw it on a map\n",
    "import geopandas as gpd"
   ]
  },
  {
   "cell_type": "code",
   "execution_count": 13,
   "metadata": {},
   "outputs": [],
   "source": [
    "# Read county shapefile from \"<state>_county.shp\"\n",
    "filename = state + '_' + level + '.shp'\n",
    "\n",
    "# Read geopandas dataframe from file\n",
    "df = gpd.read_file( filepath + filename )"
   ]
  },
  {
   "cell_type": "code",
   "execution_count": 14,
   "metadata": {},
   "outputs": [
    {
     "data": {
      "image/png": "[encoded data removed]",
      "text/plain": [
       "<Figure size 432x288 with 1 Axes>"
      ]
     },
     "metadata": {
      "needs_background": "light"
     },
     "output_type": "display_data"
    }
   ],
   "source": [
    "# Which district is each county assigned to?\n",
    "assignment = [ -1 for i in G.nodes ]\n",
    "\n",
    "labeling = { i : 1 if x[i].x > 0.5 else 0 for i in G.nodes }\n",
    "\n",
    "# Now add the assignments to a column of the dataframe and map it\n",
    "node_with_this_geoid = { G.nodes[i]['GEOID20'] : i for i in G.nodes }\n",
    "\n",
    "# pick a position u in the dataframe\n",
    "for u in range(G.number_of_nodes()):\n",
    "    \n",
    "    geoid = df['GEOID20'][u]\n",
    "    \n",
    "    # what node in G has this geoid?\n",
    "    i = node_with_this_geoid[geoid]\n",
    "    \n",
    "    # position u in the dataframe should be given\n",
    "    # the same district # that county i has in 'labeling'\n",
    "    assignment[u] = labeling[i]\n",
    "    \n",
    "# now add the assignments to a column of our dataframe and then map it\n",
    "df['assignment'] = assignment\n",
    "\n",
    "my_fig = df.plot(column='assignment').get_figure()"
   ]
  },
  {
   "cell_type": "code",
   "execution_count": null,
   "metadata": {},
   "outputs": [],
   "source": []
  }
 ],
 "metadata": {
  "kernelspec": {
   "display_name": "Python 3",
   "language": "python",
   "name": "python3"
  },
  "language_info": {
   "codemirror_mode": {
    "name": "ipython",
    "version": 3
   },
   "file_extension": ".py",
   "mimetype": "text/x-python",
   "name": "python",
   "nbconvert_exporter": "python",
   "pygments_lexer": "ipython3",
   "version": "3.7.10"
  }
 },
 "nbformat": 4,
 "nbformat_minor": 4
}
