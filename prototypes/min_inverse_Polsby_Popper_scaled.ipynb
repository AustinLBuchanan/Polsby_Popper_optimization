{
 "cells": [
  {
   "cell_type": "code",
   "execution_count": 1,
   "metadata": {},
   "outputs": [],
   "source": [
    "state = 'WV'    # 2-letter state code\n",
    "k = 2           # number of districts"
   ]
  },
  {
   "cell_type": "code",
   "execution_count": 2,
   "metadata": {},
   "outputs": [],
   "source": [
    "# Read county graph from the json file \"<state>_county.json\"\n",
    "filepath = 'C:\\\\districting-data-2020\\\\'\n",
    "filename = state + '_county.json'\n",
    "\n",
    "# GerryChain has a built-in function for reading graphs of this type:\n",
    "from gerrychain import Graph\n",
    "G = Graph.from_json( filepath + filename )\n",
    "\n",
    "for node in G.nodes:\n",
    "    G.nodes[node]['TOTPOP'] = G.nodes[node]['P0010001']"
   ]
  },
  {
   "cell_type": "code",
   "execution_count": 3,
   "metadata": {},
   "outputs": [
    {
     "name": "stdout",
     "output_type": "stream",
     "text": [
      "Using L = 892374 and U = 901342 and k = 2\n"
     ]
    }
   ],
   "source": [
    "# Let's impose a 1% population deviation (+/-0.5%)\n",
    "deviation = 0.01\n",
    "total_population = sum( G.nodes[node]['TOTPOP'] for node in G.nodes )\n",
    "\n",
    "import math\n",
    "L = math.ceil( ( 1 - deviation / 2 ) * total_population / k )\n",
    "U = math.floor( ( 1 + deviation / 2 ) * total_population / k )\n",
    "print(\"Using L =\",L,\"and U =\",U,\"and k =\",k)"
   ]
  },
  {
   "cell_type": "code",
   "execution_count": 4,
   "metadata": {},
   "outputs": [
    {
     "name": "stdout",
     "output_type": "stream",
     "text": [
      "Set parameter Username\n",
      "Academic license - for non-commercial use only - expires 2023-01-01\n"
     ]
    }
   ],
   "source": [
    "import gurobipy as gp\n",
    "from gurobipy import GRB\n",
    "\n",
    "# create model \n",
    "m = gp.Model()\n",
    "\n",
    "import networkx as nx\n",
    "DG = nx.DiGraph(G)   # directed version of G\n",
    "\n",
    "# create variables\n",
    "# x[i,j] equals one when county i is assigned to district j\n",
    "x = m.addVars(G.nodes, k, vtype=GRB.BINARY)  \n",
    "\n",
    "# y[u,v,j] equals one when arc (u,v) is cut because u->j but not v->j\n",
    "y = m.addVars(DG.edges, k, vtype=GRB.BINARY) \n",
    "\n",
    "# z[j] is inverse Polsby-Popper score for district j\n",
    "z = m.addVars(k)\n",
    "\n",
    "# A[j] = area of district j\n",
    "A = m.addVars(k)\n",
    "\n",
    "# P[j] = perimeter of district j\n",
    "P = m.addVars(k)\n",
    "\n",
    "for j in range(k):\n",
    "    z[j].lb = 0\n",
    "    A[j].lb = 0\n",
    "    P[j].lb = 0"
   ]
  },
  {
   "cell_type": "code",
   "execution_count": 5,
   "metadata": {},
   "outputs": [],
   "source": [
    "# objective is to minimize sum of inverse Polsby-Popper scores\n",
    "coef = 1 / ( 2 * math.pi )\n",
    "m.setObjective( coef * gp.quicksum( z[j] for j in range(k) ), GRB.MINIMIZE )"
   ]
  },
  {
   "cell_type": "code",
   "execution_count": 6,
   "metadata": {},
   "outputs": [],
   "source": [
    "# add SOCP constraints relating inverse Polsby-Popper score z[j] to area and perimeter\n",
    "m.addConstrs( P[j] * P[j] <= 2 * A[j] * z[j] for j in range(k) )\n",
    "\n",
    "# add constraints on areas A[j] \n",
    "m.addConstrs( A[j] == gp.quicksum( G.nodes[i]['area'] * x[i,j] for i in G.nodes ) for j in range(k) )\n",
    "\n",
    "# add constraints on perimeters P[j]\n",
    "for j in range(k):\n",
    "    m.addConstr( P[j] == gp.quicksum( DG.edges[u,v]['shared_perim'] * y[u,v,j] for u,v in DG.edges )\n",
    "             + gp.quicksum( G.nodes[i]['boundary_perim'] * x[i,j] for i in G.nodes if G.nodes[i]['boundary_node'] ) )\n",
    "    \n",
    "m.update()"
   ]
  },
  {
   "cell_type": "code",
   "execution_count": 7,
   "metadata": {},
   "outputs": [],
   "source": [
    "# add constraints saying that each county i is assigned to one district\n",
    "m.addConstrs( gp.quicksum( x[i,j] for j in range(k)) == 1 for i in G.nodes )\n",
    "\n",
    "# add constraints saying that each district has population at least L and at most U\n",
    "m.addConstrs( gp.quicksum( G.nodes[i]['TOTPOP'] * x[i,j] for i in G.nodes) >= L for j in range(k) )\n",
    "m.addConstrs( gp.quicksum( G.nodes[i]['TOTPOP'] * x[i,j] for i in G.nodes) <= U for j in range(k) )\n",
    "\n",
    "# add constraints saying that edge {u,v} is cut if u is assigned to district j but v is not.\n",
    "m.addConstrs( x[u,j] - x[v,j] <= y[u,v,j] for u,v in DG.edges for j in range(k) )\n",
    "\n",
    "m.update()"
   ]
  },
  {
   "cell_type": "code",
   "execution_count": 8,
   "metadata": {},
   "outputs": [],
   "source": [
    "# Now, let's add contiguity constraints and re-solve the model.\n",
    "# We will use the contiguity constraints of Hojny et al. (MPC, 2021)\n",
    "#   https://link.springer.com/article/10.1007/s12532-020-00186-3\n",
    "\n",
    "# Add root variables: r[i,j] equals 1 if node i is the \"root\" of district j\n",
    "r = m.addVars( G.nodes, k, vtype=GRB.BINARY)\n",
    "\n",
    "# To solve the MIP faster, fix a district root:\n",
    "r[0,0].LB = 1\n",
    "\n",
    "# Add flow variables: f[u,v] = amount of flow sent across arc uv \n",
    "#  Flows are sent across arcs of the directed version of G which we call DG\n",
    "\n",
    "f = m.addVars( DG.edges )"
   ]
  },
  {
   "cell_type": "code",
   "execution_count": 9,
   "metadata": {},
   "outputs": [],
   "source": [
    "# The big-M proposed by Hojny et al.\n",
    "M = G.number_of_nodes() - k + 1\n",
    "\n",
    "# Each district j should have one root\n",
    "m.addConstrs( gp.quicksum( r[i,j] for i in G.nodes ) == 1 for j in range(k) )\n",
    "\n",
    "# If node i is not assigned to district j, then it cannot be its root\n",
    "m.addConstrs( r[i,j] <= x[i,j] for i in G.nodes for j in range(k) ) \n",
    "\n",
    "# if not a root, consume some flow.\n",
    "# if a root, only send out (so much) flow.\n",
    "m.addConstrs( gp.quicksum( f[j,i] - f[i,j] for j in G.neighbors(i) ) \n",
    "             >= 1 - M * gp.quicksum( r[i,j] for j in range(k) ) for i in G.nodes )\n",
    "\n",
    "# do not send flow across cut edges\n",
    "m.addConstrs( f[u,v] + f[v,u] <= M * ( 1 - gp.quicksum( y[u,v,j] for j in range(k) ) ) for u,v in DG.edges )\n",
    "\n",
    "m.update()"
   ]
  },
  {
   "cell_type": "code",
   "execution_count": 10,
   "metadata": {},
   "outputs": [
    {
     "name": "stdout",
     "output_type": "stream",
     "text": [
      "Gurobi Optimizer version 9.5.0 build v9.5.0rc5 (win64)\n",
      "Thread count: 4 physical cores, 8 logical processors, using up to 8 threads\n",
      "Optimize a model with 980 rows, 976 columns and 4442 nonzeros\n",
      "Model fingerprint: 0x7a954a39\n",
      "Model has 2 quadratic constraints\n",
      "Variable types: 256 continuous, 720 integer (720 binary)\n",
      "Coefficient statistics:\n",
      "  Matrix range     [3e-04, 2e+05]\n",
      "  QMatrix range    [1e+00, 2e+00]\n",
      "  Objective range  [2e-01, 2e-01]\n",
      "  Bounds range     [1e+00, 1e+00]\n",
      "  RHS range        [1e+00, 9e+05]\n",
      "Presolve removed 128 rows and 112 columns\n",
      "Presolve time: 0.02s\n",
      "Presolved: 852 rows, 864 columns, 3895 nonzeros\n",
      "Presolved model has 2 quadratic constraint(s)\n",
      "Variable types: 256 continuous, 608 integer (608 binary)\n",
      "\n",
      "Root relaxation: objective 2.177478e-02, 402 iterations, 0.00 seconds (0.00 work units)\n",
      "\n",
      "    Nodes    |    Current Node    |     Objective Bounds      |     Work\n",
      " Expl Unexpl |  Obj  Depth IntInf | Incumbent    BestBd   Gap | It/Node Time\n",
      "\n",
      "     0     0    0.02177    0   34          -    0.02177      -     -    0s\n",
      "     0     0    2.23484    0   69          -    2.23484      -     -    0s\n",
      "     0     0    5.14665    0   70          -    5.14665      -     -    0s\n",
      "     0     0    5.14665    0   70          -    5.14665      -     -    0s\n",
      "     0     0    6.18100    0   70          -    6.18100      -     -    0s\n",
      "     0     0    6.18100    0   70          -    6.18100      -     -    0s\n",
      "     0     0    6.20720    0   73          -    6.20720      -     -    0s\n",
      "     0     0    6.24343    0   74          -    6.24343      -     -    0s\n",
      "     0     0    6.25001    0   74          -    6.25001      -     -    0s\n",
      "     0     0    6.25178    0   74          -    6.25178      -     -    0s\n",
      "     0     0    6.25190    0   74          -    6.25190      -     -    0s\n",
      "     0     0    6.25190    0   73          -    6.25190      -     -    0s\n",
      "     0     2    6.44908    0   73          -    6.44908      -     -    0s\n",
      "H  562   412                      11.9411525    8.44926  29.2%  42.6    1s\n",
      "*  562   412              25      11.9411525    8.44926  29.2%  42.6    1s\n",
      "H 1222   431                      10.2629114    9.14586  10.9%  38.2    1s\n",
      "* 1377   312              30      10.2615182    9.43866  8.02%  36.8    1s\n",
      "H 1531   225                      10.0222897    9.66133  3.60%  35.2    1s\n",
      "* 1531   225              30      10.0222897    9.66133  3.60%  35.2    1s\n",
      "\n",
      "Cutting planes:\n",
      "  Gomory: 4\n",
      "  Cover: 2\n",
      "  MIR: 1\n",
      "  StrongCG: 3\n",
      "  Flow cover: 27\n",
      "  Zero half: 2\n",
      "\n",
      "Explored 1807 nodes (57992 simplex iterations) in 1.85 seconds (1.50 work units)\n",
      "Thread count was 8 (of 8 available processors)\n",
      "\n",
      "Solution count 4: 10.0223 10.2615 10.2629 11.9412 \n",
      "\n",
      "Optimal solution found (tolerance 1.00e-04)\n",
      "Best objective 1.002228973888e+01, best bound 1.002228773063e+01, gap 0.0000%\n"
     ]
    }
   ],
   "source": [
    "# solve IP model\n",
    "m.optimize()"
   ]
  },
  {
   "cell_type": "code",
   "execution_count": 11,
   "metadata": {},
   "outputs": [
    {
     "name": "stdout",
     "output_type": "stream",
     "text": [
      "The objective value is 10.022289738879483\n",
      "District 0 has population 899234 and contains counties ['Wyoming', 'Roane', 'Monroe', 'Wirt', 'Greenbrier', 'Summers', 'Raleigh', 'Mason', 'Lincoln', 'Kanawha', 'Mingo', 'Wayne', 'Putnam', 'Boone', 'Cabell', 'Jackson', 'Wood', 'McDowell', 'Logan', 'Fayette', 'Mercer']\n",
      "\n",
      "District 1 has population 894482 and contains counties ['Braxton', 'Grant', 'Doddridge', 'Tyler', 'Ritchie', 'Randolph', 'Marion', 'Pendleton', 'Berkeley', 'Upshur', 'Taylor', 'Nicholas', 'Gilmer', 'Brooke', 'Calhoun', 'Ohio', 'Morgan', 'Lewis', 'Pocahontas', 'Wetzel', 'Marshall', 'Monongalia', 'Mineral', 'Hancock', 'Preston', 'Hardy', 'Webster', 'Hampshire', 'Harrison', 'Barbour', 'Tucker', 'Clay', 'Pleasants', 'Jefferson']\n",
      "\n"
     ]
    }
   ],
   "source": [
    "print(\"The objective value is\",m.objval)\n",
    "\n",
    "# retrieve the districts and their populations\n",
    "districts = [ [i for i in G.nodes if x[i,j].x > 0.5] for j in range(k)]\n",
    "district_counties = [ [ G.nodes[i][\"NAME20\"] for i in districts[j] ] for j in range(k)]\n",
    "district_populations = [ sum(G.nodes[i][\"TOTPOP\"] for i in districts[j]) for j in range(k) ]\n",
    "\n",
    "# print district info\n",
    "for j in range(k):\n",
    "    print(\"District\",j,\"has population\",district_populations[j],\"and contains counties\",district_counties[j])\n",
    "    print(\"\")"
   ]
  },
  {
   "cell_type": "code",
   "execution_count": 12,
   "metadata": {},
   "outputs": [],
   "source": [
    "# Let's draw it on a map\n",
    "import geopandas as gpd"
   ]
  },
  {
   "cell_type": "code",
   "execution_count": 13,
   "metadata": {},
   "outputs": [],
   "source": [
    "# Read county shapefile from \"<state>_county.shp\"\n",
    "filename = state + '_county.shp'\n",
    "\n",
    "# Read geopandas dataframe from file\n",
    "df = gpd.read_file( filepath + filename )"
   ]
  },
  {
   "cell_type": "code",
   "execution_count": 14,
   "metadata": {},
   "outputs": [
    {
     "data": {
      "image/png": "[encoded data removed]",
      "text/plain": [
       "<Figure size 432x288 with 1 Axes>"
      ]
     },
     "metadata": {
      "needs_background": "light"
     },
     "output_type": "display_data"
    }
   ],
   "source": [
    "# Which district is each county assigned to?\n",
    "assignment = [ -1 for i in G.nodes ]\n",
    "\n",
    "labeling = { i : j for i in G.nodes for j in range(k) if x[i,j].x > 0.5 }\n",
    "\n",
    "# Now add the assignments to a column of the dataframe and map it\n",
    "node_with_this_geoid = { G.nodes[i]['GEOID20'] : i for i in G.nodes }\n",
    "\n",
    "# pick a position u in the dataframe\n",
    "for u in range(G.number_of_nodes()):\n",
    "    \n",
    "    geoid = df['GEOID20'][u]\n",
    "    \n",
    "    # what node in G has this geoid?\n",
    "    i = node_with_this_geoid[geoid]\n",
    "    \n",
    "    # position u in the dataframe should be given\n",
    "    # the same district # that county i has in 'labeling'\n",
    "    assignment[u] = labeling[i]\n",
    "    \n",
    "# now add the assignments to a column of our dataframe and then map it\n",
    "df['assignment'] = assignment\n",
    "\n",
    "my_fig = df.plot(column='assignment').get_figure()"
   ]
  },
  {
   "cell_type": "code",
   "execution_count": null,
   "metadata": {},
   "outputs": [],
   "source": []
  }
 ],
 "metadata": {
  "kernelspec": {
   "display_name": "Python 3",
   "language": "python",
   "name": "python3"
  },
  "language_info": {
   "codemirror_mode": {
    "name": "ipython",
    "version": 3
   },
   "file_extension": ".py",
   "mimetype": "text/x-python",
   "name": "python",
   "nbconvert_exporter": "python",
   "pygments_lexer": "ipython3",
   "version": "3.7.10"
  }
 },
 "nbformat": 4,
 "nbformat_minor": 4
}
