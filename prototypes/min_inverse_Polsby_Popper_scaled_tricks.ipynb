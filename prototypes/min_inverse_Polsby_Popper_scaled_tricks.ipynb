{
 "cells": [
  {
   "cell_type": "code",
   "execution_count": 1,
   "metadata": {},
   "outputs": [],
   "source": [
    "state = 'NM'    # 2-letter state code\n",
    "k = 3           # number of districts"
   ]
  },
  {
   "cell_type": "code",
   "execution_count": 2,
   "metadata": {},
   "outputs": [],
   "source": [
    "# Read county graph from the json file \"<state>_county.json\"\n",
    "filepath = 'C:\\\\districting-data-2020\\\\'\n",
    "filename = state + '_county.json'\n",
    "\n",
    "# GerryChain has a built-in function for reading graphs of this type:\n",
    "from gerrychain import Graph\n",
    "G = Graph.from_json( filepath + filename )\n",
    "\n",
    "for node in G.nodes:\n",
    "    G.nodes[node]['TOTPOP'] = G.nodes[node]['P0010001']"
   ]
  },
  {
   "cell_type": "code",
   "execution_count": 3,
   "metadata": {},
   "outputs": [
    {
     "name": "stdout",
     "output_type": "stream",
     "text": [
      "Using L = 702312 and U = 709369 and k = 3\n"
     ]
    }
   ],
   "source": [
    "# Let's impose a 1% population deviation (+/-0.5%)\n",
    "deviation = 0.01\n",
    "total_population = sum( G.nodes[node]['TOTPOP'] for node in G.nodes )\n",
    "\n",
    "import math\n",
    "L = math.ceil( ( 1 - deviation / 2 ) * total_population / k )\n",
    "U = math.floor( ( 1 + deviation / 2 ) * total_population / k )\n",
    "print(\"Using L =\",L,\"and U =\",U,\"and k =\",k)"
   ]
  },
  {
   "cell_type": "code",
   "execution_count": 4,
   "metadata": {},
   "outputs": [
    {
     "name": "stdout",
     "output_type": "stream",
     "text": [
      "Set parameter Username\n",
      "Academic license - for non-commercial use only - expires 2023-01-01\n"
     ]
    }
   ],
   "source": [
    "import gurobipy as gp\n",
    "from gurobipy import GRB\n",
    "\n",
    "# create model \n",
    "m = gp.Model()\n",
    "\n",
    "import networkx as nx\n",
    "DG = nx.DiGraph(G)   # directed version of G\n",
    "\n",
    "# create variables\n",
    "# x[i,j] equals one when county i is assigned to district j\n",
    "x = m.addVars(G.nodes, k, vtype=GRB.BINARY)  \n",
    "\n",
    "# y[u,v,j] equals one when arc (u,v) is cut because u->j but not v->j\n",
    "y = m.addVars(DG.edges, k, vtype=GRB.BINARY) \n",
    "\n",
    "# z[j] is inverse Polsby-Popper score for district j\n",
    "z = m.addVars(k)\n",
    "\n",
    "# A[j] = area of district j\n",
    "A = m.addVars(k)\n",
    "\n",
    "# P[j] = perimeter of district j\n",
    "P = m.addVars(k)\n",
    "\n",
    "for j in range(k):\n",
    "    z[j].lb = 0\n",
    "    A[j].lb = 0\n",
    "    P[j].lb = 0"
   ]
  },
  {
   "cell_type": "code",
   "execution_count": 5,
   "metadata": {},
   "outputs": [],
   "source": [
    "# objective is to minimize sum of inverse Polsby-Popper scores\n",
    "coef = 1 / ( 2 * math.pi )\n",
    "m.setObjective( coef * gp.quicksum( z[j] for j in range(k) ), GRB.MINIMIZE )"
   ]
  },
  {
   "cell_type": "code",
   "execution_count": 6,
   "metadata": {},
   "outputs": [],
   "source": [
    "# add SOCP constraints relating inverse Polsby-Popper score z[j] to area and perimeter\n",
    "m.addConstrs( P[j] * P[j] <= 2 * A[j] * z[j] for j in range(k) )\n",
    "\n",
    "# add constraints on areas A[j] \n",
    "m.addConstrs( A[j] == gp.quicksum( G.nodes[i]['area'] * x[i,j] for i in G.nodes ) for j in range(k) )\n",
    "\n",
    "# add constraints on perimeters P[j]\n",
    "for j in range(k):\n",
    "    m.addConstr( P[j] == gp.quicksum( DG.edges[u,v]['shared_perim'] * y[u,v,j] for u,v in DG.edges )\n",
    "             + gp.quicksum( G.nodes[i]['boundary_perim'] * x[i,j] for i in G.nodes if G.nodes[i]['boundary_node'] ) )\n",
    "    \n",
    "m.update()"
   ]
  },
  {
   "cell_type": "code",
   "execution_count": 7,
   "metadata": {},
   "outputs": [],
   "source": [
    "# add constraints saying that each county i is assigned to one district\n",
    "m.addConstrs( gp.quicksum( x[i,j] for j in range(k)) == 1 for i in G.nodes )\n",
    "\n",
    "# add constraints saying that each district has population at least L and at most U\n",
    "m.addConstrs( gp.quicksum( G.nodes[i]['TOTPOP'] * x[i,j] for i in G.nodes) >= L for j in range(k) )\n",
    "m.addConstrs( gp.quicksum( G.nodes[i]['TOTPOP'] * x[i,j] for i in G.nodes) <= U for j in range(k) )\n",
    "\n",
    "# add constraints saying that edge {u,v} is cut if u is assigned to district j but v is not.\n",
    "m.addConstrs( x[u,j] - x[v,j] <= y[u,v,j] for u,v in DG.edges for j in range(k) )\n",
    "\n",
    "m.update()"
   ]
  },
  {
   "cell_type": "code",
   "execution_count": 8,
   "metadata": {},
   "outputs": [],
   "source": [
    "# Now, let's add contiguity constraints and re-solve the model.\n",
    "# We will use the contiguity constraints of Hojny et al. (MPC, 2021)\n",
    "#   https://link.springer.com/article/10.1007/s12532-020-00186-3\n",
    "\n",
    "# Add root variables: r[i,j] equals 1 if node i is the \"root\" of district j\n",
    "r = m.addVars( G.nodes, k, vtype=GRB.BINARY)\n",
    "\n",
    "# Add flow variables: f[u,v] = amount of flow sent across arc uv \n",
    "#  Flows are sent across arcs of the directed version of G which we call DG\n",
    "\n",
    "f = m.addVars( DG.edges )"
   ]
  },
  {
   "cell_type": "code",
   "execution_count": 9,
   "metadata": {},
   "outputs": [],
   "source": [
    "def compute_big_M(G,U):\n",
    "    mm = gp.Model()\n",
    "    mm.Params.OutputFlag = 0\n",
    "    mx = mm.addVars( G.nodes, vtype=GRB.BINARY )\n",
    "    mm.setObjective( gp.quicksum( mx ), GRB.MAXIMIZE )\n",
    "    mm.addConstr( gp.quicksum( G.nodes[i]['TOTPOP'] * mx[i] for i in G.nodes ) <= U )\n",
    "    mm.optimize()\n",
    "    return round(mm.objVal) - 1"
   ]
  },
  {
   "cell_type": "code",
   "execution_count": 10,
   "metadata": {},
   "outputs": [],
   "source": [
    "# The big-M proposed by Hojny et al.\n",
    "# M = G.number_of_nodes() - k + 1\n",
    "\n",
    "# A stronger big-M\n",
    "M = compute_big_M(G,U)\n",
    "\n",
    "# Each district j should have one root\n",
    "#m.addConstrs( gp.quicksum( r[i,j] for i in G.nodes ) == 1 for j in range(k) )\n",
    "# ^a stronger form of this appears in orbitope EF, so skip it.\n",
    "\n",
    "# If node i is not assigned to district j, then it cannot be its root\n",
    "m.addConstrs( r[i,j] <= x[i,j] for i in G.nodes for j in range(k) ) \n",
    "\n",
    "# if not a root, consume some flow.\n",
    "# if a root, only send out (so much) flow.\n",
    "m.addConstrs( gp.quicksum( f[j,i] - f[i,j] for j in G.neighbors(i) ) \n",
    "             >= 1 - M * gp.quicksum( r[i,j] for j in range(k) ) for i in G.nodes )\n",
    "\n",
    "# do not send flow across cut edges\n",
    "m.addConstrs( f[u,v] + f[v,u] <= M * ( 1 - gp.quicksum( y[u,v,j] for j in range(k) ) ) for u,v in DG.edges )\n",
    "\n",
    "m.update()"
   ]
  },
  {
   "cell_type": "code",
   "execution_count": 11,
   "metadata": {},
   "outputs": [],
   "source": [
    "# helper functions for symmetry handling and variable fixing\n",
    "def sort_by_second(val):\n",
    "    return val[1]\n",
    "\n",
    "def find_ordering(B, G):\n",
    "    V_B_with_population = [(i,G.nodes[i]['TOTPOP']) for i in G.nodes if i not in B]\n",
    "    V_B_with_population.sort(key=sort_by_second,reverse=True)\n",
    "    return [v for (v,p) in V_B_with_population] + B\n",
    "\n",
    "def solve_maxB_problem(G, L, k):\n",
    "    m = gp.Model()\n",
    "    m.params.LogToConsole = 0 # keep log to a minimum\n",
    "    q = k\n",
    "    \n",
    "    # X[i,j]=1 if vertex i is assigned to bin j\n",
    "    X = m.addVars(G.nodes, range(q), vtype=GRB.BINARY)\n",
    "    \n",
    "    # B[i]=1 if vertex i is selected in set B\n",
    "    B = m.addVars(G.nodes, vtype=GRB.BINARY)\n",
    "   \n",
    "    # assignment constraints            \n",
    "    m.addConstrs( gp.quicksum(X[i,j] for j in range(q)) == B[i] for i in G.nodes )\n",
    "                \n",
    "    # bin population should be less than L\n",
    "    m.addConstrs( gp.quicksum(G.nodes[i]['TOTPOP'] * X[i,j] for i in G.nodes) <= L-1 for j in range(q) )\n",
    "    \n",
    "    # bins shouldn't touch each other\n",
    "    m.addConstrs( X[u,j] + B[v] <= 1 + X[v,j] for u,v in G.edges for j in range(q) )\n",
    "    m.addConstrs( X[u,j] + B[v] <= 1 + X[v,j] for v,u in G.edges for j in range(q) )\n",
    "    \n",
    "    # objective is to maximize size of set B\n",
    "    m.setObjective( gp.quicksum( B ), GRB.MAXIMIZE )\n",
    "    \n",
    "    m.Params.MIPFocus = 1 # turn on MIPFocus\n",
    "    m.Params.timeLimit = 60 # 60-second time limit\n",
    "    m.optimize()\n",
    "    \n",
    "    if m.status in { GRB.OPTIMAL, GRB.TIME_LIMIT }:\n",
    "        B_sol = [i for i in DG.nodes if B[i].x > 0.5 ]\n",
    "    else:\n",
    "        B_sol = list()\n",
    "    print(\"Size of B =\",len(B_sol))\n",
    "    return B_sol\n",
    "    \n",
    "# how many people are reachable from v in G[S]? Uses BFS\n",
    "def reachable_population(G, S, v):\n",
    "    pr = 0 # population reached\n",
    "    if not S[v]:\n",
    "        return 0\n",
    "    \n",
    "    visited = [False for i in G.nodes]\n",
    "    child = [v]\n",
    "    visited[v] = True\n",
    "    while child:\n",
    "        parent = child\n",
    "        child = list()\n",
    "        for i in parent:\n",
    "            pr += G.nodes[i]['TOTPOP']\n",
    "            for j in G.neighbors(i):\n",
    "                if S[j] and not visited[j]:\n",
    "                    child.append(j)\n",
    "                    visited[j] = True\n",
    "    return pr     "
   ]
  },
  {
   "cell_type": "code",
   "execution_count": 12,
   "metadata": {},
   "outputs": [
    {
     "name": "stdout",
     "output_type": "stream",
     "text": [
      "Size of B = 28\n"
     ]
    }
   ],
   "source": [
    "# APPLY FIXINGS\n",
    "B = solve_maxB_problem(G, L, k)\n",
    "ordering = find_ordering(B, G)"
   ]
  },
  {
   "cell_type": "code",
   "execution_count": 13,
   "metadata": {},
   "outputs": [],
   "source": [
    "# D-fixing\n",
    "for p in range(G.number_of_nodes()):\n",
    "    i = ordering[p]\n",
    "    for j in range(p+1,k):\n",
    "        x[i,j].UB = 0"
   ]
  },
  {
   "cell_type": "code",
   "execution_count": 14,
   "metadata": {},
   "outputs": [],
   "source": [
    "# L-fixing\n",
    "\n",
    "# find \"back\" of ordering B = {v_q, v_{q+1}, ..., v_{n-1} }\n",
    "n = G.number_of_nodes()\n",
    "S = [False for v in G.nodes]\n",
    "for p in range(n):\n",
    "    v_pos = n - p - 1\n",
    "    v = ordering[v_pos]\n",
    "    S[v] = True\n",
    "    pr = reachable_population(G, S, v)\n",
    "    if pr >= L:\n",
    "        q = v_pos + 1\n",
    "        break\n",
    "\n",
    "# none of the vertices at back (in B) can root a district. \n",
    "for p in range(q,n):\n",
    "    i = ordering[p]\n",
    "    for j in range(k):\n",
    "        r[i,j].UB = 0\n",
    "\n",
    "# vertex v_{q-1} cannot root districts {0, 1, ..., k-2}\n",
    "# vertex v_{q-2} cannot root districts {0, 1, ..., k-3}\n",
    "# ... \n",
    "# vertex v_{q-t} cannot root districts {0, 1, ..., k-t-1}\n",
    "# ...\n",
    "# vertex v_{q-(k-1)} cannot root district {0}\n",
    "for t in range(1,k):\n",
    "    i = ordering[q-t]\n",
    "    for j in range(k-t):\n",
    "        r[i,j].UB = 0"
   ]
  },
  {
   "cell_type": "code",
   "execution_count": 15,
   "metadata": {},
   "outputs": [],
   "source": [
    "# U-fixing\n",
    "DG = nx.DiGraph(G)\n",
    "for (i,j) in DG.edges:\n",
    "    DG[i][j]['ufixweight'] = G.nodes[j]['TOTPOP'] # weight of edge (i,j) is population of its head j\n",
    "\n",
    "for j in range(k):\n",
    "\n",
    "    v = ordering[j]\n",
    "    dist = nx.shortest_path_length(DG,source=v,weight='ufixweight')\n",
    "\n",
    "    if j == 0:\n",
    "        min_dist = U+1\n",
    "    else:\n",
    "        min_dist = min( dist[ordering[t]] + G.nodes[v]['TOTPOP'] for t in range(j) )\n",
    "\n",
    "    if min_dist <= U:\n",
    "        break\n",
    "    \n",
    "    r[v,j].LB = 1\n",
    "    x[v,j].LB = 1\n",
    "\n",
    "    for t in range(k):\n",
    "        if t != j:\n",
    "            x[v,t].UB = 0\n",
    "\n",
    "    for i in DG.nodes:\n",
    "        if i != v:\n",
    "            r[i,j].UB = 0\n",
    "\n",
    "    for i in DG.nodes:\n",
    "        if i != v and dist[i] + G.nodes[v]['TOTPOP'] > U:\n",
    "            x[i,j].UB = 0"
   ]
  },
  {
   "cell_type": "code",
   "execution_count": 16,
   "metadata": {},
   "outputs": [],
   "source": [
    "# cut edge variable fixings\n",
    "for u,v in G.edges:\n",
    "    for j in range(k):\n",
    "        if x[u,j].UB < 0.5 or x[v,j].LB > 0.5:\n",
    "            y[u,v,j].UB = 0\n",
    "        elif x[u,j].LB > 0.5 and x[v,j].UB < 0.5:\n",
    "            y[u,v,j].LB = 1"
   ]
  },
  {
   "cell_type": "code",
   "execution_count": 17,
   "metadata": {},
   "outputs": [
    {
     "data": {
      "text/plain": [
       "<gurobi.Constr *Awaiting Model Update*>"
      ]
     },
     "execution_count": 17,
     "metadata": {},
     "output_type": "execute_result"
    }
   ],
   "source": [
    "# add partitioning orbitope EF\n",
    "s = m.addVars(G.nodes, k)\n",
    "u = m.addVars(G.nodes, k)\n",
    "w = m.addVars(G.nodes, k) \n",
    "\n",
    "m.addConstrs(x[i,j] == s[i,j]-s[i,j+1] for i in G.nodes for j in range(k-1))\n",
    "m.addConstrs(x[i,k-1] == s[i,k-1] for i in G.nodes)\n",
    "\n",
    "m.addConstrs(r[ordering[0],j] == w[ordering[0],j] for j in range(k))\n",
    "m.addConstrs(r[ordering[i],j] == w[ordering[i],j] - w[ordering[i-1],j] for i in range(1,G.number_of_nodes()) for j in range(k))\n",
    "\n",
    "m.addConstrs(r[i,j] <= x[i,j] for i in G.nodes for j in range(k))\n",
    "m.addConstrs(s[i,j] <= w[i,j] for i in G.nodes for j in range(k))\n",
    "\n",
    "m.addConstrs(u[ordering[i],j]+r[ordering[i],j] == u[ordering[i+1],j] + r[ordering[i+1],j+1] for i in range(0,G.number_of_nodes()-1) for j in range(k-1))\n",
    "m.addConstrs(u[ordering[i],k-1]+r[ordering[i],k-1] == u[ordering[i+1],k-1] for i in range(0,G.number_of_nodes()-1))\n",
    "m.addConstrs(u[ordering[G.number_of_nodes()-1],j]+r[ordering[G.number_of_nodes()-1],j] == 0 for j in range(k-1))\n",
    "\n",
    "r[ordering[0],0].LB=1\n",
    "m.addConstr( u[ordering[G.number_of_nodes()-1],k-1] + r[ordering[G.number_of_nodes()-1],k-1]==1 )  "
   ]
  },
  {
   "cell_type": "code",
   "execution_count": 18,
   "metadata": {},
   "outputs": [
    {
     "name": "stdout",
     "output_type": "stream",
     "text": [
      "Gurobi Optimizer version 9.5.0 build v9.5.0rc5 (win64)\n",
      "Thread count: 4 physical cores, 8 logical processors, using up to 8 threads\n",
      "Optimize a model with 1296 rows, 1128 columns and 5029 nonzeros\n",
      "Model fingerprint: 0x4492360c\n",
      "Model has 3 quadratic constraints\n",
      "Variable types: 462 continuous, 666 integer (666 binary)\n",
      "Coefficient statistics:\n",
      "  Matrix range     [3e-02, 7e+05]\n",
      "  QMatrix range    [1e+00, 2e+00]\n",
      "  Objective range  [2e-01, 2e-01]\n",
      "  Bounds range     [1e+00, 1e+00]\n",
      "  RHS range        [1e+00, 7e+05]\n",
      "Presolve removed 753 rows and 474 columns\n",
      "Presolve time: 0.02s\n",
      "Presolved: 543 rows, 654 columns, 2767 nonzeros\n",
      "Presolved model has 3 quadratic constraint(s)\n",
      "Variable types: 159 continuous, 495 integer (495 binary)\n",
      "\n",
      "Root relaxation: objective 1.237226e-01, 265 iterations, 0.00 seconds (0.00 work units)\n",
      "\n",
      "    Nodes    |    Current Node    |     Objective Bounds      |     Work\n",
      " Expl Unexpl |  Obj  Depth IntInf | Incumbent    BestBd   Gap | It/Node Time\n",
      "\n",
      "     0     0    0.12372    0   78          -    0.12372      -     -    0s\n",
      "     0     0    2.41805    0   88          -    2.41805      -     -    0s\n",
      "     0     0    4.78795    0   62          -    4.78795      -     -    0s\n",
      "     0     0    4.78795    0   62          -    4.78795      -     -    0s\n",
      "     0     0    5.73604    0   96          -    5.73604      -     -    0s\n",
      "     0     0    5.98527    0  134          -    5.98527      -     -    0s\n",
      "H    0     0                       7.2803299    5.98527  17.8%     -    0s\n",
      "     0     0    6.09958    0  142    7.28033    6.09958  16.2%     -    0s\n",
      "     0     0    6.10235    0  112    7.28033    6.10235  16.2%     -    0s\n",
      "     0     0    6.15142    0  114    7.28033    6.15142  15.5%     -    0s\n",
      "     0     0    6.15448    0  115    7.28033    6.15448  15.5%     -    0s\n",
      "     0     0    6.17917    0  156    7.28033    6.17917  15.1%     -    0s\n",
      "     0     0    6.18032    0  119    7.28033    6.18032  15.1%     -    0s\n",
      "\n",
      "Cutting planes:\n",
      "  Gomory: 3\n",
      "  Cover: 3\n",
      "  Implied bound: 1\n",
      "  MIR: 17\n",
      "  Flow cover: 6\n",
      "  Zero half: 5\n",
      "  RLT: 25\n",
      "\n",
      "Explored 1 nodes (2070 simplex iterations) in 0.35 seconds (0.13 work units)\n",
      "Thread count was 8 (of 8 available processors)\n",
      "\n",
      "Solution count 1: 7.28033 \n",
      "\n",
      "Optimal solution found (tolerance 1.00e-04)\n",
      "Best objective 7.280329929607e+00, best bound 7.280329929607e+00, gap 0.0000%\n"
     ]
    }
   ],
   "source": [
    "# solve IP model\n",
    "m.optimize()"
   ]
  },
  {
   "cell_type": "code",
   "execution_count": 19,
   "metadata": {},
   "outputs": [
    {
     "name": "stdout",
     "output_type": "stream",
     "text": [
      "The objective value is 7.280329929607307\n",
      "District 0 has population 707195 and contains counties ['Bernalillo', 'Catron', 'Cibola']\n",
      "\n",
      "District 1 has population 707695 and contains counties ['Roosevelt', 'Lincoln', 'Torrance', 'Luna', 'Lea', 'Chaves', 'Sierra', 'Valencia', 'De Baca', 'Otero', 'Grant', 'Doña Ana', 'Hidalgo', 'Socorro', 'Eddy']\n",
      "\n",
      "District 2 has population 702632 and contains counties ['Curry', 'San Juan', 'Guadalupe', 'McKinley', 'Rio Arriba', 'Santa Fe', 'Quay', 'Union', 'San Miguel', 'Taos', 'Colfax', 'Sandoval', 'Harding', 'Los Alamos', 'Mora']\n",
      "\n"
     ]
    }
   ],
   "source": [
    "print(\"The objective value is\",m.objval)\n",
    "\n",
    "# retrieve the districts and their populations\n",
    "districts = [ [i for i in G.nodes if x[i,j].x > 0.5] for j in range(k)]\n",
    "district_counties = [ [ G.nodes[i][\"NAME20\"] for i in districts[j] ] for j in range(k)]\n",
    "district_populations = [ sum(G.nodes[i][\"TOTPOP\"] for i in districts[j]) for j in range(k) ]\n",
    "\n",
    "# print district info\n",
    "for j in range(k):\n",
    "    print(\"District\",j,\"has population\",district_populations[j],\"and contains counties\",district_counties[j])\n",
    "    print(\"\")"
   ]
  },
  {
   "cell_type": "code",
   "execution_count": 20,
   "metadata": {},
   "outputs": [],
   "source": [
    "# Let's draw it on a map\n",
    "import geopandas as gpd"
   ]
  },
  {
   "cell_type": "code",
   "execution_count": 21,
   "metadata": {},
   "outputs": [],
   "source": [
    "# Read county shapefile from \"<state>_county.shp\"\n",
    "filename = state + '_county.shp'\n",
    "\n",
    "# Read geopandas dataframe from file\n",
    "df = gpd.read_file( filepath + filename )"
   ]
  },
  {
   "cell_type": "code",
   "execution_count": 22,
   "metadata": {},
   "outputs": [
    {
     "data": {
      "image/png": "[encoded data removed]",
      "text/plain": [
       "<Figure size 432x288 with 1 Axes>"
      ]
     },
     "metadata": {
      "needs_background": "light"
     },
     "output_type": "display_data"
    }
   ],
   "source": [
    "# Which district is each county assigned to?\n",
    "assignment = [ -1 for i in G.nodes ]\n",
    "\n",
    "labeling = { i : j for i in G.nodes for j in range(k) if x[i,j].x > 0.5 }\n",
    "\n",
    "# Now add the assignments to a column of the dataframe and map it\n",
    "node_with_this_geoid = { G.nodes[i]['GEOID20'] : i for i in G.nodes }\n",
    "\n",
    "# pick a position u in the dataframe\n",
    "for u in range(G.number_of_nodes()):\n",
    "    \n",
    "    geoid = df['GEOID20'][u]\n",
    "    \n",
    "    # what node in G has this geoid?\n",
    "    i = node_with_this_geoid[geoid]\n",
    "    \n",
    "    # position u in the dataframe should be given\n",
    "    # the same district # that county i has in 'labeling'\n",
    "    assignment[u] = labeling[i]\n",
    "    \n",
    "# now add the assignments to a column of our dataframe and then map it\n",
    "df['assignment'] = assignment\n",
    "\n",
    "my_fig = df.plot(column='assignment').get_figure()"
   ]
  },
  {
   "cell_type": "code",
   "execution_count": null,
   "metadata": {},
   "outputs": [],
   "source": []
  }
 ],
 "metadata": {
  "kernelspec": {
   "display_name": "Python 3",
   "language": "python",
   "name": "python3"
  },
  "language_info": {
   "codemirror_mode": {
    "name": "ipython",
    "version": 3
   },
   "file_extension": ".py",
   "mimetype": "text/x-python",
   "name": "python",
   "nbconvert_exporter": "python",
   "pygments_lexer": "ipython3",
   "version": "3.7.10"
  }
 },
 "nbformat": 4,
 "nbformat_minor": 4
}
