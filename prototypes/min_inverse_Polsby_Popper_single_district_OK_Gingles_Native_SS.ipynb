{
 "cells": [
  {
   "cell_type": "code",
   "execution_count": 1,
   "metadata": {},
   "outputs": [],
   "source": [
    "# https://en.m.wikipedia.org/wiki/List_of_majority-minority_United_States_congressional_districts\n",
    "state = 'OK'    # 2-letter state code\n",
    "level = 'tract' # county, tract, block"
   ]
  },
  {
   "cell_type": "code",
   "execution_count": 2,
   "metadata": {},
   "outputs": [],
   "source": [
    "filepath = 'C:\\\\districting-data-2020\\\\'\n",
    "filename = state + '_' + level + '.json'\n",
    "\n",
    "# GerryChain has a built-in function for reading graphs of this type:\n",
    "from gerrychain import Graph\n",
    "G = Graph.from_json( filepath + filename )\n",
    "\n",
    "for node in G.nodes:\n",
    "    # See http://starr.tamu.edu/files/2013/01/Census-Codes.pdf\n",
    "    G.nodes[node]['TOTPOP'] = G.nodes[node]['P0010001']\n",
    "    \n",
    "    # American Indian and Alaska Native alone\n",
    "    G.nodes[node]['NATPOP'] = G.nodes[node]['P0010005']\n",
    "    \n",
    "    # White; American Indian and Alaska Native\n",
    "    G.nodes[node]['NATPOP'] += G.nodes[node]['P0010012']"
   ]
  },
  {
   "cell_type": "code",
   "execution_count": 3,
   "metadata": {},
   "outputs": [
    {
     "name": "stdout",
     "output_type": "stream",
     "text": [
      "Using L = 82075 and U = 82898 and k = 48\n"
     ]
    }
   ],
   "source": [
    "# Let's impose a 1% population deviation (+/-0.5%)\n",
    "deviation = 0.01\n",
    "total_population = sum( G.nodes[node]['TOTPOP'] for node in G.nodes )\n",
    "\n",
    "import math\n",
    "from number_of_districts import state_senate_districts_2020\n",
    "k = state_senate_districts_2020[state]\n",
    "L = math.ceil( ( 1 - deviation / 2 ) * total_population / k )\n",
    "U = math.floor( ( 1 + deviation / 2 ) * total_population / k )\n",
    "print(\"Using L =\",L,\"and U =\",U,\"and k =\",k)"
   ]
  },
  {
   "cell_type": "code",
   "execution_count": 4,
   "metadata": {},
   "outputs": [
    {
     "name": "stdout",
     "output_type": "stream",
     "text": [
      "Set parameter Username\n",
      "Academic license - for non-commercial use only - expires 2023-01-01\n"
     ]
    }
   ],
   "source": [
    "import gurobipy as gp\n",
    "from gurobipy import GRB\n",
    "\n",
    "# create model \n",
    "m = gp.Model()\n",
    "\n",
    "import networkx as nx\n",
    "DG = nx.DiGraph(G)   # directed version of G\n",
    "\n",
    "# create variables\n",
    "# x[i] equals one when county i is selected\n",
    "x = m.addVars(G.nodes, vtype=GRB.BINARY)  \n",
    "\n",
    "# y[u,v] equals one when arc (u,v) is cut because u but not v is selected\n",
    "y = m.addVars(DG.edges, vtype=GRB.BINARY) \n",
    "\n",
    "# z is inverse Polsby-Popper score for district \n",
    "z = m.addVar()\n",
    "\n",
    "# A = area of district \n",
    "A = m.addVar()\n",
    "\n",
    "# P = perimeter of district \n",
    "P = m.addVar()"
   ]
  },
  {
   "cell_type": "code",
   "execution_count": 5,
   "metadata": {},
   "outputs": [],
   "source": [
    "# objective is to minimize inverse Polsby-Popper score\n",
    "m.setObjective( z, GRB.MINIMIZE )"
   ]
  },
  {
   "cell_type": "code",
   "execution_count": 6,
   "metadata": {},
   "outputs": [],
   "source": [
    "# add SOCP constraints relating inverse Polsby-Popper score z to area and perimeter\n",
    "m.addConstr( P * P <= 4 * math.pi * A * z )\n",
    "\n",
    "# add constraint on area A \n",
    "m.addConstr( A == gp.quicksum( G.nodes[i]['area'] * x[i] for i in G.nodes ) )\n",
    "\n",
    "# add constraint on perimeter P\n",
    "m.addConstr( P == gp.quicksum( DG.edges[u,v]['shared_perim'] * y[u,v] for u,v in DG.edges )\n",
    "             + gp.quicksum( G.nodes[i]['boundary_perim'] * x[i] for i in G.nodes if G.nodes[i]['boundary_node'] ) )\n",
    "    \n",
    "m.update()"
   ]
  },
  {
   "cell_type": "code",
   "execution_count": 7,
   "metadata": {},
   "outputs": [],
   "source": [
    "# add constraints saying that district has population at least L and at most U\n",
    "m.addConstr( gp.quicksum( G.nodes[i]['TOTPOP'] * x[i] for i in G.nodes) >= L )\n",
    "m.addConstr( gp.quicksum( G.nodes[i]['TOTPOP'] * x[i] for i in G.nodes) <= U )\n",
    "\n",
    "# add constraints saying that arc (u,v) is cut if u but not v is selected\n",
    "m.addConstrs( x[u] - x[v] <= y[u,v] for u,v in DG.edges )\n",
    "\n",
    "m.update()"
   ]
  },
  {
   "cell_type": "code",
   "execution_count": 8,
   "metadata": {},
   "outputs": [],
   "source": [
    "# # Now, let's add contiguity constraints and re-solve the model.\n",
    "# # We will use the contiguity constraints of Hojny et al. (MPC, 2021)\n",
    "# #   https://link.springer.com/article/10.1007/s12532-020-00186-3\n",
    "\n",
    "# # Add root variables: r[i,j] equals 1 if node i is the \"root\" of district j\n",
    "# r = m.addVars( G.nodes, k, vtype=GRB.BINARY)\n",
    "\n",
    "# # To solve the MIP faster, fix a district root:\n",
    "# r[0,0].LB = 1\n",
    "\n",
    "# # Add flow variables: f[u,v] = amount of flow sent across arc uv \n",
    "# #  Flows are sent across arcs of the directed version of G which we call DG\n",
    "\n",
    "# f = m.addVars( DG.edges )"
   ]
  },
  {
   "cell_type": "code",
   "execution_count": 9,
   "metadata": {},
   "outputs": [],
   "source": [
    "# # The big-M proposed by Hojny et al.\n",
    "# M = G.number_of_nodes() - k + 1\n",
    "\n",
    "# # Each district j should have one root\n",
    "# m.addConstrs( gp.quicksum( r[i,j] for i in G.nodes ) == 1 for j in range(k) )\n",
    "\n",
    "# # If node i is not assigned to district j, then it cannot be its root\n",
    "# m.addConstrs( r[i,j] <= x[i,j] for i in G.nodes for j in range(k) ) \n",
    "\n",
    "# # if not a root, consume some flow.\n",
    "# # if a root, only send out (so much) flow.\n",
    "# m.addConstrs( gp.quicksum( f[j,i] - f[i,j] for j in G.neighbors(i) ) \n",
    "#              >= 1 - M * gp.quicksum( r[i,j] for j in range(k) ) for i in G.nodes )\n",
    "\n",
    "# # do not send flow across cut edges\n",
    "# m.addConstrs( f[u,v] + f[v,u] <= M * ( 1 - gp.quicksum( y[u,v,j] for j in range(k) ) ) for u,v in DG.edges )\n",
    "\n",
    "# m.update()"
   ]
  },
  {
   "cell_type": "code",
   "execution_count": 10,
   "metadata": {},
   "outputs": [
    {
     "data": {
      "text/plain": [
       "<gurobi.Constr *Awaiting Model Update*>"
      ]
     },
     "execution_count": 10,
     "metadata": {},
     "output_type": "execute_result"
    }
   ],
   "source": [
    "# hispanic_or_latino_population >= 0.5 * total_population\n",
    "nativ_pop = m.addVar()\n",
    "total_pop = m.addVar()\n",
    "\n",
    "m.addConstr( nativ_pop == gp.quicksum( G.nodes[i]['NATPOP'] * x[i] for i in G.nodes ) )\n",
    "m.addConstr( total_pop == gp.quicksum( G.nodes[i]['TOTPOP'] * x[i] for i in G.nodes ) )\n",
    "\n",
    "m.addConstr( nativ_pop >= 0.5 * total_pop )"
   ]
  },
  {
   "cell_type": "code",
   "execution_count": 11,
   "metadata": {},
   "outputs": [
    {
     "name": "stdout",
     "output_type": "stream",
     "text": [
      "Set parameter TimeLimit to value 600\n",
      "Gurobi Optimizer version 9.5.0 build v9.5.0rc5 (win64)\n",
      "Thread count: 4 physical cores, 8 logical processors, using up to 8 threads\n",
      "Optimize a model with 6347 rows, 7550 columns and 31448 nonzeros\n",
      "Model fingerprint: 0x456a4615\n",
      "Model has 1 quadratic constraint\n",
      "Variable types: 5 continuous, 7545 integer (7545 binary)\n",
      "Coefficient statistics:\n",
      "  Matrix range     [1e-05, 1e+04]\n",
      "  QMatrix range    [1e+00, 1e+01]\n",
      "  Objective range  [1e+00, 1e+00]\n",
      "  Bounds range     [1e+00, 1e+00]\n",
      "  RHS range        [8e+04, 8e+04]\n",
      "Presolve removed 2 rows and 0 columns\n",
      "Presolve time: 0.04s\n",
      "Presolved: 6345 rows, 7550 columns, 29040 nonzeros\n",
      "Presolved model has 1 quadratic constraint(s)\n",
      "Variable types: 3 continuous, 7547 integer (7545 binary)\n",
      "\n",
      "Root relaxation: objective 0.000000e+00, 181 iterations, 0.01 seconds (0.00 work units)\n",
      "\n",
      "    Nodes    |    Current Node    |     Objective Bounds      |     Work\n",
      " Expl Unexpl |  Obj  Depth IntInf | Incumbent    BestBd   Gap | It/Node Time\n",
      "\n",
      "H    0     0                      11.1704882    0.00000   100%     -    0s\n",
      "*    0     0               0      11.1704882    1.60092  85.7%     -    0s\n",
      "     0     0    2.74994    0   30   11.17049    2.74994  75.4%     -    0s\n",
      "H    0     0                       3.0370682    2.74994  9.45%     -    0s\n",
      "     0     0          -    0         3.03707    3.03706  0.00%     -    0s\n",
      "\n",
      "Cutting planes:\n",
      "  Gomory: 4\n",
      "  Cover: 1\n",
      "  MIR: 17\n",
      "  StrongCG: 3\n",
      "  RLT: 3\n",
      "\n",
      "Explored 1 nodes (1119 simplex iterations) in 0.35 seconds (0.14 work units)\n",
      "Thread count was 8 (of 8 available processors)\n",
      "\n",
      "Solution count 2: 3.03707 11.1705 \n",
      "\n",
      "Optimal solution found (tolerance 1.00e-04)\n",
      "Best objective 3.037068156430e+00, best bound 3.037062401489e+00, gap 0.0002%\n"
     ]
    }
   ],
   "source": [
    "# solve IP model\n",
    "m.Params.TimeLimit = 600\n",
    "m.optimize()"
   ]
  },
  {
   "cell_type": "code",
   "execution_count": 12,
   "metadata": {},
   "outputs": [
    {
     "name": "stdout",
     "output_type": "stream",
     "text": [
      "The inverse PP score is 3.037068156429507\n",
      "The PP score is 0.32926491882738584\n"
     ]
    }
   ],
   "source": [
    "print(\"The inverse PP score is\",m.objval)\n",
    "print(\"The PP score is\",1.0/m.objval)\n",
    "\n",
    "# retrieve the districts and their populations\n",
    "district = [i for i in G.nodes if x[i].x > 0.5] \n",
    "#district_counties = [ G.nodes[i][\"NAME20\"] for i in district ] \n",
    "district_population = sum(G.nodes[i][\"TOTPOP\"] for i in district )\n",
    "\n",
    "# print district info\n",
    "#print(\"District has population\",district_population,\"and contains counties\",district_counties)"
   ]
  },
  {
   "cell_type": "code",
   "execution_count": 13,
   "metadata": {},
   "outputs": [
    {
     "name": "stdout",
     "output_type": "stream",
     "text": [
      "nativ_pop = 41396\n",
      "total_pop = 82650\n",
      "percentage = 50 %\n"
     ]
    }
   ],
   "source": [
    "print(\"nativ_pop =\", round(nativ_pop.x) )\n",
    "print(\"total_pop =\", round(total_pop.x) )\n",
    "print(\"percentage =\", round( 100 * nativ_pop.x / total_pop.x ),\"%\" )"
   ]
  },
  {
   "cell_type": "code",
   "execution_count": 14,
   "metadata": {},
   "outputs": [],
   "source": [
    "# Let's draw it on a map\n",
    "import geopandas as gpd"
   ]
  },
  {
   "cell_type": "code",
   "execution_count": 15,
   "metadata": {},
   "outputs": [],
   "source": [
    "# Read county shapefile from \"<state>_county.shp\"\n",
    "filename = state + '_' + level + '.shp'\n",
    "\n",
    "# Read geopandas dataframe from file\n",
    "df = gpd.read_file( filepath + filename )"
   ]
  },
  {
   "cell_type": "code",
   "execution_count": 16,
   "metadata": {},
   "outputs": [
    {
     "data": {
      "image/png": "[encoded data removed]",
      "text/plain": [
       "<Figure size 432x288 with 1 Axes>"
      ]
     },
     "metadata": {
      "needs_background": "light"
     },
     "output_type": "display_data"
    }
   ],
   "source": [
    "# Which district is each county assigned to?\n",
    "assignment = [ -1 for i in G.nodes ]\n",
    "\n",
    "labeling = { i : 1 if x[i].x > 0.5 else 0 for i in G.nodes }\n",
    "\n",
    "# Now add the assignments to a column of the dataframe and map it\n",
    "node_with_this_geoid = { G.nodes[i]['GEOID20'] : i for i in G.nodes }\n",
    "\n",
    "# pick a position u in the dataframe\n",
    "for u in range(G.number_of_nodes()):\n",
    "    \n",
    "    geoid = df['GEOID20'][u]\n",
    "    \n",
    "    # what node in G has this geoid?\n",
    "    i = node_with_this_geoid[geoid]\n",
    "    \n",
    "    # position u in the dataframe should be given\n",
    "    # the same district # that county i has in 'labeling'\n",
    "    assignment[u] = labeling[i]\n",
    "    \n",
    "# now add the assignments to a column of our dataframe and then map it\n",
    "df['assignment'] = assignment\n",
    "\n",
    "my_fig = df.plot(column='assignment').get_figure()"
   ]
  },
  {
   "cell_type": "code",
   "execution_count": null,
   "metadata": {},
   "outputs": [],
   "source": []
  }
 ],
 "metadata": {
  "kernelspec": {
   "display_name": "Python 3",
   "language": "python",
   "name": "python3"
  },
  "language_info": {
   "codemirror_mode": {
    "name": "ipython",
    "version": 3
   },
   "file_extension": ".py",
   "mimetype": "text/x-python",
   "name": "python",
   "nbconvert_exporter": "python",
   "pygments_lexer": "ipython3",
   "version": "3.7.10"
  }
 },
 "nbformat": 4,
 "nbformat_minor": 4
}
