{
 "cells": [
  {
   "cell_type": "code",
   "execution_count": 1,
   "metadata": {},
   "outputs": [],
   "source": [
    "state = 'IA'     # 2-letter state code\n",
    "k = 4            # number of districts\n",
    "level = 'county' # tract/county"
   ]
  },
  {
   "cell_type": "code",
   "execution_count": 2,
   "metadata": {},
   "outputs": [],
   "source": [
    "# Read graph from the json file \"<state>_<level>.json\"\n",
    "filepath = 'C:\\\\districting-data-2020\\\\'\n",
    "filename = state + '_' + level + '.json'\n",
    "\n",
    "# GerryChain has a built-in function for reading graphs of this type:\n",
    "from gerrychain import Graph\n",
    "G = Graph.from_json( filepath + filename )\n",
    "\n",
    "for node in G.nodes:\n",
    "    G.nodes[node]['TOTPOP'] = G.nodes[node]['P0010001']"
   ]
  },
  {
   "cell_type": "code",
   "execution_count": 3,
   "metadata": {},
   "outputs": [
    {
     "name": "stdout",
     "output_type": "stream",
     "text": [
      "Using L = 793605 and U = 801580 and k = 4\n"
     ]
    }
   ],
   "source": [
    "# Let's impose a 1% population deviation (+/-0.5%)\n",
    "deviation = 0.01\n",
    "total_population = sum( G.nodes[node]['TOTPOP'] for node in G.nodes )\n",
    "\n",
    "import math\n",
    "L = math.ceil( ( 1 - deviation / 2 ) * total_population / k )\n",
    "U = math.floor( ( 1 + deviation / 2 ) * total_population / k )\n",
    "print(\"Using L =\",L,\"and U =\",U,\"and k =\",k)"
   ]
  },
  {
   "cell_type": "code",
   "execution_count": 4,
   "metadata": {},
   "outputs": [
    {
     "name": "stdout",
     "output_type": "stream",
     "text": [
      "Set parameter Username\n",
      "Academic license - for non-commercial use only - expires 2023-01-01\n"
     ]
    }
   ],
   "source": [
    "import gurobipy as gp\n",
    "from gurobipy import GRB\n",
    "\n",
    "# create model \n",
    "m = gp.Model()\n",
    "\n",
    "import networkx as nx\n",
    "DG = nx.DiGraph(G)   # directed version of G\n",
    "\n",
    "# create variables\n",
    "# x[i,j] equals one when node i is assigned to district j\n",
    "x = m.addVars(G.nodes, k, vtype=GRB.BINARY)  \n",
    "\n",
    "# y[u,v,j] equals one when arc (u,v) is cut because u->j but not v->j\n",
    "y = m.addVars(DG.edges, k, vtype=GRB.BINARY) \n",
    "\n",
    "# z[j] is inverse Polsby-Popper score for district j\n",
    "z = m.addVars(k)\n",
    "\n",
    "# A[j] = area of district j\n",
    "A = m.addVars(k)\n",
    "\n",
    "# P[j] = perimeter of district j\n",
    "P = m.addVars(k)\n",
    "\n",
    "for j in range(k):\n",
    "    z[j].lb = 0\n",
    "    A[j].lb = 0\n",
    "    P[j].lb = 0"
   ]
  },
  {
   "cell_type": "code",
   "execution_count": 5,
   "metadata": {},
   "outputs": [],
   "source": [
    "# objective is to minimize sum of inverse Polsby-Popper scores\n",
    "coef = 1 / ( 2 * math.pi )\n",
    "m.setObjective( coef * gp.quicksum( z[j] for j in range(k) ), GRB.MINIMIZE )"
   ]
  },
  {
   "cell_type": "code",
   "execution_count": 6,
   "metadata": {},
   "outputs": [],
   "source": [
    "# add SOCP constraints relating inverse Polsby-Popper score z[j] to area and perimeter\n",
    "m.addConstrs( P[j] * P[j] <= 2 * A[j] * z[j] for j in range(k) )\n",
    "\n",
    "# add constraints on areas A[j] \n",
    "m.addConstrs( A[j] == gp.quicksum( G.nodes[i]['area'] * x[i,j] for i in G.nodes ) for j in range(k) )\n",
    "\n",
    "# add constraints on perimeters P[j]\n",
    "for j in range(k):\n",
    "    m.addConstr( P[j] == gp.quicksum( DG.edges[u,v]['shared_perim'] * y[u,v,j] for u,v in DG.edges )\n",
    "             + gp.quicksum( G.nodes[i]['boundary_perim'] * x[i,j] for i in G.nodes if G.nodes[i]['boundary_node'] ) )\n",
    "    \n",
    "m.update()"
   ]
  },
  {
   "cell_type": "code",
   "execution_count": 7,
   "metadata": {},
   "outputs": [],
   "source": [
    "# add constraints saying that each node i is assigned to one district\n",
    "m.addConstrs( gp.quicksum( x[i,j] for j in range(k)) == 1 for i in G.nodes )\n",
    "\n",
    "# add constraints saying that each district has population at least L and at most U\n",
    "m.addConstrs( gp.quicksum( G.nodes[i]['TOTPOP'] * x[i,j] for i in G.nodes) >= L for j in range(k) )\n",
    "m.addConstrs( gp.quicksum( G.nodes[i]['TOTPOP'] * x[i,j] for i in G.nodes) <= U for j in range(k) )\n",
    "\n",
    "# add constraints saying that edge {u,v} is cut if u is assigned to district j but v is not.\n",
    "m.addConstrs( x[u,j] - x[v,j] <= y[u,v,j] for u,v in DG.edges for j in range(k) )\n",
    "\n",
    "m.update()"
   ]
  },
  {
   "cell_type": "code",
   "execution_count": 8,
   "metadata": {},
   "outputs": [],
   "source": [
    "# Now, let's add contiguity constraints and re-solve the model.\n",
    "# We will use the contiguity constraints of Hojny et al. (MPC, 2021)\n",
    "#   https://link.springer.com/article/10.1007/s12532-020-00186-3\n",
    "\n",
    "# Add root variables: r[i,j] equals 1 if node i is the \"root\" of district j\n",
    "r = m.addVars( G.nodes, k, vtype=GRB.BINARY)\n",
    "\n",
    "# Add flow variables: f[u,v] = amount of flow sent across arc uv \n",
    "#  Flows are sent across arcs of the directed version of G which we call DG\n",
    "\n",
    "f = m.addVars( DG.edges )"
   ]
  },
  {
   "cell_type": "code",
   "execution_count": 9,
   "metadata": {},
   "outputs": [],
   "source": [
    "def compute_big_M(G,U):\n",
    "    mm = gp.Model()\n",
    "    mm.Params.OutputFlag = 0\n",
    "    mx = mm.addVars( G.nodes, vtype=GRB.BINARY )\n",
    "    mm.setObjective( gp.quicksum( mx ), GRB.MAXIMIZE )\n",
    "    mm.addConstr( gp.quicksum( G.nodes[i]['TOTPOP'] * mx[i] for i in G.nodes ) <= U )\n",
    "    mm.optimize()\n",
    "    return round(mm.objVal) - 1"
   ]
  },
  {
   "cell_type": "code",
   "execution_count": 10,
   "metadata": {},
   "outputs": [],
   "source": [
    "# The big-M proposed by Hojny et al.\n",
    "# M = G.number_of_nodes() - k + 1\n",
    "\n",
    "# A stronger big-M\n",
    "M = compute_big_M(G,U)\n",
    "\n",
    "# Each district j should have one root\n",
    "#m.addConstrs( gp.quicksum( r[i,j] for i in G.nodes ) == 1 for j in range(k) )\n",
    "# ^a stronger form of this appears in orbitope EF, so skip it.\n",
    "\n",
    "# If node i is not assigned to district j, then it cannot be its root\n",
    "m.addConstrs( r[i,j] <= x[i,j] for i in G.nodes for j in range(k) ) \n",
    "\n",
    "# if not a root, consume some flow.\n",
    "# if a root, only send out (so much) flow.\n",
    "m.addConstrs( gp.quicksum( f[j,i] - f[i,j] for j in G.neighbors(i) ) \n",
    "             >= 1 - M * gp.quicksum( r[i,j] for j in range(k) ) for i in G.nodes )\n",
    "\n",
    "# do not send flow across cut edges\n",
    "m.addConstrs( f[u,v] + f[v,u] <= M * ( 1 - gp.quicksum( y[u,v,j] for j in range(k) ) ) for u,v in DG.edges )\n",
    "\n",
    "m.update()"
   ]
  },
  {
   "cell_type": "code",
   "execution_count": 11,
   "metadata": {},
   "outputs": [],
   "source": [
    "# helper functions for symmetry handling and variable fixing\n",
    "def sort_by_second(val):\n",
    "    return val[1]\n",
    "\n",
    "def find_ordering(B, G):\n",
    "    V_B_with_population = [(i,G.nodes[i]['TOTPOP']) for i in G.nodes if i not in B]\n",
    "    V_B_with_population.sort(key=sort_by_second,reverse=True)\n",
    "    return [v for (v,p) in V_B_with_population] + B\n",
    "\n",
    "def solve_maxB_problem(G, L, k):\n",
    "    m = gp.Model()\n",
    "    m.params.LogToConsole = 0 # keep log to a minimum\n",
    "    q = k\n",
    "    \n",
    "    # X[i,j]=1 if vertex i is assigned to bin j\n",
    "    X = m.addVars(G.nodes, range(q), vtype=GRB.BINARY)\n",
    "    \n",
    "    # B[i]=1 if vertex i is selected in set B\n",
    "    B = m.addVars(G.nodes, vtype=GRB.BINARY)\n",
    "   \n",
    "    # assignment constraints            \n",
    "    m.addConstrs( gp.quicksum(X[i,j] for j in range(q)) == B[i] for i in G.nodes )\n",
    "                \n",
    "    # bin population should be less than L\n",
    "    m.addConstrs( gp.quicksum(G.nodes[i]['TOTPOP'] * X[i,j] for i in G.nodes) <= L-1 for j in range(q) )\n",
    "    \n",
    "    # bins shouldn't touch each other\n",
    "    m.addConstrs( X[u,j] + B[v] <= 1 + X[v,j] for u,v in G.edges for j in range(q) )\n",
    "    m.addConstrs( X[u,j] + B[v] <= 1 + X[v,j] for v,u in G.edges for j in range(q) )\n",
    "    \n",
    "    # objective is to maximize size of set B\n",
    "    m.setObjective( gp.quicksum( B ), GRB.MAXIMIZE )\n",
    "    \n",
    "    m.Params.MIPFocus = 1 # turn on MIPFocus\n",
    "    m.Params.timeLimit = 60 # 60-second time limit\n",
    "    m.optimize()\n",
    "    \n",
    "    if m.status in { GRB.OPTIMAL, GRB.TIME_LIMIT }:\n",
    "        B_sol = [i for i in DG.nodes if B[i].x > 0.5 ]\n",
    "    else:\n",
    "        B_sol = list()\n",
    "    print(\"Size of B =\",len(B_sol))\n",
    "    return B_sol\n",
    "    \n",
    "# how many people are reachable from v in G[S]? Uses BFS\n",
    "def reachable_population(G, S, v):\n",
    "    pr = 0 # population reached\n",
    "    if not S[v]:\n",
    "        return 0\n",
    "    \n",
    "    visited = [False for i in G.nodes]\n",
    "    child = [v]\n",
    "    visited[v] = True\n",
    "    while child:\n",
    "        parent = child\n",
    "        child = list()\n",
    "        for i in parent:\n",
    "            pr += G.nodes[i]['TOTPOP']\n",
    "            for j in G.neighbors(i):\n",
    "                if S[j] and not visited[j]:\n",
    "                    child.append(j)\n",
    "                    visited[j] = True\n",
    "    return pr     "
   ]
  },
  {
   "cell_type": "code",
   "execution_count": 12,
   "metadata": {},
   "outputs": [
    {
     "name": "stdout",
     "output_type": "stream",
     "text": [
      "Size of B = 85\n"
     ]
    }
   ],
   "source": [
    "# APPLY FIXINGS\n",
    "B = solve_maxB_problem(G, L, k)\n",
    "ordering = find_ordering(B, G)"
   ]
  },
  {
   "cell_type": "code",
   "execution_count": 13,
   "metadata": {},
   "outputs": [],
   "source": [
    "# D-fixing\n",
    "for p in range(G.number_of_nodes()):\n",
    "    i = ordering[p]\n",
    "    for j in range(p+1,k):\n",
    "        x[i,j].UB = 0"
   ]
  },
  {
   "cell_type": "code",
   "execution_count": 14,
   "metadata": {},
   "outputs": [],
   "source": [
    "# L-fixing\n",
    "\n",
    "# find \"back\" of ordering B = {v_q, v_{q+1}, ..., v_{n-1} }\n",
    "n = G.number_of_nodes()\n",
    "S = [False for v in G.nodes]\n",
    "for p in range(n):\n",
    "    v_pos = n - p - 1\n",
    "    v = ordering[v_pos]\n",
    "    S[v] = True\n",
    "    pr = reachable_population(G, S, v)\n",
    "    if pr >= L:\n",
    "        q = v_pos + 1\n",
    "        break\n",
    "\n",
    "# none of the vertices at back (in B) can root a district. \n",
    "for p in range(q,n):\n",
    "    i = ordering[p]\n",
    "    for j in range(k):\n",
    "        r[i,j].UB = 0\n",
    "\n",
    "# vertex v_{q-1} cannot root districts {0, 1, ..., k-2}\n",
    "# vertex v_{q-2} cannot root districts {0, 1, ..., k-3}\n",
    "# ... \n",
    "# vertex v_{q-t} cannot root districts {0, 1, ..., k-t-1}\n",
    "# ...\n",
    "# vertex v_{q-(k-1)} cannot root district {0}\n",
    "for t in range(1,k):\n",
    "    i = ordering[q-t]\n",
    "    for j in range(k-t):\n",
    "        r[i,j].UB = 0"
   ]
  },
  {
   "cell_type": "code",
   "execution_count": 15,
   "metadata": {},
   "outputs": [],
   "source": [
    "# U-fixing\n",
    "DG = nx.DiGraph(G)\n",
    "for (i,j) in DG.edges:\n",
    "    DG[i][j]['ufixweight'] = G.nodes[j]['TOTPOP'] # weight of edge (i,j) is population of its head j\n",
    "\n",
    "for j in range(k):\n",
    "\n",
    "    v = ordering[j]\n",
    "    dist = nx.shortest_path_length(DG,source=v,weight='ufixweight')\n",
    "\n",
    "    if j == 0:\n",
    "        min_dist = U+1\n",
    "    else:\n",
    "        min_dist = min( dist[ordering[t]] + G.nodes[v]['TOTPOP'] for t in range(j) )\n",
    "\n",
    "    if min_dist <= U:\n",
    "        break\n",
    "    \n",
    "    r[v,j].LB = 1\n",
    "    x[v,j].LB = 1\n",
    "\n",
    "    for t in range(k):\n",
    "        if t != j:\n",
    "            x[v,t].UB = 0\n",
    "\n",
    "    for i in DG.nodes:\n",
    "        if i != v:\n",
    "            r[i,j].UB = 0\n",
    "\n",
    "    for i in DG.nodes:\n",
    "        if i != v and dist[i] + G.nodes[v]['TOTPOP'] > U:\n",
    "            x[i,j].UB = 0"
   ]
  },
  {
   "cell_type": "code",
   "execution_count": 16,
   "metadata": {},
   "outputs": [],
   "source": [
    "# cut edge variable fixings\n",
    "for u,v in G.edges:\n",
    "    for j in range(k):\n",
    "        if x[u,j].UB < 0.5 or x[v,j].LB > 0.5:\n",
    "            y[u,v,j].UB = 0\n",
    "        elif x[u,j].LB > 0.5 and x[v,j].UB < 0.5:\n",
    "            y[u,v,j].LB = 1"
   ]
  },
  {
   "cell_type": "code",
   "execution_count": 17,
   "metadata": {},
   "outputs": [
    {
     "data": {
      "text/plain": [
       "<gurobi.Constr *Awaiting Model Update*>"
      ]
     },
     "execution_count": 17,
     "metadata": {},
     "output_type": "execute_result"
    }
   ],
   "source": [
    "# add partitioning orbitope EF\n",
    "s = m.addVars(G.nodes, k)\n",
    "u = m.addVars(G.nodes, k)\n",
    "w = m.addVars(G.nodes, k) \n",
    "\n",
    "m.addConstrs(x[i,j] == s[i,j]-s[i,j+1] for i in G.nodes for j in range(k-1))\n",
    "m.addConstrs(x[i,k-1] == s[i,k-1] for i in G.nodes)\n",
    "\n",
    "m.addConstrs(r[ordering[0],j] == w[ordering[0],j] for j in range(k))\n",
    "m.addConstrs(r[ordering[i],j] == w[ordering[i],j] - w[ordering[i-1],j] for i in range(1,G.number_of_nodes()) for j in range(k))\n",
    "\n",
    "m.addConstrs(r[i,j] <= x[i,j] for i in G.nodes for j in range(k))\n",
    "m.addConstrs(s[i,j] <= w[i,j] for i in G.nodes for j in range(k))\n",
    "\n",
    "m.addConstrs(u[ordering[i],j]+r[ordering[i],j] == u[ordering[i+1],j] + r[ordering[i+1],j+1] for i in range(0,G.number_of_nodes()-1) for j in range(k-1))\n",
    "m.addConstrs(u[ordering[i],k-1]+r[ordering[i],k-1] == u[ordering[i+1],k-1] for i in range(0,G.number_of_nodes()-1))\n",
    "m.addConstrs(u[ordering[G.number_of_nodes()-1],j]+r[ordering[G.number_of_nodes()-1],j] == 0 for j in range(k-1))\n",
    "\n",
    "r[ordering[0],0].LB=1\n",
    "m.addConstr( u[ordering[G.number_of_nodes()-1],k-1] + r[ordering[G.number_of_nodes()-1],k-1]==1 )  "
   ]
  },
  {
   "cell_type": "code",
   "execution_count": 18,
   "metadata": {},
   "outputs": [
    {
     "name": "stdout",
     "output_type": "stream",
     "text": [
      "Gurobi Optimizer version 9.5.0 build v9.5.0rc5 (win64)\n",
      "Thread count: 4 physical cores, 8 logical processors, using up to 8 threads\n",
      "Optimize a model with 4810 rows, 4212 columns and 18915 nonzeros\n",
      "Model fingerprint: 0x1efea033\n",
      "Model has 4 quadratic constraints\n",
      "Variable types: 1644 continuous, 2568 integer (2568 binary)\n",
      "Coefficient statistics:\n",
      "  Matrix range     [2e-02, 5e+05]\n",
      "  QMatrix range    [1e+00, 2e+00]\n",
      "  Objective range  [2e-01, 2e-01]\n",
      "  Bounds range     [1e+00, 1e+00]\n",
      "  RHS range        [1e+00, 8e+05]\n",
      "Presolve removed 2164 rows and 1535 columns\n",
      "Presolve time: 0.05s\n",
      "Presolved: 2646 rows, 2677 columns, 12931 nonzeros\n",
      "Presolved model has 4 quadratic constraint(s)\n",
      "Variable types: 456 continuous, 2221 integer (2198 binary)\n",
      "\n",
      "Root relaxation: objective 0.000000e+00, 1565 iterations, 0.03 seconds (0.03 work units)\n",
      "\n",
      "    Nodes    |    Current Node    |     Objective Bounds      |     Work\n",
      " Expl Unexpl |  Obj  Depth IntInf | Incumbent    BestBd   Gap | It/Node Time\n",
      "\n",
      "     0     0    0.00000    0  428          -    0.00000      -     -    0s\n",
      "     0     0    3.52134    0  485          -    3.52134      -     -    0s\n",
      "     0     0    3.81301    0  469          -    3.81301      -     -    1s\n",
      "     0     0    3.81439    0  468          -    3.81439      -     -    1s\n",
      "     0     0    3.90823    0  483          -    3.90823      -     -    1s\n",
      "     0     0    3.91123    0  473          -    3.91123      -     -    1s\n",
      "     0     0    3.92530    0  494          -    3.92530      -     -    1s\n",
      "     0     0    3.92854    0  466          -    3.92854      -     -    1s\n",
      "     0     0    3.92983    0  487          -    3.92983      -     -    1s\n",
      "     0     0    3.93069    0  485          -    3.93069      -     -    1s\n",
      "     0     0    3.93280    0  514          -    3.93280      -     -    1s\n",
      "     0     0    3.93280    0  514          -    3.93280      -     -    1s\n",
      "     0     2    3.94611    0  514          -    3.94611      -     -    2s\n",
      "   528   543    5.18650    9  475          -    4.61869      -   161    5s\n",
      "   930   844    6.72410   30  511          -    4.61869      -   150   10s\n",
      "   943   852    7.23319   36  521          -    4.61869      -   148   15s\n",
      "   948   861    4.61869   12  510          -    4.61869      -   159   20s\n",
      "  1218  1065    7.43654   30  505          -    5.22462      -   195   25s\n",
      "H 1847  1444                      10.3072436    5.22462  49.3%   183   28s\n",
      "H 1951  1331                      10.1679887    5.22462  48.6%   179   29s\n",
      "H 2041  1253                       9.6390595    5.22462  45.8%   180   29s\n",
      "  2080  1235    9.54405   74  118    9.63906    5.45296  43.4%   181   30s\n",
      "* 2082  1198              75       9.6390595    5.45296  43.4%   181   30s\n",
      "  2503  1278    6.09300   16  572    9.63906    5.62616  41.6%   199   35s\n",
      "  3194  1436    7.48155   19  577    9.63906    6.02927  37.4%   211   40s\n",
      "  3689  1695    9.35798   46  261    9.63906    6.21289  35.5%   217   45s\n",
      "  4274  1924    7.21603   22  486    9.63906    6.31864  34.4%   223   50s\n",
      "  4719  2093     cutoff   35         9.63906    6.42844  33.3%   230   55s\n",
      "  5300  2275    9.48292   26  542    9.63906    6.49925  32.6%   235   60s\n",
      "  5533  2342    9.12401   35  446    9.63906    6.52315  32.3%   234   65s\n",
      "  6136  2520    7.70074   21  426    9.63906    6.57036  31.8%   235   71s\n",
      "  6771  2802    8.15998   20  435    9.63906    6.65082  31.0%   237   76s\n",
      "  7251  2962    8.06460   23  432    9.63906    6.69149  30.6%   238   80s\n",
      "  7740  3086    8.67169   21  520    9.63906    6.76469  29.8%   239   85s\n",
      "  8417  3266    7.71628   22  490    9.63906    6.79875  29.5%   242   92s\n",
      "  8933  3478    8.77873   29  494    9.63906    6.86860  28.7%   244   96s\n",
      "  9539  3713 infeasible   32         9.63906    6.90887  28.3%   246  102s\n",
      " 10156  3923    7.99304   22  316    9.63906    6.96035  27.8%   249  107s\n",
      " 10530  3924    9.45807   34  371    9.63906    6.97903  27.6%   249  110s\n",
      " 11052  4283     cutoff   22         9.63906    6.99340  27.4%   250  116s\n",
      " 11464  4385     cutoff   32         9.63906    7.04532  26.9%   250  120s\n",
      " 12237  4627    8.58383   28  507    9.63906    7.12607  26.1%   251  126s\n",
      " 12635  4767     cutoff   27         9.63906    7.16285  25.7%   253  130s\n",
      "H13064  4072                       9.1557605    7.18871  21.5%   254  133s\n",
      "*13064  4072              39       9.1557605    7.18871  21.5%   254  133s\n",
      " 13505  4125    9.15576   39    -    9.15576    7.21442  21.2%   255  137s\n",
      "H13780  3837                       9.0414847    7.21752  20.2%   256  137s\n",
      "*13780  3837              34       9.0414847    7.21752  20.2%   256  137s\n",
      " 13937  3864     cutoff   39         9.04148    7.23534  20.0%   256  141s\n",
      "*14212  3864              34       9.0414847    7.24568  19.9%   258  141s\n",
      " 14354  3910     cutoff   23         9.04148    7.27314  19.6%   259  145s\n",
      " 15238  4086    8.22443   25  557    9.04148    7.34313  18.8%   261  153s\n",
      " 15565  4135    8.78997   25  448    9.04148    7.36843  18.5%   263  158s\n",
      " 16009  4160    8.47277   24  563    9.04148    7.41418  18.0%   265  163s\n",
      " 16457  4212     cutoff   25         9.04148    7.43908  17.7%   268  168s\n",
      " 16960  4254    8.30192   22  614    9.04148    7.46717  17.4%   270  173s\n",
      " 17480  4335 infeasible   25         9.04148    7.50816  17.0%   272  179s\n",
      " 18189  4344    8.91373   22  538    9.04148    7.55518  16.4%   272  186s\n",
      " 18455  4387    8.94582   24  507    9.04148    7.57394  16.2%   273  193s\n",
      " 19039  4440    7.98680   22  465    9.04148    7.61431  15.8%   276  200s\n",
      " 19674  4485    8.64800   26  404    9.04148    7.64759  15.4%   277  207s\n",
      " 20360  4524     cutoff   22         9.04148    7.68544  15.0%   279  215s\n",
      " 20996  4566    8.76061   19  574    9.04148    7.72404  14.6%   281  222s\n",
      " 21710  4612 infeasible   21         9.04148    7.75591  14.2%   282  230s\n",
      " 22457  4622    8.72953   21  504    9.04148    7.78287  13.9%   284  238s\n",
      " 23242  4652    8.67854   22  404    9.04148    7.81864  13.5%   288  245s\n",
      " 23625  4626    9.00282   26  420    9.04148    7.83128  13.4%   288  253s\n",
      " 24293  4639     cutoff   29         9.04148    7.86859  13.0%   290  261s\n",
      " 25038  4665    8.84202   32  389    9.04148    7.89760  12.7%   292  268s\n",
      " 25853  4661     cutoff   24         9.04148    7.93204  12.3%   293  276s\n",
      " 26558  4623 infeasible   28         9.04148    7.95903  12.0%   294  283s\n",
      " 27258  4596    9.01741   20  527    9.04148    7.98760  11.7%   296  291s\n",
      " 28052  4587    8.49543   27  554    9.04148    8.02083  11.3%   296  300s\n",
      " 28832  4599     cutoff   25         9.04148    8.05512  10.9%   297  309s\n",
      " 29401  4566     cutoff   26         9.04148    8.07643  10.7%   297  318s\n",
      "H30072  3422                       8.7336652    8.10756  7.17%   298  318s\n",
      " 30156  3144    8.59129   24  419    8.73367    8.10876  7.16%   298  328s\n",
      "H30378  2911                       8.6901792    8.11022  6.67%   299  328s\n",
      "*30378  2911              31       8.6901792    8.11022  6.67%   299  328s\n",
      " 30883  2600     cutoff   24         8.69018    8.16869  6.00%   299  338s\n",
      "*31056  2600              31       8.6901789    8.16888  6.00%   300  338s\n",
      " 31580  2252     cutoff   23         8.69018    8.23422  5.25%   301  348s\n",
      " 32279  1834 infeasible   29         8.69018    8.30773  4.40%   302  357s\n",
      " 33019  1341     cutoff   29         8.69018    8.37218  3.66%   303  366s\n",
      " 33770   801     cutoff   39         8.69018    8.46037  2.64%   303  373s\n",
      " 34407   208    8.63691   27  107    8.69018    8.55173  1.59%   304  379s\n",
      "\n",
      "Cutting planes:\n",
      "  Gomory: 13\n",
      "  Cover: 44\n",
      "  Clique: 3\n",
      "  MIR: 93\n",
      "  StrongCG: 1\n",
      "  Flow cover: 198\n",
      "  Inf proof: 31\n",
      "  Zero half: 37\n",
      "  RLT: 3\n",
      "\n",
      "Explored 35211 nodes (10617676 simplex iterations) in 379.96 seconds (486.94 work units)\n",
      "Thread count was 8 (of 8 available processors)\n",
      "\n",
      "Solution count 7: 8.69018 8.73367 9.04148 ... 10.3072\n",
      "\n",
      "Optimal solution found (tolerance 1.00e-04)\n",
      "Warning: max constraint violation (1.8153e-05) exceeds tolerance\n",
      "Best objective 8.690178858281e+00, best bound 8.690178858281e+00, gap 0.0000%\n"
     ]
    }
   ],
   "source": [
    "# solve IP model\n",
    "m.optimize()"
   ]
  },
  {
   "cell_type": "code",
   "execution_count": 19,
   "metadata": {},
   "outputs": [
    {
     "name": "stdout",
     "output_type": "stream",
     "text": [
      "The objective value is 8.690178858280596\n",
      "District 0 has population 795525 and contains counties ['Story', 'Polk', 'Marshall', 'Jasper', 'Warren', 'Poweshiek', 'Marion', 'Mahaska']\n",
      "\n",
      "District 1 has population 795577 and contains counties ['Keokuk', 'Davis', 'Jones', 'Des Moines', 'Scott', 'Lee', 'Iowa', 'Wapello', 'Henry', 'Louisa', 'Muscatine', 'Washington', 'Cedar', 'Jefferson', 'Clinton', 'Dubuque', 'Jackson', 'Van Buren', 'Johnson']\n",
      "\n",
      "District 2 has population 798707 and contains counties ['Montgomery', 'Union', 'Sac', 'Audubon', 'Boone', 'Plymouth', 'Pottawattamie', 'Taylor', 'Page', 'Cherokee', 'Fremont', 'Emmet', 'Woodbury', 'Clay', 'Crawford', 'Osceola', 'Greene', 'Lyon', 'Adams', 'Monona', 'Monroe', 'Lucas', \"O'Brien\", 'Guthrie', 'Sioux', 'Ida', 'Cass', 'Decatur', 'Carroll', 'Pocahontas', 'Harrison', 'Madison', 'Palo Alto', 'Ringgold', 'Calhoun', 'Clarke', 'Adair', 'Shelby', 'Wayne', 'Dickinson', 'Buena Vista', 'Mills', 'Dallas', 'Appanoose']\n",
      "\n",
      "District 3 has population 800560 and contains counties ['Wright', 'Mitchell', 'Grundy', 'Winneshiek', 'Delaware', 'Floyd', 'Hardin', 'Butler', 'Buchanan', 'Cerro Gordo', 'Humboldt', 'Tama', 'Hamilton', 'Franklin', 'Bremer', 'Allamakee', 'Winnebago', 'Kossuth', 'Webster', 'Howard', 'Worth', 'Black Hawk', 'Fayette', 'Chickasaw', 'Hancock', 'Benton', 'Linn', 'Clayton']\n",
      "\n"
     ]
    }
   ],
   "source": [
    "print(\"The objective value is\",m.objval)\n",
    "\n",
    "# retrieve the districts and their populations\n",
    "districts = [ [i for i in G.nodes if x[i,j].x > 0.5] for j in range(k)]\n",
    "district_counties = [ [ G.nodes[i][\"NAME20\"] for i in districts[j] ] for j in range(k)]\n",
    "district_populations = [ sum(G.nodes[i][\"TOTPOP\"] for i in districts[j]) for j in range(k) ]\n",
    "\n",
    "# print district info\n",
    "for j in range(k):\n",
    "    print(\"District\",j,\"has population\",district_populations[j],\"and contains counties\",district_counties[j])\n",
    "    print(\"\")"
   ]
  },
  {
   "cell_type": "code",
   "execution_count": 20,
   "metadata": {},
   "outputs": [],
   "source": [
    "# Let's draw it on a map\n",
    "import geopandas as gpd"
   ]
  },
  {
   "cell_type": "code",
   "execution_count": 21,
   "metadata": {},
   "outputs": [],
   "source": [
    "# Read shapefile from \"<state>_<level>.shp\"\n",
    "filename = state + '_' + level + '.shp'\n",
    "\n",
    "# Read geopandas dataframe from file\n",
    "df = gpd.read_file( filepath + filename )"
   ]
  },
  {
   "cell_type": "code",
   "execution_count": 22,
   "metadata": {},
   "outputs": [
    {
     "data": {
      "image/png": "[encoded data removed]",
      "text/plain": [
       "<Figure size 432x288 with 1 Axes>"
      ]
     },
     "metadata": {
      "needs_background": "light"
     },
     "output_type": "display_data"
    }
   ],
   "source": [
    "# Which district is each node assigned to?\n",
    "assignment = [ -1 for i in G.nodes ]\n",
    "\n",
    "labeling = { i : j for i in G.nodes for j in range(k) if x[i,j].x > 0.5 }\n",
    "\n",
    "# Now add the assignments to a column of the dataframe and map it\n",
    "node_with_this_geoid = { G.nodes[i]['GEOID20'] : i for i in G.nodes }\n",
    "\n",
    "# pick a position u in the dataframe\n",
    "for u in range(G.number_of_nodes()):\n",
    "    \n",
    "    geoid = df['GEOID20'][u]\n",
    "    \n",
    "    # what node in G has this geoid?\n",
    "    i = node_with_this_geoid[geoid]\n",
    "    \n",
    "    # position u in the dataframe should be given\n",
    "    # the same district # that node i has in 'labeling'\n",
    "    assignment[u] = labeling[i]\n",
    "    \n",
    "# now add the assignments to a column of our dataframe and then map it\n",
    "df['assignment'] = assignment\n",
    "\n",
    "my_fig = df.plot(column='assignment').get_figure()"
   ]
  },
  {
   "cell_type": "code",
   "execution_count": null,
   "metadata": {},
   "outputs": [],
   "source": []
  }
 ],
 "metadata": {
  "kernelspec": {
   "display_name": "Python 3",
   "language": "python",
   "name": "python3"
  },
  "language_info": {
   "codemirror_mode": {
    "name": "ipython",
    "version": 3
   },
   "file_extension": ".py",
   "mimetype": "text/x-python",
   "name": "python",
   "nbconvert_exporter": "python",
   "pygments_lexer": "ipython3",
   "version": "3.7.10"
  }
 },
 "nbformat": 4,
 "nbformat_minor": 4
}
