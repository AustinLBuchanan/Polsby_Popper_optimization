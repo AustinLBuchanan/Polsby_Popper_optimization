{
 "cells": [
  {
   "cell_type": "code",
   "execution_count": 1,
   "metadata": {},
   "outputs": [],
   "source": [
    "# https://en.m.wikipedia.org/wiki/List_of_majority-minority_United_States_congressional_districts\n",
    "state = 'MI'    # 2-letter state code\n",
    "level = 'tract' # county, tract, block"
   ]
  },
  {
   "cell_type": "code",
   "execution_count": 2,
   "metadata": {},
   "outputs": [],
   "source": [
    "filepath = 'C:\\\\districting-data-2020\\\\'\n",
    "filename = state + '_' + level + '.json'\n",
    "\n",
    "# GerryChain has a built-in function for reading graphs of this type:\n",
    "from gerrychain import Graph\n",
    "G = Graph.from_json( filepath + filename )\n",
    "\n",
    "for node in G.nodes:\n",
    "    # See http://starr.tamu.edu/files/2013/01/Census-Codes.pdf\n",
    "    G.nodes[node]['TOTPOP'] = G.nodes[node]['P0010001']\n",
    "    \n",
    "    # Black or African American alone:\n",
    "    G.nodes[node]['BLAPOP'] = G.nodes[node]['P0010004']"
   ]
  },
  {
   "cell_type": "code",
   "execution_count": 3,
   "metadata": {},
   "outputs": [
    {
     "name": "stdout",
     "output_type": "stream",
     "text": [
      "Using L = 771304 and U = 779055 and k = 13\n"
     ]
    }
   ],
   "source": [
    "# Let's impose a 1% population deviation (+/-0.5%)\n",
    "deviation = 0.01\n",
    "total_population = sum( G.nodes[node]['TOTPOP'] for node in G.nodes )\n",
    "\n",
    "import math\n",
    "from number_of_districts import congressional_districts_2020\n",
    "k = congressional_districts_2020[state]\n",
    "L = math.ceil( ( 1 - deviation / 2 ) * total_population / k )\n",
    "U = math.floor( ( 1 + deviation / 2 ) * total_population / k )\n",
    "print(\"Using L =\",L,\"and U =\",U,\"and k =\",k)"
   ]
  },
  {
   "cell_type": "code",
   "execution_count": 4,
   "metadata": {},
   "outputs": [
    {
     "name": "stdout",
     "output_type": "stream",
     "text": [
      "Set parameter Username\n",
      "Academic license - for non-commercial use only - expires 2023-01-01\n"
     ]
    }
   ],
   "source": [
    "import gurobipy as gp\n",
    "from gurobipy import GRB\n",
    "\n",
    "# create model \n",
    "m = gp.Model()\n",
    "\n",
    "import networkx as nx\n",
    "DG = nx.DiGraph(G)   # directed version of G\n",
    "\n",
    "# create variables\n",
    "# x[i] equals one when county i is selected\n",
    "x = m.addVars(G.nodes, vtype=GRB.BINARY)  \n",
    "\n",
    "# y[u,v] equals one when arc (u,v) is cut because u but not v is selected\n",
    "y = m.addVars(DG.edges, vtype=GRB.BINARY) \n",
    "\n",
    "# z is inverse Polsby-Popper score for district \n",
    "z = m.addVar()\n",
    "\n",
    "# A = area of district \n",
    "A = m.addVar()\n",
    "\n",
    "# P = perimeter of district \n",
    "P = m.addVar()"
   ]
  },
  {
   "cell_type": "code",
   "execution_count": 5,
   "metadata": {},
   "outputs": [],
   "source": [
    "# objective is to minimize inverse Polsby-Popper score\n",
    "m.setObjective( z, GRB.MINIMIZE )"
   ]
  },
  {
   "cell_type": "code",
   "execution_count": 6,
   "metadata": {},
   "outputs": [],
   "source": [
    "# add SOCP constraints relating inverse Polsby-Popper score z to area and perimeter\n",
    "m.addConstr( P * P <= 4 * math.pi * A * z )\n",
    "\n",
    "# add constraint on area A \n",
    "m.addConstr( A == gp.quicksum( G.nodes[i]['area'] * x[i] for i in G.nodes ) )\n",
    "\n",
    "# add constraint on perimeter P\n",
    "m.addConstr( P == gp.quicksum( DG.edges[u,v]['shared_perim'] * y[u,v] for u,v in DG.edges )\n",
    "             + gp.quicksum( G.nodes[i]['boundary_perim'] * x[i] for i in G.nodes if G.nodes[i]['boundary_node'] ) )\n",
    "    \n",
    "m.update()"
   ]
  },
  {
   "cell_type": "code",
   "execution_count": 7,
   "metadata": {},
   "outputs": [],
   "source": [
    "# add constraints saying that district has population at least L and at most U\n",
    "m.addConstr( gp.quicksum( G.nodes[i]['TOTPOP'] * x[i] for i in G.nodes) >= L )\n",
    "m.addConstr( gp.quicksum( G.nodes[i]['TOTPOP'] * x[i] for i in G.nodes) <= U )\n",
    "\n",
    "# add constraints saying that arc (u,v) is cut if u but not v is selected\n",
    "m.addConstrs( x[u] - x[v] <= y[u,v] for u,v in DG.edges )\n",
    "\n",
    "m.update()"
   ]
  },
  {
   "cell_type": "code",
   "execution_count": 8,
   "metadata": {},
   "outputs": [],
   "source": [
    "# # Now, let's add contiguity constraints and re-solve the model.\n",
    "# # We will use the contiguity constraints of Hojny et al. (MPC, 2021)\n",
    "# #   https://link.springer.com/article/10.1007/s12532-020-00186-3\n",
    "\n",
    "# # Add root variables: r[i,j] equals 1 if node i is the \"root\" of district j\n",
    "# r = m.addVars( G.nodes, k, vtype=GRB.BINARY)\n",
    "\n",
    "# # To solve the MIP faster, fix a district root:\n",
    "# r[0,0].LB = 1\n",
    "\n",
    "# # Add flow variables: f[u,v] = amount of flow sent across arc uv \n",
    "# #  Flows are sent across arcs of the directed version of G which we call DG\n",
    "\n",
    "# f = m.addVars( DG.edges )"
   ]
  },
  {
   "cell_type": "code",
   "execution_count": 9,
   "metadata": {},
   "outputs": [],
   "source": [
    "# # The big-M proposed by Hojny et al.\n",
    "# M = G.number_of_nodes() - k + 1\n",
    "\n",
    "# # Each district j should have one root\n",
    "# m.addConstrs( gp.quicksum( r[i,j] for i in G.nodes ) == 1 for j in range(k) )\n",
    "\n",
    "# # If node i is not assigned to district j, then it cannot be its root\n",
    "# m.addConstrs( r[i,j] <= x[i,j] for i in G.nodes for j in range(k) ) \n",
    "\n",
    "# # if not a root, consume some flow.\n",
    "# # if a root, only send out (so much) flow.\n",
    "# m.addConstrs( gp.quicksum( f[j,i] - f[i,j] for j in G.neighbors(i) ) \n",
    "#              >= 1 - M * gp.quicksum( r[i,j] for j in range(k) ) for i in G.nodes )\n",
    "\n",
    "# # do not send flow across cut edges\n",
    "# m.addConstrs( f[u,v] + f[v,u] <= M * ( 1 - gp.quicksum( y[u,v,j] for j in range(k) ) ) for u,v in DG.edges )\n",
    "\n",
    "# m.update()"
   ]
  },
  {
   "cell_type": "code",
   "execution_count": 10,
   "metadata": {},
   "outputs": [
    {
     "data": {
      "text/plain": [
       "<gurobi.Constr *Awaiting Model Update*>"
      ]
     },
     "execution_count": 10,
     "metadata": {},
     "output_type": "execute_result"
    }
   ],
   "source": [
    "# black_population >= 0.5 * total_population\n",
    "black_pop = m.addVar()\n",
    "total_pop = m.addVar()\n",
    "\n",
    "m.addConstr( black_pop == gp.quicksum( G.nodes[i]['BLAPOP'] * x[i] for i in G.nodes ) )\n",
    "m.addConstr( total_pop == gp.quicksum( G.nodes[i]['TOTPOP'] * x[i] for i in G.nodes ) )\n",
    "\n",
    "m.addConstr( black_pop >= 0.5 * total_pop )"
   ]
  },
  {
   "cell_type": "code",
   "execution_count": 11,
   "metadata": {},
   "outputs": [
    {
     "name": "stdout",
     "output_type": "stream",
     "text": [
      "Set parameter TimeLimit to value 600\n",
      "Gurobi Optimizer version 9.5.0 build v9.5.0rc5 (win64)\n",
      "Thread count: 4 physical cores, 8 logical processors, using up to 8 threads\n",
      "Optimize a model with 15985 rows, 19000 columns and 78740 nonzeros\n",
      "Model fingerprint: 0x4ae78468\n",
      "Model has 1 quadratic constraint\n",
      "Variable types: 5 continuous, 18995 integer (18995 binary)\n",
      "Coefficient statistics:\n",
      "  Matrix range     [1e-05, 1e+04]\n",
      "  QMatrix range    [1e+00, 1e+01]\n",
      "  Objective range  [1e+00, 1e+00]\n",
      "  Bounds range     [1e+00, 1e+00]\n",
      "  RHS range        [8e+05, 8e+05]\n",
      "Presolve removed 2 rows and 0 columns\n",
      "Presolve time: 0.08s\n",
      "Presolved: 15983 rows, 19000 columns, 72874 nonzeros\n",
      "Presolved model has 1 quadratic constraint(s)\n",
      "Variable types: 3 continuous, 18997 integer (18995 binary)\n",
      "\n",
      "Root relaxation: objective 0.000000e+00, 1200 iterations, 0.03 seconds (0.02 work units)\n",
      "\n",
      "    Nodes    |    Current Node    |     Objective Bounds      |     Work\n",
      " Expl Unexpl |  Obj  Depth IntInf | Incumbent    BestBd   Gap | It/Node Time\n",
      "\n",
      "     0     0    0.00000    0    8          -    0.00000      -     -    0s\n",
      "H    0     0                     145.0480259    0.00000   100%     -    0s\n",
      "H    0     0                     144.0281317    0.00000   100%     -    0s\n",
      "H    0     0                     144.0174165    0.00000   100%     -    1s\n",
      "H    0     0                     142.6384234    0.00000   100%     -    1s\n",
      "H    0     0                     142.3873858    0.00000   100%     -    1s\n",
      "H    0     0                     142.2281503    0.00000   100%     -    1s\n",
      "     0     0    0.00000    0  471  142.22815    0.00000   100%     -    1s\n",
      "H    0     0                      60.1851702    0.00000   100%     -    2s\n",
      "H    0     0                      58.9006275    0.00000   100%     -    2s\n",
      "H    0     0                      46.1685092    0.00000   100%     -    2s\n",
      "     0     0    0.16673    0 3049   46.16851    0.16673   100%     -   10s\n",
      "H    0     0                       2.8258531    0.16673  94.1%     -   10s\n",
      "H    0     0                       2.7654820    0.16673  94.0%     -   11s\n",
      "     0     0    0.18381    0 3003    2.76548    0.18381  93.4%     -   14s\n",
      "H    0     0                       2.2008405    0.18381  91.6%     -   14s\n",
      "     0     0    0.18920    0 3027    2.20084    0.18920  91.4%     -   18s\n",
      "     0     0    0.19086    0 3027    2.20084    0.19086  91.3%     -   18s\n",
      "     0     0    0.19114    0 3027    2.20084    0.19114  91.3%     -   19s\n",
      "     0     0    0.19128    0 3027    2.20084    0.19128  91.3%     -   20s\n",
      "     0     0    0.19128    0 3027    2.20084    0.19128  91.3%     -   20s\n",
      "     0     0    0.19128    0 3027    2.20084    0.19128  91.3%     -   22s\n",
      "H    0     0                       1.8999618    0.19128  89.9%     -   23s\n",
      "     0     2    0.19128    0 3027    1.89996    0.19128  89.9%     -   23s\n",
      "     1     4    0.19721    1 3001    1.89996    0.19156  89.9%  1322   25s\n",
      "    19    22    0.20929    6 2947    1.89996    0.20929  89.0%  1489   30s\n",
      "    72    82    0.23596   13  702    1.89996    0.22023  88.4%   708   35s\n",
      "   123   128    0.24992   19  996    1.89996    0.22023  88.4%   646   41s\n",
      "   165   174    0.25790   25  884    1.89996    0.22023  88.4%   632   45s\n",
      "H  167   174                       1.8527503    0.22023  88.1%   632   45s\n",
      "H  201   206                       1.8527503    0.22023  88.1%   608   48s\n",
      "H  203   206                       1.8037071    0.22023  87.8%   608   48s\n",
      "   223   238    0.27234   34  651    1.80371    0.22023  87.8%   602   50s\n",
      "H  241   239                       1.4274645    0.22023  84.6%   591   51s\n",
      "   278   269    0.27248   44  624    1.42746    0.22023  84.6%   583   55s\n",
      "H  300   294                       1.3915810    0.22023  84.2%   596   58s\n",
      "   323   296    0.37822   58 2621    1.39158    0.22023  84.2%   599   63s\n",
      "   327   297    0.38207   58 2468    1.39158    0.22023  84.2%   657   68s\n",
      "   332   299    0.39935   59 2606    1.39158    0.22023  84.2%   686   73s\n",
      "   336   302    0.45842   60 2614    1.39158    0.22023  84.2%   739   78s\n",
      "   341   307 infeasible   60         1.39158    0.22023  84.2%   771   82s\n",
      "   356   319    0.47128   68 2482    1.39158    0.22023  84.2%   801   85s\n",
      "   365   320    0.27277   57 3027    1.39158    0.22023  84.2%   801   90s\n",
      "   367   321    0.51079   29 3027    1.39158    0.22023  84.2%   797  101s\n",
      "   370   326    0.22023   16 2886    1.39158    0.22023  84.2%   849  105s\n",
      "   372   330    0.22023   17 3033    1.39158    0.22023  84.2%   848  110s\n",
      "   380   331    1.27861   18 1722    1.39158    0.22023  84.2%   900  116s\n",
      "   388   332    1.27906   19 1959    1.39158    0.22023  84.2%   949  123s\n",
      "   399   330    0.24124   20 2844    1.39158    0.24124  82.7%   951  125s\n",
      "   407   334    0.25533   22 3173    1.39158    0.24124  82.7%   955  130s\n",
      "   423   344    1.11803   24 2590    1.39158    0.24124  82.7%   998  139s\n",
      "   429   353    0.27424   25 2851    1.39158    0.24124  82.7%  1005  142s\n",
      "   448   360    0.29199   28 3008    1.39158    0.24124  82.7%   998  146s\n",
      "   461   370    0.30253   30 2830    1.39158    0.24124  82.7%  1012  151s\n",
      "   470   374    0.71204   30 2549    1.39158    0.24124  82.7%  1029  156s\n",
      "   477   379    0.32793   31 2981    1.39158    0.24124  82.7%  1037  161s\n",
      "   484   387    0.95961   31 2495    1.39158    0.24124  82.7%  1067  165s\n",
      "   506   408    0.33368   33 2947    1.39158    0.24124  82.7%  1071  172s\n",
      "   523   415    0.60509   33 3009    1.39158    0.24124  82.7%  1066  176s\n",
      "   547   438    0.35355   35 2803    1.39158    0.24124  82.7%  1056  182s\n",
      "   567   448    0.77154   37 2752    1.39158    0.24124  82.7%  1050  185s\n",
      "   607   482    0.39910   40 2654    1.39158    0.24124  82.7%  1030  191s\n",
      "   650   517    0.74483   45 2917    1.39158    0.24124  82.7%  1009  197s\n",
      "   682   537    0.43394   48 3168    1.39158    0.24124  82.7%   987  200s\n",
      "   745   584    0.51704   53 2836    1.39158    0.24124  82.7%   944  206s\n",
      "   818   632    0.45254   57 2501    1.39158    0.24124  82.7%   893  213s\n",
      "   861   637    0.46181   60 2960    1.39158    0.24124  82.7%   870  216s\n",
      "   880   642    0.57734   63 2811    1.39158    0.24124  82.7%   873  220s\n",
      "H  882   625                       1.3774751    0.24124  82.5%   871  220s\n",
      "   910   657    0.47891   67 2858    1.37748    0.24124  82.5%   882  227s\n",
      "   938   675    0.48289   70 2898    1.37748    0.24124  82.5%   875  231s\n",
      "   969   683    0.49194   73 2845    1.37748    0.24124  82.5%   866  235s\n",
      "  1001   693    0.50371   75 2890    1.37748    0.24124  82.5%   862  241s\n",
      "  1042   706    0.84134   76 3052    1.37748    0.24124  82.5%   857  245s\n",
      "  1106   714    0.54916   81 2855    1.37748    0.24124  82.5%   857  255s\n",
      "  1138   718    0.56593   87 2830    1.37748    0.24124  82.5%   855  260s\n",
      "  1153   731    0.57455   88 2928    1.37748    0.24124  82.5%   865  265s\n",
      "  1183   757    0.59123   93 2966    1.37748    0.24124  82.5%   868  271s\n",
      "  1219   791    0.80358   97 2921    1.37748    0.24124  82.5%   864  276s\n",
      "  1267   828    0.62573  101 3030    1.37748    0.24124  82.5%   851  282s\n",
      "  1322   886    0.93155  108 2952    1.37748    0.24124  82.5%   837  289s\n",
      "  1398   969    0.82430  117 2465    1.37748    0.24124  82.5%   822  295s\n",
      "  1485  1053    0.81212  133 1651    1.37748    0.24124  82.5%   801  301s\n",
      "  1573  1146    0.92710  144 2821    1.37748    0.24124  82.5%   779  307s\n",
      "  1672  1227    0.87017  157 1899    1.37748    0.24124  82.5%   753  313s\n",
      "  1775  1271    0.88588  171 2546    1.37748    0.24124  82.5%   727  321s\n",
      "  1841  1320    1.19150  177 1048    1.37748    0.24124  82.5%   725  328s\n",
      "  1899  1366    0.92210  186 2321    1.37748    0.24124  82.5%   724  335s\n",
      "  1963  1403    1.08681  194  859    1.37748    0.24124  82.5%   719  343s\n",
      "  2030  1450    0.96534  201 1837    1.37748    0.24124  82.5%   714  351s\n",
      "  2085  1511    1.01096  209 2474    1.37748    0.24124  82.5%   717  359s\n",
      "  2168  1581    1.07644  222 2443    1.37748    0.24124  82.5%   708  368s\n",
      "  2284  1598    1.18716  242  735    1.37748    0.24375  82.3%   690  377s\n",
      "  2359  1628    0.29128   24 2997    1.37748    0.24437  82.3%   687  387s\n",
      "  2391  1680    0.37455   31 2959    1.37748    0.24437  82.3%   695  397s\n",
      "  2443  1734    0.85081   42 3058    1.37748    0.25837  81.2%   700  408s\n"
     ]
    },
    {
     "name": "stdout",
     "output_type": "stream",
     "text": [
      "  2521  1790    1.09542   23 2584    1.37748    0.25837  81.2%   699  421s\n",
      "  2581  1847 infeasible   32         1.37748    0.28443  79.4%   704  432s\n",
      "  2644  1927    0.91468   25 1904    1.37748    0.28443  79.4%   706  443s\n",
      "  2736  1963    1.30176   38 2814    1.37748    0.28619  79.2%   702  458s\n",
      "  2802  1995    0.99616   29 2457    1.37748    0.28896  79.0%   708  470s\n",
      "  2844  2021    1.14862   40 2582    1.37748    0.28896  79.0%   719  482s\n",
      "  2898  2059     cutoff   50         1.37748    0.29052  78.9%   728  494s\n",
      "  2954  2086    1.06737   34 2902    1.37748    0.29052  78.9%   737  506s\n",
      "  2991  2142    1.20563   42 2897    1.37748    0.29199  78.8%   749  519s\n",
      "  3071  2215    0.34660   30 3154    1.37748    0.30133  78.1%   750  535s\n",
      "  3154  2335    0.61913   42 3141    1.37748    0.30133  78.1%   754  549s\n",
      "  3274  2414    0.76860   63 3187    1.37748    0.30133  78.1%   745  564s\n",
      "  3369  2447 infeasible   95         1.37748    0.30197  78.1%   747  578s\n",
      "  3434  2483    0.71339   36 2732    1.37748    0.30542  77.8%   759  596s\n",
      "  3486  2491 infeasible   45         1.37748    0.30542  77.8%   773  600s\n",
      "\n",
      "Explored 3498 nodes (2738158 simplex iterations) in 600.03 seconds (940.51 work units)\n",
      "Thread count was 8 (of 8 available processors)\n",
      "\n",
      "Solution count 10: 1.37748 1.39158 1.42746 ... 46.1685\n",
      "\n",
      "Time limit reached\n",
      "Best objective 1.377475087613e+00, best bound 3.054200661108e-01, gap 77.8275%\n"
     ]
    }
   ],
   "source": [
    "# solve IP model\n",
    "m.Params.TimeLimit = 600\n",
    "m.optimize()"
   ]
  },
  {
   "cell_type": "code",
   "execution_count": 12,
   "metadata": {},
   "outputs": [
    {
     "name": "stdout",
     "output_type": "stream",
     "text": [
      "The inverse PP score is 1.377475087613291\n",
      "The PP score is 0.7259659423189057\n"
     ]
    }
   ],
   "source": [
    "print(\"The inverse PP score is\",m.objval)\n",
    "print(\"The PP score is\",1.0/m.objval)\n",
    "\n",
    "# retrieve the districts and their populations\n",
    "district = [i for i in G.nodes if x[i].x > 0.5] \n",
    "#district_counties = [ G.nodes[i][\"NAME20\"] for i in district ] \n",
    "district_population = sum(G.nodes[i][\"TOTPOP\"] for i in district )\n",
    "\n",
    "# print district info\n",
    "#print(\"District has population\",district_population,\"and contains counties\",district_counties)"
   ]
  },
  {
   "cell_type": "code",
   "execution_count": 13,
   "metadata": {},
   "outputs": [
    {
     "name": "stdout",
     "output_type": "stream",
     "text": [
      "black_pop = 391579\n",
      "total_pop = 779024\n",
      "percentage = 50 %\n"
     ]
    }
   ],
   "source": [
    "print(\"black_pop =\", round(black_pop.x) )\n",
    "print(\"total_pop =\", round(total_pop.x) )\n",
    "print(\"percentage =\", round( 100 * black_pop.x / total_pop.x ),\"%\" )"
   ]
  },
  {
   "cell_type": "code",
   "execution_count": 14,
   "metadata": {},
   "outputs": [],
   "source": [
    "# Let's draw it on a map\n",
    "import geopandas as gpd"
   ]
  },
  {
   "cell_type": "code",
   "execution_count": 15,
   "metadata": {},
   "outputs": [],
   "source": [
    "# Read county shapefile from \"<state>_county.shp\"\n",
    "filename = state + '_' + level + '.shp'\n",
    "\n",
    "# Read geopandas dataframe from file\n",
    "df = gpd.read_file( filepath + filename )"
   ]
  },
  {
   "cell_type": "code",
   "execution_count": 16,
   "metadata": {},
   "outputs": [
    {
     "data": {
      "image/png": "[encoded data removed]",
      "text/plain": [
       "<Figure size 432x288 with 1 Axes>"
      ]
     },
     "metadata": {
      "needs_background": "light"
     },
     "output_type": "display_data"
    }
   ],
   "source": [
    "# Which district is each county assigned to?\n",
    "assignment = [ -1 for i in G.nodes ]\n",
    "\n",
    "labeling = { i : 1 if x[i].x > 0.5 else 0 for i in G.nodes }\n",
    "\n",
    "# Now add the assignments to a column of the dataframe and map it\n",
    "node_with_this_geoid = { G.nodes[i]['GEOID20'] : i for i in G.nodes }\n",
    "\n",
    "# pick a position u in the dataframe\n",
    "for u in range(G.number_of_nodes()):\n",
    "    \n",
    "    geoid = df['GEOID20'][u]\n",
    "    \n",
    "    # what node in G has this geoid?\n",
    "    i = node_with_this_geoid[geoid]\n",
    "    \n",
    "    # position u in the dataframe should be given\n",
    "    # the same district # that county i has in 'labeling'\n",
    "    assignment[u] = labeling[i]\n",
    "    \n",
    "# now add the assignments to a column of our dataframe and then map it\n",
    "df['assignment'] = assignment\n",
    "\n",
    "my_fig = df.plot(column='assignment').get_figure()"
   ]
  },
  {
   "cell_type": "code",
   "execution_count": null,
   "metadata": {},
   "outputs": [],
   "source": []
  }
 ],
 "metadata": {
  "kernelspec": {
   "display_name": "Python 3",
   "language": "python",
   "name": "python3"
  },
  "language_info": {
   "codemirror_mode": {
    "name": "ipython",
    "version": 3
   },
   "file_extension": ".py",
   "mimetype": "text/x-python",
   "name": "python",
   "nbconvert_exporter": "python",
   "pygments_lexer": "ipython3",
   "version": "3.7.10"
  }
 },
 "nbformat": 4,
 "nbformat_minor": 4
}
