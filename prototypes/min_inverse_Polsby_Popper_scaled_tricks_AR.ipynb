{
 "cells": [
  {
   "cell_type": "code",
   "execution_count": 1,
   "metadata": {},
   "outputs": [],
   "source": [
    "state = 'AR'    # 2-letter state code\n",
    "k = 4           # number of districts"
   ]
  },
  {
   "cell_type": "code",
   "execution_count": 2,
   "metadata": {},
   "outputs": [],
   "source": [
    "# Read county graph from the json file \"<state>_county.json\"\n",
    "filepath = 'C:\\\\districting-data-2020\\\\'\n",
    "filename = state + '_county.json'\n",
    "\n",
    "# GerryChain has a built-in function for reading graphs of this type:\n",
    "from gerrychain import Graph\n",
    "G = Graph.from_json( filepath + filename )\n",
    "\n",
    "for node in G.nodes:\n",
    "    G.nodes[node]['TOTPOP'] = G.nodes[node]['P0010001']"
   ]
  },
  {
   "cell_type": "code",
   "execution_count": 3,
   "metadata": {},
   "outputs": [
    {
     "name": "stdout",
     "output_type": "stream",
     "text": [
      "Using L = 749117 and U = 756645 and k = 4\n"
     ]
    }
   ],
   "source": [
    "# Let's impose a 1% population deviation (+/-0.5%)\n",
    "deviation = 0.01\n",
    "total_population = sum( G.nodes[node]['TOTPOP'] for node in G.nodes )\n",
    "\n",
    "import math\n",
    "L = math.ceil( ( 1 - deviation / 2 ) * total_population / k )\n",
    "U = math.floor( ( 1 + deviation / 2 ) * total_population / k )\n",
    "print(\"Using L =\",L,\"and U =\",U,\"and k =\",k)"
   ]
  },
  {
   "cell_type": "code",
   "execution_count": 4,
   "metadata": {},
   "outputs": [
    {
     "name": "stdout",
     "output_type": "stream",
     "text": [
      "Set parameter Username\n",
      "Academic license - for non-commercial use only - expires 2023-01-01\n"
     ]
    }
   ],
   "source": [
    "import gurobipy as gp\n",
    "from gurobipy import GRB\n",
    "\n",
    "# create model \n",
    "m = gp.Model()\n",
    "\n",
    "import networkx as nx\n",
    "DG = nx.DiGraph(G)   # directed version of G\n",
    "\n",
    "# create variables\n",
    "# x[i,j] equals one when county i is assigned to district j\n",
    "x = m.addVars(G.nodes, k, vtype=GRB.BINARY)  \n",
    "\n",
    "# y[u,v,j] equals one when arc (u,v) is cut because u->j but not v->j\n",
    "y = m.addVars(DG.edges, k, vtype=GRB.BINARY) \n",
    "\n",
    "# z[j] is inverse Polsby-Popper score for district j\n",
    "z = m.addVars(k)\n",
    "\n",
    "# A[j] = area of district j\n",
    "A = m.addVars(k)\n",
    "\n",
    "# P[j] = perimeter of district j\n",
    "P = m.addVars(k)\n",
    "\n",
    "for j in range(k):\n",
    "    z[j].lb = 0\n",
    "    A[j].lb = 0\n",
    "    P[j].lb = 0"
   ]
  },
  {
   "cell_type": "code",
   "execution_count": 5,
   "metadata": {},
   "outputs": [],
   "source": [
    "# objective is to minimize sum of inverse Polsby-Popper scores\n",
    "coef = 1 / ( 2 * math.pi )\n",
    "m.setObjective( coef * gp.quicksum( z[j] for j in range(k) ), GRB.MINIMIZE )"
   ]
  },
  {
   "cell_type": "code",
   "execution_count": 6,
   "metadata": {},
   "outputs": [],
   "source": [
    "# add SOCP constraints relating inverse Polsby-Popper score z[j] to area and perimeter\n",
    "m.addConstrs( P[j] * P[j] <= 2 * A[j] * z[j] for j in range(k) )\n",
    "\n",
    "# add constraints on areas A[j] \n",
    "m.addConstrs( A[j] == gp.quicksum( G.nodes[i]['area'] * x[i,j] for i in G.nodes ) for j in range(k) )\n",
    "\n",
    "# add constraints on perimeters P[j]\n",
    "for j in range(k):\n",
    "    m.addConstr( P[j] == gp.quicksum( DG.edges[u,v]['shared_perim'] * y[u,v,j] for u,v in DG.edges )\n",
    "             + gp.quicksum( G.nodes[i]['boundary_perim'] * x[i,j] for i in G.nodes if G.nodes[i]['boundary_node'] ) )\n",
    "    \n",
    "m.update()"
   ]
  },
  {
   "cell_type": "code",
   "execution_count": 7,
   "metadata": {},
   "outputs": [],
   "source": [
    "# add constraints saying that each county i is assigned to one district\n",
    "m.addConstrs( gp.quicksum( x[i,j] for j in range(k)) == 1 for i in G.nodes )\n",
    "\n",
    "# add constraints saying that each district has population at least L and at most U\n",
    "m.addConstrs( gp.quicksum( G.nodes[i]['TOTPOP'] * x[i,j] for i in G.nodes) >= L for j in range(k) )\n",
    "m.addConstrs( gp.quicksum( G.nodes[i]['TOTPOP'] * x[i,j] for i in G.nodes) <= U for j in range(k) )\n",
    "\n",
    "# add constraints saying that edge {u,v} is cut if u is assigned to district j but v is not.\n",
    "m.addConstrs( x[u,j] - x[v,j] <= y[u,v,j] for u,v in DG.edges for j in range(k) )\n",
    "\n",
    "m.update()"
   ]
  },
  {
   "cell_type": "code",
   "execution_count": 8,
   "metadata": {},
   "outputs": [],
   "source": [
    "# Now, let's add contiguity constraints and re-solve the model.\n",
    "# We will use the contiguity constraints of Hojny et al. (MPC, 2021)\n",
    "#   https://link.springer.com/article/10.1007/s12532-020-00186-3\n",
    "\n",
    "# Add root variables: r[i,j] equals 1 if node i is the \"root\" of district j\n",
    "r = m.addVars( G.nodes, k, vtype=GRB.BINARY)\n",
    "\n",
    "# Add flow variables: f[u,v] = amount of flow sent across arc uv \n",
    "#  Flows are sent across arcs of the directed version of G which we call DG\n",
    "\n",
    "f = m.addVars( DG.edges )"
   ]
  },
  {
   "cell_type": "code",
   "execution_count": 9,
   "metadata": {},
   "outputs": [],
   "source": [
    "def compute_big_M(G,U):\n",
    "    mm = gp.Model()\n",
    "    mm.Params.OutputFlag = 0\n",
    "    mx = mm.addVars( G.nodes, vtype=GRB.BINARY )\n",
    "    mm.setObjective( gp.quicksum( mx ), GRB.MAXIMIZE )\n",
    "    mm.addConstr( gp.quicksum( G.nodes[i]['TOTPOP'] * mx[i] for i in G.nodes ) <= U )\n",
    "    mm.optimize()\n",
    "    return round(mm.objVal) - 1"
   ]
  },
  {
   "cell_type": "code",
   "execution_count": 10,
   "metadata": {},
   "outputs": [],
   "source": [
    "# The big-M proposed by Hojny et al.\n",
    "# M = G.number_of_nodes() - k + 1\n",
    "\n",
    "# A stronger big-M\n",
    "M = compute_big_M(G,U)\n",
    "\n",
    "# Each district j should have one root\n",
    "#m.addConstrs( gp.quicksum( r[i,j] for i in G.nodes ) == 1 for j in range(k) )\n",
    "# ^a stronger form of this appears in orbitope EF, so skip it.\n",
    "\n",
    "# If node i is not assigned to district j, then it cannot be its root\n",
    "m.addConstrs( r[i,j] <= x[i,j] for i in G.nodes for j in range(k) ) \n",
    "\n",
    "# if not a root, consume some flow.\n",
    "# if a root, only send out (so much) flow.\n",
    "m.addConstrs( gp.quicksum( f[j,i] - f[i,j] for j in G.neighbors(i) ) \n",
    "             >= 1 - M * gp.quicksum( r[i,j] for j in range(k) ) for i in G.nodes )\n",
    "\n",
    "# do not send flow across cut edges\n",
    "m.addConstrs( f[u,v] + f[v,u] <= M * ( 1 - gp.quicksum( y[u,v,j] for j in range(k) ) ) for u,v in DG.edges )\n",
    "\n",
    "m.update()"
   ]
  },
  {
   "cell_type": "code",
   "execution_count": 11,
   "metadata": {},
   "outputs": [],
   "source": [
    "# helper functions for symmetry handling and variable fixing\n",
    "def sort_by_second(val):\n",
    "    return val[1]\n",
    "\n",
    "def find_ordering(B, G):\n",
    "    V_B_with_population = [(i,G.nodes[i]['TOTPOP']) for i in G.nodes if i not in B]\n",
    "    V_B_with_population.sort(key=sort_by_second,reverse=True)\n",
    "    return [v for (v,p) in V_B_with_population] + B\n",
    "\n",
    "def solve_maxB_problem(G, L, k):\n",
    "    m = gp.Model()\n",
    "    m.params.LogToConsole = 0 # keep log to a minimum\n",
    "    q = k\n",
    "    \n",
    "    # X[i,j]=1 if vertex i is assigned to bin j\n",
    "    X = m.addVars(G.nodes, range(q), vtype=GRB.BINARY)\n",
    "    \n",
    "    # B[i]=1 if vertex i is selected in set B\n",
    "    B = m.addVars(G.nodes, vtype=GRB.BINARY)\n",
    "   \n",
    "    # assignment constraints            \n",
    "    m.addConstrs( gp.quicksum(X[i,j] for j in range(q)) == B[i] for i in G.nodes )\n",
    "                \n",
    "    # bin population should be less than L\n",
    "    m.addConstrs( gp.quicksum(G.nodes[i]['TOTPOP'] * X[i,j] for i in G.nodes) <= L-1 for j in range(q) )\n",
    "    \n",
    "    # bins shouldn't touch each other\n",
    "    m.addConstrs( X[u,j] + B[v] <= 1 + X[v,j] for u,v in G.edges for j in range(q) )\n",
    "    m.addConstrs( X[u,j] + B[v] <= 1 + X[v,j] for v,u in G.edges for j in range(q) )\n",
    "    \n",
    "    # objective is to maximize size of set B\n",
    "    m.setObjective( gp.quicksum( B ), GRB.MAXIMIZE )\n",
    "    \n",
    "    m.Params.MIPFocus = 1 # turn on MIPFocus\n",
    "    m.Params.timeLimit = 60 # 60-second time limit\n",
    "    m.optimize()\n",
    "    \n",
    "    if m.status in { GRB.OPTIMAL, GRB.TIME_LIMIT }:\n",
    "        B_sol = [i for i in DG.nodes if B[i].x > 0.5 ]\n",
    "    else:\n",
    "        B_sol = list()\n",
    "    print(\"Size of B =\",len(B_sol))\n",
    "    return B_sol\n",
    "    \n",
    "# how many people are reachable from v in G[S]? Uses BFS\n",
    "def reachable_population(G, S, v):\n",
    "    pr = 0 # population reached\n",
    "    if not S[v]:\n",
    "        return 0\n",
    "    \n",
    "    visited = [False for i in G.nodes]\n",
    "    child = [v]\n",
    "    visited[v] = True\n",
    "    while child:\n",
    "        parent = child\n",
    "        child = list()\n",
    "        for i in parent:\n",
    "            pr += G.nodes[i]['TOTPOP']\n",
    "            for j in G.neighbors(i):\n",
    "                if S[j] and not visited[j]:\n",
    "                    child.append(j)\n",
    "                    visited[j] = True\n",
    "    return pr     "
   ]
  },
  {
   "cell_type": "code",
   "execution_count": 12,
   "metadata": {},
   "outputs": [
    {
     "name": "stdout",
     "output_type": "stream",
     "text": [
      "Size of B = 64\n"
     ]
    }
   ],
   "source": [
    "# APPLY FIXINGS\n",
    "B = solve_maxB_problem(G, L, k)\n",
    "ordering = find_ordering(B, G)"
   ]
  },
  {
   "cell_type": "code",
   "execution_count": 13,
   "metadata": {},
   "outputs": [],
   "source": [
    "# D-fixing\n",
    "for p in range(G.number_of_nodes()):\n",
    "    i = ordering[p]\n",
    "    for j in range(p+1,k):\n",
    "        x[i,j].UB = 0"
   ]
  },
  {
   "cell_type": "code",
   "execution_count": 14,
   "metadata": {},
   "outputs": [],
   "source": [
    "# L-fixing\n",
    "\n",
    "# find \"back\" of ordering B = {v_q, v_{q+1}, ..., v_{n-1} }\n",
    "n = G.number_of_nodes()\n",
    "S = [False for v in G.nodes]\n",
    "for p in range(n):\n",
    "    v_pos = n - p - 1\n",
    "    v = ordering[v_pos]\n",
    "    S[v] = True\n",
    "    pr = reachable_population(G, S, v)\n",
    "    if pr >= L:\n",
    "        q = v_pos + 1\n",
    "        break\n",
    "\n",
    "# none of the vertices at back (in B) can root a district. \n",
    "for p in range(q,n):\n",
    "    i = ordering[p]\n",
    "    for j in range(k):\n",
    "        r[i,j].UB = 0\n",
    "\n",
    "# vertex v_{q-1} cannot root districts {0, 1, ..., k-2}\n",
    "# vertex v_{q-2} cannot root districts {0, 1, ..., k-3}\n",
    "# ... \n",
    "# vertex v_{q-t} cannot root districts {0, 1, ..., k-t-1}\n",
    "# ...\n",
    "# vertex v_{q-(k-1)} cannot root district {0}\n",
    "for t in range(1,k):\n",
    "    i = ordering[q-t]\n",
    "    for j in range(k-t):\n",
    "        r[i,j].UB = 0"
   ]
  },
  {
   "cell_type": "code",
   "execution_count": 15,
   "metadata": {},
   "outputs": [],
   "source": [
    "# U-fixing\n",
    "DG = nx.DiGraph(G)\n",
    "for (i,j) in DG.edges:\n",
    "    DG[i][j]['ufixweight'] = G.nodes[j]['TOTPOP'] # weight of edge (i,j) is population of its head j\n",
    "\n",
    "for j in range(k):\n",
    "\n",
    "    v = ordering[j]\n",
    "    dist = nx.shortest_path_length(DG,source=v,weight='ufixweight')\n",
    "\n",
    "    if j == 0:\n",
    "        min_dist = U+1\n",
    "    else:\n",
    "        min_dist = min( dist[ordering[t]] + G.nodes[v]['TOTPOP'] for t in range(j) )\n",
    "\n",
    "    if min_dist <= U:\n",
    "        break\n",
    "    \n",
    "    r[v,j].LB = 1\n",
    "    x[v,j].LB = 1\n",
    "\n",
    "    for t in range(k):\n",
    "        if t != j:\n",
    "            x[v,t].UB = 0\n",
    "\n",
    "    for i in DG.nodes:\n",
    "        if i != v:\n",
    "            r[i,j].UB = 0\n",
    "\n",
    "    for i in DG.nodes:\n",
    "        if i != v and dist[i] + G.nodes[v]['TOTPOP'] > U:\n",
    "            x[i,j].UB = 0"
   ]
  },
  {
   "cell_type": "code",
   "execution_count": 16,
   "metadata": {},
   "outputs": [],
   "source": [
    "# cut edge variable fixings\n",
    "for u,v in G.edges:\n",
    "    for j in range(k):\n",
    "        if x[u,j].UB < 0.5 or x[v,j].LB > 0.5:\n",
    "            y[u,v,j].UB = 0\n",
    "        elif x[u,j].LB > 0.5 and x[v,j].UB < 0.5:\n",
    "            y[u,v,j].LB = 1"
   ]
  },
  {
   "cell_type": "code",
   "execution_count": 17,
   "metadata": {},
   "outputs": [
    {
     "data": {
      "text/plain": [
       "<gurobi.Constr *Awaiting Model Update*>"
      ]
     },
     "execution_count": 17,
     "metadata": {},
     "output_type": "execute_result"
    }
   ],
   "source": [
    "# add partitioning orbitope EF\n",
    "s = m.addVars(G.nodes, k)\n",
    "u = m.addVars(G.nodes, k)\n",
    "w = m.addVars(G.nodes, k) \n",
    "\n",
    "m.addConstrs(x[i,j] == s[i,j]-s[i,j+1] for i in G.nodes for j in range(k-1))\n",
    "m.addConstrs(x[i,k-1] == s[i,k-1] for i in G.nodes)\n",
    "\n",
    "m.addConstrs(r[ordering[0],j] == w[ordering[0],j] for j in range(k))\n",
    "m.addConstrs(r[ordering[i],j] == w[ordering[i],j] - w[ordering[i-1],j] for i in range(1,G.number_of_nodes()) for j in range(k))\n",
    "\n",
    "m.addConstrs(r[i,j] <= x[i,j] for i in G.nodes for j in range(k))\n",
    "m.addConstrs(s[i,j] <= w[i,j] for i in G.nodes for j in range(k))\n",
    "\n",
    "m.addConstrs(u[ordering[i],j]+r[ordering[i],j] == u[ordering[i+1],j] + r[ordering[i+1],j+1] for i in range(0,G.number_of_nodes()-1) for j in range(k-1))\n",
    "m.addConstrs(u[ordering[i],k-1]+r[ordering[i],k-1] == u[ordering[i+1],k-1] for i in range(0,G.number_of_nodes()-1))\n",
    "m.addConstrs(u[ordering[G.number_of_nodes()-1],j]+r[ordering[G.number_of_nodes()-1],j] == 0 for j in range(k-1))\n",
    "\n",
    "r[ordering[0],0].LB=1\n",
    "m.addConstr( u[ordering[G.number_of_nodes()-1],k-1] + r[ordering[G.number_of_nodes()-1],k-1]==1 )  "
   ]
  },
  {
   "cell_type": "code",
   "execution_count": 18,
   "metadata": {},
   "outputs": [
    {
     "name": "stdout",
     "output_type": "stream",
     "text": [
      "Gurobi Optimizer version 9.5.0 build v9.5.0rc5 (win64)\n",
      "Thread count: 4 physical cores, 8 logical processors, using up to 8 threads\n",
      "Optimize a model with 3886 rows, 3432 columns and 15479 nonzeros\n",
      "Model fingerprint: 0xf33d9d43\n",
      "Model has 4 quadratic constraints\n",
      "Variable types: 1296 continuous, 2136 integer (2136 binary)\n",
      "Coefficient statistics:\n",
      "  Matrix range     [2e-03, 4e+05]\n",
      "  QMatrix range    [1e+00, 2e+00]\n",
      "  Objective range  [2e-01, 2e-01]\n",
      "  Bounds range     [1e+00, 1e+00]\n",
      "  RHS range        [1e+00, 8e+05]\n",
      "Presolve removed 1649 rows and 1168 columns\n",
      "Presolve time: 0.03s\n",
      "Presolved: 2237 rows, 2264 columns, 10911 nonzeros\n",
      "Presolved model has 4 quadratic constraint(s)\n",
      "Variable types: 396 continuous, 1868 integer (1854 binary)\n",
      "\n",
      "Root relaxation: objective 0.000000e+00, 1307 iterations, 0.03 seconds (0.02 work units)\n",
      "\n",
      "    Nodes    |    Current Node    |     Objective Bounds      |     Work\n",
      " Expl Unexpl |  Obj  Depth IntInf | Incumbent    BestBd   Gap | It/Node Time\n",
      "\n",
      "     0     0    0.00000    0  285          -    0.00000      -     -    0s\n",
      "     0     0    4.37883    0  360          -    4.37883      -     -    0s\n",
      "     0     0    5.38980    0  376          -    5.38980      -     -    0s\n",
      "     0     0    5.55800    0  374          -    5.55800      -     -    1s\n",
      "     0     0    5.55875    0  378          -    5.55875      -     -    1s\n",
      "     0     0    5.61035    0  392          -    5.61035      -     -    1s\n",
      "     0     0    5.61748    0  388          -    5.61748      -     -    1s\n",
      "     0     0    5.64387    0  386          -    5.64387      -     -    1s\n",
      "     0     0    5.65779    0  388          -    5.65779      -     -    1s\n",
      "     0     0    5.67882    0  405          -    5.67882      -     -    1s\n",
      "     0     0    5.68008    0  403          -    5.68008      -     -    1s\n",
      "     0     0    5.68174    0  410          -    5.68174      -     -    1s\n",
      "     0     0    5.68237    0  413          -    5.68237      -     -    1s\n",
      "     0     0    5.69307    0  414          -    5.69307      -     -    1s\n",
      "     0     0    5.69307    0  414          -    5.69307      -     -    1s\n",
      "     0     2    5.70847    0  414          -    5.70847      -     -    1s\n",
      "   633   613   15.68916   59   45          -    6.20006      -   162    5s\n",
      "   732   661    9.35377   12  478          -    6.29317      -   167   10s\n",
      "   747   671   18.01487   96  498          -    6.69529      -   164   15s\n",
      "   757   677    9.07816   38  493          -    6.69592      -   162   20s\n",
      "   766   688    6.77199   12  414          -    6.77199      -   177   25s\n",
      "  1085   916   12.74697   32  200          -    7.31600      -   205   30s\n",
      "H 1311  1015                      15.2120601    7.31600  51.9%   199   31s\n",
      "* 1311  1015              48      15.2120601    7.31600  51.9%   199   31s\n",
      "  1684  1012   15.08360   27  283   15.21206    8.19365  46.1%   203   35s\n",
      "  2347  1080   11.30884   20  405   15.21206    9.16674  39.7%   205   40s\n",
      "  2958  1355   14.61982   26  404   15.21206    9.51434  37.5%   202   45s\n",
      "  3781  1758   13.13678   23  484   15.21206    9.94849  34.6%   199   50s\n",
      "  4755  2091     cutoff   24        15.21206   10.19887  33.0%   196   57s\n",
      "  5208  2369   14.97859   19  402   15.21206   10.27501  32.5%   193   60s\n",
      "  6029  2641   13.55452   21  375   15.21206   10.44191  31.4%   193   65s\n",
      "  6783  2955   14.63904   22  476   15.21206   10.67431  29.8%   197   71s\n",
      "  7384  3162   13.13042   25  490   15.21206   10.78595  29.1%   200   76s\n",
      "  7924  3319   13.06954   24  497   15.21206   10.85708  28.6%   200   80s\n",
      "  8768  3510   13.80996   26  394   15.21206   10.93986  28.1%   201   86s\n",
      "  9106  3789   12.53577   32  188   15.21206   10.97688  27.8%   203   90s\n",
      "  9709  3946     cutoff   22        15.21206   11.06715  27.2%   205   95s\n",
      " 10272  4209   13.19274   24  483   15.21206   11.12159  26.9%   207  100s\n",
      "H10500  2849                      13.6908132   11.13324  18.7%   208  100s\n",
      "H10631  2271                      13.2705873   11.18074  15.7%   208  103s\n",
      " 10968  2241     cutoff   25        13.27059   11.23033  15.4%   209  106s\n",
      " 11609  2214     cutoff   21        13.27059   11.34498  14.5%   213  112s\n",
      " 11952  2216   12.82246   25  341   13.27059   11.40964  14.0%   215  115s\n",
      " 12495  2156 infeasible   25        13.27059   11.54356  13.0%   217  122s\n",
      " 12880  2143 infeasible   26        13.27059   11.59457  12.6%   218  126s\n",
      " 13305  2101   13.10939   20  396   13.27059   11.68316  12.0%   220  130s\n",
      " 14203  1924 infeasible   26        13.27059   11.87780  10.5%   222  138s\n",
      " 14647  1827   12.48567   25  415   13.27059   11.97649  9.75%   223  142s\n",
      " 15180  1679     cutoff   23        13.27059   12.07657  9.00%   224  147s\n",
      " 15708  1592     cutoff   21        13.27059   12.16818  8.31%   225  151s\n",
      " 16038  1406   13.16098   27  435   13.27059   12.26248  7.60%   225  156s\n",
      " 16678  1128     cutoff   28        13.27059   12.41313  6.46%   225  161s\n",
      " 17432   716   13.14586   24  443   13.27059   12.60010  5.05%   225  166s\n",
      " 18663     0 infeasible   27        13.27059   13.09534  1.32%   222  170s\n",
      "*18715     0              39      13.2705873   13.09628  1.31%   222  170s\n",
      "\n",
      "Cutting planes:\n",
      "  Gomory: 34\n",
      "  Cover: 61\n",
      "  Projected implied bound: 5\n",
      "  Clique: 9\n",
      "  MIR: 106\n",
      "  Flow cover: 195\n",
      "  Inf proof: 20\n",
      "  Zero half: 94\n",
      "  RLT: 12\n",
      "\n",
      "Explored 18933 nodes (4180486 simplex iterations) in 170.47 seconds (216.19 work units)\n",
      "Thread count was 8 (of 8 available processors)\n",
      "\n",
      "Solution count 3: 13.2706 13.6908 15.2121 \n",
      "\n",
      "Optimal solution found (tolerance 1.00e-04)\n",
      "Best objective 1.327058725634e+01, best bound 1.327058725634e+01, gap 0.0000%\n"
     ]
    }
   ],
   "source": [
    "# solve IP model\n",
    "m.optimize()"
   ]
  },
  {
   "cell_type": "code",
   "execution_count": 19,
   "metadata": {},
   "outputs": [
    {
     "name": "stdout",
     "output_type": "stream",
     "text": [
      "The objective value is 13.270587256343116\n",
      "District 0 has population 750788 and contains counties ['Faulkner', 'Conway', 'Pulaski', 'Saline', 'Lonoke', 'Perry']\n",
      "\n",
      "District 1 has population 751754 and contains counties ['Franklin', 'Crawford', 'Benton', 'Madison', 'Sebastian', 'Washington']\n",
      "\n",
      "District 2 has population 754547 and contains counties ['Little River', 'Ashley', 'Desha', 'Montgomery', 'Howard', 'Nevada', 'Grant', 'Dallas', 'Cleveland', 'Lafayette', 'Chicot', 'Pope', 'Bradley', 'Drew', 'Pike', 'Union', 'Hempstead', 'Polk', 'Clark', 'Logan', 'Miller', 'Arkansas', 'Johnson', 'Garland', 'Sevier', 'Jefferson', 'Lincoln', 'Scott', 'Hot Spring', 'Columbia', 'Ouachita', 'Yell', 'Calhoun', 'Phillips']\n",
      "\n",
      "District 3 has population 754435 and contains counties ['Jackson', 'Clay', 'Baxter', 'Boone', 'St. Francis', 'Sharp', 'Greene', 'Woodruff', 'White', 'Lee', 'Crittenden', 'Marion', 'Prairie', 'Lawrence', 'Poinsett', 'Stone', 'Independence', 'Fulton', 'Carroll', 'Van Buren', 'Searcy', 'Randolph', 'Izard', 'Craighead', 'Cleburne', 'Monroe', 'Mississippi', 'Newton', 'Cross']\n",
      "\n"
     ]
    }
   ],
   "source": [
    "print(\"The objective value is\",m.objval)\n",
    "\n",
    "# retrieve the districts and their populations\n",
    "districts = [ [i for i in G.nodes if x[i,j].x > 0.5] for j in range(k)]\n",
    "district_counties = [ [ G.nodes[i][\"NAME20\"] for i in districts[j] ] for j in range(k)]\n",
    "district_populations = [ sum(G.nodes[i][\"TOTPOP\"] for i in districts[j]) for j in range(k) ]\n",
    "\n",
    "# print district info\n",
    "for j in range(k):\n",
    "    print(\"District\",j,\"has population\",district_populations[j],\"and contains counties\",district_counties[j])\n",
    "    print(\"\")"
   ]
  },
  {
   "cell_type": "code",
   "execution_count": 20,
   "metadata": {},
   "outputs": [],
   "source": [
    "# Let's draw it on a map\n",
    "import geopandas as gpd"
   ]
  },
  {
   "cell_type": "code",
   "execution_count": 21,
   "metadata": {},
   "outputs": [],
   "source": [
    "# Read county shapefile from \"<state>_county.shp\"\n",
    "filename = state + '_county.shp'\n",
    "\n",
    "# Read geopandas dataframe from file\n",
    "df = gpd.read_file( filepath + filename )"
   ]
  },
  {
   "cell_type": "code",
   "execution_count": 22,
   "metadata": {},
   "outputs": [
    {
     "data": {
      "image/png": "[encoded data removed]",
      "text/plain": [
       "<Figure size 432x288 with 1 Axes>"
      ]
     },
     "metadata": {
      "needs_background": "light"
     },
     "output_type": "display_data"
    }
   ],
   "source": [
    "# Which district is each county assigned to?\n",
    "assignment = [ -1 for i in G.nodes ]\n",
    "\n",
    "labeling = { i : j for i in G.nodes for j in range(k) if x[i,j].x > 0.5 }\n",
    "\n",
    "# Now add the assignments to a column of the dataframe and map it\n",
    "node_with_this_geoid = { G.nodes[i]['GEOID20'] : i for i in G.nodes }\n",
    "\n",
    "# pick a position u in the dataframe\n",
    "for u in range(G.number_of_nodes()):\n",
    "    \n",
    "    geoid = df['GEOID20'][u]\n",
    "    \n",
    "    # what node in G has this geoid?\n",
    "    i = node_with_this_geoid[geoid]\n",
    "    \n",
    "    # position u in the dataframe should be given\n",
    "    # the same district # that county i has in 'labeling'\n",
    "    assignment[u] = labeling[i]\n",
    "    \n",
    "# now add the assignments to a column of our dataframe and then map it\n",
    "df['assignment'] = assignment\n",
    "\n",
    "my_fig = df.plot(column='assignment').get_figure()"
   ]
  },
  {
   "cell_type": "code",
   "execution_count": null,
   "metadata": {},
   "outputs": [],
   "source": []
  }
 ],
 "metadata": {
  "kernelspec": {
   "display_name": "Python 3",
   "language": "python",
   "name": "python3"
  },
  "language_info": {
   "codemirror_mode": {
    "name": "ipython",
    "version": 3
   },
   "file_extension": ".py",
   "mimetype": "text/x-python",
   "name": "python",
   "nbconvert_exporter": "python",
   "pygments_lexer": "ipython3",
   "version": "3.7.10"
  }
 },
 "nbformat": 4,
 "nbformat_minor": 4
}
