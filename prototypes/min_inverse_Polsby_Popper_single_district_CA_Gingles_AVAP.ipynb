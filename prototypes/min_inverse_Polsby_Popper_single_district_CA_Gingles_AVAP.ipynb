{
 "cells": [
  {
   "cell_type": "code",
   "execution_count": 1,
   "metadata": {},
   "outputs": [],
   "source": [
    "# https://en.m.wikipedia.org/wiki/List_of_majority-minority_United_States_congressional_districts\n",
    "state = 'CA'    # 2-letter state code\n",
    "level = 'tract' # county, tract, block"
   ]
  },
  {
   "cell_type": "code",
   "execution_count": 2,
   "metadata": {},
   "outputs": [
    {
     "name": "stderr",
     "output_type": "stream",
     "text": [
      "C:\\Users\\buchanan\\Anaconda3\\lib\\site-packages\\gerrychain\\graph\\graph.py:239: UserWarning: Found islands (degree-0 nodes). Indices of islands: {1212}\n",
      "  \"Found islands (degree-0 nodes). Indices of islands: {}\".format(islands)\n"
     ]
    }
   ],
   "source": [
    "filepath = 'C:\\\\districting-data-2020\\\\'\n",
    "filename = state + '_' + level + '.json'\n",
    "\n",
    "from gerrychain import Graph\n",
    "G = Graph.from_json( filepath + filename )\n",
    "\n",
    "for node in G.nodes:\n",
    "    # See http://starr.tamu.edu/files/2013/01/Census-Codes.pdf\n",
    "    G.nodes[node]['TOTPOP'] = G.nodes[node]['P0010001']\n",
    "    \n",
    "    # voting age population (VAP)\n",
    "    G.nodes[node]['VAP'] = G.nodes[node]['P0030001']\n",
    "    \n",
    "    # Asian alone:\n",
    "    G.nodes[node]['AVAP'] = G.nodes[node]['P0030006']\n",
    "    \n",
    "    # Asian (among two races)\n",
    "    G.nodes[node]['AVAP'] += G.nodes[node]['P0030013']\n",
    "    G.nodes[node]['AVAP'] += G.nodes[node]['P0030017']\n",
    "    G.nodes[node]['AVAP'] += G.nodes[node]['P0030020']\n",
    "    G.nodes[node]['AVAP'] += G.nodes[node]['P0030023']\n",
    "    G.nodes[node]['AVAP'] += G.nodes[node]['P0030024']\n",
    "    \n",
    "    # Asian (among three races)\n",
    "    G.nodes[node]['AVAP'] += G.nodes[node]['P0030028']\n",
    "    G.nodes[node]['AVAP'] += G.nodes[node]['P0030031']\n",
    "    G.nodes[node]['AVAP'] += G.nodes[node]['P0030034']\n",
    "    G.nodes[node]['AVAP'] += G.nodes[node]['P0030035']\n",
    "\n",
    "    G.nodes[node]['AVAP'] += G.nodes[node]['P0030037']\n",
    "    G.nodes[node]['AVAP'] += G.nodes[node]['P0030040']\n",
    "    G.nodes[node]['AVAP'] += G.nodes[node]['P0030041']\n",
    "    G.nodes[node]['AVAP'] += G.nodes[node]['P0030043']\n",
    "    G.nodes[node]['AVAP'] += G.nodes[node]['P0030044']\n",
    "    G.nodes[node]['AVAP'] += G.nodes[node]['P0030046']\n",
    "    \n",
    "    # Asian (among four races)\n",
    "    G.nodes[node]['AVAP'] += G.nodes[node]['P0030048']\n",
    "    G.nodes[node]['AVAP'] += G.nodes[node]['P0030051']\n",
    "    G.nodes[node]['AVAP'] += G.nodes[node]['P0030052']\n",
    "    G.nodes[node]['AVAP'] += G.nodes[node]['P0030054']\n",
    "    G.nodes[node]['AVAP'] += G.nodes[node]['P0030055']\n",
    "    G.nodes[node]['AVAP'] += G.nodes[node]['P0030057']\n",
    "    \n",
    "    G.nodes[node]['AVAP'] += G.nodes[node]['P0030058']\n",
    "    G.nodes[node]['AVAP'] += G.nodes[node]['P0030059']\n",
    "    G.nodes[node]['AVAP'] += G.nodes[node]['P0030061']\n",
    "    G.nodes[node]['AVAP'] += G.nodes[node]['P0030062']\n",
    "    \n",
    "    # Asian (among five races)\n",
    "    G.nodes[node]['AVAP'] += G.nodes[node]['P0030064']\n",
    "    G.nodes[node]['AVAP'] += G.nodes[node]['P0030065']\n",
    "    G.nodes[node]['AVAP'] += G.nodes[node]['P0030067']\n",
    "    G.nodes[node]['AVAP'] += G.nodes[node]['P0030068']\n",
    "    G.nodes[node]['AVAP'] += G.nodes[node]['P0030069']\n",
    "    \n",
    "    # Asian (among fix races)\n",
    "    G.nodes[node]['AVAP'] += G.nodes[node]['P0030071']"
   ]
  },
  {
   "cell_type": "code",
   "execution_count": 3,
   "metadata": {},
   "outputs": [
    {
     "name": "stdout",
     "output_type": "stream",
     "text": [
      "Using L = 756549 and U = 764152 and k = 52\n"
     ]
    }
   ],
   "source": [
    "# Let's impose a 1% population deviation (+/-0.5%)\n",
    "deviation = 0.01\n",
    "total_population = sum( G.nodes[node]['TOTPOP'] for node in G.nodes )\n",
    "\n",
    "import math\n",
    "from number_of_districts import congressional_districts_2020\n",
    "k = congressional_districts_2020[state]\n",
    "\n",
    "L = math.ceil( ( 1 - deviation / 2 ) * total_population / k )\n",
    "U = math.floor( ( 1 + deviation / 2 ) * total_population / k )\n",
    "print(\"Using L =\",L,\"and U =\",U,\"and k =\",k)"
   ]
  },
  {
   "cell_type": "code",
   "execution_count": 4,
   "metadata": {},
   "outputs": [
    {
     "name": "stdout",
     "output_type": "stream",
     "text": [
      "Set parameter Username\n",
      "Academic license - for non-commercial use only - expires 2023-12-27\n"
     ]
    }
   ],
   "source": [
    "import gurobipy as gp\n",
    "from gurobipy import GRB\n",
    "\n",
    "# create model \n",
    "m = gp.Model()\n",
    "\n",
    "import networkx as nx\n",
    "DG = nx.DiGraph(G)   # directed version of G\n",
    "\n",
    "# create variables\n",
    "# x[i] equals one when tract i is selected\n",
    "x = m.addVars(G.nodes, vtype=GRB.BINARY)  "
   ]
  },
  {
   "cell_type": "code",
   "execution_count": 5,
   "metadata": {},
   "outputs": [],
   "source": [
    "# get county graph too\n",
    "filename = state + '_county.json'\n",
    "GC = Graph.from_json( filepath + filename )\n",
    "\n",
    "for node in GC.nodes:\n",
    "    # See http://starr.tamu.edu/files/2013/01/Census-Codes.pdf\n",
    "    GC.nodes[node]['TOTPOP'] = GC.nodes[node]['P0010001']\n",
    "\n",
    "gtn = { GC.nodes[i]['GEOID20'] : i for i in GC.nodes }"
   ]
  },
  {
   "cell_type": "code",
   "execution_count": 6,
   "metadata": {},
   "outputs": [],
   "source": [
    "# split at most 1 county\n",
    "splits = 1\n",
    "whole = m.addVars(GC.nodes, vtype=GRB.BINARY)\n",
    "some = m.addVars(GC.nodes, vtype=GRB.BINARY)\n",
    "split = m.addVars(GC.nodes, vtype=GRB.BINARY)\n",
    "\n",
    "m.addConstr( gp.quicksum(split) <= splits )\n",
    "m.addConstrs( split[c] == some[c] - whole[c] for c in GC.nodes )\n",
    "\n",
    "for i in G.nodes:\n",
    "    g = G.nodes[i]['GEOID20'][0:5]\n",
    "    c = gtn[g]\n",
    "    m.addConstr( whole[c] <= x[i] )\n",
    "    m.addConstr( x[i] <= some[c] )"
   ]
  },
  {
   "cell_type": "code",
   "execution_count": 7,
   "metadata": {},
   "outputs": [],
   "source": [
    "# y[u,v] equals one when arc (u,v) is cut because u but not v is selected\n",
    "y = m.addVars(DG.edges, vtype=GRB.BINARY) \n",
    "\n",
    "# z is inverse Polsby-Popper score for district \n",
    "z = m.addVar()\n",
    "\n",
    "# A = area of district \n",
    "A = m.addVar()\n",
    "\n",
    "# P = perimeter of district \n",
    "P = m.addVar()"
   ]
  },
  {
   "cell_type": "code",
   "execution_count": 8,
   "metadata": {},
   "outputs": [],
   "source": [
    "# objective is to minimize inverse Polsby-Popper score\n",
    "m.setObjective( z, GRB.MINIMIZE )"
   ]
  },
  {
   "cell_type": "code",
   "execution_count": 9,
   "metadata": {},
   "outputs": [],
   "source": [
    "# add SOCP constraints relating inverse Polsby-Popper score z to area and perimeter\n",
    "m.addConstr( P * P <= 4 * math.pi * A * z )\n",
    "\n",
    "# add constraint on area A \n",
    "m.addConstr( A == gp.quicksum( G.nodes[i]['area'] * x[i] for i in G.nodes ) )\n",
    "\n",
    "# add constraint on perimeter P\n",
    "m.addConstr( P == gp.quicksum( DG.edges[u,v]['shared_perim'] * y[u,v] for u,v in DG.edges )\n",
    "             + gp.quicksum( G.nodes[i]['boundary_perim'] * x[i] for i in G.nodes if G.nodes[i]['boundary_node'] ) )\n",
    "    \n",
    "m.update()"
   ]
  },
  {
   "cell_type": "code",
   "execution_count": 10,
   "metadata": {},
   "outputs": [],
   "source": [
    "# add constraints saying that district has population at least L and at most U\n",
    "m.addConstr( gp.quicksum( G.nodes[i]['TOTPOP'] * x[i] for i in G.nodes) >= L )\n",
    "m.addConstr( gp.quicksum( G.nodes[i]['TOTPOP'] * x[i] for i in G.nodes) <= U )\n",
    "\n",
    "# add constraints saying that arc (u,v) is cut if u but not v is selected\n",
    "m.addConstrs( x[u] - x[v] <= y[u,v] for u,v in DG.edges )\n",
    "\n",
    "m.update()"
   ]
  },
  {
   "cell_type": "code",
   "execution_count": 11,
   "metadata": {},
   "outputs": [
    {
     "data": {
      "text/plain": [
       "<gurobi.Constr *Awaiting Model Update*>"
      ]
     },
     "execution_count": 11,
     "metadata": {},
     "output_type": "execute_result"
    }
   ],
   "source": [
    "# asian_vap >= 0.5 * total_vap\n",
    "avap = m.addVar()\n",
    "vap = m.addVar()\n",
    "\n",
    "m.addConstr( avap == gp.quicksum( G.nodes[i]['AVAP'] * x[i] for i in G.nodes ) )\n",
    "m.addConstr( vap == gp.quicksum( G.nodes[i]['VAP'] * x[i] for i in G.nodes ) )\n",
    "\n",
    "m.addConstr( avap >= 0.5 * vap )"
   ]
  },
  {
   "cell_type": "code",
   "execution_count": 12,
   "metadata": {},
   "outputs": [
    {
     "name": "stdout",
     "output_type": "stream",
     "text": [
      "Set parameter TimeLimit to value 3600\n",
      "Gurobi Optimizer version 9.5.0 build v9.5.0rc5 (win64)\n",
      "Thread count: 4 physical cores, 8 logical processors, using up to 8 threads\n",
      "Optimize a model with 68276 rows, 59260 columns and 282136 nonzeros\n",
      "Model fingerprint: 0x48fc99a2\n",
      "Model has 1 quadratic constraint\n",
      "Variable types: 5 continuous, 59255 integer (59255 binary)\n",
      "Coefficient statistics:\n",
      "  Matrix range     [2e-06, 4e+04]\n",
      "  QMatrix range    [1e+00, 1e+01]\n",
      "  Objective range  [1e+00, 1e+00]\n",
      "  Bounds range     [1e+00, 1e+00]\n",
      "  RHS range        [1e+00, 8e+05]\n",
      "Presolve removed 7483 rows and 30 columns (presolve time = 5s) ...\n",
      "Presolve removed 7483 rows and 30 columns\n",
      "Presolve time: 6.50s\n",
      "Presolved: 60793 rows, 59230 columns, 267155 nonzeros\n",
      "Presolved model has 1 quadratic constraint(s)\n",
      "Variable types: 3 continuous, 59227 integer (59225 binary)\n",
      "\n",
      "Deterministic concurrent LP optimizer: primal and dual simplex\n",
      "Showing first log only...\n",
      "\n",
      "\n",
      "Root simplex log...\n",
      "\n",
      "Iteration    Objective       Primal Inf.    Dual Inf.      Time\n",
      "       0    0.0000000e+00   4.804146e+04   1.203896e+10      8s\n",
      "    1738    0.0000000e+00   0.000000e+00   0.000000e+00      8s\n",
      "    1738    0.0000000e+00   0.000000e+00   0.000000e+00      8s\n",
      "Concurrent spin time: 0.10s\n",
      "\n",
      "Solved with primal simplex\n",
      "\n",
      "Root relaxation: objective 0.000000e+00, 1738 iterations, 1.37 seconds (0.33 work units)\n",
      "\n",
      "    Nodes    |    Current Node    |     Objective Bounds      |     Work\n",
      " Expl Unexpl |  Obj  Depth IntInf | Incumbent    BestBd   Gap | It/Node Time\n",
      "\n",
      "     0     0    0.00000    0    4          -    0.00000      -     -    8s\n",
      "H    0     0                    744496.35359    0.00000   100%     -    8s\n",
      "H    0     0                    587682.74768    0.00000   100%     -   10s\n",
      "H    0     0                    527677.07083    0.05846   100%     -   54s\n",
      "H    0     0                    416399.17293    0.05846   100%     -   54s\n",
      "     0     0    0.05846    0  459 416399.173    0.05846   100%     -   55s\n",
      "H    0     0                       3.4656519    0.05846  98.3%     -   56s\n",
      "     0     0    0.05846    0  459    3.46565    0.05846  98.3%     -   80s\n",
      "     0     2    0.06096    0  459    3.46565    0.06096  98.2%     -   89s\n",
      "     1     4    0.14682    1  668    3.46565    0.06096  98.2%  3255  137s\n",
      "     3     8    0.21531    2 2030    3.46565    0.14762  95.7%  4172  425s\n",
      "     7    12    0.23956    3  715    3.46565    0.22218  93.6%  2793  447s\n",
      "    11    16    0.26719    4  738    3.46565    0.22218  93.6%  2371  491s\n",
      "H   15    20                       3.3663437    0.22218  93.4%  1896  532s\n",
      "H   16    20                       2.7283928    0.22218  91.9%  1959  532s\n",
      "    19    22 infeasible    6         2.72839    0.22218  91.9%  2328  572s\n",
      "    23    25    0.29635    6 5051    2.72839    0.22218  91.9%  2357 1627s\n",
      "H   28    31                       2.6403884    0.22218  91.6%  2254 1690s\n",
      "H   29    31                       2.5937129    0.22218  91.4%  2260 1690s\n",
      "    34    33    0.30460    8 5075    2.59371    0.22218  91.4%  2523 1711s\n",
      "    40    37    0.30585    9 5073    2.59371    0.22218  91.4%  2230 1772s\n",
      "    46    42    0.31080   10 5093    2.59371    0.22218  91.4%  2321 1837s\n",
      "    53    50    0.31271   11 5106    2.59371    0.22218  91.4%  2353 1874s\n",
      "H   61    58                       1.9116104    0.22218  88.4%  2161 1917s\n",
      "    69    49    0.44618   12  184    1.91161    0.22218  88.4%  2200 1999s\n",
      "    82    53    0.36164   13  243    1.91161    0.22218  88.4%  1967 2051s\n",
      "    86    58    0.38366   14  528    1.91161    0.22218  88.4%  2068 2097s\n",
      "    91    64    0.37162   15  763    1.91161    0.22218  88.4%  2103 2145s\n",
      "H   92    64                       1.7436853    0.22218  87.3%  2080 2145s\n",
      "    97    72    0.39270   18  667    1.74369    0.22218  87.3%  2117 2200s\n",
      "   105    84    0.40365   20  233    1.74369    0.22218  87.3%  2014 2230s\n",
      "   117    93    0.42315   24  781    1.74369    0.22218  87.3%  1888 2273s\n",
      "H  119    93                       1.7110700    0.22218  87.0%  1858 2273s\n",
      "   126    99    0.48493   28  681    1.71107    0.22218  87.0%  1844 2323s\n",
      "   134   109    0.50621   31  896    1.71107    0.22218  87.0%  1833 2373s\n",
      "   146   115    0.69401   38  380    1.71107    0.22218  87.0%  1793 2416s\n",
      "   156   120    0.83157   41  208    1.71107    0.22218  87.0%  1780 2487s\n",
      "   167   131    1.27368   43  562    1.71107    0.22218  87.0%  1801 2533s\n",
      "   180   133    1.38524   48  163    1.71107    0.22218  87.0%  1806 2573s\n",
      "H  181   133                       1.6940677    0.22218  86.9%  1796 2573s\n",
      "   198   141    1.40193   52  131    1.69407    0.22218  86.9%  1716 2620s\n",
      "   224   150 infeasible   59         1.69407    0.22218  86.9%  1611 2676s\n",
      "   238   163 infeasible   58         1.69407    0.22218  86.9%  1616 2726s\n",
      "   258   164 infeasible   12         1.69407    0.35623  79.0%  1563 2765s\n",
      "   273   180    0.60980   18 1408    1.69407    0.35623  79.0%  1589 2806s\n",
      "   295   217    0.85537   28  480    1.69407    0.35623  79.0%  1555 2850s\n",
      "   332   230    1.23360   38  530    1.69407    0.35623  79.0%  1442 2870s\n",
      "   353   217 infeasible   41         1.69407    0.38823  77.1%  1446 2894s\n",
      "   368   195    0.87552   33  459    1.69407    0.38823  77.1%  1467 2935s\n",
      "   370   196    0.65059   37  459    1.69407    0.38823  77.1%  1459 2970s\n",
      "   373   199    0.38823   15 2420    1.69407    0.38823  77.1%  1533 3157s\n",
      "   375   199    0.38823   16 2309    1.69407    0.38823  77.1%  1535 3181s\n",
      "   377   198    0.38823   17 2976    1.69407    0.38823  77.1%  1549 3279s\n",
      "   379   199    0.47991   18  918    1.69407    0.38823  77.1%  1567 3311s\n",
      "   381   199    0.50891   19  998    1.69407    0.38823  77.1%  1574 3323s\n",
      "   385   199    1.12690   20  165    1.69407    0.39809  76.5%  1586 3331s\n",
      "   389   198    1.25356   21  120    1.69407    0.43818  74.1%  1585 3339s\n",
      "   393   200    1.62955   22 1159    1.69407    0.43952  74.1%  1583 3363s\n",
      "   397   200    1.66161   22  119    1.69407    0.43952  74.1%  1580 3369s\n",
      "   403   201 infeasible   23         1.69407    0.43952  74.1%  1567 3375s\n",
      "   410   205    0.90671   26  870    1.69407    0.43952  74.1%  1555 3388s\n",
      "   416   205    0.97731   28  906    1.69407    0.43952  74.1%  1538 3408s\n",
      "   426   209    1.03192   29  932    1.69407    0.43952  74.1%  1570 3415s\n",
      "   433   214    1.12254   30  888    1.69407    0.43952  74.1%  1555 3420s\n",
      "   448   218    1.27530   34  526    1.69407    0.43952  74.1%  1516 3428s\n",
      "   462   226    1.48530   38  512    1.69407    0.43952  74.1%  1487 3434s\n",
      "H  464   215                       1.6940677    0.43952  74.1%  1486 3434s\n",
      "   478   210 infeasible   39         1.69407    0.48354  71.5%  1449 3448s\n",
      "   486   213    0.83422   40  351    1.69407    0.48354  71.5%  1450 3458s\n",
      "   493   216    1.07634   42  640    1.69407    0.48354  71.5%  1448 3469s\n",
      "   499   214    1.16929   43  605    1.69407    0.48354  71.5%  1445 3477s\n",
      "   511   213    1.43606   45  641    1.69407    0.48354  71.5%  1431 3486s\n",
      "   524   220    1.44333   46  647    1.69407    0.48354  71.5%  1413 3492s\n",
      "   542   221    1.67263   53  231    1.69407    0.52545  69.0%  1383 3500s\n",
      "   560   227    1.03610   25 1083    1.69407    0.52545  69.0%  1360 3508s\n",
      "   574   227    1.05459   26  913    1.69407    0.52545  69.0%  1348 3520s\n",
      "   587   221    1.09448   28  355    1.69407    0.52545  69.0%  1338 3529s\n",
      "   612   213    1.18484   30  493    1.69407    0.52545  69.0%  1307 3537s\n",
      "   636   205 infeasible   35         1.69407    0.54134  68.0%  1277 3546s\n",
      "   654   208    1.61848   54  267    1.69407    0.54134  68.0%  1268 3554s\n",
      "H  681   197                       1.6854637    0.54134  67.9%  1240 3565s\n",
      "   702   187     cutoff   66         1.68546    0.62542  62.9%  1227 3574s\n",
      "   726   167    1.47175   35  258    1.68546    0.64503  61.7%  1209 3591s\n",
      "   766   148 infeasible   40         1.68546    0.64503  61.7%  1176 3600s\n",
      "\n",
      "Explored 783 nodes (931691 simplex iterations) in 3600.09 seconds (2233.83 work units)\n",
      "Thread count was 8 (of 8 available processors)\n",
      "\n",
      "Solution count 10: 1.68546 1.69407 1.71107 ... 3.46565\n",
      "\n",
      "Time limit reached\n",
      "Best objective 1.685463652427e+00, best bound 6.450291520244e-01, gap 61.7299%\n"
     ]
    }
   ],
   "source": [
    "# solve IP model\n",
    "m.Params.TimeLimit = 3600\n",
    "m.optimize()"
   ]
  },
  {
   "cell_type": "code",
   "execution_count": 13,
   "metadata": {},
   "outputs": [
    {
     "name": "stdout",
     "output_type": "stream",
     "text": [
      "The inverse PP score is 1.6854636524267688\n",
      "The PP score is 0.5933085525518021\n"
     ]
    }
   ],
   "source": [
    "print(\"The inverse PP score is\",m.objval)\n",
    "print(\"The PP score is\",1.0/m.objval)\n",
    "\n",
    "# retrieve the districts and their populations\n",
    "district = [i for i in G.nodes if x[i].x > 0.5] \n",
    "district_population = sum(G.nodes[i][\"TOTPOP\"] for i in district )"
   ]
  },
  {
   "cell_type": "code",
   "execution_count": 14,
   "metadata": {},
   "outputs": [
    {
     "name": "stdout",
     "output_type": "stream",
     "text": [
      "asian_vap = 310072\n",
      "total_vap = 614167\n",
      "percentage = 50 %\n"
     ]
    }
   ],
   "source": [
    "print(\"asian_vap =\", round(avap.x) )\n",
    "print(\"total_vap =\", round(vap.x) )\n",
    "print(\"percentage =\", round( 100 * avap.x / vap.x ),\"%\" )"
   ]
  },
  {
   "cell_type": "code",
   "execution_count": 15,
   "metadata": {},
   "outputs": [],
   "source": [
    "# Let's draw it on a map\n",
    "import geopandas as gpd"
   ]
  },
  {
   "cell_type": "code",
   "execution_count": 16,
   "metadata": {},
   "outputs": [],
   "source": [
    "filename = state + '_' + level + '.shp'\n",
    "df = gpd.read_file( filepath + filename )"
   ]
  },
  {
   "cell_type": "code",
   "execution_count": 17,
   "metadata": {},
   "outputs": [
    {
     "data": {
      "image/png": "[encoded data removed]",
      "text/plain": [
       "<Figure size 432x288 with 1 Axes>"
      ]
     },
     "metadata": {
      "needs_background": "light"
     },
     "output_type": "display_data"
    }
   ],
   "source": [
    "assignment = [ -1 for i in G.nodes ]\n",
    "labeling = { i : 1 if x[i].x > 0.5 else 0 for i in G.nodes }\n",
    "\n",
    "# Now add the assignments to a column of the dataframe and map it\n",
    "node_with_this_geoid = { G.nodes[i]['GEOID20'] : i for i in G.nodes }\n",
    "\n",
    "# pick a position u in the dataframe\n",
    "for u in range(G.number_of_nodes()):\n",
    "    \n",
    "    geoid = df['GEOID20'][u]\n",
    "    \n",
    "    # what node in G has this geoid?\n",
    "    i = node_with_this_geoid[geoid]\n",
    "    \n",
    "    # position u in the dataframe should be given\n",
    "    # the same district # that county i has in 'labeling'\n",
    "    assignment[u] = labeling[i]\n",
    "    \n",
    "# now add the assignments to a column of our dataframe and then map it\n",
    "df['assignment'] = assignment\n",
    "\n",
    "my_fig = df.plot(column='assignment').get_figure()"
   ]
  },
  {
   "cell_type": "code",
   "execution_count": 18,
   "metadata": {},
   "outputs": [],
   "source": [
    "county_geoids = { G.nodes[i]['GEOID20'][0:5] for i in G.nodes }\n",
    "county_pop = { g : 0 for g in county_geoids }"
   ]
  },
  {
   "cell_type": "code",
   "execution_count": 19,
   "metadata": {},
   "outputs": [],
   "source": [
    "for i in labeling.keys():\n",
    "    if labeling[i]==1:\n",
    "        g = G.nodes[i]['GEOID20'][0:5]\n",
    "        p = G.nodes[i]['TOTPOP']\n",
    "        county_pop[g] += p"
   ]
  },
  {
   "cell_type": "code",
   "execution_count": 20,
   "metadata": {},
   "outputs": [
    {
     "name": "stdout",
     "output_type": "stream",
     "text": [
      "geoid pop total_pop county\n",
      "06085 762459 1936259 Santa Clara 39.37794478941092\n",
      "1\n"
     ]
    }
   ],
   "source": [
    "count = 0\n",
    "print(\"geoid pop total_pop county\")\n",
    "for g in county_pop.keys():\n",
    "    if county_pop[g]>0:\n",
    "        i = gtn[g]\n",
    "        print(g,county_pop[g],GC.nodes[i]['TOTPOP'],GC.nodes[i]['NAME20'],100*county_pop[g]/GC.nodes[i]['TOTPOP'])\n",
    "        count += 1\n",
    "print(count)"
   ]
  },
  {
   "cell_type": "code",
   "execution_count": 21,
   "metadata": {},
   "outputs": [
    {
     "data": {
      "text/plain": [
       "True"
      ]
     },
     "execution_count": 21,
     "metadata": {},
     "output_type": "execute_result"
    }
   ],
   "source": [
    "nx.is_connected(G.subgraph(district))"
   ]
  }
 ],
 "metadata": {
  "kernelspec": {
   "display_name": "Python 3",
   "language": "python",
   "name": "python3"
  },
  "language_info": {
   "codemirror_mode": {
    "name": "ipython",
    "version": 3
   },
   "file_extension": ".py",
   "mimetype": "text/x-python",
   "name": "python",
   "nbconvert_exporter": "python",
   "pygments_lexer": "ipython3",
   "version": "3.7.10"
  }
 },
 "nbformat": 4,
 "nbformat_minor": 4
}
