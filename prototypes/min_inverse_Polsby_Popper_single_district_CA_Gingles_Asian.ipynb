{
 "cells": [
  {
   "cell_type": "code",
   "execution_count": 1,
   "metadata": {},
   "outputs": [],
   "source": [
    "# https://en.m.wikipedia.org/wiki/List_of_majority-minority_United_States_congressional_districts\n",
    "state = 'CA'    # 2-letter state code\n",
    "level = 'tract' # county, tract, block"
   ]
  },
  {
   "cell_type": "code",
   "execution_count": 2,
   "metadata": {},
   "outputs": [
    {
     "name": "stderr",
     "output_type": "stream",
     "text": [
      "C:\\Users\\buchanan\\Anaconda3\\lib\\site-packages\\gerrychain\\graph\\graph.py:239: UserWarning: Found islands (degree-0 nodes). Indices of islands: {1212}\n",
      "  \"Found islands (degree-0 nodes). Indices of islands: {}\".format(islands)\n"
     ]
    }
   ],
   "source": [
    "filepath = 'C:\\\\districting-data-2020\\\\'\n",
    "filename = state + '_' + level + '.json'\n",
    "\n",
    "# GerryChain has a built-in function for reading graphs of this type:\n",
    "from gerrychain import Graph\n",
    "G = Graph.from_json( filepath + filename )\n",
    "\n",
    "for node in G.nodes:\n",
    "    # See http://starr.tamu.edu/files/2013/01/Census-Codes.pdf\n",
    "    G.nodes[node]['TOTPOP'] = G.nodes[node]['P0010001']\n",
    "    \n",
    "    # Asian alone:\n",
    "    G.nodes[node]['ASIPOP'] = G.nodes[node]['P0010006']"
   ]
  },
  {
   "cell_type": "code",
   "execution_count": 3,
   "metadata": {},
   "outputs": [
    {
     "name": "stdout",
     "output_type": "stream",
     "text": [
      "Using L = 756549 and U = 764152 and k = 52\n"
     ]
    }
   ],
   "source": [
    "# Let's impose a 1% population deviation (+/-0.5%)\n",
    "deviation = 0.01\n",
    "total_population = sum( G.nodes[node]['TOTPOP'] for node in G.nodes )\n",
    "\n",
    "import math\n",
    "from number_of_districts import congressional_districts_2020\n",
    "k = congressional_districts_2020[state]\n",
    "L = math.ceil( ( 1 - deviation / 2 ) * total_population / k )\n",
    "U = math.floor( ( 1 + deviation / 2 ) * total_population / k )\n",
    "print(\"Using L =\",L,\"and U =\",U,\"and k =\",k)"
   ]
  },
  {
   "cell_type": "code",
   "execution_count": 4,
   "metadata": {},
   "outputs": [
    {
     "name": "stdout",
     "output_type": "stream",
     "text": [
      "Set parameter Username\n",
      "Academic license - for non-commercial use only - expires 2023-01-01\n"
     ]
    }
   ],
   "source": [
    "import gurobipy as gp\n",
    "from gurobipy import GRB\n",
    "\n",
    "# create model \n",
    "m = gp.Model()\n",
    "\n",
    "import networkx as nx\n",
    "DG = nx.DiGraph(G)   # directed version of G\n",
    "\n",
    "# create variables\n",
    "# x[i] equals one when county i is selected\n",
    "x = m.addVars(G.nodes, vtype=GRB.BINARY)  \n",
    "\n",
    "# y[u,v] equals one when arc (u,v) is cut because u but not v is selected\n",
    "y = m.addVars(DG.edges, vtype=GRB.BINARY) \n",
    "\n",
    "# z is inverse Polsby-Popper score for district \n",
    "z = m.addVar()\n",
    "\n",
    "# A = area of district \n",
    "A = m.addVar()\n",
    "\n",
    "# P = perimeter of district \n",
    "P = m.addVar()"
   ]
  },
  {
   "cell_type": "code",
   "execution_count": 5,
   "metadata": {},
   "outputs": [],
   "source": [
    "# objective is to minimize inverse Polsby-Popper score\n",
    "m.setObjective( z, GRB.MINIMIZE )"
   ]
  },
  {
   "cell_type": "code",
   "execution_count": 6,
   "metadata": {},
   "outputs": [],
   "source": [
    "# add SOCP constraints relating inverse Polsby-Popper score z to area and perimeter\n",
    "m.addConstr( P * P <= 4 * math.pi * A * z )\n",
    "\n",
    "# add constraint on area A \n",
    "m.addConstr( A == gp.quicksum( G.nodes[i]['area'] * x[i] for i in G.nodes ) )\n",
    "\n",
    "# add constraint on perimeter P\n",
    "m.addConstr( P == gp.quicksum( DG.edges[u,v]['shared_perim'] * y[u,v] for u,v in DG.edges )\n",
    "             + gp.quicksum( G.nodes[i]['boundary_perim'] * x[i] for i in G.nodes if G.nodes[i]['boundary_node'] ) )\n",
    "    \n",
    "m.update()"
   ]
  },
  {
   "cell_type": "code",
   "execution_count": 7,
   "metadata": {},
   "outputs": [],
   "source": [
    "# add constraints saying that district has population at least L and at most U\n",
    "m.addConstr( gp.quicksum( G.nodes[i]['TOTPOP'] * x[i] for i in G.nodes) >= L )\n",
    "m.addConstr( gp.quicksum( G.nodes[i]['TOTPOP'] * x[i] for i in G.nodes) <= U )\n",
    "\n",
    "# add constraints saying that arc (u,v) is cut if u but not v is selected\n",
    "m.addConstrs( x[u] - x[v] <= y[u,v] for u,v in DG.edges )\n",
    "\n",
    "m.update()"
   ]
  },
  {
   "cell_type": "code",
   "execution_count": 8,
   "metadata": {},
   "outputs": [],
   "source": [
    "# # Now, let's add contiguity constraints and re-solve the model.\n",
    "# # We will use the contiguity constraints of Hojny et al. (MPC, 2021)\n",
    "# #   https://link.springer.com/article/10.1007/s12532-020-00186-3\n",
    "\n",
    "# # Add root variables: r[i,j] equals 1 if node i is the \"root\" of district j\n",
    "# r = m.addVars( G.nodes, k, vtype=GRB.BINARY)\n",
    "\n",
    "# # To solve the MIP faster, fix a district root:\n",
    "# r[0,0].LB = 1\n",
    "\n",
    "# # Add flow variables: f[u,v] = amount of flow sent across arc uv \n",
    "# #  Flows are sent across arcs of the directed version of G which we call DG\n",
    "\n",
    "# f = m.addVars( DG.edges )"
   ]
  },
  {
   "cell_type": "code",
   "execution_count": 9,
   "metadata": {},
   "outputs": [],
   "source": [
    "# # The big-M proposed by Hojny et al.\n",
    "# M = G.number_of_nodes() - k + 1\n",
    "\n",
    "# # Each district j should have one root\n",
    "# m.addConstrs( gp.quicksum( r[i,j] for i in G.nodes ) == 1 for j in range(k) )\n",
    "\n",
    "# # If node i is not assigned to district j, then it cannot be its root\n",
    "# m.addConstrs( r[i,j] <= x[i,j] for i in G.nodes for j in range(k) ) \n",
    "\n",
    "# # if not a root, consume some flow.\n",
    "# # if a root, only send out (so much) flow.\n",
    "# m.addConstrs( gp.quicksum( f[j,i] - f[i,j] for j in G.neighbors(i) ) \n",
    "#              >= 1 - M * gp.quicksum( r[i,j] for j in range(k) ) for i in G.nodes )\n",
    "\n",
    "# # do not send flow across cut edges\n",
    "# m.addConstrs( f[u,v] + f[v,u] <= M * ( 1 - gp.quicksum( y[u,v,j] for j in range(k) ) ) for u,v in DG.edges )\n",
    "\n",
    "# m.update()"
   ]
  },
  {
   "cell_type": "code",
   "execution_count": 10,
   "metadata": {},
   "outputs": [
    {
     "data": {
      "text/plain": [
       "<gurobi.Constr *Awaiting Model Update*>"
      ]
     },
     "execution_count": 10,
     "metadata": {},
     "output_type": "execute_result"
    }
   ],
   "source": [
    "# hispanic_or_latino_population >= 0.5 * total_population\n",
    "asian_pop = m.addVar()\n",
    "total_pop = m.addVar()\n",
    "\n",
    "m.addConstr( asian_pop == gp.quicksum( G.nodes[i]['ASIPOP'] * x[i] for i in G.nodes ) )\n",
    "m.addConstr( total_pop == gp.quicksum( G.nodes[i]['TOTPOP'] * x[i] for i in G.nodes ) )\n",
    "\n",
    "m.addConstr( asian_pop >= 0.5 * total_pop )"
   ]
  },
  {
   "cell_type": "code",
   "execution_count": 11,
   "metadata": {},
   "outputs": [
    {
     "name": "stdout",
     "output_type": "stream",
     "text": [
      "Set parameter TimeLimit to value 600\n",
      "Gurobi Optimizer version 9.5.0 build v9.5.0rc5 (win64)\n",
      "Thread count: 4 physical cores, 8 logical processors, using up to 8 threads\n",
      "Optimize a model with 49959 rows, 59086 columns and 245378 nonzeros\n",
      "Model fingerprint: 0x13dc1ace\n",
      "Model has 1 quadratic constraint\n",
      "Variable types: 5 continuous, 59081 integer (59081 binary)\n",
      "Coefficient statistics:\n",
      "  Matrix range     [2e-06, 4e+04]\n",
      "  QMatrix range    [1e+00, 1e+01]\n",
      "  Objective range  [1e+00, 1e+00]\n",
      "  Bounds range     [1e+00, 1e+00]\n",
      "  RHS range        [8e+05, 8e+05]\n",
      "Presolve removed 2 rows and 0 columns\n",
      "Presolve time: 0.25s\n",
      "Presolved: 49957 rows, 59086 columns, 227184 nonzeros\n",
      "Presolved model has 1 quadratic constraint(s)\n",
      "Variable types: 3 continuous, 59083 integer (59081 binary)\n",
      "\n",
      "Deterministic concurrent LP optimizer: primal and dual simplex\n",
      "Showing first log only...\n",
      "\n",
      "Concurrent spin time: 0.00s\n",
      "\n",
      "Solved with dual simplex\n",
      "\n",
      "Root relaxation: objective 0.000000e+00, 10 iterations, 0.12 seconds (0.06 work units)\n",
      "\n",
      "    Nodes    |    Current Node    |     Objective Bounds      |     Work\n",
      " Expl Unexpl |  Obj  Depth IntInf | Incumbent    BestBd   Gap | It/Node Time\n",
      "\n",
      "     0     0    0.00000    0    2          -    0.00000      -     -    0s\n",
      "H    0     0                    2499927.0203    0.00000   100%     -    0s\n",
      "H    0     0                    5130.9093216    0.00000   100%     -    1s\n",
      "     0     0    0.00000    0  771 5130.90932    0.00000   100%     -    9s\n",
      "H    0     0                      21.9610113    0.00000   100%     -   10s\n",
      "H    0     0                      21.9038959    0.00000   100%     -   10s\n",
      "H    0     0                      21.8927235    0.00000   100%     -   10s\n",
      "H    0     0                      19.8126072    0.21217  98.9%     -   49s\n",
      "H    0     0                      19.8119581    0.21217  98.9%     -   49s\n",
      "H    0     0                      19.4870870    0.21217  98.9%     -   49s\n",
      "     0     0    0.21217    0 4370   19.48709    0.21217  98.9%     -   49s\n",
      "     0     0    0.24375    0 4750   19.48709    0.24375  98.7%     -   70s\n",
      "H    0     0                       9.5037896    0.24375  97.4%     -   71s\n",
      "     0     0    0.25201    0 4370    9.50379    0.25201  97.3%     -   79s\n",
      "     0     0    0.25307    0 4370    9.50379    0.25307  97.3%     -   81s\n",
      "     0     0    0.25381    0 4277    9.50379    0.25381  97.3%     -   84s\n",
      "     0     0    0.25381    0 4277    9.50379    0.25381  97.3%     -   89s\n",
      "     0     2    0.25381    0 4277    9.50379    0.25381  97.3%     -   93s\n",
      "     1     4    0.27471    1 4225    9.50379    0.25478  97.3%  4782  101s\n",
      "     7    12    0.28906    3 3634    9.50379    0.27691  97.1%  2802  114s\n",
      "    11    16    0.29383    4 3291    9.50379    0.27847  97.1%  3363  123s\n",
      "    15    20    0.33193    5 3567    9.50379    0.28122  97.0%  3407  128s\n",
      "    19    24    0.36084    6 4744    9.50379    0.28122  97.0%  3762  135s\n",
      "    23    30    0.36263    7 3535    9.50379    0.28122  97.0%  3214  140s\n",
      "H   29    35                       6.0483473    0.28122  95.4%  2676  144s\n",
      "H   30    35                       2.4219371    0.28122  88.4%  2610  144s\n",
      "    34    37    0.39713    9 4733    2.42194    0.28122  88.4%  2595  159s\n",
      "    40    37    0.40541   10 3517    2.42194    0.28122  88.4%  2526  164s\n",
      "    46    42    0.40909   11 3518    2.42194    0.28122  88.4%  2320  176s\n",
      "    51    47    0.41495   12 3510    2.42194    0.28122  88.4%  2554  186s\n",
      "    56    52    0.41854   13 4400    2.42194    0.28122  88.4%  2602  192s\n",
      "H   61    58                       2.4122274    0.28122  88.3%  2463  202s\n",
      "H   62    58                       2.3604855    0.28122  88.1%  2502  202s\n",
      "    67    65    0.43150   15 3093    2.36049    0.28122  88.1%  2478  214s\n",
      "    74    72    0.43605   16 3102    2.36049    0.28122  88.1%  2520  223s\n",
      "    83    81    0.44074   17  437    2.36049    0.28122  88.1%  2416  245s\n",
      "    92    90    0.44246   18 3087    2.36049    0.28122  88.1%  2401  266s\n",
      "H   96    90                       2.0470982    0.28122  86.3%  2529  266s\n",
      "H   97    90                       1.8878463    0.28122  85.1%  2509  266s\n",
      "   101    93    0.45104   20  386    1.88785    0.28122  85.1%  2484  282s\n",
      "   110   100    0.46784   21  370    1.88785    0.28122  85.1%  2606  326s\n",
      "   117   105    0.45158   21  377    1.88785    0.28122  85.1%  2818  337s\n",
      "   126   115    0.45433   23  363    1.88785    0.28122  85.1%  2855  376s\n",
      "   138   125    0.47309   27  289    1.88785    0.28122  85.1%  3039  398s\n",
      "   148   134    0.48828   28  295    1.88785    0.28122  85.1%  3047  412s\n",
      "   159   137    0.47655   33 5559    1.88785    0.28122  85.1%  3005  432s\n",
      "   170   144    0.47696   34 5344    1.88785    0.28122  85.1%  2988  456s\n",
      "   179   148    0.47715   36 5339    1.88785    0.28122  85.1%  3017  474s\n",
      "   191   160    0.47770   39  980    1.88785    0.28122  85.1%  2987  491s\n",
      "   205   169    0.47907   43 2241    1.88785    0.28122  85.1%  2891  508s\n",
      "   218   176    0.47974   49 1884    1.88785    0.28122  85.1%  2853  529s\n",
      "   227   196    0.48071   52 5626    1.88785    0.28122  85.1%  2885  545s\n",
      "   251   213    0.48120   59 2039    1.88785    0.28122  85.1%  2716  562s\n",
      "   272   243    0.48211   64 2404    1.88785    0.28122  85.1%  2635  584s\n",
      "   302   225    0.48378   77 1824    1.88785    0.28122  85.1%  2511  600s\n",
      "\n",
      "Explored 315 nodes (824381 simplex iterations) in 600.09 seconds (759.24 work units)\n",
      "Thread count was 8 (of 8 available processors)\n",
      "\n",
      "Solution count 10: 1.88785 2.0471 2.36049 ... 19.8126\n",
      "\n",
      "Time limit reached\n",
      "Best objective 1.887846301248e+00, best bound 2.812192549913e-01, gap 85.1037%\n"
     ]
    }
   ],
   "source": [
    "# solve IP model\n",
    "m.Params.TimeLimit = 600\n",
    "m.optimize()"
   ]
  },
  {
   "cell_type": "code",
   "execution_count": 12,
   "metadata": {},
   "outputs": [
    {
     "name": "stdout",
     "output_type": "stream",
     "text": [
      "The inverse PP score is 1.8878463012476496\n",
      "The PP score is 0.5297041392295098\n"
     ]
    }
   ],
   "source": [
    "print(\"The inverse PP score is\",m.objval)\n",
    "print(\"The PP score is\",1.0/m.objval)\n",
    "\n",
    "# retrieve the districts and their populations\n",
    "district = [i for i in G.nodes if x[i].x > 0.5] \n",
    "#district_counties = [ G.nodes[i][\"NAME20\"] for i in district ] \n",
    "district_population = sum(G.nodes[i][\"TOTPOP\"] for i in district )\n",
    "\n",
    "# print district info\n",
    "#print(\"District has population\",district_population,\"and contains counties\",district_counties)"
   ]
  },
  {
   "cell_type": "code",
   "execution_count": 13,
   "metadata": {},
   "outputs": [
    {
     "name": "stdout",
     "output_type": "stream",
     "text": [
      "asian_pop = 382027\n",
      "total_pop = 760703\n",
      "percentage = 50 %\n"
     ]
    }
   ],
   "source": [
    "print(\"asian_pop =\", round(asian_pop.x) )\n",
    "print(\"total_pop =\", round(total_pop.x) )\n",
    "print(\"percentage =\", round( 100 * asian_pop.x / total_pop.x ),\"%\" )"
   ]
  },
  {
   "cell_type": "code",
   "execution_count": 14,
   "metadata": {},
   "outputs": [],
   "source": [
    "# Let's draw it on a map\n",
    "import geopandas as gpd"
   ]
  },
  {
   "cell_type": "code",
   "execution_count": 15,
   "metadata": {},
   "outputs": [],
   "source": [
    "# Read county shapefile from \"<state>_county.shp\"\n",
    "filename = state + '_' + level + '.shp'\n",
    "\n",
    "# Read geopandas dataframe from file\n",
    "df = gpd.read_file( filepath + filename )"
   ]
  },
  {
   "cell_type": "code",
   "execution_count": 16,
   "metadata": {},
   "outputs": [
    {
     "data": {
      "image/png": "[encoded data removed]",
      "text/plain": [
       "<Figure size 432x288 with 1 Axes>"
      ]
     },
     "metadata": {
      "needs_background": "light"
     },
     "output_type": "display_data"
    }
   ],
   "source": [
    "# Which district is each county assigned to?\n",
    "assignment = [ -1 for i in G.nodes ]\n",
    "\n",
    "labeling = { i : 1 if x[i].x > 0.5 else 0 for i in G.nodes }\n",
    "\n",
    "# Now add the assignments to a column of the dataframe and map it\n",
    "node_with_this_geoid = { G.nodes[i]['GEOID20'] : i for i in G.nodes }\n",
    "\n",
    "# pick a position u in the dataframe\n",
    "for u in range(G.number_of_nodes()):\n",
    "    \n",
    "    geoid = df['GEOID20'][u]\n",
    "    \n",
    "    # what node in G has this geoid?\n",
    "    i = node_with_this_geoid[geoid]\n",
    "    \n",
    "    # position u in the dataframe should be given\n",
    "    # the same district # that county i has in 'labeling'\n",
    "    assignment[u] = labeling[i]\n",
    "    \n",
    "# now add the assignments to a column of our dataframe and then map it\n",
    "df['assignment'] = assignment\n",
    "\n",
    "my_fig = df.plot(column='assignment').get_figure()"
   ]
  },
  {
   "cell_type": "code",
   "execution_count": null,
   "metadata": {},
   "outputs": [],
   "source": []
  }
 ],
 "metadata": {
  "kernelspec": {
   "display_name": "Python 3",
   "language": "python",
   "name": "python3"
  },
  "language_info": {
   "codemirror_mode": {
    "name": "ipython",
    "version": 3
   },
   "file_extension": ".py",
   "mimetype": "text/x-python",
   "name": "python",
   "nbconvert_exporter": "python",
   "pygments_lexer": "ipython3",
   "version": "3.7.10"
  }
 },
 "nbformat": 4,
 "nbformat_minor": 4
}
