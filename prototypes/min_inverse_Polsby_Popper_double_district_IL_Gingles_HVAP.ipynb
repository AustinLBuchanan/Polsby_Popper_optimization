{
 "cells": [
  {
   "cell_type": "code",
   "execution_count": 1,
   "metadata": {},
   "outputs": [],
   "source": [
    "# https://en.m.wikipedia.org/wiki/List_of_majority-minority_United_States_congressional_districts\n",
    "state = 'IL'    # 2-letter state code\n",
    "level = 'tract' # county, tract, block"
   ]
  },
  {
   "cell_type": "code",
   "execution_count": 2,
   "metadata": {},
   "outputs": [],
   "source": [
    "filepath = 'C:\\\\districting-data-2020\\\\'\n",
    "filename = state + '_' + level + '.json'\n",
    "\n",
    "# GerryChain has a built-in function for reading graphs of this type:\n",
    "from gerrychain import Graph\n",
    "G = Graph.from_json( filepath + filename )\n",
    "\n",
    "for node in G.nodes:\n",
    "    # See http://starr.tamu.edu/files/2013/01/Census-Codes.pdf\n",
    "    G.nodes[node]['TOTPOP'] = G.nodes[node]['P0010001']\n",
    "    \n",
    "    # voting age population (VAP)\n",
    "    G.nodes[node]['VAP'] = G.nodes[node]['P0040001']\n",
    "    \n",
    "    # Hispanic or Latino VAP\n",
    "    G.nodes[node]['HVAP'] = G.nodes[node]['P0040002']"
   ]
  },
  {
   "cell_type": "code",
   "execution_count": 3,
   "metadata": {},
   "outputs": [
    {
     "name": "stdout",
     "output_type": "stream",
     "text": [
      "Using L = 1499818 and U = 1514890 and k = 17\n"
     ]
    }
   ],
   "source": [
    "# Let's impose a 1% population deviation (+/-0.5%)\n",
    "deviation = 0.01\n",
    "total_population = sum( G.nodes[node]['TOTPOP'] for node in G.nodes )\n",
    "\n",
    "import math\n",
    "from number_of_districts import congressional_districts_2020\n",
    "k = congressional_districts_2020[state]\n",
    "\n",
    "# \"double\" district\n",
    "size = 2\n",
    "L = size * math.ceil( ( 1 - deviation / 2 ) * total_population / k )\n",
    "U = size * math.floor( ( 1 + deviation / 2 ) * total_population / k )\n",
    "print(\"Using L =\",L,\"and U =\",U,\"and k =\",k)"
   ]
  },
  {
   "cell_type": "code",
   "execution_count": 4,
   "metadata": {},
   "outputs": [
    {
     "name": "stdout",
     "output_type": "stream",
     "text": [
      "Set parameter Username\n",
      "Academic license - for non-commercial use only - expires 2023-12-27\n"
     ]
    }
   ],
   "source": [
    "import gurobipy as gp\n",
    "from gurobipy import GRB\n",
    "\n",
    "# create model \n",
    "m = gp.Model()\n",
    "\n",
    "import networkx as nx\n",
    "DG = nx.DiGraph(G)   # directed version of G\n",
    "\n",
    "# create variables\n",
    "# x[i] equals one when tract i is selected\n",
    "x = m.addVars(G.nodes, vtype=GRB.BINARY)  "
   ]
  },
  {
   "cell_type": "code",
   "execution_count": 5,
   "metadata": {},
   "outputs": [],
   "source": [
    "# get county graph too\n",
    "filename = state + '_county.json'\n",
    "GC = Graph.from_json( filepath + filename )\n",
    "\n",
    "for node in GC.nodes:\n",
    "    # See http://starr.tamu.edu/files/2013/01/Census-Codes.pdf\n",
    "    GC.nodes[node]['TOTPOP'] = GC.nodes[node]['P0010001']\n",
    "\n",
    "gtn = { GC.nodes[i]['GEOID20'] : i for i in GC.nodes }"
   ]
  },
  {
   "cell_type": "code",
   "execution_count": 6,
   "metadata": {},
   "outputs": [],
   "source": [
    "# y[u,v] equals one when arc (u,v) is cut because u but not v is selected\n",
    "y = m.addVars(DG.edges, vtype=GRB.BINARY) \n",
    "\n",
    "# z is inverse Polsby-Popper score for district \n",
    "z = m.addVar()\n",
    "\n",
    "# A = area of district \n",
    "A = m.addVar()\n",
    "\n",
    "# P = perimeter of district \n",
    "P = m.addVar()"
   ]
  },
  {
   "cell_type": "code",
   "execution_count": 7,
   "metadata": {},
   "outputs": [],
   "source": [
    "# objective is to minimize inverse Polsby-Popper score\n",
    "m.setObjective( z, GRB.MINIMIZE )"
   ]
  },
  {
   "cell_type": "code",
   "execution_count": 8,
   "metadata": {},
   "outputs": [
    {
     "name": "stdout",
     "output_type": "stream",
     "text": [
      "Warning for adding constraints: zero or small (< 1e-13) coefficients, ignored\n"
     ]
    }
   ],
   "source": [
    "# add SOCP constraints relating inverse Polsby-Popper score z to area and perimeter\n",
    "m.addConstr( P * P <= 4 * math.pi * A * z )\n",
    "\n",
    "# add constraint on area A \n",
    "m.addConstr( A == gp.quicksum( G.nodes[i]['area'] * x[i] for i in G.nodes ) )\n",
    "\n",
    "# add constraint on perimeter P\n",
    "m.addConstr( P == gp.quicksum( DG.edges[u,v]['shared_perim'] * y[u,v] for u,v in DG.edges )\n",
    "             + gp.quicksum( G.nodes[i]['boundary_perim'] * x[i] for i in G.nodes if G.nodes[i]['boundary_node'] ) )\n",
    "    \n",
    "m.update()"
   ]
  },
  {
   "cell_type": "code",
   "execution_count": 9,
   "metadata": {},
   "outputs": [],
   "source": [
    "# add constraints saying that district has population at least L and at most U\n",
    "m.addConstr( gp.quicksum( G.nodes[i]['TOTPOP'] * x[i] for i in G.nodes) >= L )\n",
    "m.addConstr( gp.quicksum( G.nodes[i]['TOTPOP'] * x[i] for i in G.nodes) <= U )\n",
    "\n",
    "# add constraints saying that arc (u,v) is cut if u but not v is selected\n",
    "m.addConstrs( x[u] - x[v] <= y[u,v] for u,v in DG.edges )\n",
    "\n",
    "m.update()"
   ]
  },
  {
   "cell_type": "code",
   "execution_count": 10,
   "metadata": {},
   "outputs": [
    {
     "data": {
      "text/plain": [
       "<gurobi.Constr *Awaiting Model Update*>"
      ]
     },
     "execution_count": 10,
     "metadata": {},
     "output_type": "execute_result"
    }
   ],
   "source": [
    "hvap = m.addVar()\n",
    "vap = m.addVar()\n",
    "\n",
    "m.addConstr( hvap == gp.quicksum( G.nodes[i]['HVAP'] * x[i] for i in G.nodes ) )\n",
    "m.addConstr( vap == gp.quicksum( G.nodes[i]['VAP'] * x[i] for i in G.nodes ) )\n",
    "\n",
    "m.addConstr( hvap >= 0.5 * vap )"
   ]
  },
  {
   "cell_type": "code",
   "execution_count": 11,
   "metadata": {},
   "outputs": [
    {
     "name": "stdout",
     "output_type": "stream",
     "text": [
      "Set parameter TimeLimit to value 3600\n",
      "Gurobi Optimizer version 9.5.0 build v9.5.0rc5 (win64)\n",
      "Thread count: 4 physical cores, 8 logical processors, using up to 8 threads\n",
      "Optimize a model with 17463 rows, 20726 columns and 86284 nonzeros\n",
      "Model fingerprint: 0x8ec44685\n",
      "Model has 1 quadratic constraint\n",
      "Variable types: 5 continuous, 20721 integer (20721 binary)\n",
      "Coefficient statistics:\n",
      "  Matrix range     [2e-06, 1e+04]\n",
      "  QMatrix range    [1e+00, 1e+01]\n",
      "  Objective range  [1e+00, 1e+00]\n",
      "  Bounds range     [1e+00, 1e+00]\n",
      "  RHS range        [1e+06, 2e+06]\n",
      "Presolve time: 0.08s\n",
      "Presolved: 17463 rows, 20726 columns, 86284 nonzeros\n",
      "Presolved model has 1 quadratic constraint(s)\n",
      "Variable types: 3 continuous, 20723 integer (20721 binary)\n",
      "\n",
      "Root relaxation: objective 0.000000e+00, 1654 iterations, 0.04 seconds (0.03 work units)\n",
      "\n",
      "    Nodes    |    Current Node    |     Objective Bounds      |     Work\n",
      " Expl Unexpl |  Obj  Depth IntInf | Incumbent    BestBd   Gap | It/Node Time\n",
      "\n",
      "H    0     0                     194.0610406    0.00000   100%     -    0s\n",
      "*    0     0               0     194.0610406    0.43080   100%     -    6s\n",
      "H    0     0                       4.2786842    0.43080  89.9%     -    6s\n",
      "H    0     0                       4.2495145    0.43080  89.9%     -    6s\n",
      "H    0     0                       4.1348103    0.43160  89.6%     -    7s\n",
      "     0     0    0.43160    0 1434    4.13481    0.43160  89.6%     -    7s\n",
      "H    0     0                       4.1061157    0.43160  89.5%     -    7s\n",
      "     0     0    0.43365    0 1434    4.10612    0.43365  89.4%     -    9s\n",
      "     0     0    0.43399    0 1434    4.10612    0.43399  89.4%     -    9s\n",
      "H    0     0                       4.1004438    0.43399  89.4%     -   10s\n",
      "     0     0    0.43845    0 1434    4.10044    0.43845  89.3%     -   10s\n",
      "     0     0    0.43845    0 1434    4.10044    0.43845  89.3%     -   10s\n",
      "     0     0    0.43863    0 1434    4.10044    0.43863  89.3%     -   11s\n",
      "     0     2    0.43863    0 1434    4.10044    0.43863  89.3%     -   12s\n",
      "    19    24    0.44924    6 1847    4.10044    0.44718  89.1%   693   15s\n",
      "H   28    33                       2.1693006    0.44718  79.4%   603   17s\n",
      "    42    47    0.45774   10 2313    2.16930    0.44718  79.4%   694   20s\n",
      "    65    67    0.46088   13 1957    2.16930    0.44718  79.4%   666   25s\n",
      "    98    98    0.46661   21 1974    2.16930    0.44718  79.4%   579   30s\n",
      "   138   140    0.47180   33 1832    2.16930    0.44718  79.4%   542   35s\n",
      "   179   180    0.47895   40 1745    2.16930    0.44718  79.4%   492   40s\n",
      "   235   230    0.49090   59 1491    2.16930    0.44718  79.4%   457   45s\n",
      "   307   302    0.51945   76 1031    2.16930    0.44718  79.4%   412   53s\n",
      "   323   312    0.52466   79 1000    2.16930    0.44718  79.4%   434   55s\n",
      "   355   335    0.87114   84 1076    2.16930    0.44718  79.4%   465   61s\n",
      "   386   375    0.88610   88 1524    2.16930    0.44718  79.4%   464   66s\n",
      "   434   409    0.91428   98 1950    2.16930    0.44718  79.4%   452   70s\n",
      "   472   447    0.92832  105 2159    2.16930    0.44718  79.4%   443   75s\n",
      "   506   486    0.96693  114 2271    2.16930    0.44718  79.4%   446   80s\n",
      "   550   525    1.66888  125  255    2.16930    0.44718  79.4%   446   86s\n",
      "   580   544    1.05212  132 1724    2.16930    0.44718  79.4%   459   93s\n",
      "   594   561    1.08472  135 2334    2.16930    0.44718  79.4%   468   95s\n",
      "   612   562    0.58784   20 1434    2.16930    0.44718  79.4%   470  101s\n",
      "   614   563    1.79707   34 1434    2.16930    0.44718  79.4%   469  105s\n",
      "   627   575    0.98882   12 1181    2.16930    0.44718  79.4%   500  110s\n",
      "   651   591    1.10812   15 1129    2.16930    0.45525  79.0%   517  116s\n",
      "   664   600    0.48888   17 1387    2.16930    0.46938  78.4%   530  120s\n",
      "   676   604    1.03580   18 1283    2.16930    0.51375  76.3%   542  126s\n",
      "   686   610    1.12790   19 1202    2.16930    0.52567  75.8%   552  131s\n",
      "   697   614    1.25873   20 1106    2.16930    0.56138  74.1%   557  135s\n",
      "   710   618    1.18580   21 1303    2.16930    0.58963  72.8%   561  140s\n",
      "   716   619    0.59159   22 1515    2.16930    0.59159  72.7%   566  145s\n",
      "   729   622    1.40184   23 1235    2.16930    0.61868  71.5%   586  152s\n",
      "   738   626    1.36346   24 1529    2.16930    0.63981  70.5%   586  155s\n",
      "   758   634    0.64749   27 1663    2.16930    0.64749  70.2%   585  160s\n",
      "   782   643    1.12652   29 1173    2.16930    0.66979  69.1%   582  166s\n",
      "   810   654    0.67819   32 1605    2.16930    0.67819  68.7%   578  170s\n",
      "   833   661    0.71940   34 1712    2.16930    0.68465  68.4%   576  175s\n",
      "   859   662    1.30092   35  862    2.16930    0.73213  66.3%   577  185s\n",
      "   884   684    1.18655   37 1760    2.16930    0.76919  64.5%   584  191s\n",
      "   900   692    1.17509   38 1748    2.16930    0.79036  63.6%   580  195s\n",
      "   927   707    0.82542   41 1167    2.16930    0.79920  63.2%   582  204s\n",
      "   945   720    0.82730   42 1175    2.16930    0.79920  63.2%   579  208s\n",
      "   964   726    1.16564   43 1091    2.16930    0.79920  63.2%   575  212s\n",
      "   980   737    1.02913   44 1437    2.16930    0.79920  63.2%   574  217s\n",
      "   997   740    0.84504   46 1814    2.16930    0.79920  63.2%   573  222s\n",
      "  1009   745    0.84898   47 2183    2.16930    0.79920  63.2%   577  229s\n",
      "  1022   751    1.29336   48 2068    2.16930    0.79920  63.2%   581  235s\n",
      "  1052   768    0.86199   51 1936    2.16930    0.79920  63.2%   586  246s\n",
      "  1072   776    0.87614   53 1944    2.16930    0.79920  63.2%   585  252s\n",
      "  1092   782    2.01832   54  285    2.16930    0.79920  63.2%   586  256s\n",
      "  1113   794    0.89928   56 2044    2.16930    0.79920  63.2%   585  268s\n",
      "  1136   809    0.90540   58 1898    2.16930    0.79920  63.2%   588  275s\n",
      "  1161   826    0.91015   60 2270    2.16930    0.79920  63.2%   585  284s\n",
      "  1192   829    1.17248   62 1989    2.16930    0.79920  63.2%   581  294s\n",
      "  1220   836    1.69739   64  608    2.16930    0.79920  63.2%   581  306s\n",
      "  1251   838    1.24878   66 1804    2.16930    0.79920  63.2%   578  317s\n",
      "  1286   851    0.93963   70 2016    2.16930    0.79920  63.2%   576  328s\n",
      "  1319   865    1.25196   73 1455    2.16930    0.79920  63.2%   574  350s\n",
      "  1348   887    1.83412   76  341    2.16930    0.79920  63.2%   579  362s\n",
      "  1385   906    0.96516   82 2076    2.16930    0.79920  63.2%   578  381s\n",
      "  1419   918    0.98895   87 1543    2.16930    0.79920  63.2%   579  399s\n",
      "  1452   939    1.00606   91 2048    2.16930    0.79920  63.2%   581  414s\n",
      "  1494   960    1.02523   96 1692    2.16930    0.79920  63.2%   579  437s\n",
      "  1537   976    1.03713  101 1706    2.16930    0.79920  63.2%   580  456s\n",
      "  1585   994    1.05419  107 1673    2.16930    0.79920  63.2%   577  476s\n",
      "  1633  1001    1.08201  110  757    2.16930    0.79920  63.2%   575  495s\n",
      "  1674  1003    1.40609  113 1583    2.16930    0.79920  63.2%   575  516s\n",
      "  1714  1020    1.15701  122 1631    2.16930    0.79920  63.2%   578  540s\n",
      "  1750  1079    1.56650  130 1981    2.16930    0.79920  63.2%   581  569s\n",
      "  1821  1124    1.31510  141 1682    2.16930    0.79920  63.2%   571  595s\n",
      "  1890  1153    1.33903  150 1768    2.16930    0.79920  63.2%   566  626s\n",
      "  1956  1182    1.61932  158  406    2.16930    0.79920  63.2%   566  656s\n",
      "H 1994   991                       1.9043619    0.79920  58.0%   564  656s\n",
      "  2025   984    1.48741  168 1415    1.90436    0.79920  58.0%   564  691s\n",
      "  2072   994    1.50617  179 1305    1.90436    0.79920  58.0%   574  728s\n",
      "  2140  1007     cutoff  191         1.90436    0.79920  58.0%   578  765s\n",
      "  2193  1035     cutoff  199         1.90436    0.79920  58.0%   582  798s\n",
      "  2271  1052    1.53138  209 1217    1.90436    0.79920  58.0%   579  832s\n",
      "  2334  1074    1.56481  220 1074    1.90436    0.79920  58.0%   587  866s\n",
      "H 2370  1069                       1.9026191    0.79920  58.0%   599  866s\n",
      "  2382  1097    1.59388  229  996    1.90262    0.79920  58.0%   601  904s\n",
      "H 2479  1097                       1.9026191    0.79920  58.0%   594  904s\n",
      "H 2480  1086                       1.8919220    0.79920  57.8%   594  904s\n",
      "  2500  1112     cutoff  270         1.89192    0.84768  55.2%   603  936s\n",
      "  2562  1116     cutoff   38         1.89192    0.88209  53.4%   611  964s\n",
      "  2614  1147    1.59449   71 1636    1.89192    0.88209  53.4%   626  989s\n"
     ]
    },
    {
     "name": "stdout",
     "output_type": "stream",
     "text": [
      "  2669  1188     cutoff   88         1.89192    0.98715  47.8%   636 1021s\n",
      "  2746  1250    1.10369   43 2316    1.89192    0.98715  47.8%   637 1055s\n",
      "H 2760  1232                       1.8806321    0.98715  47.5%   636 1055s\n",
      "  2834  1282    1.51206   59 2000    1.88063    0.98715  47.5%   635 1085s\n",
      "H 2866  1282                       1.8806321    0.98715  47.5%   633 1085s\n",
      "  2910  1295    1.65990   83  651    1.88063    0.99530  47.1%   641 1122s\n",
      "H 2936  1295                       1.8801847    1.02916  45.3%   645 1122s\n",
      "  2961  1328     cutoff   21         1.88018    1.03536  44.9%   659 1160s\n",
      "H 3014  1328                       1.8801847    1.03647  44.9%   662 1160s\n",
      "  3052  1377    1.19620   54 2204    1.88018    1.03647  44.9%   662 1198s\n",
      "  3119  1432    1.62446   69  321    1.88018    1.03647  44.9%   666 1238s\n",
      "H 3150  1432                       1.8801847    1.03647  44.9%   664 1238s\n",
      "  3198  1452    1.57445  100  661    1.88018    1.05346  44.0%   670 1275s\n",
      "  3276  1489    1.18753   17  974    1.88018    1.06690  43.3%   678 1321s\n",
      "  3341  1498     cutoff   37         1.88018    1.07787  42.7%   687 1371s\n",
      "  3423  1507 infeasible   21         1.88018    1.09436  41.8%   706 1423s\n",
      "  3496  1553     cutoff   52         1.88018    1.10849  41.0%   718 1470s\n",
      "  3596  1579     cutoff   54         1.88018    1.11670  40.6%   728 1513s\n",
      "  3684  1643     cutoff   53         1.88018    1.12492  40.2%   738 1578s\n",
      "  3780  1673     cutoff   61         1.88018    1.12976  39.9%   741 1639s\n",
      "  3876  1698     cutoff   30         1.88018    1.14511  39.1%   754 1701s\n",
      "  3953  1720     cutoff   25         1.88018    1.15580  38.5%   764 1767s\n",
      "  4043  1770    1.42335   50 1570    1.88018    1.16416  38.1%   777 1829s\n",
      "  4135  1821     cutoff   62         1.88018    1.16634  38.0%   783 1894s\n",
      "  4256  1836     cutoff   58         1.88018    1.16977  37.8%   792 1958s\n",
      "  4347  1881     cutoff   57         1.88018    1.17799  37.3%   804 2043s\n",
      "H 4439  1881                       1.8801847    1.18285  37.1%   808 2043s\n",
      "  4460  1905     cutoff   43         1.88018    1.18285  37.1%   810 2112s\n",
      "  4576  1908    1.67710   57 1770    1.88018    1.18819  36.8%   817 2189s\n",
      "  4698  1946    1.67354   62 1181    1.88018    1.20263  36.0%   827 2272s\n",
      "  4838  1992    1.50444   42 1515    1.88018    1.20893  35.7%   837 2364s\n",
      "  5004  2016    1.50364   70 2247    1.88018    1.21243  35.5%   840 2453s\n",
      "  5168  2038     cutoff   78         1.88018    1.21845  35.2%   846 2553s\n",
      "  5338  2054     cutoff   46         1.88018    1.23625  34.2%   855 2667s\n",
      "  5490  2125     cutoff   51         1.88018    1.25170  33.4%   866 2780s\n",
      "  5689  2159    1.73428   99 1252    1.88018    1.25424  33.3%   861 2897s\n",
      "  5891  2188    1.83048   43 1656    1.88018    1.26781  32.6%   859 3031s\n",
      "H 5907  2173                       1.8702122    1.26781  32.2%   861 3031s\n",
      "  6084  2216    1.79544   93 1076    1.87021    1.28353  31.4%   862 3176s\n",
      "  6253  2249     cutoff   39         1.87021    1.30148  30.4%   870 3312s\n",
      "  6462  2250    1.67281   48 1227    1.87021    1.32033  29.4%   879 3472s\n",
      "  6687  2275     cutoff   59         1.87021    1.34152  28.3%   885 3600s\n",
      "\n",
      "Explored 6858 nodes (6115474 simplex iterations) in 3600.14 seconds (1785.40 work units)\n",
      "Thread count was 8 (of 8 available processors)\n",
      "\n",
      "Solution count 10: 1.87021 1.88018 1.88063 ... 4.13481\n",
      "\n",
      "Time limit reached\n",
      "Best objective 1.870212166384e+00, best bound 1.359185568413e+00, gap 27.3245%\n"
     ]
    }
   ],
   "source": [
    "# solve IP model\n",
    "m.Params.TimeLimit = 3600\n",
    "m.optimize()"
   ]
  },
  {
   "cell_type": "code",
   "execution_count": 12,
   "metadata": {},
   "outputs": [
    {
     "name": "stdout",
     "output_type": "stream",
     "text": [
      "The inverse PP score is 1.870212166383887\n",
      "The PP score is 0.5346986924662835\n"
     ]
    }
   ],
   "source": [
    "print(\"The inverse PP score is\",m.objval)\n",
    "print(\"The PP score is\",1.0/m.objval)\n",
    "\n",
    "# retrieve the district and population\n",
    "district = [i for i in G.nodes if x[i].x > 0.5] \n",
    "district_population = sum( G.nodes[i][\"TOTPOP\"] for i in district )"
   ]
  },
  {
   "cell_type": "code",
   "execution_count": 13,
   "metadata": {},
   "outputs": [
    {
     "name": "stdout",
     "output_type": "stream",
     "text": [
      "hispanic_vap = 575776\n",
      "total_vap = 1151348\n",
      "percentage = 50 %\n"
     ]
    }
   ],
   "source": [
    "print(\"hispanic_vap =\", round(hvap.x) )\n",
    "print(\"total_vap =\", round(vap.x) )\n",
    "print(\"percentage =\", round( 100 * hvap.x / vap.x ),\"%\" )"
   ]
  },
  {
   "cell_type": "code",
   "execution_count": 14,
   "metadata": {},
   "outputs": [],
   "source": [
    "# Let's draw it on a map\n",
    "import geopandas as gpd"
   ]
  },
  {
   "cell_type": "code",
   "execution_count": 15,
   "metadata": {},
   "outputs": [],
   "source": [
    "filename = state + '_' + level + '.shp'\n",
    "df = gpd.read_file( filepath + filename )"
   ]
  },
  {
   "cell_type": "code",
   "execution_count": 16,
   "metadata": {},
   "outputs": [
    {
     "data": {
      "image/png": "[encoded data removed]",
      "text/plain": [
       "<Figure size 432x288 with 1 Axes>"
      ]
     },
     "metadata": {
      "needs_background": "light"
     },
     "output_type": "display_data"
    }
   ],
   "source": [
    "assignment = [ -1 for i in G.nodes ]\n",
    "labeling = { i : 1 if x[i].x > 0.5 else 0 for i in G.nodes }\n",
    "\n",
    "# Now add the assignments to a column of the dataframe and map it\n",
    "node_with_this_geoid = { G.nodes[i]['GEOID20'] : i for i in G.nodes }\n",
    "\n",
    "# pick a position u in the dataframe\n",
    "for u in range(G.number_of_nodes()):\n",
    "    \n",
    "    geoid = df['GEOID20'][u]\n",
    "    \n",
    "    # what node in G has this geoid?\n",
    "    i = node_with_this_geoid[geoid]\n",
    "    \n",
    "    # position u in the dataframe should be given\n",
    "    # the same district # that county i has in 'labeling'\n",
    "    assignment[u] = labeling[i]\n",
    "    \n",
    "# now add the assignments to a column of our dataframe and then map it\n",
    "df['assignment'] = assignment\n",
    "\n",
    "my_fig = df.plot(column='assignment').get_figure()"
   ]
  },
  {
   "cell_type": "code",
   "execution_count": 17,
   "metadata": {},
   "outputs": [],
   "source": [
    "county_geoids = { G.nodes[i]['GEOID20'][0:5] for i in G.nodes }\n",
    "county_pop = { g : 0 for g in county_geoids }"
   ]
  },
  {
   "cell_type": "code",
   "execution_count": 18,
   "metadata": {},
   "outputs": [],
   "source": [
    "for i in labeling.keys():\n",
    "    if labeling[i]==1:\n",
    "        g = G.nodes[i]['GEOID20'][0:5]\n",
    "        p = G.nodes[i]['TOTPOP']\n",
    "        county_pop[g] += p"
   ]
  },
  {
   "cell_type": "code",
   "execution_count": 19,
   "metadata": {},
   "outputs": [
    {
     "name": "stdout",
     "output_type": "stream",
     "text": [
      "geoid pop total_pop county\n",
      "17031 1509567 5275541 Cook 28.6144492100431\n",
      "1\n"
     ]
    }
   ],
   "source": [
    "count = 0\n",
    "print(\"geoid pop total_pop county\")\n",
    "for g in county_pop.keys():\n",
    "    if county_pop[g]>0:\n",
    "        i = gtn[g]\n",
    "        print(g,county_pop[g],GC.nodes[i]['TOTPOP'],GC.nodes[i]['NAME20'],100*county_pop[g]/GC.nodes[i]['TOTPOP'])\n",
    "        count += 1\n",
    "print(count)"
   ]
  },
  {
   "cell_type": "code",
   "execution_count": 20,
   "metadata": {},
   "outputs": [
    {
     "data": {
      "text/plain": [
       "True"
      ]
     },
     "execution_count": 20,
     "metadata": {},
     "output_type": "execute_result"
    }
   ],
   "source": [
    "nx.is_connected(G.subgraph(district))"
   ]
  },
  {
   "cell_type": "code",
   "execution_count": null,
   "metadata": {},
   "outputs": [],
   "source": []
  }
 ],
 "metadata": {
  "kernelspec": {
   "display_name": "Python 3",
   "language": "python",
   "name": "python3"
  },
  "language_info": {
   "codemirror_mode": {
    "name": "ipython",
    "version": 3
   },
   "file_extension": ".py",
   "mimetype": "text/x-python",
   "name": "python",
   "nbconvert_exporter": "python",
   "pygments_lexer": "ipython3",
   "version": "3.7.10"
  }
 },
 "nbformat": 4,
 "nbformat_minor": 4
}
