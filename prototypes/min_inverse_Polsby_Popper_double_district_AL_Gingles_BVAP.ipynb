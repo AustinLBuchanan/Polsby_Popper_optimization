{
 "cells": [
  {
   "cell_type": "code",
   "execution_count": 1,
   "metadata": {},
   "outputs": [],
   "source": [
    "# https://en.m.wikipedia.org/wiki/List_of_majority-minority_United_States_congressional_districts\n",
    "state = 'AL'    # 2-letter state code\n",
    "level = 'tract' # county, tract, block"
   ]
  },
  {
   "cell_type": "code",
   "execution_count": 2,
   "metadata": {},
   "outputs": [],
   "source": [
    "filepath = 'C:\\\\districting-data-2020\\\\'\n",
    "filename = state + '_' + level + '.json'\n",
    "\n",
    "# GerryChain has a built-in function for reading graphs of this type:\n",
    "from gerrychain import Graph\n",
    "G = Graph.from_json( filepath + filename )\n",
    "\n",
    "for node in G.nodes:\n",
    "    # See http://starr.tamu.edu/files/2013/01/Census-Codes.pdf\n",
    "    G.nodes[node]['TOTPOP'] = G.nodes[node]['P0010001']\n",
    "    \n",
    "    # voting age population (VAP)\n",
    "    G.nodes[node]['VAP'] = G.nodes[node]['P0030001']\n",
    "    \n",
    "    # Black or African American alone:\n",
    "    G.nodes[node]['BVAP'] = G.nodes[node]['P0030004']\n",
    "    \n",
    "    # Black or African American (among two races)\n",
    "    G.nodes[node]['BVAP'] += G.nodes[node]['P0030011']\n",
    "    G.nodes[node]['BVAP'] += G.nodes[node]['P0030016']\n",
    "    G.nodes[node]['BVAP'] += G.nodes[node]['P0030017']\n",
    "    G.nodes[node]['BVAP'] += G.nodes[node]['P0030018']\n",
    "    G.nodes[node]['BVAP'] += G.nodes[node]['P0030019']\n",
    "    \n",
    "    # Black or African American (among three races)\n",
    "    G.nodes[node]['BVAP'] += G.nodes[node]['P0030027']\n",
    "    G.nodes[node]['BVAP'] += G.nodes[node]['P0030028']\n",
    "    G.nodes[node]['BVAP'] += G.nodes[node]['P0030029']\n",
    "    G.nodes[node]['BVAP'] += G.nodes[node]['P0030030']\n",
    "\n",
    "    G.nodes[node]['BVAP'] += G.nodes[node]['P0030037']\n",
    "    G.nodes[node]['BVAP'] += G.nodes[node]['P0030038']\n",
    "    G.nodes[node]['BVAP'] += G.nodes[node]['P0030039']\n",
    "    G.nodes[node]['BVAP'] += G.nodes[node]['P0030040']\n",
    "    G.nodes[node]['BVAP'] += G.nodes[node]['P0030041']\n",
    "    G.nodes[node]['BVAP'] += G.nodes[node]['P0030042']\n",
    "    \n",
    "    # Black or African American (among four races)\n",
    "    G.nodes[node]['BVAP'] += G.nodes[node]['P0030048']\n",
    "    G.nodes[node]['BVAP'] += G.nodes[node]['P0030049']\n",
    "    G.nodes[node]['BVAP'] += G.nodes[node]['P0030050']\n",
    "    G.nodes[node]['BVAP'] += G.nodes[node]['P0030051']\n",
    "    G.nodes[node]['BVAP'] += G.nodes[node]['P0030052']\n",
    "    G.nodes[node]['BVAP'] += G.nodes[node]['P0030053']\n",
    "    \n",
    "    G.nodes[node]['BVAP'] += G.nodes[node]['P0030058']\n",
    "    G.nodes[node]['BVAP'] += G.nodes[node]['P0030059']\n",
    "    G.nodes[node]['BVAP'] += G.nodes[node]['P0030060']\n",
    "    G.nodes[node]['BVAP'] += G.nodes[node]['P0030061']\n",
    "    \n",
    "    # Black or African American (among five races)\n",
    "    G.nodes[node]['BVAP'] += G.nodes[node]['P0030064']\n",
    "    G.nodes[node]['BVAP'] += G.nodes[node]['P0030065']\n",
    "    G.nodes[node]['BVAP'] += G.nodes[node]['P0030066']\n",
    "    G.nodes[node]['BVAP'] += G.nodes[node]['P0030067']\n",
    "    G.nodes[node]['BVAP'] += G.nodes[node]['P0030069']\n",
    "    \n",
    "    # Black or African American (among fix races)\n",
    "    G.nodes[node]['BVAP'] += G.nodes[node]['P0030071']"
   ]
  },
  {
   "cell_type": "code",
   "execution_count": 3,
   "metadata": {},
   "outputs": [
    {
     "name": "stdout",
     "output_type": "stream",
     "text": [
      "Using L = 1428332 and U = 1442684 and k = 7\n"
     ]
    }
   ],
   "source": [
    "# Let's impose a 1% population deviation (+/-0.5%)\n",
    "deviation = 0.01\n",
    "total_population = sum( G.nodes[node]['TOTPOP'] for node in G.nodes )\n",
    "\n",
    "import math\n",
    "from number_of_districts import congressional_districts_2020\n",
    "k = congressional_districts_2020[state]\n",
    "\n",
    "# \"double\" district\n",
    "size = 2\n",
    "L = size * math.ceil( ( 1 - deviation / 2 ) * total_population / k )\n",
    "U = size * math.floor( ( 1 + deviation / 2 ) * total_population / k )\n",
    "print(\"Using L =\",L,\"and U =\",U,\"and k =\",k)"
   ]
  },
  {
   "cell_type": "code",
   "execution_count": 4,
   "metadata": {},
   "outputs": [
    {
     "name": "stdout",
     "output_type": "stream",
     "text": [
      "Set parameter Username\n",
      "Academic license - for non-commercial use only - expires 2023-12-27\n"
     ]
    }
   ],
   "source": [
    "import gurobipy as gp\n",
    "from gurobipy import GRB\n",
    "\n",
    "# create model \n",
    "m = gp.Model()\n",
    "\n",
    "import networkx as nx\n",
    "DG = nx.DiGraph(G)   # directed version of G\n",
    "\n",
    "# create variables\n",
    "# x[i] equals one when tract i is selected\n",
    "x = m.addVars(G.nodes, vtype=GRB.BINARY)  "
   ]
  },
  {
   "cell_type": "code",
   "execution_count": 5,
   "metadata": {},
   "outputs": [],
   "source": [
    "# get county graph\n",
    "filename = state + '_county.json'\n",
    "GC = Graph.from_json( filepath + filename )\n",
    "\n",
    "for node in GC.nodes:\n",
    "    # See http://starr.tamu.edu/files/2013/01/Census-Codes.pdf\n",
    "    GC.nodes[node]['TOTPOP'] = GC.nodes[node]['P0010001']\n",
    "\n",
    "gtn = { GC.nodes[i]['GEOID20'] : i for i in GC.nodes }"
   ]
  },
  {
   "cell_type": "code",
   "execution_count": 6,
   "metadata": {},
   "outputs": [],
   "source": [
    "# Avoid Baldwin and Escambia so that we can construct  \n",
    "#    6 other districts from the unselected portions.\n",
    "avoid = set()\n",
    "for c in GC.nodes:\n",
    "    if GC.nodes[c]['NAME20'] in {'Baldwin','Escambia'}:\n",
    "        avoid.add( GC.nodes[c]['GEOID20'] )\n",
    "        \n",
    "for i in G.nodes:\n",
    "    if G.nodes[i]['GEOID20'][0:5] in avoid:\n",
    "        x[i].UB = 0"
   ]
  },
  {
   "cell_type": "code",
   "execution_count": 7,
   "metadata": {},
   "outputs": [],
   "source": [
    "# split at most 2 counties\n",
    "splits = 2\n",
    "whole = m.addVars(GC.nodes, vtype=GRB.BINARY)\n",
    "some = m.addVars(GC.nodes, vtype=GRB.BINARY)\n",
    "split = m.addVars(GC.nodes, vtype=GRB.BINARY)\n",
    "\n",
    "m.addConstr( gp.quicksum(split) <= splits )\n",
    "m.addConstrs( split[c] == some[c] - whole[c] for c in GC.nodes )\n",
    "\n",
    "for i in G.nodes:\n",
    "    g = G.nodes[i]['GEOID20'][0:5]\n",
    "    c = gtn[g]\n",
    "    m.addConstr( whole[c] <= x[i] )\n",
    "    m.addConstr( x[i] <= some[c] )"
   ]
  },
  {
   "cell_type": "code",
   "execution_count": 8,
   "metadata": {},
   "outputs": [],
   "source": [
    "# y[u,v] equals one when arc (u,v) is cut because u but not v is selected\n",
    "y = m.addVars(DG.edges, vtype=GRB.BINARY) \n",
    "\n",
    "# z is inverse Polsby-Popper score for district \n",
    "z = m.addVar()\n",
    "\n",
    "# A = area of district \n",
    "A = m.addVar()\n",
    "\n",
    "# P = perimeter of district \n",
    "P = m.addVar()"
   ]
  },
  {
   "cell_type": "code",
   "execution_count": 9,
   "metadata": {},
   "outputs": [],
   "source": [
    "# objective is to minimize inverse Polsby-Popper score\n",
    "m.setObjective( z, GRB.MINIMIZE )"
   ]
  },
  {
   "cell_type": "code",
   "execution_count": 10,
   "metadata": {},
   "outputs": [],
   "source": [
    "# add SOCP constraints relating inverse Polsby-Popper score z to area and perimeter\n",
    "m.addConstr( P * P <= 4 * math.pi * A * z )\n",
    "\n",
    "# add constraint on area A \n",
    "m.addConstr( A == gp.quicksum( G.nodes[i]['area'] * x[i] for i in G.nodes ) )\n",
    "\n",
    "# add constraint on perimeter P\n",
    "m.addConstr( P == gp.quicksum( DG.edges[u,v]['shared_perim'] * y[u,v] for u,v in DG.edges )\n",
    "             + gp.quicksum( G.nodes[i]['boundary_perim'] * x[i] for i in G.nodes if G.nodes[i]['boundary_node'] ) )\n",
    "    \n",
    "m.update()"
   ]
  },
  {
   "cell_type": "code",
   "execution_count": 11,
   "metadata": {},
   "outputs": [],
   "source": [
    "# add constraints saying that district has population at least L and at most U\n",
    "m.addConstr( gp.quicksum( G.nodes[i]['TOTPOP'] * x[i] for i in G.nodes) >= L )\n",
    "m.addConstr( gp.quicksum( G.nodes[i]['TOTPOP'] * x[i] for i in G.nodes) <= U )\n",
    "\n",
    "# add constraints saying that arc (u,v) is cut if u but not v is selected\n",
    "m.addConstrs( x[u] - x[v] <= y[u,v] for u,v in DG.edges )\n",
    "\n",
    "m.update()"
   ]
  },
  {
   "cell_type": "code",
   "execution_count": 12,
   "metadata": {},
   "outputs": [],
   "source": [
    "# To solve the MIP faster, fix a district root in Selma, AL\n",
    "for i in G.nodes:\n",
    "    if G.nodes[i]['GEOID20'] == '01047956600':\n",
    "        selma = i\n",
    "    \n",
    "x[selma].LB = 1\n",
    "\n",
    "# Add flow variables: f[u,v] = amount of flow sent across arc uv \n",
    "#  Flows are sent across arcs of the directed version of G which we call DG\n",
    "\n",
    "f = m.addVars( DG.edges )"
   ]
  },
  {
   "cell_type": "code",
   "execution_count": 13,
   "metadata": {},
   "outputs": [],
   "source": [
    "# contiguity constraints\n",
    "M = G.number_of_nodes()\n",
    "\n",
    "# if selected but not a root, consume one unit of flow\n",
    "m.addConstrs( gp.quicksum( f[j,i] - f[i,j] for j in G.neighbors(i) ) == x[i] for i in G.nodes if i != selma )\n",
    "\n",
    "# flow can only enter selected nodes\n",
    "m.addConstrs( gp.quicksum( f[j,i] for j in G.neighbors(i) ) <= M * x[i] for i in G.nodes if i != selma )\n",
    "\n",
    "m.update()"
   ]
  },
  {
   "cell_type": "code",
   "execution_count": 14,
   "metadata": {},
   "outputs": [
    {
     "data": {
      "text/plain": [
       "<gurobi.Constr *Awaiting Model Update*>"
      ]
     },
     "execution_count": 14,
     "metadata": {},
     "output_type": "execute_result"
    }
   ],
   "source": [
    "# black_vap >= 0.5 * total_vap\n",
    "bvap = m.addVar()\n",
    "vap = m.addVar()\n",
    "\n",
    "m.addConstr( bvap == gp.quicksum( G.nodes[i]['BVAP'] * x[i] for i in G.nodes ) )\n",
    "m.addConstr( vap == gp.quicksum( G.nodes[i]['VAP'] * x[i] for i in G.nodes ) )\n",
    "\n",
    "m.addConstr( bvap >= 0.5 * vap )"
   ]
  },
  {
   "cell_type": "code",
   "execution_count": 15,
   "metadata": {},
   "outputs": [
    {
     "name": "stdout",
     "output_type": "stream",
     "text": [
      "Set parameter TimeLimit to value 600\n",
      "Gurobi Optimizer version 9.5.0 build v9.5.0rc5 (win64)\n",
      "Thread count: 4 physical cores, 8 logical processors, using up to 8 threads\n",
      "Optimize a model with 13849 rows, 17699 columns and 72346 nonzeros\n",
      "Model fingerprint: 0xa383a958\n",
      "Model has 1 quadratic constraint\n",
      "Variable types: 8033 continuous, 9666 integer (9666 binary)\n",
      "Coefficient statistics:\n",
      "  Matrix range     [3e-05, 1e+04]\n",
      "  QMatrix range    [1e+00, 1e+01]\n",
      "  Objective range  [1e+00, 1e+00]\n",
      "  Bounds range     [1e+00, 1e+00]\n",
      "  RHS range        [2e+00, 1e+06]\n",
      "Presolve removed 530 rows and 521 columns\n",
      "Presolve time: 0.78s\n",
      "Presolved: 13319 rows, 17178 columns, 69691 nonzeros\n",
      "Presolved model has 1 quadratic constraint(s)\n",
      "Variable types: 7706 continuous, 9472 integer (9337 binary)\n",
      "\n",
      "Root simplex log...\n",
      "\n",
      "Iteration    Objective       Primal Inf.    Dual Inf.      Time\n",
      "   13246    5.4685933e-02   7.672761e+00   0.000000e+00      5s\n",
      "   13615    0.0000000e+00   0.000000e+00   0.000000e+00      5s\n",
      "\n",
      "Root relaxation: objective 0.000000e+00, 13615 iterations, 4.58 seconds (1.61 work units)\n",
      "Total elapsed time = 20.30s\n",
      "\n",
      "    Nodes    |    Current Node    |     Objective Bounds      |     Work\n",
      " Expl Unexpl |  Obj  Depth IntInf | Incumbent    BestBd   Gap | It/Node Time\n",
      "\n",
      "     0     0    0.00000    0  541          -    0.00000      -     -   21s\n",
      "     0     0    3.41183    0  359          -    3.41183      -     -   35s\n",
      "     0     0    3.42120    0  357          -    3.42120      -     -   39s\n",
      "     0     0    3.42567    0  412          -    3.42567      -     -   41s\n",
      "     0     0    3.45125    0  398          -    3.45125      -     -   41s\n",
      "     0     0    3.45322    0  388          -    3.45322      -     -   43s\n",
      "     0     0    3.46405    0  422          -    3.46405      -     -   44s\n",
      "     0     0    3.46600    0  423          -    3.46600      -     -   44s\n",
      "     0     0    3.46803    0  415          -    3.46803      -     -   44s\n",
      "     0     0    3.46859    0  414          -    3.46859      -     -   45s\n",
      "     0     0    3.46990    0  415          -    3.46990      -     -   45s\n",
      "     0     0    3.50957    0  413          -    3.50957      -     -   46s\n",
      "     0     0    3.50957    0  413          -    3.50957      -     -   46s\n",
      "     0     0    3.50957    0  416          -    3.50957      -     -   47s\n",
      "     0     0    3.50963    0  431          -    3.50963      -     -   48s\n",
      "     0     0    3.50963    0  431          -    3.50963      -     -   74s\n",
      "H    0     0                       4.7100714    3.50963  25.5%     -   76s\n",
      "     0     2    3.50963    0  431    4.71007    3.50963  25.5%     -   77s\n",
      "     7    12    3.54000    3  400    4.71007    3.54000  24.8%   249   81s\n",
      "    15    20    3.63586    4  425    4.71007    3.57968  24.0%   230   88s\n",
      "    19    24    4.28342    4 1046    4.71007    3.57968  24.0%   659  235s\n",
      "    23    30    3.69817    5  254    4.71007    3.57968  24.0%   582  243s\n",
      "    29    38    3.75250    6  183    4.71007    3.57968  24.0%   673  245s\n",
      "    50    59    3.82817   10  101    4.71007    3.57968  24.0%   459  254s\n",
      "    60    68    4.58741   13 1020    4.71007    3.57968  24.0%   595  265s\n",
      "    79    90    4.02785   15  104    4.71007    3.57968  24.0%   558  272s\n",
      "    93   100    4.03662   19   54    4.71007    3.57968  24.0%   492  275s\n",
      "   103   109    4.04892   22   40    4.71007    3.57968  24.0%   469  280s\n",
      "H  106   109                       4.2840693    3.57968  16.4%   460  280s\n",
      "H  109   109                       4.2759713    3.57968  16.3%   457  280s\n",
      "H  110   109                       4.0974426    3.57968  12.6%   457  280s\n",
      "H  143   143                       4.0740944    3.58138  12.1%   401  286s\n",
      "H  146   143                       4.0579184    3.58138  11.7%   398  286s\n",
      "H  148   143                       4.0475770    3.58138  11.5%   396  286s\n",
      "   178   170    3.78252    8   46    4.04758    3.58138  11.5%   347  291s\n",
      "H  184   170                       3.9901402    3.58138  10.2%   342  291s\n",
      "H  190   170                       3.8040475    3.58138  5.85%   334  291s\n",
      "H  219   172                       3.7526866    3.58138  4.56%   312  296s\n",
      "   333   124     cutoff    6         3.75269    3.73304  0.52%   240  300s\n",
      "\n",
      "Cutting planes:\n",
      "  Gomory: 2\n",
      "  Lift-and-project: 1\n",
      "  MIR: 12\n",
      "  StrongCG: 1\n",
      "  Flow cover: 88\n",
      "  Inf proof: 1\n",
      "  Network: 4\n",
      "  RLT: 3\n",
      "  Relax-and-lift: 19\n",
      "\n",
      "Explored 559 nodes (118381 simplex iterations) in 301.47 seconds (90.60 work units)\n",
      "Thread count was 8 (of 8 available processors)\n",
      "\n",
      "Solution count 10: 3.75269 3.80405 3.99014 ... 4.71007\n",
      "\n",
      "Optimal solution found (tolerance 1.00e-04)\n",
      "Best objective 3.752686611698e+00, best bound 3.752685099954e+00, gap 0.0000%\n"
     ]
    }
   ],
   "source": [
    "# solve IP model\n",
    "m.Params.TimeLimit = 600\n",
    "m.optimize()"
   ]
  },
  {
   "cell_type": "code",
   "execution_count": 16,
   "metadata": {},
   "outputs": [
    {
     "name": "stdout",
     "output_type": "stream",
     "text": [
      "The inverse PP score is 3.752686611698449\n",
      "The PP score is 0.26647575549811353\n"
     ]
    }
   ],
   "source": [
    "print(\"The inverse PP score is\",m.objval)\n",
    "print(\"The PP score is\",1.0/m.objval)\n",
    "\n",
    "# retrieve the districts and their populations\n",
    "district = [i for i in G.nodes if x[i].x > 0.5] \n",
    "district_population = sum(G.nodes[i][\"TOTPOP\"] for i in district )"
   ]
  },
  {
   "cell_type": "code",
   "execution_count": 17,
   "metadata": {},
   "outputs": [
    {
     "name": "stdout",
     "output_type": "stream",
     "text": [
      "black_vap = 556508\n",
      "total_vap = 1113014\n",
      "percentage = 50 %\n"
     ]
    }
   ],
   "source": [
    "print(\"black_vap =\", round(bvap.x) )\n",
    "print(\"total_vap =\", round(vap.x) )\n",
    "print(\"percentage =\", round( 100 * bvap.x / vap.x ),\"%\" )"
   ]
  },
  {
   "cell_type": "code",
   "execution_count": 18,
   "metadata": {},
   "outputs": [],
   "source": [
    "# Let's draw it on a map\n",
    "import geopandas as gpd"
   ]
  },
  {
   "cell_type": "code",
   "execution_count": 19,
   "metadata": {},
   "outputs": [],
   "source": [
    "# Read county shapefile from \"<state>_county.shp\"\n",
    "filename = state + '_' + level + '.shp'\n",
    "\n",
    "# Read geopandas dataframe from file\n",
    "df = gpd.read_file( filepath + filename )"
   ]
  },
  {
   "cell_type": "code",
   "execution_count": 20,
   "metadata": {},
   "outputs": [
    {
     "data": {
      "image/png": "[encoded data removed]",
      "text/plain": [
       "<Figure size 432x288 with 1 Axes>"
      ]
     },
     "metadata": {
      "needs_background": "light"
     },
     "output_type": "display_data"
    }
   ],
   "source": [
    "assignment = [ -1 for i in G.nodes ]\n",
    "labeling = { i : 1 if x[i].x > 0.5 else 0 for i in G.nodes }\n",
    "\n",
    "# Now add the assignments to a column of the dataframe and map it\n",
    "node_with_this_geoid = { G.nodes[i]['GEOID20'] : i for i in G.nodes }\n",
    "\n",
    "# pick a position u in the dataframe\n",
    "for u in range(G.number_of_nodes()):\n",
    "    \n",
    "    geoid = df['GEOID20'][u]\n",
    "    \n",
    "    # what node in G has this geoid?\n",
    "    i = node_with_this_geoid[geoid]\n",
    "    \n",
    "    # position u in the dataframe should be given\n",
    "    # the same district # that county i has in 'labeling'\n",
    "    assignment[u] = labeling[i]\n",
    "    \n",
    "# now add the assignments to a column of our dataframe and then map it\n",
    "df['assignment'] = assignment\n",
    "\n",
    "my_fig = df.plot(column='assignment').get_figure()"
   ]
  },
  {
   "cell_type": "code",
   "execution_count": 21,
   "metadata": {},
   "outputs": [],
   "source": [
    "county_geoids = { G.nodes[i]['GEOID20'][0:5] for i in G.nodes }\n",
    "county_pop = { g : 0 for g in county_geoids }"
   ]
  },
  {
   "cell_type": "code",
   "execution_count": 22,
   "metadata": {},
   "outputs": [],
   "source": [
    "for i in labeling.keys():\n",
    "    if labeling[i]==1:\n",
    "        g = G.nodes[i]['GEOID20'][0:5]\n",
    "        p = G.nodes[i]['TOTPOP']\n",
    "        county_pop[g] += p"
   ]
  },
  {
   "cell_type": "code",
   "execution_count": 23,
   "metadata": {},
   "outputs": [
    {
     "name": "stdout",
     "output_type": "stream",
     "text": [
      "geoid pop total_pop county\n",
      "01105 8511 8511 Perry 100.0\n",
      "01109 33009 33009 Pike 100.0\n",
      "01047 38462 38462 Dallas 100.0\n",
      "01119 12345 12345 Sumter 100.0\n",
      "01101 228954 228954 Montgomery 100.0\n",
      "01099 19772 19772 Monroe 100.0\n",
      "01023 12665 12665 Choctaw 100.0\n",
      "01063 7730 7730 Greene 100.0\n",
      "01091 19323 19323 Marengo 100.0\n",
      "01035 11597 11597 Conecuh 100.0\n",
      "01011 10357 10357 Bullock 100.0\n",
      "01051 87977 87977 Elmore 100.0\n",
      "01129 15388 15388 Washington 100.0\n",
      "01065 14785 14785 Hale 100.0\n",
      "01087 19532 19532 Macon 100.0\n",
      "01107 19123 19123 Pickens 100.0\n",
      "01125 227036 227036 Tuscaloosa 100.0\n",
      "01131 10600 10600 Wilcox 100.0\n",
      "01025 23087 23087 Clarke 100.0\n",
      "01001 58805 58805 Autauga 100.0\n",
      "01013 19051 19051 Butler 100.0\n",
      "01073 313694 674721 Jefferson 46.492402044696995\n",
      "01041 13194 13194 Crenshaw 100.0\n",
      "01007 22293 22293 Bibb 100.0\n",
      "01085 10311 10311 Lowndes 100.0\n",
      "01097 171205 414809 Mobile 41.27321249056795\n",
      "26\n"
     ]
    }
   ],
   "source": [
    "count = 0\n",
    "print(\"geoid pop total_pop county\")\n",
    "for g in county_pop.keys():\n",
    "    if county_pop[g]>0:\n",
    "        i = gtn[g]\n",
    "        print(g,county_pop[g],GC.nodes[i]['TOTPOP'],GC.nodes[i]['NAME20'],100*county_pop[g]/GC.nodes[i]['TOTPOP'])\n",
    "        count += 1\n",
    "print(count)"
   ]
  },
  {
   "cell_type": "code",
   "execution_count": 24,
   "metadata": {},
   "outputs": [
    {
     "data": {
      "text/plain": [
       "True"
      ]
     },
     "execution_count": 24,
     "metadata": {},
     "output_type": "execute_result"
    }
   ],
   "source": [
    "nx.is_connected(G.subgraph(district))"
   ]
  }
 ],
 "metadata": {
  "kernelspec": {
   "display_name": "Python 3",
   "language": "python",
   "name": "python3"
  },
  "language_info": {
   "codemirror_mode": {
    "name": "ipython",
    "version": 3
   },
   "file_extension": ".py",
   "mimetype": "text/x-python",
   "name": "python",
   "nbconvert_exporter": "python",
   "pygments_lexer": "ipython3",
   "version": "3.7.10"
  }
 },
 "nbformat": 4,
 "nbformat_minor": 4
}
