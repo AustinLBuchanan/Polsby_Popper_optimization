{
 "cells": [
  {
   "cell_type": "code",
   "execution_count": 1,
   "metadata": {},
   "outputs": [],
   "source": [
    "# https://en.m.wikipedia.org/wiki/List_of_majority-minority_United_States_congressional_districts\n",
    "state = 'AL'    # 2-letter state code\n",
    "level = 'tract' # county, tract, block"
   ]
  },
  {
   "cell_type": "code",
   "execution_count": 2,
   "metadata": {},
   "outputs": [],
   "source": [
    "filepath = 'C:\\\\districting-data-2020\\\\'\n",
    "filename = state + '_' + level + '.json'\n",
    "\n",
    "# GerryChain has a built-in function for reading graphs of this type:\n",
    "from gerrychain import Graph\n",
    "G = Graph.from_json( filepath + filename )\n",
    "\n",
    "for node in G.nodes:\n",
    "    # See http://starr.tamu.edu/files/2013/01/Census-Codes.pdf\n",
    "    G.nodes[node]['TOTPOP'] = G.nodes[node]['P0010001']\n",
    "    \n",
    "    # voting age population (VAP)\n",
    "    G.nodes[node]['VAP'] = G.nodes[node]['P0030001']\n",
    "    \n",
    "    # Black or African American alone:\n",
    "    G.nodes[node]['BVAP'] = G.nodes[node]['P0030004']\n",
    "    \n",
    "    # Black or African American (among two races)\n",
    "    G.nodes[node]['BVAP'] += G.nodes[node]['P0030011']\n",
    "    G.nodes[node]['BVAP'] += G.nodes[node]['P0030016']\n",
    "    G.nodes[node]['BVAP'] += G.nodes[node]['P0030017']\n",
    "    G.nodes[node]['BVAP'] += G.nodes[node]['P0030018']\n",
    "    G.nodes[node]['BVAP'] += G.nodes[node]['P0030019']\n",
    "    \n",
    "    # Black or African American (among three races)\n",
    "    G.nodes[node]['BVAP'] += G.nodes[node]['P0030027']\n",
    "    G.nodes[node]['BVAP'] += G.nodes[node]['P0030028']\n",
    "    G.nodes[node]['BVAP'] += G.nodes[node]['P0030029']\n",
    "    G.nodes[node]['BVAP'] += G.nodes[node]['P0030030']\n",
    "\n",
    "    G.nodes[node]['BVAP'] += G.nodes[node]['P0030037']\n",
    "    G.nodes[node]['BVAP'] += G.nodes[node]['P0030038']\n",
    "    G.nodes[node]['BVAP'] += G.nodes[node]['P0030039']\n",
    "    G.nodes[node]['BVAP'] += G.nodes[node]['P0030040']\n",
    "    G.nodes[node]['BVAP'] += G.nodes[node]['P0030041']\n",
    "    G.nodes[node]['BVAP'] += G.nodes[node]['P0030042']\n",
    "    \n",
    "    # Black or African American (among four races)\n",
    "    G.nodes[node]['BVAP'] += G.nodes[node]['P0030048']\n",
    "    G.nodes[node]['BVAP'] += G.nodes[node]['P0030049']\n",
    "    G.nodes[node]['BVAP'] += G.nodes[node]['P0030050']\n",
    "    G.nodes[node]['BVAP'] += G.nodes[node]['P0030051']\n",
    "    G.nodes[node]['BVAP'] += G.nodes[node]['P0030052']\n",
    "    G.nodes[node]['BVAP'] += G.nodes[node]['P0030053']\n",
    "    \n",
    "    G.nodes[node]['BVAP'] += G.nodes[node]['P0030058']\n",
    "    G.nodes[node]['BVAP'] += G.nodes[node]['P0030059']\n",
    "    G.nodes[node]['BVAP'] += G.nodes[node]['P0030060']\n",
    "    G.nodes[node]['BVAP'] += G.nodes[node]['P0030061']\n",
    "    \n",
    "    # Black or African American (among five races)\n",
    "    G.nodes[node]['BVAP'] += G.nodes[node]['P0030064']\n",
    "    G.nodes[node]['BVAP'] += G.nodes[node]['P0030065']\n",
    "    G.nodes[node]['BVAP'] += G.nodes[node]['P0030066']\n",
    "    G.nodes[node]['BVAP'] += G.nodes[node]['P0030067']\n",
    "    G.nodes[node]['BVAP'] += G.nodes[node]['P0030069']\n",
    "    \n",
    "    # Black or African American (among fix races)\n",
    "    G.nodes[node]['BVAP'] += G.nodes[node]['P0030071']"
   ]
  },
  {
   "cell_type": "code",
   "execution_count": 3,
   "metadata": {},
   "outputs": [
    {
     "name": "stdout",
     "output_type": "stream",
     "text": [
      "Using L = 714166 and U = 721342 and k = 7\n"
     ]
    }
   ],
   "source": [
    "# Let's impose a 1% population deviation (+/-0.5%)\n",
    "deviation = 0.01\n",
    "total_population = sum( G.nodes[node]['TOTPOP'] for node in G.nodes )\n",
    "\n",
    "import math\n",
    "from number_of_districts import congressional_districts_2020\n",
    "k = congressional_districts_2020[state]\n",
    "\n",
    "L = math.ceil( ( 1 - deviation / 2 ) * total_population / k )\n",
    "U = math.floor( ( 1 + deviation / 2 ) * total_population / k )\n",
    "print(\"Using L =\",L,\"and U =\",U,\"and k =\",k)"
   ]
  },
  {
   "cell_type": "code",
   "execution_count": 4,
   "metadata": {},
   "outputs": [
    {
     "name": "stdout",
     "output_type": "stream",
     "text": [
      "Set parameter Username\n",
      "Academic license - for non-commercial use only - expires 2023-12-27\n"
     ]
    }
   ],
   "source": [
    "import gurobipy as gp\n",
    "from gurobipy import GRB\n",
    "\n",
    "# create model \n",
    "m = gp.Model()\n",
    "\n",
    "import networkx as nx\n",
    "DG = nx.DiGraph(G)   # directed version of G\n",
    "\n",
    "# create variables\n",
    "# x[i] equals one when tract i is selected\n",
    "x = m.addVars(G.nodes, vtype=GRB.BINARY)  "
   ]
  },
  {
   "cell_type": "code",
   "execution_count": 5,
   "metadata": {},
   "outputs": [],
   "source": [
    "# get county graph\n",
    "filename = state + '_county.json'\n",
    "GC = Graph.from_json( filepath + filename )\n",
    "\n",
    "for node in GC.nodes:\n",
    "    # See http://starr.tamu.edu/files/2013/01/Census-Codes.pdf\n",
    "    GC.nodes[node]['TOTPOP'] = GC.nodes[node]['P0010001']\n",
    "\n",
    "gtn = { GC.nodes[i]['GEOID20'] : i for i in GC.nodes }"
   ]
  },
  {
   "cell_type": "code",
   "execution_count": 6,
   "metadata": {},
   "outputs": [],
   "source": [
    "# split at most 1 county\n",
    "splits = 1\n",
    "whole = m.addVars(GC.nodes, vtype=GRB.BINARY)\n",
    "some = m.addVars(GC.nodes, vtype=GRB.BINARY)\n",
    "split = m.addVars(GC.nodes, vtype=GRB.BINARY)\n",
    "\n",
    "m.addConstr( gp.quicksum(split) <= splits )\n",
    "m.addConstrs( split[c] == some[c] - whole[c] for c in GC.nodes )\n",
    "\n",
    "for i in G.nodes:\n",
    "    g = G.nodes[i]['GEOID20'][0:5]\n",
    "    c = gtn[g]\n",
    "    m.addConstr( whole[c] <= x[i] )\n",
    "    m.addConstr( x[i] <= some[c] )"
   ]
  },
  {
   "cell_type": "code",
   "execution_count": 7,
   "metadata": {},
   "outputs": [],
   "source": [
    "# y[u,v] equals one when arc (u,v) is cut because u but not v is selected\n",
    "y = m.addVars(DG.edges, vtype=GRB.BINARY) \n",
    "\n",
    "# z is inverse Polsby-Popper score for district \n",
    "z = m.addVar()\n",
    "\n",
    "# A = area of district \n",
    "A = m.addVar()\n",
    "\n",
    "# P = perimeter of district \n",
    "P = m.addVar()"
   ]
  },
  {
   "cell_type": "code",
   "execution_count": 8,
   "metadata": {},
   "outputs": [],
   "source": [
    "# objective is to minimize inverse Polsby-Popper score\n",
    "m.setObjective( z, GRB.MINIMIZE )"
   ]
  },
  {
   "cell_type": "code",
   "execution_count": 9,
   "metadata": {},
   "outputs": [],
   "source": [
    "# add SOCP constraints relating inverse Polsby-Popper score z to area and perimeter\n",
    "m.addConstr( P * P <= 4 * math.pi * A * z )\n",
    "\n",
    "# add constraint on area A \n",
    "m.addConstr( A == gp.quicksum( G.nodes[i]['area'] * x[i] for i in G.nodes ) )\n",
    "\n",
    "# add constraint on perimeter P\n",
    "m.addConstr( P == gp.quicksum( DG.edges[u,v]['shared_perim'] * y[u,v] for u,v in DG.edges )\n",
    "             + gp.quicksum( G.nodes[i]['boundary_perim'] * x[i] for i in G.nodes if G.nodes[i]['boundary_node'] ) )\n",
    "    \n",
    "m.update()"
   ]
  },
  {
   "cell_type": "code",
   "execution_count": 10,
   "metadata": {},
   "outputs": [],
   "source": [
    "# add constraints saying that district has population at least L and at most U\n",
    "m.addConstr( gp.quicksum( G.nodes[i]['TOTPOP'] * x[i] for i in G.nodes) >= L )\n",
    "m.addConstr( gp.quicksum( G.nodes[i]['TOTPOP'] * x[i] for i in G.nodes) <= U )\n",
    "\n",
    "# add constraints saying that arc (u,v) is cut if u but not v is selected\n",
    "m.addConstrs( x[u] - x[v] <= y[u,v] for u,v in DG.edges )\n",
    "\n",
    "m.update()"
   ]
  },
  {
   "cell_type": "code",
   "execution_count": 11,
   "metadata": {},
   "outputs": [
    {
     "data": {
      "text/plain": [
       "<gurobi.Constr *Awaiting Model Update*>"
      ]
     },
     "execution_count": 11,
     "metadata": {},
     "output_type": "execute_result"
    }
   ],
   "source": [
    "# black_vap >= 0.5 * total_vap\n",
    "bvap = m.addVar()\n",
    "vap = m.addVar()\n",
    "\n",
    "m.addConstr( bvap == gp.quicksum( G.nodes[i]['BVAP'] * x[i] for i in G.nodes ) )\n",
    "m.addConstr( vap == gp.quicksum( G.nodes[i]['VAP'] * x[i] for i in G.nodes ) )\n",
    "\n",
    "m.addConstr( bvap >= 0.5 * vap )"
   ]
  },
  {
   "cell_type": "code",
   "execution_count": 12,
   "metadata": {},
   "outputs": [
    {
     "name": "stdout",
     "output_type": "stream",
     "text": [
      "Set parameter TimeLimit to value 600\n",
      "Gurobi Optimizer version 9.5.0 build v9.5.0rc5 (win64)\n",
      "Thread count: 4 physical cores, 8 logical processors, using up to 8 threads\n",
      "Optimize a model with 10977 rows, 9671 columns and 45411 nonzeros\n",
      "Model fingerprint: 0x029011d5\n",
      "Model has 1 quadratic constraint\n",
      "Variable types: 5 continuous, 9666 integer (9666 binary)\n",
      "Coefficient statistics:\n",
      "  Matrix range     [3e-05, 1e+04]\n",
      "  QMatrix range    [1e+00, 1e+01]\n",
      "  Objective range  [1e+00, 1e+00]\n",
      "  Bounds range     [1e+00, 1e+00]\n",
      "  RHS range        [1e+00, 7e+05]\n",
      "Presolve time: 0.36s\n",
      "Presolved: 10977 rows, 9671 columns, 45411 nonzeros\n",
      "Presolved model has 1 quadratic constraint(s)\n",
      "Variable types: 3 continuous, 9668 integer (9666 binary)\n",
      "\n",
      "Root relaxation: objective 0.000000e+00, 5227 iterations, 1.47 seconds (0.28 work units)\n",
      "\n",
      "    Nodes    |    Current Node    |     Objective Bounds      |     Work\n",
      " Expl Unexpl |  Obj  Depth IntInf | Incumbent    BestBd   Gap | It/Node Time\n",
      "\n",
      "H    0     0                      30.2402601    0.00000   100%     -    2s\n",
      "*    0     0               0      30.2402601    0.93989  96.9%     -   15s\n",
      "     0     0    0.99814    0  729   30.24026    0.99814  96.7%     -   19s\n",
      "H    0     0                      10.4635067    0.99814  90.5%     -   19s\n",
      "     0     0    1.00939    0  730   10.46351    1.00939  90.4%     -   19s\n",
      "     0     0    1.01399    0  721   10.46351    1.01399  90.3%     -   21s\n",
      "     0     0    1.01973    0  727   10.46351    1.01973  90.3%     -   22s\n",
      "     0     0    1.01980    0  727   10.46351    1.01980  90.3%     -   23s\n",
      "     0     0    1.02652    0  728   10.46351    1.02652  90.2%     -   24s\n",
      "     0     0    1.02653    0  728   10.46351    1.02653  90.2%     -   25s\n",
      "     0     0    1.03472    0  722   10.46351    1.03472  90.1%     -   26s\n",
      "     0     0    1.30586    0  722   10.46351    1.30586  87.5%     -   28s\n",
      "     0     2    1.30586    0  722   10.46351    1.30586  87.5%     -   29s\n",
      "     1     4    1.31011    1  750   10.46351    1.30586  87.5%  1478   33s\n",
      "     3     6    1.59372    2 1010   10.46351    1.31414  87.4%  1607   37s\n",
      "    11    14    1.71246    4  858   10.46351    1.43002  86.3%  1053   40s\n",
      "    23    26    2.08905    5  773   10.46351    1.44014  86.2%  1004   45s\n",
      "H   31    28                      10.0802594    1.44220  85.7%   821   47s\n",
      "    42    44    2.30287    8  322   10.08026    1.44220  85.7%   771   51s\n",
      "    57    56    2.35913   11  110   10.08026    1.44220  85.7%   655   55s\n",
      "H   58    56                      10.0765620    1.44220  85.7%   644   55s\n",
      "H   61    56                       3.3787256    1.44220  57.3%   630   55s\n",
      "    89    72    2.43538   19 1049    3.37873    1.44220  57.3%   525   61s\n",
      "H   90    72                       2.8858553    1.44220  50.0%   519   61s\n",
      "H  120    83                       2.4417288    1.44220  40.9%   461   64s\n",
      "   130    76    2.44002   35  111    2.44173    1.79122  26.6%   451   66s\n",
      "*  145    74              38       2.4417288    1.98045  18.9%   442   67s\n",
      "H  159    73                       2.4333195    2.04310  16.0%   448   69s\n",
      "   163    66     cutoff    8         2.43332    2.04310  16.0%   471   73s\n",
      "   180    72    2.40313   13 1200    2.43332    2.08913  14.1%   489   75s\n",
      "H  212    73                       2.4333195    2.08913  14.1%   436   76s\n",
      "H  218    73                       2.4283361    2.16423  10.9%   433   76s\n",
      "H  251    77                       2.4283361    2.16423  10.9%   383   77s\n",
      "*  251    77              24       2.4283361    2.20772  9.09%   384   77s\n",
      "*  287    76              24       2.4283361    2.36138  2.76%   350   80s\n",
      "H  290    76                       2.4176113    2.36138  2.33%   357   80s\n",
      "H  301    76                       2.4171528    2.36138  2.31%   346   80s\n",
      "H  360    80                       2.4132435    2.36138  2.15%   311   83s\n",
      "H  375    80                       2.4126694    2.38550  1.13%   306   83s\n",
      "H  380    80                       2.3996345    2.38550  0.59%   303   83s\n",
      "\n",
      "Cutting planes:\n",
      "  Gomory: 4\n",
      "\n",
      "Explored 480 nodes (138485 simplex iterations) in 84.28 seconds (21.48 work units)\n",
      "Thread count was 8 (of 8 available processors)\n",
      "\n",
      "Solution count 10: 2.39963 2.41267 2.41324 ... 3.37873\n",
      "\n",
      "Optimal solution found (tolerance 1.00e-04)\n",
      "Best objective 2.399634499533e+00, best bound 2.399634499533e+00, gap 0.0000%\n"
     ]
    }
   ],
   "source": [
    "# solve IP model\n",
    "m.Params.TimeLimit = 600\n",
    "m.optimize()"
   ]
  },
  {
   "cell_type": "code",
   "execution_count": 13,
   "metadata": {},
   "outputs": [
    {
     "name": "stdout",
     "output_type": "stream",
     "text": [
      "The inverse PP score is 2.3996344995332346\n",
      "The PP score is 0.4167301312739566\n"
     ]
    }
   ],
   "source": [
    "print(\"The inverse PP score is\",m.objval)\n",
    "print(\"The PP score is\",1.0/m.objval)\n",
    "\n",
    "# retrieve the districts and their populations\n",
    "district = [i for i in G.nodes if x[i].x > 0.5] \n",
    "district_population = sum(G.nodes[i][\"TOTPOP\"] for i in district )"
   ]
  },
  {
   "cell_type": "code",
   "execution_count": 14,
   "metadata": {},
   "outputs": [
    {
     "name": "stdout",
     "output_type": "stream",
     "text": [
      "black_vap = 281711\n",
      "total_vap = 562696\n",
      "percentage = 50 %\n"
     ]
    }
   ],
   "source": [
    "print(\"black_vap =\", round(bvap.x) )\n",
    "print(\"total_vap =\", round(vap.x) )\n",
    "print(\"percentage =\", round( 100 * bvap.x / vap.x ),\"%\" )"
   ]
  },
  {
   "cell_type": "code",
   "execution_count": 15,
   "metadata": {},
   "outputs": [],
   "source": [
    "# Let's draw it on a map\n",
    "import geopandas as gpd"
   ]
  },
  {
   "cell_type": "code",
   "execution_count": 16,
   "metadata": {},
   "outputs": [],
   "source": [
    "filename = state + '_' + level + '.shp'\n",
    "df = gpd.read_file( filepath + filename )"
   ]
  },
  {
   "cell_type": "code",
   "execution_count": 17,
   "metadata": {},
   "outputs": [
    {
     "data": {
      "image/png": "[encoded data removed]",
      "text/plain": [
       "<Figure size 432x288 with 1 Axes>"
      ]
     },
     "metadata": {
      "needs_background": "light"
     },
     "output_type": "display_data"
    }
   ],
   "source": [
    "assignment = [ -1 for i in G.nodes ]\n",
    "labeling = { i : 1 if x[i].x > 0.5 else 0 for i in G.nodes }\n",
    "\n",
    "# Now add the assignments to a column of the dataframe and map it\n",
    "node_with_this_geoid = { G.nodes[i]['GEOID20'] : i for i in G.nodes }\n",
    "\n",
    "# pick a position u in the dataframe\n",
    "for u in range(G.number_of_nodes()):\n",
    "    \n",
    "    geoid = df['GEOID20'][u]\n",
    "    \n",
    "    # what node in G has this geoid?\n",
    "    i = node_with_this_geoid[geoid]\n",
    "    \n",
    "    # position u in the dataframe should be given\n",
    "    # the same district # that county i has in 'labeling'\n",
    "    assignment[u] = labeling[i]\n",
    "    \n",
    "# now add the assignments to a column of our dataframe and then map it\n",
    "df['assignment'] = assignment\n",
    "\n",
    "my_fig = df.plot(column='assignment').get_figure()"
   ]
  },
  {
   "cell_type": "code",
   "execution_count": 18,
   "metadata": {},
   "outputs": [],
   "source": [
    "county_geoids = { G.nodes[i]['GEOID20'][0:5] for i in G.nodes }\n",
    "county_pop = { g : 0 for g in county_geoids }"
   ]
  },
  {
   "cell_type": "code",
   "execution_count": 19,
   "metadata": {},
   "outputs": [],
   "source": [
    "for i in labeling.keys():\n",
    "    if labeling[i]==1:\n",
    "        g = G.nodes[i]['GEOID20'][0:5]\n",
    "        p = G.nodes[i]['TOTPOP']\n",
    "        county_pop[g] += p"
   ]
  },
  {
   "cell_type": "code",
   "execution_count": 20,
   "metadata": {},
   "outputs": [
    {
     "name": "stdout",
     "output_type": "stream",
     "text": [
      "geoid pop total_pop county\n",
      "01065 14785 14785 Hale 100.0\n",
      "01047 38462 38462 Dallas 100.0\n",
      "01131 10600 10600 Wilcox 100.0\n",
      "01105 8511 8511 Perry 100.0\n",
      "01025 23087 23087 Clarke 100.0\n",
      "01023 12665 12665 Choctaw 100.0\n",
      "01099 19772 19772 Monroe 100.0\n",
      "01063 7730 7730 Greene 100.0\n",
      "01125 227036 227036 Tuscaloosa 100.0\n",
      "01107 19123 19123 Pickens 100.0\n",
      "01073 263114 674721 Jefferson 38.99597018619548\n",
      "01129 15388 15388 Washington 100.0\n",
      "01007 22293 22293 Bibb 100.0\n",
      "01119 12345 12345 Sumter 100.0\n",
      "01091 19323 19323 Marengo 100.0\n",
      "15\n"
     ]
    }
   ],
   "source": [
    "count = 0\n",
    "print(\"geoid pop total_pop county\")\n",
    "for g in county_pop.keys():\n",
    "    if county_pop[g]>0:\n",
    "        i = gtn[g]\n",
    "        print(g,county_pop[g],GC.nodes[i]['TOTPOP'],GC.nodes[i]['NAME20'],100*county_pop[g]/GC.nodes[i]['TOTPOP'])\n",
    "        count += 1\n",
    "print(count)"
   ]
  },
  {
   "cell_type": "code",
   "execution_count": 21,
   "metadata": {},
   "outputs": [
    {
     "data": {
      "text/plain": [
       "True"
      ]
     },
     "execution_count": 21,
     "metadata": {},
     "output_type": "execute_result"
    }
   ],
   "source": [
    "nx.is_connected(G.subgraph(district) )"
   ]
  },
  {
   "cell_type": "code",
   "execution_count": null,
   "metadata": {},
   "outputs": [],
   "source": []
  }
 ],
 "metadata": {
  "kernelspec": {
   "display_name": "Python 3",
   "language": "python",
   "name": "python3"
  },
  "language_info": {
   "codemirror_mode": {
    "name": "ipython",
    "version": 3
   },
   "file_extension": ".py",
   "mimetype": "text/x-python",
   "name": "python",
   "nbconvert_exporter": "python",
   "pygments_lexer": "ipython3",
   "version": "3.7.10"
  }
 },
 "nbformat": 4,
 "nbformat_minor": 4
}
