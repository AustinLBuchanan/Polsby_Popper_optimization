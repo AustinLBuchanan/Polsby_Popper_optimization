{
 "cells": [
  {
   "cell_type": "code",
   "execution_count": 1,
   "metadata": {},
   "outputs": [],
   "source": [
    "import gurobipy as gp\n",
    "from gurobipy import GRB"
   ]
  },
  {
   "cell_type": "code",
   "execution_count": 2,
   "metadata": {},
   "outputs": [
    {
     "name": "stdout",
     "output_type": "stream",
     "text": [
      "Set parameter Username\n",
      "Academic license - for non-commercial use only - expires 2023-01-01\n"
     ]
    }
   ],
   "source": [
    "#  x^2 <= 2 y z\n",
    "m = gp.Model()\n",
    "x = m.addVar()\n",
    "y = m.addVar()\n",
    "z = m.addVar()\n",
    "\n",
    "x.lb = 0\n",
    "y.lb = 0\n",
    "z.lb = 0\n",
    "\n",
    "y.ub = 10\n",
    "z.ub = 10"
   ]
  },
  {
   "cell_type": "code",
   "execution_count": 3,
   "metadata": {},
   "outputs": [
    {
     "data": {
      "text/plain": [
       "3.141592653589793"
      ]
     },
     "execution_count": 3,
     "metadata": {},
     "output_type": "execute_result"
    }
   ],
   "source": [
    "import math\n",
    "math.pi"
   ]
  },
  {
   "cell_type": "code",
   "execution_count": 4,
   "metadata": {},
   "outputs": [
    {
     "data": {
      "text/plain": [
       "<gurobi.QConstr Not Yet Added>"
      ]
     },
     "execution_count": 4,
     "metadata": {},
     "output_type": "execute_result"
    }
   ],
   "source": [
    "m.addConstr( x * x <= 4 * math.pi * y * z )"
   ]
  },
  {
   "cell_type": "code",
   "execution_count": 5,
   "metadata": {},
   "outputs": [
    {
     "name": "stdout",
     "output_type": "stream",
     "text": [
      "Gurobi Optimizer version 9.5.0 build v9.5.0rc5 (win64)\n",
      "Thread count: 4 physical cores, 8 logical processors, using up to 8 threads\n",
      "Optimize a model with 0 rows, 3 columns and 0 nonzeros\n",
      "Model fingerprint: 0x68b8ca26\n",
      "Model has 1 quadratic constraint\n",
      "Coefficient statistics:\n",
      "  Matrix range     [0e+00, 0e+00]\n",
      "  QMatrix range    [1e+00, 1e+01]\n",
      "  Objective range  [1e+00, 1e+00]\n",
      "  Bounds range     [1e+01, 1e+01]\n",
      "  RHS range        [0e+00, 0e+00]\n",
      "Presolve time: 0.00s\n",
      "Presolved: 3 rows, 5 columns, 7 nonzeros\n",
      "Presolved model has 1 second-order cone constraint\n",
      "Ordering time: 0.00s\n",
      "\n",
      "Barrier statistics:\n",
      " AA' NZ     : 3.000e+00\n",
      " Factor NZ  : 6.000e+00\n",
      " Factor Ops : 1.400e+01 (less than 1 second per iteration)\n",
      " Threads    : 1\n",
      "\n",
      "                  Objective                Residual\n",
      "Iter       Primal          Dual         Primal    Dual     Compl     Time\n",
      "   0  -0.00000000e+00  2.16186573e+01  8.14e+00 1.19e+00  4.75e+00     0s\n",
      "   1   7.22786283e+00  1.34262284e+01  2.96e-02 6.15e-01  2.04e+00     0s\n",
      "   2   3.15991362e+01  1.97063999e+01  8.32e-03 3.64e-01  1.26e+00     0s\n",
      "   3   3.41747338e+01  3.69084174e+01  9.15e-09 4.00e-07  3.42e-01     0s\n",
      "   4   3.54458084e+01  3.54683836e+01  8.38e-12 3.76e-13  2.82e-03     0s\n",
      "   5   3.54490726e+01  3.54490990e+01  1.19e-11 2.43e-11  3.30e-06     0s\n",
      "   6   3.54490770e+01  3.54490770e+01  9.64e-10 9.96e-10  4.43e-09     0s\n",
      "\n",
      "Barrier solved model in 6 iterations and 0.02 seconds (0.00 work units)\n",
      "Optimal objective 3.54490770e+01\n",
      "\n"
     ]
    }
   ],
   "source": [
    "m.setObjective( x, GRB.MAXIMIZE )\n",
    "m.optimize()"
   ]
  },
  {
   "cell_type": "code",
   "execution_count": 6,
   "metadata": {},
   "outputs": [
    {
     "name": "stdout",
     "output_type": "stream",
     "text": [
      "Obj value = 35.449077009786315\n",
      "x = 35.449077009786315\n",
      "y = 9.999999997384633\n",
      "z = 9.999999997384633\n"
     ]
    }
   ],
   "source": [
    "print(\"Obj value =\",m.objVal)\n",
    "print(\"x =\",x.x)\n",
    "print(\"y =\",y.x)\n",
    "print(\"z =\",z.x)"
   ]
  },
  {
   "cell_type": "code",
   "execution_count": null,
   "metadata": {},
   "outputs": [],
   "source": []
  }
 ],
 "metadata": {
  "kernelspec": {
   "display_name": "Python 3",
   "language": "python",
   "name": "python3"
  },
  "language_info": {
   "codemirror_mode": {
    "name": "ipython",
    "version": 3
   },
   "file_extension": ".py",
   "mimetype": "text/x-python",
   "name": "python",
   "nbconvert_exporter": "python",
   "pygments_lexer": "ipython3",
   "version": "3.7.10"
  }
 },
 "nbformat": 4,
 "nbformat_minor": 4
}
