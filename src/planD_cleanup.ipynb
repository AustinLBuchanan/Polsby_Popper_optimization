{
 "cells": [
  {
   "cell_type": "code",
   "execution_count": 1,
   "metadata": {},
   "outputs": [],
   "source": [
    "# primary settings\n",
    "state = 'AL'\n",
    "district_type = 'CD'\n",
    "level = 'block'\n",
    "minority = 'Black'"
   ]
  },
  {
   "cell_type": "code",
   "execution_count": 2,
   "metadata": {},
   "outputs": [
    {
     "name": "stdout",
     "output_type": "stream",
     "text": [
      "number of nodes, edges: 185976 461910\n"
     ]
    }
   ],
   "source": [
    "filepath = 'C:\\\\districting-data-2020\\\\'\n",
    "filename = state + '_' + level + '.json'\n",
    "\n",
    "from read import read_graph_from_json\n",
    "G = read_graph_from_json( filepath + filename )\n",
    "print(\"number of nodes, edges:\",G.number_of_nodes(),G.number_of_edges())"
   ]
  },
  {
   "cell_type": "code",
   "execution_count": 3,
   "metadata": {},
   "outputs": [],
   "source": [
    "# read Plan D from file\n",
    "filename = \"PlanDDec26.csv\"\n",
    "geoid_to_node = { G.nodes[i]['GEOID20'] : i for i in G.nodes }\n",
    "\n",
    "from number_of_districts import number_of_districts\n",
    "k = number_of_districts[state, district_type]\n",
    "districts = [ list() for j in range(k) ]\n",
    "\n",
    "import pandas\n",
    "csvFile = pandas.read_csv( filename, skipinitialspace = True )\n",
    "unassigned = list()\n",
    "for index, row in csvFile.iterrows():\n",
    "\n",
    "    # what is the block's geoid?\n",
    "    g = str( row['GEOID20'] )\n",
    "    if len(g) < 15: # fix issue with leading zeros\n",
    "        g = '0' + g\n",
    "\n",
    "    # which node does this correspond to?\n",
    "    i = geoid_to_node[g]\n",
    "\n",
    "    # which district is it in?\n",
    "    j = str( row['District'] ) \n",
    "\n",
    "    # is it unassigned??\n",
    "    if j in { 'ZZ', 'ZZZ' }:\n",
    "        unassigned.append(i)\n",
    "        continue\n",
    "    else:\n",
    "        districts[int(j)-1].append(i)\n",
    "\n",
    "assert len(unassigned)==0"
   ]
  },
  {
   "cell_type": "code",
   "execution_count": 4,
   "metadata": {},
   "outputs": [
    {
     "name": "stdout",
     "output_type": "stream",
     "text": [
      "\n",
      "District Black percentages:\n",
      "0 15.36 \n",
      "1 50.05 ***\n",
      "2 23.96 \n",
      "3 8.58 \n",
      "4 16.02 \n",
      "5 15.37 \n",
      "6 51.73 ***\n",
      "-> 2 majority-Black districts\n",
      "\n",
      "Counties split (by fips code): ['01113', '01083', '01073', '01097', '01117']\n",
      "County splits (by fips code): {'01113': 1, '01083': 1, '01073': 2, '01097': 1, '01117': 1}\n",
      "-> 5 counties split a total of 6 times\n",
      "\n",
      "District Polsby-Popper scores:\n",
      "0 0.1277\n",
      "1 0.1532\n",
      "2 0.2664\n",
      "3 0.3609\n",
      "4 0.3743\n",
      "5 0.1891\n",
      "6 0.2681\n",
      "-> average Polsby-Popper score of 0.2485\n"
     ]
    }
   ],
   "source": [
    "# read more-detailed version of block-level graph\n",
    "#   to get additional data fields (VAP and MVAP)\n",
    "GB = read_graph_from_json( \"al_blocks.json\" )\n",
    "\n",
    "for i in G.nodes:\n",
    "    #assert G.nodes[i]['GEOID20'] == GB.nodes[i]['GEOID20']\n",
    "    G.nodes[i]['TOTPOP'] = G.nodes[i]['P0010001'] \n",
    "    G.nodes[i]['VAP'] = GB.nodes[i]['VAP20']\n",
    "    G.nodes[i]['MVAP'] = GB.nodes[i]['APBVAP20']\n",
    "\n",
    "del GB # free up some memory\n",
    "    \n",
    "from metrics import report_metrics\n",
    "report_metrics(G, districts, minority=minority, verbose=True)"
   ]
  },
  {
   "cell_type": "code",
   "execution_count": 5,
   "metadata": {},
   "outputs": [
    {
     "name": "stdout",
     "output_type": "stream",
     "text": [
      "Using k, L, U = 7 717754 717755\n"
     ]
    }
   ],
   "source": [
    "populations = [ sum( G.nodes[i]['TOTPOP'] for i in district ) for district in districts ]\n",
    "G._L = min(populations)\n",
    "G._U = max(populations)\n",
    "G._k = k\n",
    "G._state = state\n",
    "G._level = level\n",
    "print(\"Using k, L, U =\",G._k, G._L, G._U)"
   ]
  },
  {
   "cell_type": "code",
   "execution_count": 6,
   "metadata": {},
   "outputs": [],
   "source": [
    "# Cleanup the seed PlanD, making it more compact, \n",
    "#   with 1-hop and 2-hop local search\n",
    "from cleanup import mip_local_search\n",
    "from export import export_to_csv"
   ]
  },
  {
   "cell_type": "code",
   "execution_count": 7,
   "metadata": {},
   "outputs": [
    {
     "name": "stdout",
     "output_type": "stream",
     "text": [
      "Applying MIP-based local search to improve the MIP warm start (hop parameter: 1)...\n",
      "iter \t\t obj \t\t time\n",
      "Set parameter Username\n",
      "Academic license - for non-commercial use only - expires 2025-04-16\n",
      "1 \t 4.36731262 \t 600.55\n",
      "2 \t 4.27758732 \t 600.58\n",
      "3 \t 4.25808928 \t 600.50\n",
      "4 \t 4.25192777 \t 601.46\n",
      "5 \t 4.25015523 \t 601.33\n",
      "6 \t 4.24830797 \t 601.61\n",
      "7 \t 4.24287040 \t 600.54\n",
      "8 \t 4.23669934 \t 601.26\n",
      "9 \t 4.23514396 \t 600.72\n",
      "10 \t 4.23514396 \t 600.30\n",
      "\n",
      "District Black percentages:\n",
      "0 15.41 \n",
      "1 50.0 ***\n",
      "2 23.95 \n",
      "3 8.58 \n",
      "4 16.01 \n",
      "5 15.39 \n",
      "6 51.71 ***\n",
      "-> 2 majority-Black districts\n",
      "\n",
      "Counties split (by fips code): ['01113', '01083', '01073', '01097', '01117']\n",
      "County splits (by fips code): {'01113': 1, '01083': 1, '01073': 2, '01097': 1, '01117': 1}\n",
      "-> 5 counties split a total of 6 times\n",
      "\n",
      "District Polsby-Popper scores:\n",
      "0 0.1366\n",
      "1 0.1648\n",
      "2 0.2774\n",
      "3 0.4303\n",
      "4 0.4345\n",
      "5 0.2114\n",
      "6 0.3033\n",
      "-> average Polsby-Popper score of 0.2798\n",
      "Exporting to csv...\n"
     ]
    }
   ],
   "source": [
    "districts = mip_local_search(G, districts, h=1, minority=minority)\n",
    "report_metrics(G, districts, minority, verbose=True)\n",
    "\n",
    "labeling = { i : j for j in range(len(districts)) for i in districts[j] }\n",
    "csv_filename = \"PlanD1.csv\"\n",
    "export_to_csv(G, labeling, csv_filename=csv_filename)"
   ]
  },
  {
   "cell_type": "code",
   "execution_count": 8,
   "metadata": {},
   "outputs": [
    {
     "name": "stdout",
     "output_type": "stream",
     "text": [
      "Applying MIP-based local search to improve the MIP warm start (hop parameter: 2)...\n",
      "iter \t\t obj \t\t time\n",
      "1 \t 4.10817541 \t 601.56\n",
      "2 \t 4.04836814 \t 602.01\n",
      "3 \t 4.02790996 \t 609.05\n",
      "4 \t 4.01344333 \t 601.68\n",
      "5 \t 4.00762234 \t 601.90\n",
      "6 \t 4.00075543 \t 601.17\n",
      "7 \t 3.99854768 \t 601.34\n",
      "8 \t 3.99792512 \t 601.25\n",
      "9 \t 3.99788503 \t 600.97\n",
      "10 \t 3.99788503 \t 602.34\n",
      "\n",
      "District Black percentages:\n",
      "0 15.39 \n",
      "1 50.01 ***\n",
      "2 23.95 \n",
      "3 8.43 \n",
      "4 16.01 \n",
      "5 15.58 \n",
      "6 51.64 ***\n",
      "-> 2 majority-Black districts\n",
      "\n",
      "Counties split (by fips code): ['01113', '01083', '01073', '01097', '01117']\n",
      "County splits (by fips code): {'01113': 1, '01083': 1, '01073': 2, '01097': 1, '01117': 1}\n",
      "-> 5 counties split a total of 6 times\n",
      "\n",
      "District Polsby-Popper scores:\n",
      "0 0.1418\n",
      "1 0.1705\n",
      "2 0.2844\n",
      "3 0.4986\n",
      "4 0.4735\n",
      "5 0.2304\n",
      "6 0.3233\n",
      "-> average Polsby-Popper score of 0.3032\n",
      "Exporting to csv...\n"
     ]
    }
   ],
   "source": [
    "districts = mip_local_search(G, districts, h=2, minority=minority)\n",
    "report_metrics(G, districts, minority, verbose=True)\n",
    "\n",
    "labeling = { i : j for j in range(len(districts)) for i in districts[j] }\n",
    "csv_filename = \"PlanD2.csv\"\n",
    "export_to_csv(G, labeling, csv_filename=csv_filename)"
   ]
  },
  {
   "cell_type": "code",
   "execution_count": 10,
   "metadata": {},
   "outputs": [
    {
     "name": "stdout",
     "output_type": "stream",
     "text": [
      "Applying MIP-based local search to improve the MIP warm start (hop parameter: 3)...\n",
      "iter \t\t obj \t\t time\n",
      "1 \t 3.92869988 \t 3602.07\n",
      "2 \t 3.90388836 \t 3605.59\n",
      "3 \t 3.83888808 \t 3609.51\n",
      "4 \t 3.83780845 \t 3620.04\n",
      "5 \t 3.83780845 \t 3618.30\n",
      "\n",
      "District Black percentages:\n",
      "0 15.42 \n",
      "1 50.0 ***\n",
      "2 23.93 \n",
      "3 8.33 \n",
      "4 16.01 \n",
      "5 15.71 \n",
      "6 51.61 ***\n",
      "-> 2 majority-Black districts\n",
      "\n",
      "Counties split (by fips code): ['01113', '01083', '01073', '01097', '01117']\n",
      "County splits (by fips code): {'01113': 1, '01083': 1, '01073': 2, '01097': 1, '01117': 1}\n",
      "-> 5 counties split a total of 6 times\n",
      "\n",
      "District Polsby-Popper scores:\n",
      "0 0.1467\n",
      "1 0.1727\n",
      "2 0.2963\n",
      "3 0.5382\n",
      "4 0.4735\n",
      "5 0.2586\n",
      "6 0.3285\n",
      "-> average Polsby-Popper score of 0.3164\n",
      "Exporting to csv...\n"
     ]
    }
   ],
   "source": [
    "districts = mip_local_search(G, districts, h=3, minority=minority, time_limit=3600)\n",
    "report_metrics(G, districts, minority, verbose=True)\n",
    "\n",
    "labeling = { i : j for j in range(len(districts)) for i in districts[j] }\n",
    "csv_filename = \"PlanD3.csv\"\n",
    "export_to_csv(G, labeling, csv_filename=csv_filename)"
   ]
  },
  {
   "cell_type": "code",
   "execution_count": 11,
   "metadata": {},
   "outputs": [
    {
     "name": "stdout",
     "output_type": "stream",
     "text": [
      "Applying MIP-based local search to improve the MIP warm start (hop parameter: 4)...\n",
      "iter \t\t obj \t\t time\n",
      "1 \t 3.80092146 \t 3604.60\n",
      "2 \t 3.76924650 \t 3601.63\n",
      "3 \t 3.75071796 \t 3605.53\n",
      "4 \t 3.73930249 \t 3602.97\n",
      "5 \t 3.72666108 \t 3605.89\n",
      "6 \t 3.72638241 \t 3602.69\n",
      "7 \t 3.72638240 \t 3602.92\n",
      "\n",
      "District Black percentages:\n",
      "0 15.44 \n",
      "1 50.0 ***\n",
      "2 23.94 \n",
      "3 8.19 \n",
      "4 16.15 \n",
      "5 15.7 \n",
      "6 51.61 ***\n",
      "-> 2 majority-Black districts\n",
      "\n",
      "Counties split (by fips code): ['01113', '01083', '01073', '01097', '01117']\n",
      "County splits (by fips code): {'01113': 1, '01083': 1, '01073': 2, '01097': 1, '01117': 1}\n",
      "-> 5 counties split a total of 6 times\n",
      "\n",
      "District Polsby-Popper scores:\n",
      "0 0.1582\n",
      "1 0.1779\n",
      "2 0.2979\n",
      "3 0.5449\n",
      "4 0.4862\n",
      "5 0.2599\n",
      "6 0.3285\n",
      "-> average Polsby-Popper score of 0.3219\n",
      "Exporting to csv...\n"
     ]
    }
   ],
   "source": [
    "districts = mip_local_search(G, districts, h=4, minority=minority, time_limit=3600)\n",
    "report_metrics(G, districts, minority, verbose=True)\n",
    "\n",
    "labeling = { i : j for j in range(len(districts)) for i in districts[j] }\n",
    "csv_filename = \"PlanD4.csv\"\n",
    "export_to_csv(G, labeling, csv_filename=csv_filename)"
   ]
  },
  {
   "cell_type": "code",
   "execution_count": null,
   "metadata": {},
   "outputs": [],
   "source": []
  }
 ],
 "metadata": {
  "kernelspec": {
   "display_name": "Python 3 (ipykernel)",
   "language": "python",
   "name": "python3"
  },
  "language_info": {
   "codemirror_mode": {
    "name": "ipython",
    "version": 3
   },
   "file_extension": ".py",
   "mimetype": "text/x-python",
   "name": "python",
   "nbconvert_exporter": "python",
   "pygments_lexer": "ipython3",
   "version": "3.11.7"
  }
 },
 "nbformat": 4,
 "nbformat_minor": 4
}
