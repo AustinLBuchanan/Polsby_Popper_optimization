{
 "cells": [
  {
   "cell_type": "code",
   "execution_count": 1,
   "metadata": {},
   "outputs": [],
   "source": [
    "# primary settings\n",
    "state = 'AL'\n",
    "district_type = 'CD'\n",
    "level = 'block'\n",
    "minority = 'Black'"
   ]
  },
  {
   "cell_type": "code",
   "execution_count": 2,
   "metadata": {},
   "outputs": [
    {
     "name": "stdout",
     "output_type": "stream",
     "text": [
      "number of nodes, edges: 185976 461910\n"
     ]
    }
   ],
   "source": [
    "filepath = 'C:\\\\districting-data-2020-reprojection\\\\'\n",
    "filename = state + '_' + level + '.json'\n",
    "\n",
    "from read import read_graph_from_json\n",
    "G = read_graph_from_json( filepath + filename )\n",
    "print(\"number of nodes, edges:\",G.number_of_nodes(),G.number_of_edges())"
   ]
  },
  {
   "cell_type": "code",
   "execution_count": 3,
   "metadata": {},
   "outputs": [],
   "source": [
    "# read Plan D from file\n",
    "filename = \"PlanDDec26.csv\"\n",
    "geoid_to_node = { G.nodes[i]['GEOID20'] : i for i in G.nodes }\n",
    "\n",
    "from number_of_districts import number_of_districts\n",
    "k = number_of_districts[state, district_type]\n",
    "districts = [ list() for j in range(k) ]\n",
    "\n",
    "import pandas\n",
    "csvFile = pandas.read_csv( filename, skipinitialspace = True )\n",
    "unassigned = list()\n",
    "for index, row in csvFile.iterrows():\n",
    "\n",
    "    # what is the block's geoid?\n",
    "    g = str( row['GEOID20'] )\n",
    "    if len(g) < 15: # fix issue with leading zeros\n",
    "        g = '0' + g\n",
    "\n",
    "    # which node does this correspond to?\n",
    "    i = geoid_to_node[g]\n",
    "\n",
    "    # which district is it in?\n",
    "    j = str( row['District'] ) \n",
    "\n",
    "    # is it unassigned??\n",
    "    if j in { 'ZZ', 'ZZZ' }:\n",
    "        unassigned.append(i)\n",
    "        continue\n",
    "    else:\n",
    "        districts[int(j)-1].append(i)\n",
    "\n",
    "assert len(unassigned)==0"
   ]
  },
  {
   "cell_type": "code",
   "execution_count": 4,
   "metadata": {},
   "outputs": [
    {
     "name": "stdout",
     "output_type": "stream",
     "text": [
      "\n",
      "District Black percentages:\n",
      "0 15.36 \n",
      "1 50.05 ***\n",
      "2 23.96 \n",
      "3 8.58 \n",
      "4 16.02 \n",
      "5 15.37 \n",
      "6 51.73 ***\n",
      "-> 2 majority-Black districts\n",
      "\n",
      "Counties split (by fips code): ['01117', '01097', '01083', '01073', '01113']\n",
      "County splits (by fips code): {'01117': 1, '01097': 1, '01083': 1, '01073': 2, '01113': 1}\n",
      "-> 5 counties split a total of 6 times\n",
      "\n",
      "District Polsby-Popper scores:\n",
      "0 0.1325\n",
      "1 0.1546\n",
      "2 0.2683\n",
      "3 0.3649\n",
      "4 0.381\n",
      "5 0.1934\n",
      "6 0.2691\n",
      "-> average Polsby-Popper score of 0.252\n"
     ]
    }
   ],
   "source": [
    "# read more-detailed version of block-level graph\n",
    "#   to get additional data fields (VAP and MVAP)\n",
    "GB = read_graph_from_json( \"al_blocks.json\", update_population=False, rescale_distance=False )\n",
    "\n",
    "for i in G.nodes:\n",
    "    #assert G.nodes[i]['GEOID20'] == GB.nodes[i]['GEOID20']\n",
    "    G.nodes[i]['VAP'] = GB.nodes[i]['VAP20']\n",
    "    G.nodes[i]['MVAP'] = GB.nodes[i]['APBVAP20']\n",
    "\n",
    "del GB # free up some memory\n",
    "    \n",
    "from metrics import report_metrics\n",
    "report_metrics(G, districts, minority=minority, verbose=True)"
   ]
  },
  {
   "cell_type": "code",
   "execution_count": 5,
   "metadata": {},
   "outputs": [
    {
     "name": "stdout",
     "output_type": "stream",
     "text": [
      "Using k, L, U = 7 717754 717755\n"
     ]
    }
   ],
   "source": [
    "populations = [ sum( G.nodes[i]['TOTPOP'] for i in district ) for district in districts ]\n",
    "G._L = min(populations)\n",
    "G._U = max(populations)\n",
    "G._k = k\n",
    "G._state = state\n",
    "G._level = level\n",
    "print(\"Using k, L, U =\",G._k, G._L, G._U)"
   ]
  },
  {
   "cell_type": "code",
   "execution_count": 6,
   "metadata": {},
   "outputs": [],
   "source": [
    "# Cleanup the seed PlanD, making it more compact, \n",
    "#   with 1-hop and 2-hop local search\n",
    "from cleanup import mip_local_search\n",
    "from export import export_to_csv"
   ]
  },
  {
   "cell_type": "code",
   "execution_count": 7,
   "metadata": {},
   "outputs": [
    {
     "name": "stdout",
     "output_type": "stream",
     "text": [
      "Applying MIP-based local search to improve the MIP warm start (hop parameter: 1)...\n",
      "iter \t\t obj \t\t time\n",
      "Set parameter Username\n",
      "Academic license - for non-commercial use only - expires 2025-04-16\n",
      "1 \t 4.27655621 \t 600.47\n",
      "2 \t 4.20884918 \t 600.53\n",
      "3 \t 4.19745767 \t 600.58\n",
      "4 \t 4.18722513 \t 600.49\n",
      "5 \t 4.18376660 \t 600.50\n",
      "6 \t 4.17792914 \t 600.45\n",
      "7 \t 4.17570322 \t 600.54\n",
      "8 \t 4.17570322 \t 600.75\n",
      "\n",
      "District Black percentages:\n",
      "0 15.4 \n",
      "1 50.0 ***\n",
      "2 23.97 \n",
      "3 8.59 \n",
      "4 16.01 \n",
      "5 15.39 \n",
      "6 51.69 ***\n",
      "-> 2 majority-Black districts\n",
      "\n",
      "Counties split (by fips code): ['01117', '01097', '01083', '01073', '01113']\n",
      "County splits (by fips code): {'01117': 1, '01097': 1, '01083': 1, '01073': 2, '01113': 1}\n",
      "-> 5 counties split a total of 6 times\n",
      "\n",
      "District Polsby-Popper scores:\n",
      "0 0.1416\n",
      "1 0.1647\n",
      "2 0.2779\n",
      "3 0.4345\n",
      "4 0.4437\n",
      "5 0.2149\n",
      "6 0.3039\n",
      "-> average Polsby-Popper score of 0.283\n",
      "Exporting to csv...\n"
     ]
    }
   ],
   "source": [
    "districts = mip_local_search(G, districts, h=1, minority=minority)\n",
    "report_metrics(G, districts, minority, verbose=True)\n",
    "\n",
    "labeling = { i : j for j in range(len(districts)) for i in districts[j] }\n",
    "csv_filename = \"PlanD1.csv\"\n",
    "export_to_csv(G, labeling, csv_filename=csv_filename)"
   ]
  },
  {
   "cell_type": "code",
   "execution_count": 8,
   "metadata": {},
   "outputs": [
    {
     "name": "stdout",
     "output_type": "stream",
     "text": [
      "Applying MIP-based local search to improve the MIP warm start (hop parameter: 2)...\n",
      "iter \t\t obj \t\t time\n",
      "1 \t 4.08690934 \t 600.76\n",
      "2 \t 4.04422097 \t 601.88\n",
      "3 \t 4.01193945 \t 600.80\n",
      "4 \t 4.00908415 \t 601.86\n",
      "5 \t 4.00255212 \t 600.72\n",
      "6 \t 3.99897721 \t 600.77\n",
      "7 \t 3.99685611 \t 600.75\n",
      "8 \t 3.98777366 \t 600.68\n",
      "9 \t 3.98541707 \t 600.72\n",
      "10 \t 3.98541707 \t 600.67\n",
      "\n",
      "District Black percentages:\n",
      "0 15.43 \n",
      "1 50.01 ***\n",
      "2 23.91 \n",
      "3 8.57 \n",
      "4 16.01 \n",
      "5 15.52 \n",
      "6 51.57 ***\n",
      "-> 2 majority-Black districts\n",
      "\n",
      "Counties split (by fips code): ['01117', '01097', '01083', '01073', '01113']\n",
      "County splits (by fips code): {'01117': 1, '01097': 1, '01083': 1, '01073': 2, '01113': 1}\n",
      "-> 5 counties split a total of 6 times\n",
      "\n",
      "District Polsby-Popper scores:\n",
      "0 0.1476\n",
      "1 0.1732\n",
      "2 0.2844\n",
      "3 0.4789\n",
      "4 0.4827\n",
      "5 0.224\n",
      "6 0.3115\n",
      "-> average Polsby-Popper score of 0.3003\n",
      "Exporting to csv...\n"
     ]
    }
   ],
   "source": [
    "districts = mip_local_search(G, districts, h=2, minority=minority)\n",
    "report_metrics(G, districts, minority, verbose=True)\n",
    "\n",
    "labeling = { i : j for j in range(len(districts)) for i in districts[j] }\n",
    "csv_filename = \"PlanD2.csv\"\n",
    "export_to_csv(G, labeling, csv_filename=csv_filename)"
   ]
  },
  {
   "cell_type": "code",
   "execution_count": 9,
   "metadata": {},
   "outputs": [
    {
     "name": "stdout",
     "output_type": "stream",
     "text": [
      "Applying MIP-based local search to improve the MIP warm start (hop parameter: 3)...\n",
      "iter \t\t obj \t\t time\n",
      "1 \t 3.86604932 \t 3602.91\n",
      "2 \t 3.84412422 \t 3602.22\n",
      "3 \t 3.82248305 \t 3603.13\n",
      "4 \t 3.77843980 \t 3603.35\n",
      "5 \t 3.77770504 \t 3603.49\n",
      "6 \t 3.76351197 \t 3602.47\n",
      "7 \t 3.73962458 \t 3602.25\n",
      "8 \t 3.73696769 \t 2166.99\n",
      "9 \t 3.73632913 \t 3602.86\n",
      "10 \t 3.73632913 \t 3601.08\n",
      "\n",
      "District Black percentages:\n",
      "0 15.44 \n",
      "1 50.0 ***\n",
      "2 23.95 \n",
      "3 8.34 \n",
      "4 16.01 \n",
      "5 15.77 \n",
      "6 51.54 ***\n",
      "-> 2 majority-Black districts\n",
      "\n",
      "Counties split (by fips code): ['01117', '01097', '01083', '01073', '01113']\n",
      "County splits (by fips code): {'01117': 1, '01097': 1, '01083': 1, '01073': 2, '01113': 1}\n",
      "-> 5 counties split a total of 6 times\n",
      "\n",
      "District Polsby-Popper scores:\n",
      "0 0.1566\n",
      "1 0.1688\n",
      "2 0.319\n",
      "3 0.5455\n",
      "4 0.4827\n",
      "5 0.2653\n",
      "6 0.3298\n",
      "-> average Polsby-Popper score of 0.3239\n",
      "Exporting to csv...\n"
     ]
    }
   ],
   "source": [
    "districts = mip_local_search(G, districts, h=3, minority=minority, time_limit=3600)\n",
    "report_metrics(G, districts, minority, verbose=True)\n",
    "\n",
    "labeling = { i : j for j in range(len(districts)) for i in districts[j] }\n",
    "csv_filename = \"PlanD3.csv\"\n",
    "export_to_csv(G, labeling, csv_filename=csv_filename)"
   ]
  },
  {
   "cell_type": "code",
   "execution_count": 10,
   "metadata": {},
   "outputs": [
    {
     "name": "stdout",
     "output_type": "stream",
     "text": [
      "Applying MIP-based local search to improve the MIP warm start (hop parameter: 4)...\n",
      "iter \t\t obj \t\t time\n",
      "1 \t 3.71233952 \t 3601.18\n",
      "2 \t 3.69160737 \t 3601.11\n",
      "3 \t 3.67334938 \t 3603.13\n",
      "4 \t 3.65954206 \t 3601.39\n",
      "5 \t 3.64943832 \t 3601.98\n",
      "6 \t 3.64943832 \t 3603.06\n",
      "\n",
      "District Black percentages:\n",
      "0 15.43 \n",
      "1 50.0 ***\n",
      "2 23.96 \n",
      "3 8.21 \n",
      "4 16.14 \n",
      "5 15.77 \n",
      "6 51.54 ***\n",
      "-> 2 majority-Black districts\n",
      "\n",
      "Counties split (by fips code): ['01117', '01097', '01083', '01073', '01113']\n",
      "County splits (by fips code): {'01117': 1, '01097': 1, '01083': 1, '01073': 2, '01113': 1}\n",
      "-> 5 counties split a total of 6 times\n",
      "\n",
      "District Polsby-Popper scores:\n",
      "0 0.165\n",
      "1 0.1735\n",
      "2 0.3211\n",
      "3 0.5505\n",
      "4 0.4941\n",
      "5 0.267\n",
      "6 0.3306\n",
      "-> average Polsby-Popper score of 0.3288\n",
      "Exporting to csv...\n"
     ]
    }
   ],
   "source": [
    "districts = mip_local_search(G, districts, h=4, minority=minority, time_limit=3600)\n",
    "report_metrics(G, districts, minority, verbose=True)\n",
    "\n",
    "labeling = { i : j for j in range(len(districts)) for i in districts[j] }\n",
    "csv_filename = \"PlanD4.csv\"\n",
    "export_to_csv(G, labeling, csv_filename=csv_filename)"
   ]
  },
  {
   "cell_type": "code",
   "execution_count": null,
   "metadata": {},
   "outputs": [],
   "source": []
  }
 ],
 "metadata": {
  "kernelspec": {
   "display_name": "Python 3 (ipykernel)",
   "language": "python",
   "name": "python3"
  },
  "language_info": {
   "codemirror_mode": {
    "name": "ipython",
    "version": 3
   },
   "file_extension": ".py",
   "mimetype": "text/x-python",
   "name": "python",
   "nbconvert_exporter": "python",
   "pygments_lexer": "ipython3",
   "version": "3.11.7"
  }
 },
 "nbformat": 4,
 "nbformat_minor": 4
}
