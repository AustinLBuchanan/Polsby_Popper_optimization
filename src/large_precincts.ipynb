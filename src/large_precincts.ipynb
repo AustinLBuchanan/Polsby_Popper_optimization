{
 "cells": [
  {
   "cell_type": "code",
   "execution_count": 1,
   "metadata": {},
   "outputs": [],
   "source": [
    "# primary settings\n",
    "states = ['LA','MS','AL','GA']\n",
    "district_types = ['SS','SH']\n",
    "levels = ['vtd','tract','blockgroup']\n",
    "deviation = 0.10  # 0.10 means 10% means +/-5%"
   ]
  },
  {
   "cell_type": "code",
   "execution_count": 2,
   "metadata": {},
   "outputs": [
    {
     "name": "stdout",
     "output_type": "stream",
     "text": [
      "state district_type level nodes maxpop percent_of_ideal\n",
      "LA SS vtd 3540 6622 5.54 \n",
      "LA SS tract 1388 13008 10.89 \n",
      "LA SS blockgroup 4294 6719 5.63 \n",
      "\n",
      "LA SH vtd 3540 6622 14.93 \n",
      "LA SH tract 1388 13008 29.32 \n",
      "LA SH blockgroup 4294 6719 15.15 \n",
      "\n",
      "MS SS vtd 1834 14258 25.04 \n",
      "MS SS tract 878 10178 17.87 \n",
      "MS SS blockgroup 2445 5617 9.86 \n",
      "\n",
      "MS SH vtd 1834 14258 58.74 ***\n",
      "MS SH tract 878 10178 41.93 \n",
      "MS SH blockgroup 2445 5617 23.14 \n",
      "\n",
      "AL SS vtd 1837 28753 20.03 \n",
      "AL SS tract 1437 11650 8.12 \n",
      "AL SS blockgroup 3925 5534 3.86 \n",
      "\n",
      "AL SH vtd 1837 28753 60.09 ***\n",
      "AL SH tract 1437 11650 24.35 \n",
      "AL SH blockgroup 3925 5534 11.57 \n",
      "\n",
      "GA SS vtd 2698 45590 23.83 \n",
      "GA SS tract 2796 12356 6.46 \n",
      "GA SS blockgroup 7446 6305 3.3 \n",
      "\n",
      "GA SH vtd 2698 45590 76.61 ***\n",
      "GA SH tract 2796 12356 20.76 \n",
      "GA SH blockgroup 7446 6305 10.59 \n",
      "\n"
     ]
    }
   ],
   "source": [
    "filepath = 'C:\\\\districting-data-2020\\\\'\n",
    "\n",
    "from number_of_districts import number_of_districts\n",
    "from read import read_graph_from_json\n",
    "\n",
    "print(\"state district_type level nodes maxpop percent_of_ideal\")\n",
    "for state in states:\n",
    "    for district_type in district_types:\n",
    "        for level in levels:\n",
    "            filename = state + '_' + level + '.json'\n",
    "            G = read_graph_from_json( filepath + filename )\n",
    "            k = number_of_districts[state, district_type]\n",
    "            ideal_population = sum( G.nodes[i]['P0010001'] for i in G.nodes ) / k\n",
    "            maxpop = max( G.nodes[i]['P0010001'] for i in G.nodes )\n",
    "            flag = '***' if 2*maxpop > ideal_population else ''\n",
    "            print(state,district_type,level,G.number_of_nodes(),maxpop,round(100*maxpop/ideal_population,2),flag)\n",
    "        print(\"\")"
   ]
  },
  {
   "cell_type": "code",
   "execution_count": 3,
   "metadata": {},
   "outputs": [
    {
     "name": "stdout",
     "output_type": "stream",
     "text": [
      "state district_type level nodes maxpop percent_of_ideal\n",
      "LA SS vtd 3540 6622 5.54 \n",
      "LA SH blockgroup 4294 6719 15.15 \n",
      "MS SS vtd 1834 14258 25.04 \n",
      "MS SH blockgroup 2445 5617 23.14 \n",
      "AL SS vtd 1837 28753 20.03 \n",
      "AL SH blockgroup 3925 5534 11.57 \n",
      "GA SS vtd 2698 45590 23.83 \n",
      "GA SH blockgroup 7446 6305 10.59 \n"
     ]
    }
   ],
   "source": [
    "print(\"state district_type level nodes maxpop percent_of_ideal\")\n",
    "for state in states:\n",
    "    for district_type in district_types:\n",
    "        level = 'vtd' if district_type == 'SS' else 'blockgroup'\n",
    "        filename = state + '_' + level + '.json'\n",
    "        G = read_graph_from_json( filepath + filename )\n",
    "        k = number_of_districts[state, district_type]\n",
    "        ideal_population = sum( G.nodes[i]['P0010001'] for i in G.nodes ) / k\n",
    "        maxpop = max( G.nodes[i]['P0010001'] for i in G.nodes )\n",
    "        flag = '***' if 2*maxpop > ideal_population else ''\n",
    "        print(state,district_type,level,G.number_of_nodes(),maxpop,round(100*maxpop/ideal_population,2),flag)"
   ]
  },
  {
   "cell_type": "code",
   "execution_count": null,
   "metadata": {},
   "outputs": [],
   "source": []
  }
 ],
 "metadata": {
  "kernelspec": {
   "display_name": "Python 3 (ipykernel)",
   "language": "python",
   "name": "python3"
  },
  "language_info": {
   "codemirror_mode": {
    "name": "ipython",
    "version": 3
   },
   "file_extension": ".py",
   "mimetype": "text/x-python",
   "name": "python",
   "nbconvert_exporter": "python",
   "pygments_lexer": "ipython3",
   "version": "3.11.7"
  }
 },
 "nbformat": 4,
 "nbformat_minor": 4
}
