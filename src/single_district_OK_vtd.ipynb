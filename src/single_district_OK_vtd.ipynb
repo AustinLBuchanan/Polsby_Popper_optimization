{
 "cells": [
  {
   "cell_type": "code",
   "execution_count": 1,
   "metadata": {},
   "outputs": [],
   "source": [
    "# primary settings\n",
    "state = 'OK'\n",
    "district_type = 'CD'\n",
    "level = 'vtd'\n",
    "deviation = 0.01  # 0.10 means 10% means +/-5%"
   ]
  },
  {
   "cell_type": "code",
   "execution_count": 2,
   "metadata": {},
   "outputs": [
    {
     "name": "stdout",
     "output_type": "stream",
     "text": [
      "number of nodes, edges: 1947 5325\n"
     ]
    }
   ],
   "source": [
    "filepath = 'C:\\\\districting-data-2020\\\\'\n",
    "filename = state + '_' + level + '.json'\n",
    "\n",
    "from read import read_graph_from_json\n",
    "G = read_graph_from_json( filepath + filename )\n",
    "\n",
    "# total population\n",
    "for i in G.nodes:\n",
    "    G.nodes[i]['TOTPOP'] = G.nodes[i]['P0010001'] \n",
    "    \n",
    "print(\"number of nodes, edges:\",G.number_of_nodes(),G.number_of_edges())"
   ]
  },
  {
   "cell_type": "code",
   "execution_count": 3,
   "metadata": {},
   "outputs": [
    {
     "name": "stdout",
     "output_type": "stream",
     "text": [
      "Using k, L, U = 5 787912 795829\n"
     ]
    }
   ],
   "source": [
    "from number_of_districts import number_of_districts\n",
    "\n",
    "k = number_of_districts[state, district_type]\n",
    "ideal_population = sum( G.nodes[i]['TOTPOP'] for i in G.nodes ) / k\n",
    "\n",
    "import math\n",
    "L = math.ceil(  ideal_population * (1-deviation/2) )\n",
    "U = math.floor( ideal_population * (1+deviation/2) )\n",
    "\n",
    "print(\"Using k, L, U =\",k,L,U)"
   ]
  },
  {
   "cell_type": "code",
   "execution_count": 4,
   "metadata": {},
   "outputs": [],
   "source": [
    "# bidirected version of graph G\n",
    "import networkx as nx\n",
    "DG = nx.DiGraph(G)\n",
    "DG._L = L\n",
    "DG._U = U"
   ]
  },
  {
   "cell_type": "code",
   "execution_count": 5,
   "metadata": {},
   "outputs": [
    {
     "name": "stdout",
     "output_type": "stream",
     "text": [
      "Set parameter Username\n",
      "\n",
      "--------------------------------------------\n",
      "Warning: your license will expire in 11 days\n",
      "--------------------------------------------\n",
      "\n",
      "Academic license - for non-commercial use only - expires 2024-05-11\n",
      "Set parameter MIPGap to value 0\n",
      "Set parameter FeasibilityTol to value 1e-07\n",
      "Set parameter IntFeasTol to value 1e-07\n"
     ]
    }
   ],
   "source": [
    "# build optimization model to minimize inverse PP score\n",
    "from district import build_single_district_mip \n",
    "\n",
    "m = build_single_district_mip(DG)"
   ]
  },
  {
   "cell_type": "code",
   "execution_count": 6,
   "metadata": {},
   "outputs": [
    {
     "name": "stdout",
     "output_type": "stream",
     "text": [
      "Gurobi Optimizer version 10.0.1 build v10.0.1rc0 (win64)\n",
      "\n",
      "CPU model: Intel(R) Core(TM) i7-4790 CPU @ 3.60GHz, instruction set [SSE2|AVX|AVX2]\n",
      "Thread count: 4 physical cores, 8 logical processors, using up to 8 threads\n",
      "\n",
      "Optimize a model with 10654 rows, 12600 columns and 48556 nonzeros\n",
      "Model fingerprint: 0x470cc8ca\n",
      "Model has 1 quadratic constraint\n",
      "Variable types: 3 continuous, 12597 integer (12597 binary)\n",
      "Coefficient statistics:\n",
      "  Matrix range     [4e-08, 1e+04]\n",
      "  QMatrix range    [1e+00, 1e+01]\n",
      "  Objective range  [1e+00, 1e+00]\n",
      "  Bounds range     [1e+00, 1e+00]\n",
      "  RHS range        [8e+05, 8e+05]\n",
      "Presolve time: 0.09s\n",
      "Presolved: 10654 rows, 12600 columns, 48556 nonzeros\n",
      "Presolved model has 1 quadratic constraint(s)\n",
      "Variable types: 3 continuous, 12597 integer (12597 binary)\n",
      "\n",
      "Root relaxation: objective 0.000000e+00, 1926 iterations, 0.04 seconds (0.02 work units)\n",
      "\n",
      "    Nodes    |    Current Node    |     Objective Bounds      |     Work\n",
      " Expl Unexpl |  Obj  Depth IntInf | Incumbent    BestBd   Gap | It/Node Time\n",
      "\n",
      "H    0     0                     261.5227091    0.00000   100%     -    0s\n",
      "*    0     0               0     261.5227091    0.00000   100%     -    0s\n",
      "     0     0    0.00000    0 1840  261.52271    0.00000   100%     -    4s\n",
      "H    0     0                      13.4956677    0.00000   100%     -    4s\n",
      "H    0     0                       9.0226793    0.00000   100%     -    6s\n",
      "     0     0    0.30839    0 1951    9.02268    0.30839  96.6%     -   18s\n",
      "H    0     0                       6.4681589    0.30839  95.2%     -   18s\n",
      "     0     0    0.31122    0 1951    6.46816    0.31122  95.2%     -   20s\n",
      "H    0     0                       6.2479684    0.31122  95.0%     -   22s\n",
      "H    0     0                       5.7905746    0.31122  94.6%     -   22s\n",
      "     0     0    0.31320    0 1951    5.79057    0.31320  94.6%     -   22s\n",
      "     0     0    0.31437    0 1951    5.79057    0.31437  94.6%     -   23s\n",
      "     0     0    0.31764    0 1951    5.79057    0.31764  94.5%     -   24s\n",
      "     0     0    0.33190    0 1951    5.79057    0.33190  94.3%     -   25s\n",
      "     0     0    0.33190    0 1951    5.79057    0.33190  94.3%     -   26s\n",
      "     0     0    0.33385    0 1951    5.79057    0.33385  94.2%     -   26s\n",
      "     0     0    0.33434    0 1951    5.79057    0.33434  94.2%     -   27s\n",
      "     0     2    0.33434    0 1951    5.79057    0.33434  94.2%     -   31s\n",
      "     7    12    0.36426    3 1933    5.79057    0.34148  94.1%   786   36s\n",
      "    15    20    0.40569    4 1942    5.79057    0.36545  93.7%  1495   41s\n",
      "    32    39    0.43993    8 1692    5.79057    0.40607  93.0%  1081   45s\n",
      "    60    65    0.73251   13 1276    5.79057    0.40607  93.0%   790   52s\n",
      "H   61    65                       5.2929775    0.40607  92.3%   777   52s\n",
      "    64    70    0.48064   14 1575    5.29298    0.40607  92.3%   813   57s\n",
      "    69    78    0.50348   15 1458    5.29298    0.40607  92.3%   891   61s\n",
      "    77    83    0.69912   16 1197    5.29298    0.40607  92.3%   896   65s\n",
      "H   90   100                       5.2807610    0.40607  92.3%   915   69s\n",
      "    99   110    0.58622   20 1154    5.28076    0.40607  92.3%   882   72s\n",
      "   121   132    0.67827   22  324    5.28076    0.40607  92.3%   848   75s\n",
      "H  124   132                       1.6032125    0.40607  74.7%   831   75s\n",
      "H  153   156                       1.5145222    0.40607  73.2%   735   79s\n",
      "   173   160    0.75485   34 1649    1.51452    0.40607  73.2%   691   81s\n",
      "   195   176    0.77697   37  724    1.51452    0.40607  73.2%   649   85s\n",
      "   209   194    0.79911   39 1554    1.51452    0.40607  73.2%   644   90s\n",
      "   239   219    1.21336   43  651    1.51452    0.40607  73.2%   629   97s\n",
      "   258   240    0.86281   47  620    1.51452    0.40607  73.2%   621  100s\n",
      "   290   261    0.90759   55  774    1.51452    0.40607  73.2%   584  105s\n",
      "   340   305    1.11483   64  656    1.51452    0.40607  73.2%   530  111s\n",
      "   379   340    1.04761   73 1472    1.51452    0.40607  73.2%   510  116s\n",
      "   432   376    1.28642   78  702    1.51452    0.40607  73.2%   480  122s\n",
      "   466   393     cutoff   90         1.51452    0.40607  73.2%   458  125s\n",
      "   508   394    1.14772   55 1951    1.51452    0.40607  73.2%   437  133s\n",
      "   510   395    1.29566   26 1951    1.51452    0.40607  73.2%   435  145s\n",
      "   513   400    0.40607   10 1798    1.51452    0.40607  73.2%   469  150s\n",
      "   527   412    0.40607   13 1565    1.51452    0.40607  73.2%   480  156s\n",
      "   544   423    0.41808   15 1487    1.51452    0.40607  73.2%   496  160s\n",
      "   552   428    0.46384   16 1394    1.51452    0.42033  72.2%   505  165s\n",
      "   565   436    0.76258   17 1352    1.51452    0.49684  67.2%   524  170s\n",
      "   585   440    0.89190   19 1948    1.51452    0.55093  63.6%   537  176s\n",
      "   600   450    0.59803   22 1520    1.51452    0.55141  63.6%   542  180s\n",
      "   622   458    0.68651   25 1085    1.51452    0.55141  63.6%   547  186s\n",
      "   641   462    0.70534   27 1870    1.51452    0.55141  63.6%   546  190s\n",
      "   664   471    1.41842   29 2067    1.51452    0.55141  63.6%   542  195s\n",
      "   685   476    1.14570   31 1917    1.51452    0.55141  63.6%   539  200s\n",
      "   716   494    0.75151   35 1911    1.51452    0.55141  63.6%   534  205s\n",
      "   748   515    0.78135   39  690    1.51452    0.55141  63.6%   528  212s\n",
      "   796   536    0.83551   42 2132    1.51452    0.55141  63.6%   514  217s\n",
      "   823   555    1.00542   45 1782    1.51452    0.55141  63.6%   504  220s\n",
      "   879   582    0.89890   50 1966    1.51452    0.55141  63.6%   486  226s\n",
      "   944   635    0.93544   56 1771    1.51452    0.55141  63.6%   466  230s\n",
      "  1056   715    1.19542   61  700    1.51452    0.55141  63.6%   429  236s\n",
      "  1127   763    1.15532   64  682    1.51452    0.55141  63.6%   407  240s\n",
      "  1285   867    1.11271   71  999    1.51452    0.55141  63.6%   368  245s\n",
      "  1472   958    1.23502   80 1113    1.51452    0.55141  63.6%   330  251s\n",
      "  1634  1091    1.35994   89   62    1.51452    0.55141  63.6%   309  257s\n",
      "  1741  1171    1.38226   96  804    1.51452    0.55141  63.6%   296  260s\n",
      "  1933  1362    0.65739   14 1734    1.51452    0.58466  61.4%   275  267s\n",
      "  2054  1478    0.80729   16 1975    1.51452    0.58466  61.4%   263  270s\n",
      "  2343  1754    1.03412   23 1777    1.51452    0.58466  61.4%   237  277s\n",
      "  2486  1765    1.35282   29 1951    1.51452    0.58466  61.4%   228  281s\n",
      "  2524  1779    0.98059   16 1635    1.51452    0.64191  57.6%   232  288s\n",
      "  2548  1787    1.21463   20 1719    1.51452    0.64191  57.6%   234  291s\n",
      "  2564  1792    1.41691   23 1999    1.51452    0.68844  54.5%   236  295s\n",
      "  2600  1819    1.27875   19 1955    1.51452    0.68844  54.5%   241  302s\n",
      "  2618  1822    1.36048   21 1842    1.51452    0.68844  54.5%   243  306s\n",
      "  2643  1833     cutoff   23         1.51452    0.73719  51.3%   245  310s\n",
      "  2688  1869    1.14930   39 1878    1.51452    0.73719  51.3%   248  316s\n",
      "  2716  1884    1.19590   46 1885    1.51452    0.73719  51.3%   250  320s\n",
      "  2761  1910    1.39188   62 1882    1.51452    0.74855  50.6%   253  326s\n",
      "  2789  1917    1.11181   18 1951    1.51452    0.74855  50.6%   255  330s\n",
      "  2838  1934     cutoff   25         1.51452    0.76310  49.6%   259  336s\n",
      "  2871  1942    1.30122   18  812    1.51452    0.76310  49.6%   261  340s\n",
      "H 2910   452                       1.4302005    0.76310  46.6%   264  343s\n",
      "* 2910   452              89       1.4302005    0.76310  46.6%   264  343s\n",
      "  2955   458     cutoff   17         1.43020    0.80911  43.4%   264  348s\n",
      "H 2961   458                       1.4302005    0.81762  42.8%   265  348s\n",
      "  2975   470    1.21478   20 1891    1.43020    0.82823  42.1%   267  351s\n",
      "  3001   478    1.20835   29  640    1.43020    0.82823  42.1%   268  355s\n",
      "  3033   483     cutoff   32         1.43020    0.83026  41.9%   270  360s\n",
      "  3093   493    1.14919   24 1233    1.43020    0.83628  41.5%   274  368s\n",
      "  3130   495    1.42694   26 2116    1.43020    0.84201  41.1%   275  373s\n",
      "  3160   497    1.30103   17 1839    1.43020    0.86722  39.4%   278  378s\n",
      "  3194   494    1.25895   22 1918    1.43020    0.88989  37.8%   281  383s\n",
      "  3222   509    1.34498   16 1962    1.43020    0.88989  37.8%   284  388s\n",
      "  3253   518     cutoff   18         1.43020    0.89190  37.6%   286  393s\n",
      "  3288   524    1.15596   32 1966    1.43020    0.89190  37.6%   288  397s\n"
     ]
    },
    {
     "name": "stdout",
     "output_type": "stream",
     "text": [
      "  3324   527     cutoff   41         1.43020    0.92084  35.6%   290  404s\n",
      "  3349   526    1.35795   25 2007    1.43020    0.92284  35.5%   294  409s\n",
      "  3380   516    1.42700   19 1622    1.43020    0.93678  34.5%   297  414s\n",
      "  3418   542     cutoff   23         1.43020    0.94719  33.8%   299  420s\n",
      "  3478   553    1.39692   65 1827    1.43020    0.95167  33.5%   299  425s\n",
      "  3519   554     cutoff   28         1.43020    0.96250  32.7%   301  431s\n",
      "  3562   556     cutoff   18         1.43020    0.96451  32.6%   304  437s\n",
      "  3616   555    1.37092   21 1606    1.43020    0.98221  31.3%   306  443s\n",
      "  3681   548     cutoff   16         1.43020    0.99110  30.7%   306  450s\n",
      "  3729   557    1.16103   31  817    1.43020    1.00173  30.0%   309  456s\n",
      "  3782   558    1.41972   19 1924    1.43020    1.00867  29.5%   311  462s\n",
      "H 3824   494                       1.3615658    1.02232  24.9%   313  462s\n",
      "  3837   471     cutoff   19         1.36157    1.02589  24.7%   313  468s\n",
      "  3898   456     cutoff   19         1.36157    1.04262  23.4%   316  476s\n",
      "  3961   433    1.31459   37  554    1.36157    1.05982  22.2%   317  483s\n",
      "  4046   403     cutoff   25         1.36157    1.08474  20.3%   318  492s\n",
      "  4120   370     cutoff   25         1.36157    1.10442  18.9%   319  499s\n",
      "  4217   315    1.29849   36 2023    1.36157    1.13487  16.6%   319  508s\n",
      "  4320   283    1.28254   22 1305    1.36157    1.15747  15.0%   319  517s\n",
      "H 4350   262                       1.3431761    1.15747  13.8%   318  517s\n",
      "* 4350   262              73       1.3431761    1.15747  13.8%   318  517s\n",
      "  4493   121     cutoff   50         1.34318    1.19237  11.2%   314  526s\n",
      "\n",
      "Explored 4834 nodes (1479358 simplex iterations) in 529.82 seconds (318.47 work units)\n",
      "Thread count was 8 (of 8 available processors)\n",
      "\n",
      "Solution count 10: 1.34318 1.36157 1.4302 ... 6.46816\n",
      "\n",
      "Optimal solution found (tolerance 0.00e+00)\n",
      "Best objective 1.343176125536e+00, best bound 1.343176125536e+00, gap 0.0000%\n"
     ]
    }
   ],
   "source": [
    "# solve the MISOCP\n",
    "m.optimize(m._callback)"
   ]
  },
  {
   "cell_type": "code",
   "execution_count": 7,
   "metadata": {},
   "outputs": [
    {
     "name": "stdout",
     "output_type": "stream",
     "text": [
      "The inverse Polsby-Popper score is 1.343176125535633\n",
      "The Polsby-Popper score is 0.7445040013655835\n",
      "\n",
      "District has this many nodes: 256\n",
      "And a population of: 791008\n",
      "Is it connected? True\n"
     ]
    }
   ],
   "source": [
    "print(\"The inverse Polsby-Popper score is\",m.objval)\n",
    "print(\"The Polsby-Popper score is\",1.0/m.objval)\n",
    "\n",
    "# retrieve the district and its population\n",
    "district = [ i for i in G.nodes if m._x[i].x > 0.5 ] \n",
    "population = sum( G.nodes[i][\"TOTPOP\"] for i in district )\n",
    "\n",
    "print(\"\\nDistrict has this many nodes:\",len(district))\n",
    "print(\"And a population of:\",population)\n",
    "print(\"Is it connected?\",nx.is_connected(G.subgraph(district)))"
   ]
  },
  {
   "cell_type": "code",
   "execution_count": 8,
   "metadata": {},
   "outputs": [],
   "source": [
    "# Let's draw the district on a map\n",
    "from export import draw_single_district\n",
    "G._state = state\n",
    "G._level = level"
   ]
  },
  {
   "cell_type": "code",
   "execution_count": 9,
   "metadata": {},
   "outputs": [
    {
     "name": "stdout",
     "output_type": "stream",
     "text": [
      "Exporting to png...\n"
     ]
    },
    {
     "data": {
      "image/png": "[encoded data removed]",
      "text/plain": [
       "<Figure size 432x288 with 1 Axes>"
      ]
     },
     "metadata": {
      "needs_background": "light"
     },
     "output_type": "display_data"
    }
   ],
   "source": [
    "# State-wide view\n",
    "draw_single_district( G, district, zoom=False )"
   ]
  },
  {
   "cell_type": "code",
   "execution_count": 10,
   "metadata": {},
   "outputs": [
    {
     "name": "stdout",
     "output_type": "stream",
     "text": [
      "Exporting to png...\n"
     ]
    },
    {
     "data": {
      "image/png": "[encoded data removed]",
      "text/plain": [
       "<Figure size 432x288 with 1 Axes>"
      ]
     },
     "metadata": {
      "needs_background": "light"
     },
     "output_type": "display_data"
    }
   ],
   "source": [
    "# District-only view\n",
    "draw_single_district( G, district, zoom=True )"
   ]
  },
  {
   "cell_type": "code",
   "execution_count": 11,
   "metadata": {},
   "outputs": [
    {
     "data": {
      "text/plain": [
       "True"
      ]
     },
     "execution_count": 11,
     "metadata": {},
     "output_type": "execute_result"
    }
   ],
   "source": [
    "complement = [ i for i in G.nodes if i not in district ]\n",
    "nx.is_connected(G.subgraph(complement))"
   ]
  },
  {
   "cell_type": "code",
   "execution_count": null,
   "metadata": {},
   "outputs": [],
   "source": []
  }
 ],
 "metadata": {
  "kernelspec": {
   "display_name": "Python 3",
   "language": "python",
   "name": "python3"
  },
  "language_info": {
   "codemirror_mode": {
    "name": "ipython",
    "version": 3
   },
   "file_extension": ".py",
   "mimetype": "text/x-python",
   "name": "python",
   "nbconvert_exporter": "python",
   "pygments_lexer": "ipython3",
   "version": "3.7.10"
  }
 },
 "nbformat": 4,
 "nbformat_minor": 4
}
