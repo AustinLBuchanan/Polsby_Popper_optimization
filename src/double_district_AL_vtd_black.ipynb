{
 "cells": [
  {
   "cell_type": "code",
   "execution_count": 1,
   "metadata": {},
   "outputs": [],
   "source": [
    "# primary settings\n",
    "state = 'AL'\n",
    "district_type = 'CD'\n",
    "level = 'vtd'\n",
    "deviation = 0.01  # 0.10 means 10% means +/-5%\n",
    "minority = 'Black'"
   ]
  },
  {
   "cell_type": "code",
   "execution_count": 2,
   "metadata": {},
   "outputs": [
    {
     "name": "stdout",
     "output_type": "stream",
     "text": [
      "number of nodes, edges: 1837 5221\n"
     ]
    }
   ],
   "source": [
    "filepath = 'C:\\\\districting-data-2020\\\\'\n",
    "filename = state + '_' + level + '.json'\n",
    "\n",
    "from read import read_graph_from_json\n",
    "G = read_graph_from_json( filepath + filename )\n",
    "\n",
    "# total population\n",
    "for i in G.nodes:\n",
    "    G.nodes[i]['TOTPOP'] = G.nodes[i]['P0010001'] \n",
    "    \n",
    "print(\"number of nodes, edges:\",G.number_of_nodes(),G.number_of_edges())"
   ]
  },
  {
   "cell_type": "code",
   "execution_count": 3,
   "metadata": {},
   "outputs": [
    {
     "name": "stdout",
     "output_type": "stream",
     "text": [
      "Using k, L, U = 7 714166 721342\n"
     ]
    }
   ],
   "source": [
    "from number_of_districts import number_of_districts\n",
    "\n",
    "k = number_of_districts[state, district_type]\n",
    "ideal_population = sum( G.nodes[i]['TOTPOP'] for i in G.nodes ) / k\n",
    "\n",
    "import math\n",
    "L = math.ceil(  ideal_population * (1-deviation/2) )\n",
    "U = math.floor( ideal_population * (1+deviation/2) )\n",
    "\n",
    "print(\"Using k, L, U =\",k,L,U)"
   ]
  },
  {
   "cell_type": "code",
   "execution_count": 4,
   "metadata": {},
   "outputs": [],
   "source": [
    "# bidirected version of graph G\n",
    "import networkx as nx\n",
    "DG = nx.DiGraph(G)\n",
    "DG._L = 2 * L\n",
    "DG._U = 2 * U"
   ]
  },
  {
   "cell_type": "code",
   "execution_count": 5,
   "metadata": {},
   "outputs": [
    {
     "name": "stdout",
     "output_type": "stream",
     "text": [
      "Set parameter Username\n",
      "\n",
      "--------------------------------------------\n",
      "Warning: your license will expire in 11 days\n",
      "--------------------------------------------\n",
      "\n",
      "Academic license - for non-commercial use only - expires 2024-05-11\n",
      "Set parameter LazyConstraints to value 1\n",
      "Set parameter MIPGap to value 0\n",
      "Set parameter FeasibilityTol to value 1e-07\n",
      "Set parameter IntFeasTol to value 1e-07\n"
     ]
    }
   ],
   "source": [
    "# build optimization model to minimize inverse PP score\n",
    "from district import build_single_district_mip \n",
    "\n",
    "m = build_single_district_mip(DG, minority=minority, contiguity='cut', split_counties_limit=2, complement_contiguity='cut')"
   ]
  },
  {
   "cell_type": "code",
   "execution_count": 6,
   "metadata": {},
   "outputs": [
    {
     "name": "stdout",
     "output_type": "stream",
     "text": [
      "Gurobi Optimizer version 10.0.1 build v10.0.1rc0 (win64)\n",
      "\n",
      "CPU model: Intel(R) Core(TM) i7-4790 CPU @ 3.60GHz, instruction set [SSE2|AVX|AVX2]\n",
      "Thread count: 4 physical cores, 8 logical processors, using up to 8 threads\n",
      "\n",
      "Optimize a model with 14192 rows, 12486 columns and 58701 nonzeros\n",
      "Model fingerprint: 0x59c8b9ae\n",
      "Model has 1 quadratic constraint\n",
      "Variable types: 6 continuous, 12480 integer (12480 binary)\n",
      "Coefficient statistics:\n",
      "  Matrix range     [3e-05, 3e+04]\n",
      "  QMatrix range    [1e+00, 1e+01]\n",
      "  Objective range  [1e-03, 1e+00]\n",
      "  Bounds range     [1e+00, 1e+00]\n",
      "  RHS range        [2e+00, 1e+06]\n",
      "Presolve removed 2 rows and 1 columns\n",
      "Presolve time: 0.10s\n",
      "Presolved: 14190 rows, 12485 columns, 58696 nonzeros\n",
      "Presolved model has 1 quadratic constraint(s)\n",
      "Variable types: 3 continuous, 12482 integer (12480 binary)\n",
      "\n",
      "Root relaxation: objective 0.000000e+00, 6241 iterations, 0.25 seconds (0.36 work units)\n",
      "\n",
      "    Nodes    |    Current Node    |     Objective Bounds      |     Work\n",
      " Expl Unexpl |  Obj  Depth IntInf | Incumbent    BestBd   Gap | It/Node Time\n",
      "\n",
      "     0     0    0.00000    0   28          -    0.00000      -     -    0s\n",
      "     0     0    3.36544    0  970          -    3.36544      -     -    1s\n",
      "     0     0    3.37789    0  970          -    3.37789      -     -    2s\n",
      "     0     0    3.38458    0  986          -    3.38458      -     -    2s\n",
      "     0     0    3.38464    0  987          -    3.38464      -     -    3s\n",
      "     0     0    3.38466    0  987          -    3.38466      -     -    4s\n",
      "     0     0    3.38466    0  987          -    3.38466      -     -    4s\n",
      "     0     0    3.38466    0  987          -    3.38466      -     -    5s\n",
      "     0     0    3.38466    0  987          -    3.38466      -     -    5s\n",
      "     0     2    3.41792    0  993          -    3.41792      -     -    7s\n",
      "    50    56    4.03585    9  402          -    3.58707      -   515   10s\n",
      "   334   370    6.75632   52   81          -    3.58707      -   243   15s\n",
      "   809   777    3.81680   17  174          -    3.62467      -   188   20s\n",
      "   917   841    6.95008  152 1011          -    3.62467      -   205   25s\n",
      "   924   846    6.73377  162 1072          -    3.62467      -   204   30s\n",
      "   931   850    3.79454   85 1060          -    3.62467      -   202   35s\n",
      "   938   855    3.83648    7 1063          -    3.62467      -   201   40s\n",
      "   943   858    4.14514   78 1048          -    3.62467      -   200   45s\n",
      "   949   862    3.82360   14 1054          -    3.62467      -   199   50s\n",
      "   955   866    7.10536  135 1058          -    3.62467      -   197   55s\n",
      "   971   882    4.06617   13   83          -    3.68478      -   216   60s\n",
      "  1089   964    4.10484   25  437          -    3.75984      -   242   65s\n",
      "  1231  1071    4.10844   37  243          -    3.75984      -   275   70s\n",
      "  1498  1214    4.11004   57   63          -    3.75984      -   307   75s\n",
      "  1769  1320    4.12548   80  236          -    3.75984      -   327   80s\n",
      "  1947  1415    4.12610  100  155          -    3.75984      -   342   85s\n",
      "  2179  1595    4.12815  136   14          -    3.75984      -   364   90s\n",
      "  2511  1798    5.39799  172   54          -    3.75984      -   368   95s\n",
      "  2922  2043    6.66771  227   67          -    3.75984      -   358  102s\n",
      "  3197  2115    3.89691   40   52          -    3.75984      -   349  105s\n",
      "  3669  2830    3.97576  111   43          -    3.75984      -   332  112s\n",
      "  4392  3231    4.02986  315    7          -    3.75984      -   295  115s\n",
      "  4812  3682    4.04754   16  778          -    3.78052      -   286  120s\n",
      "  5327  4303    4.27644   72    9          -    3.78052      -   276  125s\n",
      "  6172  4843 infeasible  349               -    3.78489      -   255  130s\n",
      "  6616  5145    4.67756   45   64          -    3.78489      -   253  135s\n",
      "  7387  5736    4.47670   64   14          -    3.78775      -   249  142s\n",
      "  7740  6333    4.94568  103   10          -    3.78775      -   252  147s\n",
      "  8251  6585 infeasible  309               -    3.79482      -   246  150s\n",
      "  9042  7239    4.12338  159  215          -    3.79482      -   239  156s\n",
      "  9749  8207    4.02420   44   63          -    3.79766      -   237  162s\n",
      " 10390  8494    4.07456   92   35          -    3.79766      -   230  166s\n",
      " 10682  9211    4.08725  155   34          -    3.79776      -   229  171s\n",
      " 11429  9488    4.05268   31  506          -    3.79776      -   221  175s\n",
      " 11778  9604    4.06145   46   32          -    3.79776      -   220  183s\n",
      " 11890 10032    4.07280   68  146          -    3.79776      -   220  186s\n",
      " 12318 10845    4.08755  174   42          -    3.80182      -   217  191s\n",
      " 13519 11780    4.03905   65  215          -    3.80558      -   209  197s\n",
      " 14228 12008    4.05427  286    7          -    3.80685      -   204  201s\n",
      " 14783 12932    4.21934   81   49          -    3.80925      -   205  208s\n",
      " 15459 13248    3.95160   24  625          -    3.80925      -   200  212s\n",
      " 15851 13517    4.04192   56  427          -    3.80925      -   200  215s\n",
      " 16976 14632    4.00694   33   61          -    3.81054      -   195  223s\n",
      " 17406 15319    4.14613   89  158          -    3.81357      -   194  226s\n",
      " 18130 15658    4.03052   31   30          -    3.81357      -   189  230s\n",
      " 18790 16284    4.04768  194   64          -    3.81565      -   188  235s\n",
      " 19892 17190    4.26293   62  963          -    3.81565      -   185  242s\n",
      " 20227 17794    4.29171  156  143          -    3.81565      -   185  246s\n",
      " 21269 18674 infeasible  343               -    3.81960      -   182  252s\n",
      " 21877 18816    4.03626   50   37          -    3.82134      -   180  255s\n",
      " 22411 19864    4.10611   82  142          -    3.82134      -   180  261s\n",
      " 23494 20356    4.06981   58    8          -    3.82142      -   178  267s\n",
      " 24032 21146    3.95556   38   55          -    3.82269      -   179  272s\n",
      " 24570 21207    4.26276   99   53          -    3.82269      -   177  279s\n",
      " 24630 21599    4.38935  108   38          -    3.82269      -   178  282s\n",
      " 25032 22237    4.81525  186  142          -    3.82460      -   177  285s\n",
      " 26063 23101    4.36460  138    8          -    3.82466      -   175  291s\n",
      " 27134 24024    4.17864  123   57          -    3.82484      -   172  296s\n",
      " 28033 24812    4.25310   58   54          -    3.82561      -   170  302s\n",
      " 28529 25295    4.33911  143   28          -    3.82566      -   169  305s\n",
      " 29371 25943    3.99378   88   61          -    3.82589      -   168  310s\n",
      " 30481 26750    4.07751   35   31          -    3.82619      -   166  316s\n",
      " 31142 27433    4.13648  144   17          -    3.82624      -   166  322s\n",
      " 31504 28149    4.21140  116   43          -    3.82624      -   166  325s\n",
      " 32880 29090    4.26556  316   39          -    3.82717      -   162  331s\n",
      " 33600 30048    4.27414   98   11          -    3.82717      -   162  336s\n",
      " 34752 30531    4.11975   51 1107          -    3.82827      -   159  341s\n",
      " 35557 31344    4.11254   23  494          -    3.82880      -   158  346s\n",
      " 36194 31954    4.96600   69   22          -    3.82880      -   158  350s\n",
      " 37010 32738    3.97096   37   55          -    3.82906      -   157  356s\n",
      " 37905 33586    4.13011  111   10          -    3.82906      -   156  361s\n",
      " 38683 34293    4.04907   38   19          -    3.82959      -   156  367s\n",
      " 39307 34787    4.41177   95   63          -    3.82959      -   156  377s\n",
      " 39614 35272    4.33546  107   31          -    3.82999      -   155  380s\n",
      " 40617 36223    4.20875  168   38          -    3.83086      -   155  386s\n",
      " 41863 37075    4.08033   40   84          -    3.83096      -   153  391s\n",
      " 42532 37926    4.35994  127  116          -    3.83133      -   153  396s\n",
      " 43715 38742    4.37597  325   68          -    3.83245      -   151  401s\n",
      " 44262 39533    4.19815   54  110          -    3.83245      -   152  406s\n",
      " 45493 40259    4.24267  294   39          -    3.83372      -   150  412s\n",
      " 46273 41221    4.32646  252    8          -    3.83382      -   149  417s\n",
      " 46822 41570    4.37454   44  114          -    3.83382      -   149  420s\n",
      " 48063 42792    4.51671  289    7          -    3.83430      -   147  425s\n",
      " 48920 43524    4.71849  141   29          -    3.83434      -   146  431s\n",
      " 49540 44021    4.28875   73  329          -    3.83490      -   146  435s\n",
      " 50199 44727    4.36701   51   14          -    3.83493      -   146  440s\n"
     ]
    },
    {
     "name": "stdout",
     "output_type": "stream",
     "text": [
      " 51195 45652    4.39952  211   59          -    3.83545      -   145  445s\n",
      " 52652 46868    4.49339   52   77          -    3.83571      -   143  452s\n",
      " 53481 47841    4.68086  145   59          -    3.83640      -   142  457s\n",
      " 54408 48172    4.89271   66   22          -    3.83714      -   142  461s\n",
      " 54807 48625    4.11761   38   15          -    3.83784      -   142  466s\n",
      " 55419 49261    4.31138   72   51          -    3.83784      -   142  471s\n",
      " 56244 49889 infeasible  322               -    3.83796      -   142  475s\n",
      " 56912 50384    4.14702   24   70          -    3.83928      -   142  480s\n",
      "H57238 43482                       4.7966316    3.83928  20.0%   142  482s\n",
      "H57369 25842                       4.2256698    3.83928  9.14%   142  485s\n",
      "H57626 21707                       4.1789936    3.84312  8.04%   142  487s\n",
      "H57905 21791                       4.1789936    3.84674  7.95%   142  489s\n",
      " 58160 21830 infeasible   57         4.17899    3.84966  7.88%   142  492s\n",
      "H58161 20888                       4.1696709    3.84966  7.67%   142  492s\n",
      " 58543 20974    4.08995   27  159    4.16967    3.86099  7.40%   142  496s\n",
      "H58586 20771                       4.1682385    3.86119  7.37%   142  496s\n",
      "H58708 16515                       4.1310600    3.86712  6.39%   142  498s\n",
      " 58922 16505     cutoff  162         4.13106    3.87021  6.31%   142  500s\n",
      "H58928 16505                       4.1310600    3.87021  6.31%   143  500s\n",
      "H59171 13601                       4.1093521    3.88063  5.57%   143  503s\n",
      " 59175 13582    4.08789   37   70    4.10935    3.88082  5.56%   143  505s\n",
      " 59379 13505    4.01363   63   85    4.10935    3.88569  5.44%   144  510s\n",
      " 59486 13417     cutoff   47         4.10935    3.88793  5.39%   147  515s\n",
      " 59744 13321    4.08989   25   80    4.10935    3.89516  5.21%   149  521s\n",
      " 59997 13247     cutoff  146         4.10935    3.90441  4.99%   150  526s\n",
      " 60162 13127     cutoff  101         4.10935    3.90782  4.90%   153  531s\n",
      " 60305 13043    4.00892   25  122    4.10935    3.91497  4.73%   155  537s\n",
      " 60585 12941    4.06314   60  138    4.10935    3.91948  4.62%   156  542s\n",
      " 60790 12908     cutoff   32         4.10935    3.92362  4.52%   157  545s\n",
      " 61229 12888    4.03274   29  175    4.10935    3.93584  4.22%   159  551s\n",
      " 61760 12846    4.08879   27   94    4.10935    3.94776  3.93%   160  558s\n",
      " 62009 12797     cutoff  110         4.10935    3.95198  3.83%   160  561s\n",
      " 62311 12676    4.06961   27  161    4.10935    3.95865  3.67%   162  567s\n",
      " 62481 12596 infeasible   32         4.10935    3.96274  3.57%   163  570s\n",
      " 62789 12438     cutoff   57         4.10935    3.97018  3.39%   165  576s\n",
      " 63160 12374 infeasible   75         4.10935    3.97542  3.26%   167  582s\n",
      " 63303 12292     cutoff   68         4.10935    3.97611  3.24%   168  585s\n",
      " 63589 12125     cutoff   68         4.10935    3.97996  3.15%   170  591s\n",
      " 63774 12050    4.10877   30   77    4.10935    3.98320  3.07%   171  595s\n",
      " 64134 11860     cutoff   42         4.10935    3.98931  2.92%   173  602s\n",
      " 64264 11772     cutoff  166         4.10935    3.99026  2.90%   175  606s\n",
      " 64368 11684     cutoff  168         4.10935    3.99131  2.87%   176  611s\n",
      " 64547 11580     cutoff  226         4.10935    3.99291  2.83%   178  615s\n",
      " 64779 11434     cutoff  128         4.10935    3.99485  2.79%   181  622s\n",
      " 64966 11363     cutoff  146         4.10935    3.99590  2.76%   183  626s\n",
      " 65146 11268     cutoff   28         4.10935    3.99702  2.73%   184  630s\n",
      " 65406 11091 infeasible   31         4.10935    3.99996  2.66%   187  637s\n",
      " 65560 10995     cutoff  221         4.10935    4.00140  2.63%   188  641s\n",
      " 65766 10864     cutoff  257         4.10935    4.00398  2.56%   190  645s\n",
      " 66204 10644 infeasible  287         4.10935    4.00979  2.42%   192  653s\n",
      " 66380 10518     cutoff  200         4.10935    4.01365  2.33%   194  658s\n",
      " 66595 10464     cutoff   40         4.10935    4.01751  2.23%   195  662s\n",
      " 66860 10430 infeasible   51         4.10935    4.02010  2.17%   196  666s\n",
      " 67102 10309 infeasible  243         4.10935    4.02243  2.12%   197  671s\n",
      " 67240 10207     cutoff   34         4.10935    4.02406  2.08%   199  676s\n",
      " 67400 10133     cutoff   73         4.10935    4.02529  2.05%   200  681s\n",
      " 67700 10043    4.06405   31   27    4.10935    4.02638  2.02%   201  685s\n",
      " 68216  9920     cutoff  137         4.10935    4.03160  1.89%   204  694s\n",
      " 68601  9957     cutoff   45         4.10935    4.03306  1.86%   205  698s\n",
      " 69043 10221     cutoff   38         4.10935    4.03476  1.82%   206  704s\n",
      " 69829 10087    4.07642  123   74    4.10935    4.03635  1.78%   205  709s\n",
      " 70257  9965    4.08321   89   37    4.10935    4.03756  1.75%   206  714s\n",
      " 70540  9898     cutoff   33         4.10935    4.03841  1.73%   207  719s\n",
      " 70839  9788     cutoff  141         4.10935    4.03929  1.70%   209  725s\n",
      " 70999  9661     cutoff  153         4.10935    4.03981  1.69%   211  731s\n",
      " 71234  9531     cutoff  133         4.10935    4.04039  1.68%   213  736s\n",
      " 71506  9474     cutoff  134         4.10935    4.04126  1.66%   215  742s\n",
      " 71850  9349     cutoff  230         4.10935    4.04213  1.64%   217  747s\n",
      " 72089  9323    4.08349   47   15    4.10935    4.04309  1.61%   218  752s\n",
      " 72168  9240    4.09347   54   11    4.10935    4.04309  1.61%   219  757s\n",
      " 72504  9087     cutoff  159         4.10935    4.04448  1.58%   220  762s\n",
      " 72751  8958     cutoff   84         4.10935    4.04547  1.55%   222  768s\n",
      " 73038  8818 infeasible  168         4.10935    4.04649  1.53%   223  773s\n",
      " 73301  8705 infeasible  326         4.10935    4.04750  1.51%   225  779s\n",
      " 73598  8744     cutoff  142         4.10935    4.04856  1.48%   227  784s\n",
      " 74101  8558     cutoff   33         4.10935    4.04979  1.45%   227  790s\n",
      " 74479  8442 infeasible  192         4.10935    4.05148  1.41%   229  797s\n",
      " 74925  8416     cutoff  243         4.10935    4.05314  1.37%   230  803s\n",
      " 75665  8250 infeasible   31         4.10935    4.05496  1.32%   230  809s\n",
      " 76184  8234 infeasible  105         4.10935    4.05606  1.30%   231  815s\n",
      " 77015  8071     cutoff   37         4.10935    4.05761  1.26%   232  821s\n",
      " 77383  7951     cutoff   33         4.10935    4.05904  1.22%   232  826s\n",
      " 77820  7762 infeasible  107         4.10935    4.06048  1.19%   233  830s\n",
      " 78161  7636     cutoff   53         4.10935    4.06211  1.15%   234  835s\n",
      " 78541  7614     cutoff  258         4.10935    4.06354  1.11%   235  841s\n",
      " 78899  7488     cutoff   61         4.10935    4.06451  1.09%   236  846s\n",
      " 79193  7359 infeasible   85         4.10935    4.06550  1.07%   237  852s\n",
      " 79434  7180     cutoff  178         4.10935    4.06605  1.05%   239  858s\n",
      " 79798  7019     cutoff   32         4.10935    4.06707  1.03%   240  863s\n",
      " 80131  6780    4.08706   26   19    4.10935    4.06816  1.00%   241  868s\n",
      " 80743  6666     cutoff   36         4.10935    4.06973  0.96%   242  873s\n",
      " 81360  6514 infeasible  296         4.10935    4.07127  0.93%   242  879s\n",
      " 81712  6449     cutoff   97         4.10935    4.07245  0.90%   243  885s\n",
      " 82162  6309     cutoff  112         4.10935    4.07361  0.87%   244  890s\n",
      " 82451  6146     cutoff  105         4.10935    4.07437  0.85%   245  896s\n",
      " 82818  6078     cutoff   99         4.10935    4.07526  0.83%   246  902s\n",
      " 83244  5900     cutoff  139         4.10935    4.07609  0.81%   247  908s\n",
      " 83580  5712    4.08500   40    6    4.10935    4.07699  0.79%   248  915s\n",
      " 83992  5542    4.07938   67   38    4.10935    4.07829  0.76%   249  922s\n",
      " 84878  5366     cutoff   67         4.10935    4.08022  0.71%   248  928s\n",
      " 85356  5190    4.10149   40   16    4.10935    4.08126  0.68%   248  934s\n",
      " 85827  4968 infeasible   42         4.10935    4.08221  0.66%   248  940s\n",
      " 86330  4722     cutoff   37         4.10935    4.08347  0.63%   249  945s\n",
      " 86852  4501 infeasible  111         4.10935    4.08460  0.60%   249  951s\n",
      " 87318  4297     cutoff  164         4.10935    4.08574  0.57%   250  957s\n",
      " 87557  4100     cutoff   77         4.10935    4.08649  0.56%   250  963s\n",
      " 87961  3929     cutoff   48         4.10935    4.08736  0.54%   251  970s\n",
      " 88528  3726     cutoff  187         4.10935    4.08807  0.52%   251  976s\n",
      " 88909  3556     cutoff  185         4.10935    4.08878  0.50%   252  983s\n",
      " 89209  3421     cutoff   36         4.10935    4.08936  0.49%   253  989s\n"
     ]
    },
    {
     "name": "stdout",
     "output_type": "stream",
     "text": [
      " 89478  3214     cutoff  199         4.10935    4.08984  0.47%   254  995s\n",
      " 89769  2992     cutoff   45         4.10935    4.09053  0.46%   255 1001s\n",
      " 90055  2799 infeasible  204         4.10935    4.09129  0.44%   256 1007s\n",
      " 90393  2607     cutoff   53         4.10935    4.09198  0.42%   257 1020s\n",
      "H90518  2331                       4.1065437    4.09199  0.35%   257 1020s\n",
      " 90675  2145 infeasible  112         4.10654    4.09272  0.34%   257 1025s\n",
      " 90920  1970     cutoff   47         4.10654    4.09347  0.32%   258 1032s\n",
      " 91120  1800 infeasible   33         4.10654    4.09414  0.30%   259 1038s\n",
      " 91313  1642     cutoff  141         4.10654    4.09487  0.28%   260 1044s\n",
      " 91483  1478    4.10173   35   15    4.10654    4.09532  0.27%   261 1051s\n",
      " 91657  1231     cutoff  251         4.10654    4.09580  0.26%   262 1058s\n",
      " 91919   985    4.10168   31    8    4.10654    4.09660  0.24%   264 1064s\n",
      " 92180   736     cutoff   45         4.10654    4.09791  0.21%   264 1070s\n",
      " 92431   540     cutoff   43         4.10654    4.09941  0.17%   265 1075s\n",
      "*92523   540              30       4.1065437    4.09943  0.17%   266 1076s\n",
      " 92630   353 infeasible   35         4.10654    4.10083  0.14%   266 1082s\n",
      " 92822   126 infeasible   39         4.10654    4.10243  0.10%   267 1089s\n",
      " 93050    15 infeasible   37         4.10654    4.10512  0.03%   268 1094s\n",
      " 93161     0     cutoff   79         4.10654    4.10628  0.01%   269 1095s\n",
      "\n",
      "Cutting planes:\n",
      "  Gomory: 5\n",
      "  Cover: 18\n",
      "  MIR: 31\n",
      "  StrongCG: 4\n",
      "  Flow cover: 13\n",
      "  Inf proof: 1\n",
      "  Zero half: 35\n",
      "  Mod-K: 5\n",
      "  RLT: 5\n",
      "  Lazy constraints: 230\n",
      "\n",
      "Explored 93176 nodes (25116855 simplex iterations) in 1095.64 seconds (1711.24 work units)\n",
      "Thread count was 8 (of 8 available processors)\n",
      "\n",
      "Solution count 8: 4.10654 4.10935 4.13106 ... 4.79663\n",
      "\n",
      "Optimal solution found (tolerance 0.00e+00)\n",
      "Warning: max constraint violation (1.8988e-07) exceeds tolerance\n",
      "Best objective 4.106543733725e+00, best bound 4.106543733725e+00, gap 0.0000%\n",
      "\n",
      "User-callback calls 222750, time in user-callback 10.06 sec\n"
     ]
    }
   ],
   "source": [
    "# solve the MISOCP\n",
    "m.optimize(m._callback)"
   ]
  },
  {
   "cell_type": "code",
   "execution_count": 7,
   "metadata": {},
   "outputs": [
    {
     "name": "stdout",
     "output_type": "stream",
     "text": [
      "The inverse Polsby-Popper score is 4.106543733725234\n",
      "The Polsby-Popper score is 0.24351378308416413\n",
      "\n",
      "District has this many nodes: 669\n",
      "And a population of: 1428403\n",
      "Is it connected? True\n"
     ]
    }
   ],
   "source": [
    "print(\"The inverse Polsby-Popper score is\",m.objval)\n",
    "print(\"The Polsby-Popper score is\",1.0/m.objval)\n",
    "\n",
    "# retrieve the district and its population\n",
    "district = [ i for i in G.nodes if m._x[i].x > 0.5 ] \n",
    "population = sum( G.nodes[i][\"TOTPOP\"] for i in district )\n",
    "\n",
    "print(\"\\nDistrict has this many nodes:\",len(district))\n",
    "print(\"And a population of:\",population)\n",
    "print(\"Is it connected?\",nx.is_connected(G.subgraph(district)))"
   ]
  },
  {
   "cell_type": "code",
   "execution_count": 8,
   "metadata": {},
   "outputs": [
    {
     "name": "stdout",
     "output_type": "stream",
     "text": [
      "The total voting age population is: 1113964\n",
      "Among the Black population, the VAP is: 556984\n",
      "As a percentage, this is 50.0 %\n"
     ]
    }
   ],
   "source": [
    "vap = sum( DG.nodes[i]['VAP'] for i in district )\n",
    "mvap = sum( DG.nodes[i]['MVAP'] for i in district )\n",
    "print(\"The total voting age population is:\",vap)\n",
    "print(\"Among the\",minority,\"population, the VAP is:\",mvap)\n",
    "print(\"As a percentage, this is\",round( 100 * mvap / vap, 2 ),\"%\")"
   ]
  },
  {
   "cell_type": "code",
   "execution_count": 9,
   "metadata": {},
   "outputs": [],
   "source": [
    "# Let's draw the district on a map\n",
    "from export import draw_single_district\n",
    "G._state = state\n",
    "G._level = level"
   ]
  },
  {
   "cell_type": "code",
   "execution_count": 10,
   "metadata": {},
   "outputs": [
    {
     "name": "stdout",
     "output_type": "stream",
     "text": [
      "Exporting to png...\n"
     ]
    },
    {
     "data": {
      "image/png": "[encoded data removed]",
      "text/plain": [
       "<Figure size 432x288 with 1 Axes>"
      ]
     },
     "metadata": {
      "needs_background": "light"
     },
     "output_type": "display_data"
    }
   ],
   "source": [
    "# State-wide view\n",
    "draw_single_district( G, district, zoom=False )"
   ]
  },
  {
   "cell_type": "code",
   "execution_count": 11,
   "metadata": {},
   "outputs": [
    {
     "name": "stdout",
     "output_type": "stream",
     "text": [
      "Exporting to png...\n"
     ]
    },
    {
     "data": {
      "image/png": "[encoded data removed]",
      "text/plain": [
       "<Figure size 432x288 with 1 Axes>"
      ]
     },
     "metadata": {
      "needs_background": "light"
     },
     "output_type": "display_data"
    }
   ],
   "source": [
    "# District-only view\n",
    "draw_single_district( G, district, zoom=True )"
   ]
  },
  {
   "cell_type": "code",
   "execution_count": null,
   "metadata": {},
   "outputs": [],
   "source": []
  }
 ],
 "metadata": {
  "kernelspec": {
   "display_name": "Python 3",
   "language": "python",
   "name": "python3"
  },
  "language_info": {
   "codemirror_mode": {
    "name": "ipython",
    "version": 3
   },
   "file_extension": ".py",
   "mimetype": "text/x-python",
   "name": "python",
   "nbconvert_exporter": "python",
   "pygments_lexer": "ipython3",
   "version": "3.7.10"
  }
 },
 "nbformat": 4,
 "nbformat_minor": 4
}
