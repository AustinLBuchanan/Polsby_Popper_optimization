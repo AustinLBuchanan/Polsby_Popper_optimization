{
 "cells": [
  {
   "cell_type": "code",
   "execution_count": 1,
   "id": "a35b2301-37cb-4ae2-b892-bcf4eb4e0d7f",
   "metadata": {},
   "outputs": [],
   "source": [
    "filepath = 'C://districting-data-2020//'\n",
    "from read import read_graph_from_json\n",
    "from number_of_districts import number_of_districts\n",
    "from census_codes import get_census_codes"
   ]
  },
  {
   "cell_type": "code",
   "execution_count": 2,
   "id": "a6935ec2-8f87-4b47-9ff7-a864e59ef9c9",
   "metadata": {},
   "outputs": [],
   "source": [
    "def what_is_proportional(state, district_type, minority):\n",
    "    filename = state + '_county.json'\n",
    "    k = number_of_districts[state,district_type]\n",
    "    G = read_graph_from_json( filepath + filename )\n",
    "    codes = get_census_codes(minority)\n",
    "    for i in G.nodes:\n",
    "        G.nodes[i]['TOTPOP'] = G.nodes[i]['P0010001']\n",
    "        G.nodes[i]['MPOP'] = sum( G.nodes[i]['P001'+code[4:]] for code in codes )\n",
    "        G.nodes[i]['VAP'] = G.nodes[i]['P0030001']\n",
    "        G.nodes[i]['MVAP'] = sum( G.nodes[i][code] for code in codes )\n",
    "\n",
    "    # what is proportional, based on VAP?\n",
    "    total_vap = sum( G.nodes[i]['VAP'] for i in G.nodes )\n",
    "    minority_vap = sum( G.nodes[i]['MVAP'] for i in G.nodes )\n",
    "    mvap_percentage = minority_vap / total_vap\n",
    "    mvap_proportional = mvap_percentage * k\n",
    "    \n",
    "    # what is proportional, based on total population?\n",
    "    total_population = sum( G.nodes[i]['TOTPOP'] for i in G.nodes )\n",
    "    minority_population = sum( G.nodes[i]['MPOP'] for i in G.nodes )\n",
    "    mtot_percentage = minority_population / total_population\n",
    "    mtot_proportional = mtot_percentage * k\n",
    "    print(state, district_type, round(100*mvap_percentage,2), round(mvap_proportional,2), round(100*mtot_percentage,2), round(mtot_proportional,2))"
   ]
  },
  {
   "cell_type": "code",
   "execution_count": 3,
   "id": "ecb87eb5-9b29-443d-b7e3-cebe5d79a7be",
   "metadata": {},
   "outputs": [
    {
     "name": "stdout",
     "output_type": "stream",
     "text": [
      "state district_type mvap_percentage mvap_proportional mtot_percentage mtot_proportional\n",
      "AL SS 25.9 9.06 27.16 9.51\n",
      "AL SH 25.9 27.19 27.16 28.52\n",
      "GA SS 31.73 17.77 33.03 18.5\n",
      "GA SH 31.73 57.11 33.03 59.45\n",
      "MS SS 36.14 18.79 37.94 19.73\n",
      "MS SH 36.14 44.09 37.94 46.29\n",
      "LA SS 31.25 12.19 33.13 12.92\n",
      "LA SH 31.25 32.81 33.13 34.79\n"
     ]
    }
   ],
   "source": [
    "print(\"state district_type mvap_percentage mvap_proportional mtot_percentage mtot_proportional\")\n",
    "for state in ['AL', 'GA', 'MS', 'LA']:\n",
    "    for district_type in ['SS', 'SH']:\n",
    "        for minority in ['Black']:\n",
    "            what_is_proportional(state, district_type, minority)"
   ]
  },
  {
   "cell_type": "code",
   "execution_count": null,
   "id": "2d67b0d1-9ba8-49c0-b48c-111135ea8266",
   "metadata": {},
   "outputs": [],
   "source": []
  }
 ],
 "metadata": {
  "kernelspec": {
   "display_name": "Python 3 (ipykernel)",
   "language": "python",
   "name": "python3"
  },
  "language_info": {
   "codemirror_mode": {
    "name": "ipython",
    "version": 3
   },
   "file_extension": ".py",
   "mimetype": "text/x-python",
   "name": "python",
   "nbconvert_exporter": "python",
   "pygments_lexer": "ipython3",
   "version": "3.11.7"
  }
 },
 "nbformat": 4,
 "nbformat_minor": 5
}
