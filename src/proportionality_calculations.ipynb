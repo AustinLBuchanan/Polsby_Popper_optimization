{
 "cells": [
  {
   "cell_type": "code",
   "execution_count": 1,
   "id": "a35b2301-37cb-4ae2-b892-bcf4eb4e0d7f",
   "metadata": {},
   "outputs": [],
   "source": [
    "filepath = 'C://districting-data-2020//'\n",
    "from read import read_graph_from_json\n",
    "from number_of_districts import number_of_districts\n",
    "from census_codes import get_census_codes"
   ]
  },
  {
   "cell_type": "code",
   "execution_count": 2,
   "id": "a6935ec2-8f87-4b47-9ff7-a864e59ef9c9",
   "metadata": {},
   "outputs": [],
   "source": [
    "def what_is_proportional(state, district_type, minority):\n",
    "    filename = state + '_county.json'\n",
    "    G = read_graph_from_json( filepath + filename )\n",
    "    codes = get_census_codes(minority)\n",
    "    for i in G.nodes:\n",
    "        G.nodes[i]['TOTPOP'] = G.nodes[i]['P0010001']\n",
    "        G.nodes[i]['MPOP'] = sum( G.nodes[i]['P001'+code[4:]] for code in codes )\n",
    "    total_population = sum( G.nodes[i]['TOTPOP'] for i in G.nodes )\n",
    "    minority_population = sum( G.nodes[i]['MPOP'] for i in G.nodes )\n",
    "    return number_of_districts[state,district_type] * minority_population / total_population"
   ]
  },
  {
   "cell_type": "code",
   "execution_count": 3,
   "id": "72033267-581e-4d00-9ea0-29ee7f90960b",
   "metadata": {},
   "outputs": [
    {
     "data": {
      "text/plain": [
       "1.9013975935651664"
      ]
     },
     "execution_count": 3,
     "metadata": {},
     "output_type": "execute_result"
    }
   ],
   "source": [
    "what_is_proportional('AL', 'CD', 'Black')"
   ]
  },
  {
   "cell_type": "code",
   "execution_count": 4,
   "id": "f24eceee-fece-4cdf-b160-145ee11d84d2",
   "metadata": {},
   "outputs": [
    {
     "data": {
      "text/plain": [
       "9.50698796782583"
      ]
     },
     "execution_count": 4,
     "metadata": {},
     "output_type": "execute_result"
    }
   ],
   "source": [
    "what_is_proportional('AL', 'SS', 'Black')"
   ]
  },
  {
   "cell_type": "code",
   "execution_count": 5,
   "id": "367509fe-c825-4a2e-86be-a5956bba6c86",
   "metadata": {},
   "outputs": [
    {
     "data": {
      "text/plain": [
       "28.520963903477494"
      ]
     },
     "execution_count": 5,
     "metadata": {},
     "output_type": "execute_result"
    }
   ],
   "source": [
    "what_is_proportional('AL', 'SH', 'Black')"
   ]
  },
  {
   "cell_type": "code",
   "execution_count": 6,
   "id": "ecb87eb5-9b29-443d-b7e3-cebe5d79a7be",
   "metadata": {},
   "outputs": [
    {
     "name": "stdout",
     "output_type": "stream",
     "text": [
      "AL CD 1.9\n",
      "AL SS 9.51\n",
      "AL SH 28.52\n",
      "GA CD 4.62\n",
      "GA SS 18.5\n",
      "GA SH 59.45\n",
      "MS CD 1.52\n",
      "MS SS 19.73\n",
      "MS SH 46.29\n",
      "LA CD 1.99\n",
      "LA SS 12.92\n",
      "LA SH 34.79\n",
      "SC CD 1.87\n",
      "SC SS 12.32\n",
      "SC SH 33.2\n"
     ]
    }
   ],
   "source": [
    "for state in ['AL', 'GA', 'MS', 'LA', 'SC']:\n",
    "    for district_type in ['CD', 'SS', 'SH']:\n",
    "        for minority in ['Black']:\n",
    "            quota = what_is_proportional(state, district_type, minority)\n",
    "            print(state, district_type, round(quota, 2) )"
   ]
  },
  {
   "cell_type": "code",
   "execution_count": null,
   "id": "2d67b0d1-9ba8-49c0-b48c-111135ea8266",
   "metadata": {},
   "outputs": [],
   "source": []
  }
 ],
 "metadata": {
  "kernelspec": {
   "display_name": "Python 3 (ipykernel)",
   "language": "python",
   "name": "python3"
  },
  "language_info": {
   "codemirror_mode": {
    "name": "ipython",
    "version": 3
   },
   "file_extension": ".py",
   "mimetype": "text/x-python",
   "name": "python",
   "nbconvert_exporter": "python",
   "pygments_lexer": "ipython3",
   "version": "3.11.7"
  }
 },
 "nbformat": 4,
 "nbformat_minor": 5
}
